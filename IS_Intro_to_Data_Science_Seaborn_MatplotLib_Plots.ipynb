{
  "nbformat": 4,
  "nbformat_minor": 0,
  "metadata": {
    "colab": {
      "name": "IS - Intro to Data Science - Seaborn - MatplotLib - Plots.ipynb",
      "provenance": [],
      "toc_visible": true,
      "authorship_tag": "ABX9TyMaFt2eiifuZobqSyL5hzrf",
      "include_colab_link": true
    },
    "kernelspec": {
      "name": "python3",
      "display_name": "Python 3"
    }
  },
  "cells": [
    {
      "cell_type": "markdown",
      "metadata": {
        "id": "view-in-github",
        "colab_type": "text"
      },
      "source": [
        "<a href=\"https://colab.research.google.com/github/enino84/Intro-to-Data-Analytics/blob/main/IS_Intro_to_Data_Science_Seaborn_MatplotLib_Plots.ipynb\" target=\"_parent\"><img src=\"https://colab.research.google.com/assets/colab-badge.svg\" alt=\"Open In Colab\"/></a>"
      ]
    },
    {
      "cell_type": "code",
      "metadata": {
        "id": "w9rnNA0jZZLq"
      },
      "source": [
        "import pandas as pd\n",
        "import matplotlib.pyplot as plt\n",
        "import seaborn as sns"
      ],
      "execution_count": null,
      "outputs": []
    },
    {
      "cell_type": "markdown",
      "metadata": {
        "id": "QT9U5ZM7Zduh"
      },
      "source": [
        "# **Intro to Data Science**"
      ]
    },
    {
      "cell_type": "code",
      "metadata": {
        "id": "ZJhHx00dbNgU",
        "colab": {
          "base_uri": "https://localhost:8080/",
          "height": 809
        },
        "outputId": "20284254-51f6-4468-d26d-a5483b0ba0f5"
      },
      "source": [
        "df = pd.read_csv('https://www.datos.gov.co/api/views/3san-pce5/rows.csv?accessType=DOWNLOAD');\n",
        "df"
      ],
      "execution_count": null,
      "outputs": [
        {
          "output_type": "stream",
          "text": [
            "/usr/local/lib/python3.6/dist-packages/IPython/core/interactiveshell.py:2718: DtypeWarning: Columns (18,29,35) have mixed types.Specify dtype option on import or set low_memory=False.\n",
            "  interactivity=interactivity, compiler=compiler, result=result)\n"
          ],
          "name": "stderr"
        },
        {
          "output_type": "execute_result",
          "data": {
            "text/html": [
              "<div>\n",
              "<style scoped>\n",
              "    .dataframe tbody tr th:only-of-type {\n",
              "        vertical-align: middle;\n",
              "    }\n",
              "\n",
              "    .dataframe tbody tr th {\n",
              "        vertical-align: top;\n",
              "    }\n",
              "\n",
              "    .dataframe thead th {\n",
              "        text-align: right;\n",
              "    }\n",
              "</style>\n",
              "<table border=\"1\" class=\"dataframe\">\n",
              "  <thead>\n",
              "    <tr style=\"text-align: right;\">\n",
              "      <th></th>\n",
              "      <th>estu_exam_nombreexamen</th>\n",
              "      <th>estu_estudiante</th>\n",
              "      <th>periodo</th>\n",
              "      <th>estu_consecutivo</th>\n",
              "      <th>estu_edad</th>\n",
              "      <th>estu_tipo_documento</th>\n",
              "      <th>estu_pais_reside</th>\n",
              "      <th>estu_genero</th>\n",
              "      <th>estu_nacimiento_dia</th>\n",
              "      <th>estu_nacimiento_mes</th>\n",
              "      <th>estu_nacimiento_anno</th>\n",
              "      <th>estu_cod_reside_mcpio</th>\n",
              "      <th>estu_reside_mcpio</th>\n",
              "      <th>estu_reside_depto</th>\n",
              "      <th>estu_zona_reside</th>\n",
              "      <th>estu_razoninstituto</th>\n",
              "      <th>cole_valor_pension</th>\n",
              "      <th>estu_ies_cod_deseada</th>\n",
              "      <th>estu_carrdeseada_razon</th>\n",
              "      <th>estu_carrdeseada_cod</th>\n",
              "      <th>estu_ies_deseada_nombre</th>\n",
              "      <th>estu_ies_cod_mpio_deseada</th>\n",
              "      <th>estu_ies_mpio_deseada</th>\n",
              "      <th>estu_ies_dept_deseada</th>\n",
              "      <th>estu_mpio_presentacion</th>\n",
              "      <th>estu_dept_presentacion</th>\n",
              "      <th>estu_exam_cod_mpio_presentacio</th>\n",
              "      <th>estu_ano_termino_bachill</th>\n",
              "      <th>cole_cod_icfes</th>\n",
              "      <th>cole_cod_dane_institucion</th>\n",
              "      <th>cole_nombre_sede</th>\n",
              "      <th>cole_cod_mcpio_ubicacion</th>\n",
              "      <th>cole_calendario</th>\n",
              "      <th>cole_genero</th>\n",
              "      <th>cole_naturaleza</th>\n",
              "      <th>cole_bilingue</th>\n",
              "      <th>cole_jornada</th>\n",
              "      <th>cole_caracter</th>\n",
              "      <th>punt_lenguaje</th>\n",
              "      <th>punt_matematicas</th>\n",
              "      <th>punt_c_sociales</th>\n",
              "      <th>punt_filosofia</th>\n",
              "      <th>punt_biologia</th>\n",
              "      <th>punt_quimica</th>\n",
              "      <th>punt_fisica</th>\n",
              "      <th>nombre_idioma</th>\n",
              "      <th>punt_idioma</th>\n",
              "      <th>nombre_profundizacion</th>\n",
              "      <th>punt_profundizacion</th>\n",
              "      <th>desemp_profundizacion</th>\n",
              "      <th>nombre_interdisciplinar</th>\n",
              "      <th>punt_interdisciplinar</th>\n",
              "      <th>estu_puesto</th>\n",
              "    </tr>\n",
              "  </thead>\n",
              "  <tbody>\n",
              "    <tr>\n",
              "      <th>0</th>\n",
              "      <td>EXAMEN DE ESTADO  (2006)</td>\n",
              "      <td>1</td>\n",
              "      <td>20062</td>\n",
              "      <td>SABER1120062000001</td>\n",
              "      <td>16</td>\n",
              "      <td>T</td>\n",
              "      <td>CO</td>\n",
              "      <td>M</td>\n",
              "      <td>20.0</td>\n",
              "      <td>5.0</td>\n",
              "      <td>1990.0</td>\n",
              "      <td>08758</td>\n",
              "      <td>SOLEDAD</td>\n",
              "      <td>ATLÁNTICO</td>\n",
              "      <td>10.0</td>\n",
              "      <td>4.0</td>\n",
              "      <td>3.0</td>\n",
              "      <td>1824</td>\n",
              "      <td>4</td>\n",
              "      <td>16775</td>\n",
              "      <td>UNIVERSIDAD METROPOLITANA</td>\n",
              "      <td>8001</td>\n",
              "      <td>BARRANQUILLA</td>\n",
              "      <td>ATLÁNTICO</td>\n",
              "      <td>BARRANQUILLA</td>\n",
              "      <td>ATLÁNTICO</td>\n",
              "      <td>8001</td>\n",
              "      <td>2006.0</td>\n",
              "      <td>54338</td>\n",
              "      <td>308758001941</td>\n",
              "      <td>COLEGIO ARQUIDIOCESANO SAN PANCRACIO</td>\n",
              "      <td>8758</td>\n",
              "      <td>A</td>\n",
              "      <td>X</td>\n",
              "      <td>N</td>\n",
              "      <td>0</td>\n",
              "      <td>TARDE</td>\n",
              "      <td>ACADEMICO Y TECNICO</td>\n",
              "      <td>47.41</td>\n",
              "      <td>53.42</td>\n",
              "      <td>39.97</td>\n",
              "      <td>53.94</td>\n",
              "      <td>44.05</td>\n",
              "      <td>42.03</td>\n",
              "      <td>56.34</td>\n",
              "      <td>INGLÉS</td>\n",
              "      <td>57.84</td>\n",
              "      <td>PROFUNDIZACIÓN EN LENGUAJE</td>\n",
              "      <td>3.68</td>\n",
              "      <td>GB</td>\n",
              "      <td>MEDIO AMBIENTE</td>\n",
              "      <td>53.53</td>\n",
              "      <td>211.0</td>\n",
              "    </tr>\n",
              "    <tr>\n",
              "      <th>1</th>\n",
              "      <td>EXAMEN DE ESTADO  (2006)</td>\n",
              "      <td>1</td>\n",
              "      <td>20062</td>\n",
              "      <td>SABER1120062000002</td>\n",
              "      <td>13</td>\n",
              "      <td>T</td>\n",
              "      <td>CO</td>\n",
              "      <td>M</td>\n",
              "      <td>15.0</td>\n",
              "      <td>4.0</td>\n",
              "      <td>1993.0</td>\n",
              "      <td>11001</td>\n",
              "      <td>BOGOTÁ DC</td>\n",
              "      <td>BOGOTÁ</td>\n",
              "      <td>4.0</td>\n",
              "      <td>2.0</td>\n",
              "      <td>0.0</td>\n",
              "      <td>1301</td>\n",
              "      <td>2</td>\n",
              "      <td>4962</td>\n",
              "      <td>UNIVERSIDAD DISTRITAL FRANCISCO JOSE DE CALDAS</td>\n",
              "      <td>11001</td>\n",
              "      <td>BOGOTÁ DC</td>\n",
              "      <td>BOGOTÁ</td>\n",
              "      <td>BOGOTÁ DC</td>\n",
              "      <td>BOGOTÁ</td>\n",
              "      <td>11001</td>\n",
              "      <td>2006.0</td>\n",
              "      <td>113043</td>\n",
              "      <td>111001020095</td>\n",
              "      <td>CENT EDUC DIST MISAEL PASTRANA BORRERO</td>\n",
              "      <td>11001</td>\n",
              "      <td>A</td>\n",
              "      <td>X</td>\n",
              "      <td>O</td>\n",
              "      <td>0</td>\n",
              "      <td>MAÑANA</td>\n",
              "      <td>ACADEMICO</td>\n",
              "      <td>53.30</td>\n",
              "      <td>45.66</td>\n",
              "      <td>55.59</td>\n",
              "      <td>44.92</td>\n",
              "      <td>51.89</td>\n",
              "      <td>39.81</td>\n",
              "      <td>40.30</td>\n",
              "      <td>INGLÉS</td>\n",
              "      <td>41.70</td>\n",
              "      <td>PROFUNDIZACIÓN EN MATEMÁTICA</td>\n",
              "      <td>4.49</td>\n",
              "      <td>GB</td>\n",
              "      <td>MEDIO AMBIENTE</td>\n",
              "      <td>51.50</td>\n",
              "      <td>371.0</td>\n",
              "    </tr>\n",
              "    <tr>\n",
              "      <th>2</th>\n",
              "      <td>EXAMEN DE ESTADO  (2006)</td>\n",
              "      <td>1</td>\n",
              "      <td>20062</td>\n",
              "      <td>SABER1120062000003</td>\n",
              "      <td>14</td>\n",
              "      <td>T</td>\n",
              "      <td>CO</td>\n",
              "      <td>M</td>\n",
              "      <td>12.0</td>\n",
              "      <td>11.0</td>\n",
              "      <td>1991.0</td>\n",
              "      <td>11001</td>\n",
              "      <td>BOGOTÁ DC</td>\n",
              "      <td>BOGOTÁ</td>\n",
              "      <td>4.0</td>\n",
              "      <td>2.0</td>\n",
              "      <td>4.0</td>\n",
              "      <td>1101</td>\n",
              "      <td>2</td>\n",
              "      <td>13511</td>\n",
              "      <td>UNIVERSIDAD NACIONAL DE COLOMBIA</td>\n",
              "      <td>11001</td>\n",
              "      <td>BOGOTÁ DC</td>\n",
              "      <td>BOGOTÁ</td>\n",
              "      <td>BOGOTÁ DC</td>\n",
              "      <td>BOGOTÁ</td>\n",
              "      <td>11001</td>\n",
              "      <td>2006.0</td>\n",
              "      <td>88039</td>\n",
              "      <td>311001047839</td>\n",
              "      <td>CENT EDUC WILFREDO LEHNER</td>\n",
              "      <td>11001</td>\n",
              "      <td>A</td>\n",
              "      <td>X</td>\n",
              "      <td>N</td>\n",
              "      <td>0</td>\n",
              "      <td>COMPLETA U ORDINARIA</td>\n",
              "      <td>ACADEMICO</td>\n",
              "      <td>47.41</td>\n",
              "      <td>24.75</td>\n",
              "      <td>37.77</td>\n",
              "      <td>47.30</td>\n",
              "      <td>39.22</td>\n",
              "      <td>45.87</td>\n",
              "      <td>40.30</td>\n",
              "      <td>INGLÉS</td>\n",
              "      <td>29.17</td>\n",
              "      <td>PROFUNDIZACIÓN EN MATEMÁTICA</td>\n",
              "      <td>4.85</td>\n",
              "      <td>I</td>\n",
              "      <td>VIOLENCIA Y SOCIEDAD</td>\n",
              "      <td>48.90</td>\n",
              "      <td>919.0</td>\n",
              "    </tr>\n",
              "    <tr>\n",
              "      <th>3</th>\n",
              "      <td>EXAMEN DE ESTADO  (2006)</td>\n",
              "      <td>1</td>\n",
              "      <td>20062</td>\n",
              "      <td>SABER1120062000004</td>\n",
              "      <td>15</td>\n",
              "      <td>T</td>\n",
              "      <td>CO</td>\n",
              "      <td>F</td>\n",
              "      <td>18.0</td>\n",
              "      <td>12.0</td>\n",
              "      <td>1990.0</td>\n",
              "      <td>41001</td>\n",
              "      <td>NEIVA</td>\n",
              "      <td>HUILA</td>\n",
              "      <td>10.0</td>\n",
              "      <td>NaN</td>\n",
              "      <td>2.0</td>\n",
              "      <td>-</td>\n",
              "      <td>-</td>\n",
              "      <td>-</td>\n",
              "      <td>-</td>\n",
              "      <td>-</td>\n",
              "      <td>-</td>\n",
              "      <td>-</td>\n",
              "      <td>NEIVA</td>\n",
              "      <td>HUILA</td>\n",
              "      <td>41001</td>\n",
              "      <td>2006.0</td>\n",
              "      <td>81414</td>\n",
              "      <td>341001005440</td>\n",
              "      <td>COL DE BTO TECNICO EN COMERCIO Y SISTEMAS HEIS...</td>\n",
              "      <td>41001</td>\n",
              "      <td>F</td>\n",
              "      <td>X</td>\n",
              "      <td>N</td>\n",
              "      <td>0</td>\n",
              "      <td>NOCHE</td>\n",
              "      <td>ACADEMICO</td>\n",
              "      <td>43.06</td>\n",
              "      <td>58.15</td>\n",
              "      <td>47.97</td>\n",
              "      <td>47.30</td>\n",
              "      <td>32.72</td>\n",
              "      <td>42.03</td>\n",
              "      <td>43.50</td>\n",
              "      <td>INGLÉS</td>\n",
              "      <td>34.92</td>\n",
              "      <td>PROFUNDIZACIÓN EN LENGUAJE</td>\n",
              "      <td>4.98</td>\n",
              "      <td>I</td>\n",
              "      <td>MEDIO AMBIENTE</td>\n",
              "      <td>49.02</td>\n",
              "      <td>612.0</td>\n",
              "    </tr>\n",
              "    <tr>\n",
              "      <th>4</th>\n",
              "      <td>EXAMEN DE ESTADO  (2006)</td>\n",
              "      <td>1</td>\n",
              "      <td>20062</td>\n",
              "      <td>SABER1120062000006</td>\n",
              "      <td>21</td>\n",
              "      <td>C</td>\n",
              "      <td>CO</td>\n",
              "      <td>M</td>\n",
              "      <td>24.0</td>\n",
              "      <td>6.0</td>\n",
              "      <td>1985.0</td>\n",
              "      <td>15380</td>\n",
              "      <td>LA CAPILLA</td>\n",
              "      <td>BOYACÁ</td>\n",
              "      <td>10.0</td>\n",
              "      <td>NaN</td>\n",
              "      <td>5.0</td>\n",
              "      <td>-</td>\n",
              "      <td>-</td>\n",
              "      <td>-</td>\n",
              "      <td>-</td>\n",
              "      <td>-</td>\n",
              "      <td>-</td>\n",
              "      <td>-</td>\n",
              "      <td>GUATEQUE</td>\n",
              "      <td>BOYACÁ</td>\n",
              "      <td>15322</td>\n",
              "      <td>2006.0</td>\n",
              "      <td>123562</td>\n",
              "      <td>425426003091</td>\n",
              "      <td>ESC FAMILIAR   AGROP GUATANFUR</td>\n",
              "      <td>25426</td>\n",
              "      <td>A</td>\n",
              "      <td>M</td>\n",
              "      <td>N</td>\n",
              "      <td>-</td>\n",
              "      <td>COMPLETA U ORDINARIA</td>\n",
              "      <td>TECNICO</td>\n",
              "      <td>51.38</td>\n",
              "      <td>39.38</td>\n",
              "      <td>39.97</td>\n",
              "      <td>28.47</td>\n",
              "      <td>39.22</td>\n",
              "      <td>42.03</td>\n",
              "      <td>49.04</td>\n",
              "      <td>INGLÉS</td>\n",
              "      <td>25.47</td>\n",
              "      <td>PROFUNDIZACIÓN EN BIOLOGÍA</td>\n",
              "      <td>4.92</td>\n",
              "      <td>GB</td>\n",
              "      <td>MEDIO AMBIENTE</td>\n",
              "      <td>51.50</td>\n",
              "      <td>906.0</td>\n",
              "    </tr>\n",
              "    <tr>\n",
              "      <th>...</th>\n",
              "      <td>...</td>\n",
              "      <td>...</td>\n",
              "      <td>...</td>\n",
              "      <td>...</td>\n",
              "      <td>...</td>\n",
              "      <td>...</td>\n",
              "      <td>...</td>\n",
              "      <td>...</td>\n",
              "      <td>...</td>\n",
              "      <td>...</td>\n",
              "      <td>...</td>\n",
              "      <td>...</td>\n",
              "      <td>...</td>\n",
              "      <td>...</td>\n",
              "      <td>...</td>\n",
              "      <td>...</td>\n",
              "      <td>...</td>\n",
              "      <td>...</td>\n",
              "      <td>...</td>\n",
              "      <td>...</td>\n",
              "      <td>...</td>\n",
              "      <td>...</td>\n",
              "      <td>...</td>\n",
              "      <td>...</td>\n",
              "      <td>...</td>\n",
              "      <td>...</td>\n",
              "      <td>...</td>\n",
              "      <td>...</td>\n",
              "      <td>...</td>\n",
              "      <td>...</td>\n",
              "      <td>...</td>\n",
              "      <td>...</td>\n",
              "      <td>...</td>\n",
              "      <td>...</td>\n",
              "      <td>...</td>\n",
              "      <td>...</td>\n",
              "      <td>...</td>\n",
              "      <td>...</td>\n",
              "      <td>...</td>\n",
              "      <td>...</td>\n",
              "      <td>...</td>\n",
              "      <td>...</td>\n",
              "      <td>...</td>\n",
              "      <td>...</td>\n",
              "      <td>...</td>\n",
              "      <td>...</td>\n",
              "      <td>...</td>\n",
              "      <td>...</td>\n",
              "      <td>...</td>\n",
              "      <td>...</td>\n",
              "      <td>...</td>\n",
              "      <td>...</td>\n",
              "      <td>...</td>\n",
              "    </tr>\n",
              "    <tr>\n",
              "      <th>410803</th>\n",
              "      <td>EXAMEN DE ESTADO  (2006)</td>\n",
              "      <td>1</td>\n",
              "      <td>20062</td>\n",
              "      <td>SABER1120062478098</td>\n",
              "      <td>16</td>\n",
              "      <td>T</td>\n",
              "      <td>CO</td>\n",
              "      <td>F</td>\n",
              "      <td>22.0</td>\n",
              "      <td>3.0</td>\n",
              "      <td>1990.0</td>\n",
              "      <td>19100</td>\n",
              "      <td>BOLIVAR</td>\n",
              "      <td>CAUCA</td>\n",
              "      <td>10.0</td>\n",
              "      <td>2.0</td>\n",
              "      <td>0.0</td>\n",
              "      <td>1203</td>\n",
              "      <td>2</td>\n",
              "      <td>9579</td>\n",
              "      <td>UNIVERSIDAD DEL VALLE</td>\n",
              "      <td>76001</td>\n",
              "      <td>CALI</td>\n",
              "      <td>VALLE</td>\n",
              "      <td>BOLIVAR</td>\n",
              "      <td>CAUCA</td>\n",
              "      <td>19100</td>\n",
              "      <td>2006.0</td>\n",
              "      <td>7229</td>\n",
              "      <td>119100003047</td>\n",
              "      <td>COLEGIO TECNICO SANTA CATALINA LABUORE</td>\n",
              "      <td>19100</td>\n",
              "      <td>A</td>\n",
              "      <td>X</td>\n",
              "      <td>O</td>\n",
              "      <td>0</td>\n",
              "      <td>MAÑANA</td>\n",
              "      <td>TECNICO</td>\n",
              "      <td>45.30</td>\n",
              "      <td>48.40</td>\n",
              "      <td>49.87</td>\n",
              "      <td>47.30</td>\n",
              "      <td>44.05</td>\n",
              "      <td>55.66</td>\n",
              "      <td>43.50</td>\n",
              "      <td>INGLÉS</td>\n",
              "      <td>47.66</td>\n",
              "      <td>PROFUNDIZACIÓN EN BIOLOGÍA</td>\n",
              "      <td>7.12</td>\n",
              "      <td>II</td>\n",
              "      <td>MEDIO AMBIENTE</td>\n",
              "      <td>47.31</td>\n",
              "      <td>300.0</td>\n",
              "    </tr>\n",
              "    <tr>\n",
              "      <th>410804</th>\n",
              "      <td>EXAMEN DE ESTADO  (2006)</td>\n",
              "      <td>1</td>\n",
              "      <td>20062</td>\n",
              "      <td>SABER1120062478100</td>\n",
              "      <td>15</td>\n",
              "      <td>T</td>\n",
              "      <td>CO</td>\n",
              "      <td>F</td>\n",
              "      <td>22.0</td>\n",
              "      <td>8.0</td>\n",
              "      <td>1990.0</td>\n",
              "      <td>08001</td>\n",
              "      <td>BARRANQUILLA</td>\n",
              "      <td>ATLÁNTICO</td>\n",
              "      <td>9.0</td>\n",
              "      <td>3.0</td>\n",
              "      <td>1.0</td>\n",
              "      <td>1202</td>\n",
              "      <td>1</td>\n",
              "      <td>3775</td>\n",
              "      <td>UNIVERSIDAD DEL ATLANTICO</td>\n",
              "      <td>8001</td>\n",
              "      <td>BARRANQUILLA</td>\n",
              "      <td>ATLÁNTICO</td>\n",
              "      <td>BARRANQUILLA</td>\n",
              "      <td>ATLÁNTICO</td>\n",
              "      <td>8001</td>\n",
              "      <td>2006.0</td>\n",
              "      <td>3566</td>\n",
              "      <td>108001001723</td>\n",
              "      <td>INST EDUC SOFIA CAMARGO DE LLERAS</td>\n",
              "      <td>8001</td>\n",
              "      <td>A</td>\n",
              "      <td>F</td>\n",
              "      <td>O</td>\n",
              "      <td>0</td>\n",
              "      <td>MAÑANA</td>\n",
              "      <td>ACADEMICO</td>\n",
              "      <td>31.04</td>\n",
              "      <td>48.40</td>\n",
              "      <td>37.77</td>\n",
              "      <td>49.58</td>\n",
              "      <td>46.16</td>\n",
              "      <td>45.87</td>\n",
              "      <td>58.68</td>\n",
              "      <td>INGLÉS</td>\n",
              "      <td>43.74</td>\n",
              "      <td>PROFUNDIZACIÓN EN LENGUAJE</td>\n",
              "      <td>4.63</td>\n",
              "      <td>GB</td>\n",
              "      <td>MEDIO AMBIENTE</td>\n",
              "      <td>44.66</td>\n",
              "      <td>487.0</td>\n",
              "    </tr>\n",
              "    <tr>\n",
              "      <th>410805</th>\n",
              "      <td>EXAMEN DE ESTADO  (2006)</td>\n",
              "      <td>1</td>\n",
              "      <td>20062</td>\n",
              "      <td>SABER1120062478101</td>\n",
              "      <td>16</td>\n",
              "      <td>T</td>\n",
              "      <td>CO</td>\n",
              "      <td>M</td>\n",
              "      <td>6.0</td>\n",
              "      <td>2.0</td>\n",
              "      <td>1990.0</td>\n",
              "      <td>05001</td>\n",
              "      <td>MEDELLIN</td>\n",
              "      <td>ANTIOQUIA</td>\n",
              "      <td>8.0</td>\n",
              "      <td>1.0</td>\n",
              "      <td>0.0</td>\n",
              "      <td>1201</td>\n",
              "      <td>5</td>\n",
              "      <td>13113</td>\n",
              "      <td>UNIVERSIDAD DE ANTIOQUIA</td>\n",
              "      <td>5001</td>\n",
              "      <td>MEDELLIN</td>\n",
              "      <td>ANTIOQUIA</td>\n",
              "      <td>MEDELLIN</td>\n",
              "      <td>ANTIOQUIA</td>\n",
              "      <td>5001</td>\n",
              "      <td>2006.0</td>\n",
              "      <td>113456</td>\n",
              "      <td>105001024073</td>\n",
              "      <td>INST EDUC CASD JOSE MARIA ESPINOSA PRIETO</td>\n",
              "      <td>5001</td>\n",
              "      <td>A</td>\n",
              "      <td>X</td>\n",
              "      <td>O</td>\n",
              "      <td>0</td>\n",
              "      <td>MAÑANA</td>\n",
              "      <td>TECNICO</td>\n",
              "      <td>47.41</td>\n",
              "      <td>50.97</td>\n",
              "      <td>47.97</td>\n",
              "      <td>42.38</td>\n",
              "      <td>57.36</td>\n",
              "      <td>47.60</td>\n",
              "      <td>36.62</td>\n",
              "      <td>INGLÉS</td>\n",
              "      <td>45.71</td>\n",
              "      <td>PROFUNDIZACIÓN EN LENGUAJE</td>\n",
              "      <td>4.63</td>\n",
              "      <td>GB</td>\n",
              "      <td>MEDIO AMBIENTE</td>\n",
              "      <td>51.50</td>\n",
              "      <td>346.0</td>\n",
              "    </tr>\n",
              "    <tr>\n",
              "      <th>410806</th>\n",
              "      <td>EXAMEN DE ESTADO  (2006)</td>\n",
              "      <td>1</td>\n",
              "      <td>20062</td>\n",
              "      <td>SABER1120062478102</td>\n",
              "      <td>16</td>\n",
              "      <td>T</td>\n",
              "      <td>CO</td>\n",
              "      <td>F</td>\n",
              "      <td>13.0</td>\n",
              "      <td>7.0</td>\n",
              "      <td>1990.0</td>\n",
              "      <td>68307</td>\n",
              "      <td>GIRON</td>\n",
              "      <td>SANTANDER</td>\n",
              "      <td>10.0</td>\n",
              "      <td>5.0</td>\n",
              "      <td>0.0</td>\n",
              "      <td>-</td>\n",
              "      <td>NaN</td>\n",
              "      <td>-</td>\n",
              "      <td>-</td>\n",
              "      <td>-</td>\n",
              "      <td>-</td>\n",
              "      <td>-</td>\n",
              "      <td>FLORIDABLANCA</td>\n",
              "      <td>SANTANDER</td>\n",
              "      <td>68276</td>\n",
              "      <td>2006.0</td>\n",
              "      <td>116913</td>\n",
              "      <td>168276001050</td>\n",
              "      <td>GABRIEL GARCIA MARQUEZ</td>\n",
              "      <td>68276</td>\n",
              "      <td>A</td>\n",
              "      <td>X</td>\n",
              "      <td>O</td>\n",
              "      <td>0</td>\n",
              "      <td>MAÑANA</td>\n",
              "      <td>ACADEMICO</td>\n",
              "      <td>47.41</td>\n",
              "      <td>42.69</td>\n",
              "      <td>37.77</td>\n",
              "      <td>44.92</td>\n",
              "      <td>36.28</td>\n",
              "      <td>42.03</td>\n",
              "      <td>43.50</td>\n",
              "      <td>INGLÉS</td>\n",
              "      <td>34.92</td>\n",
              "      <td>PROFUNDIZACIÓN EN LENGUAJE</td>\n",
              "      <td>2.85</td>\n",
              "      <td>GB</td>\n",
              "      <td>VIOLENCIA Y SOCIEDAD</td>\n",
              "      <td>39.51</td>\n",
              "      <td>814.0</td>\n",
              "    </tr>\n",
              "    <tr>\n",
              "      <th>410807</th>\n",
              "      <td>EXAMEN DE ESTADO  (2006)</td>\n",
              "      <td>1</td>\n",
              "      <td>20062</td>\n",
              "      <td>SABER1120062478103</td>\n",
              "      <td>17</td>\n",
              "      <td>T</td>\n",
              "      <td>CO</td>\n",
              "      <td>M</td>\n",
              "      <td>13.0</td>\n",
              "      <td>8.0</td>\n",
              "      <td>1989.0</td>\n",
              "      <td>41001</td>\n",
              "      <td>NEIVA</td>\n",
              "      <td>HUILA</td>\n",
              "      <td>10.0</td>\n",
              "      <td>5.0</td>\n",
              "      <td>1.0</td>\n",
              "      <td>1114</td>\n",
              "      <td>2</td>\n",
              "      <td>15238</td>\n",
              "      <td>UNIVERSIDAD SURCOLOMBIANA</td>\n",
              "      <td>41001</td>\n",
              "      <td>NEIVA</td>\n",
              "      <td>HUILA</td>\n",
              "      <td>NEIVA</td>\n",
              "      <td>HUILA</td>\n",
              "      <td>41001</td>\n",
              "      <td>2006.0</td>\n",
              "      <td>38927</td>\n",
              "      <td>141001000082</td>\n",
              "      <td>OLIVERIO LARA BORRERO</td>\n",
              "      <td>41001</td>\n",
              "      <td>A</td>\n",
              "      <td>X</td>\n",
              "      <td>O</td>\n",
              "      <td>0</td>\n",
              "      <td>TARDE</td>\n",
              "      <td>ACADEMICO Y TECNICO</td>\n",
              "      <td>45.30</td>\n",
              "      <td>45.66</td>\n",
              "      <td>26.95</td>\n",
              "      <td>32.89</td>\n",
              "      <td>46.16</td>\n",
              "      <td>42.03</td>\n",
              "      <td>40.30</td>\n",
              "      <td>INGLÉS</td>\n",
              "      <td>39.58</td>\n",
              "      <td>PROFUNDIZACIÓN EN BIOLOGÍA</td>\n",
              "      <td>6.47</td>\n",
              "      <td>II</td>\n",
              "      <td>MEDIO AMBIENTE</td>\n",
              "      <td>47.31</td>\n",
              "      <td>887.0</td>\n",
              "    </tr>\n",
              "  </tbody>\n",
              "</table>\n",
              "<p>410808 rows × 53 columns</p>\n",
              "</div>"
            ],
            "text/plain": [
              "          estu_exam_nombreexamen  ...  estu_puesto\n",
              "0       EXAMEN DE ESTADO  (2006)  ...        211.0\n",
              "1       EXAMEN DE ESTADO  (2006)  ...        371.0\n",
              "2       EXAMEN DE ESTADO  (2006)  ...        919.0\n",
              "3       EXAMEN DE ESTADO  (2006)  ...        612.0\n",
              "4       EXAMEN DE ESTADO  (2006)  ...        906.0\n",
              "...                          ...  ...          ...\n",
              "410803  EXAMEN DE ESTADO  (2006)  ...        300.0\n",
              "410804  EXAMEN DE ESTADO  (2006)  ...        487.0\n",
              "410805  EXAMEN DE ESTADO  (2006)  ...        346.0\n",
              "410806  EXAMEN DE ESTADO  (2006)  ...        814.0\n",
              "410807  EXAMEN DE ESTADO  (2006)  ...        887.0\n",
              "\n",
              "[410808 rows x 53 columns]"
            ]
          },
          "metadata": {
            "tags": []
          },
          "execution_count": 3
        }
      ]
    },
    {
      "cell_type": "markdown",
      "metadata": {
        "id": "hnFHaZzNb0Sq"
      },
      "source": [
        "head()"
      ]
    },
    {
      "cell_type": "code",
      "metadata": {
        "id": "-u9mBw2Wbzdv",
        "colab": {
          "base_uri": "https://localhost:8080/",
          "height": 166
        },
        "outputId": "52d63866-7f53-4907-a3cc-0e95142192a0"
      },
      "source": [
        "df.head(4)"
      ],
      "execution_count": null,
      "outputs": [
        {
          "output_type": "execute_result",
          "data": {
            "text/html": [
              "<div>\n",
              "<style scoped>\n",
              "    .dataframe tbody tr th:only-of-type {\n",
              "        vertical-align: middle;\n",
              "    }\n",
              "\n",
              "    .dataframe tbody tr th {\n",
              "        vertical-align: top;\n",
              "    }\n",
              "\n",
              "    .dataframe thead th {\n",
              "        text-align: right;\n",
              "    }\n",
              "</style>\n",
              "<table border=\"1\" class=\"dataframe\">\n",
              "  <thead>\n",
              "    <tr style=\"text-align: right;\">\n",
              "      <th></th>\n",
              "      <th>edad</th>\n",
              "      <th>genero</th>\n",
              "      <th>año</th>\n",
              "      <th>mcpio</th>\n",
              "      <th>dpto</th>\n",
              "      <th>col_cal</th>\n",
              "      <th>col_gen</th>\n",
              "      <th>col_jor</th>\n",
              "      <th>lenguaje</th>\n",
              "      <th>matematicas</th>\n",
              "      <th>filosofia</th>\n",
              "    </tr>\n",
              "  </thead>\n",
              "  <tbody>\n",
              "    <tr>\n",
              "      <th>0</th>\n",
              "      <td>16</td>\n",
              "      <td>M</td>\n",
              "      <td>1990.0</td>\n",
              "      <td>SOLEDAD</td>\n",
              "      <td>ATLÁNTICO</td>\n",
              "      <td>A</td>\n",
              "      <td>X</td>\n",
              "      <td>TARDE</td>\n",
              "      <td>47.41</td>\n",
              "      <td>53.42</td>\n",
              "      <td>53.94</td>\n",
              "    </tr>\n",
              "    <tr>\n",
              "      <th>1</th>\n",
              "      <td>13</td>\n",
              "      <td>M</td>\n",
              "      <td>1993.0</td>\n",
              "      <td>BOGOTÁ DC</td>\n",
              "      <td>BOGOTÁ</td>\n",
              "      <td>A</td>\n",
              "      <td>X</td>\n",
              "      <td>MAÑANA</td>\n",
              "      <td>53.30</td>\n",
              "      <td>45.66</td>\n",
              "      <td>44.92</td>\n",
              "    </tr>\n",
              "    <tr>\n",
              "      <th>2</th>\n",
              "      <td>14</td>\n",
              "      <td>M</td>\n",
              "      <td>1991.0</td>\n",
              "      <td>BOGOTÁ DC</td>\n",
              "      <td>BOGOTÁ</td>\n",
              "      <td>A</td>\n",
              "      <td>X</td>\n",
              "      <td>COMPLETA U ORDINARIA</td>\n",
              "      <td>47.41</td>\n",
              "      <td>24.75</td>\n",
              "      <td>47.30</td>\n",
              "    </tr>\n",
              "    <tr>\n",
              "      <th>3</th>\n",
              "      <td>15</td>\n",
              "      <td>F</td>\n",
              "      <td>1990.0</td>\n",
              "      <td>NEIVA</td>\n",
              "      <td>HUILA</td>\n",
              "      <td>F</td>\n",
              "      <td>X</td>\n",
              "      <td>NOCHE</td>\n",
              "      <td>43.06</td>\n",
              "      <td>58.15</td>\n",
              "      <td>47.30</td>\n",
              "    </tr>\n",
              "  </tbody>\n",
              "</table>\n",
              "</div>"
            ],
            "text/plain": [
              "   edad genero     año  ... lenguaje matematicas filosofia\n",
              "0    16      M  1990.0  ...    47.41       53.42     53.94\n",
              "1    13      M  1993.0  ...    53.30       45.66     44.92\n",
              "2    14      M  1991.0  ...    47.41       24.75     47.30\n",
              "3    15      F  1990.0  ...    43.06       58.15     47.30\n",
              "\n",
              "[4 rows x 11 columns]"
            ]
          },
          "metadata": {
            "tags": []
          },
          "execution_count": 18
        }
      ]
    },
    {
      "cell_type": "markdown",
      "metadata": {
        "id": "DKRPu1FWcIug"
      },
      "source": [
        "Selección de columnas"
      ]
    },
    {
      "cell_type": "code",
      "metadata": {
        "id": "8kUxj6QzcHiv"
      },
      "source": [
        "df = df[['estu_edad','estu_genero','estu_nacimiento_anno','estu_reside_mcpio','estu_reside_depto','cole_calendario','cole_genero','cole_jornada','punt_lenguaje','punt_matematicas','punt_filosofia']];"
      ],
      "execution_count": null,
      "outputs": []
    },
    {
      "cell_type": "code",
      "metadata": {
        "id": "y0AXMXoodOHL",
        "colab": {
          "base_uri": "https://localhost:8080/",
          "height": 250
        },
        "outputId": "1eb83c7b-e646-438d-9ab6-f4a25c6ace07"
      },
      "source": [
        "df.head()"
      ],
      "execution_count": null,
      "outputs": [
        {
          "output_type": "execute_result",
          "data": {
            "text/html": [
              "<div>\n",
              "<style scoped>\n",
              "    .dataframe tbody tr th:only-of-type {\n",
              "        vertical-align: middle;\n",
              "    }\n",
              "\n",
              "    .dataframe tbody tr th {\n",
              "        vertical-align: top;\n",
              "    }\n",
              "\n",
              "    .dataframe thead th {\n",
              "        text-align: right;\n",
              "    }\n",
              "</style>\n",
              "<table border=\"1\" class=\"dataframe\">\n",
              "  <thead>\n",
              "    <tr style=\"text-align: right;\">\n",
              "      <th></th>\n",
              "      <th>estu_edad</th>\n",
              "      <th>estu_genero</th>\n",
              "      <th>estu_nacimiento_anno</th>\n",
              "      <th>estu_reside_mcpio</th>\n",
              "      <th>estu_reside_depto</th>\n",
              "      <th>cole_calendario</th>\n",
              "      <th>cole_genero</th>\n",
              "      <th>cole_jornada</th>\n",
              "      <th>punt_lenguaje</th>\n",
              "      <th>punt_matematicas</th>\n",
              "      <th>punt_filosofia</th>\n",
              "    </tr>\n",
              "  </thead>\n",
              "  <tbody>\n",
              "    <tr>\n",
              "      <th>0</th>\n",
              "      <td>16</td>\n",
              "      <td>M</td>\n",
              "      <td>1990.0</td>\n",
              "      <td>SOLEDAD</td>\n",
              "      <td>ATLÁNTICO</td>\n",
              "      <td>A</td>\n",
              "      <td>X</td>\n",
              "      <td>TARDE</td>\n",
              "      <td>47.41</td>\n",
              "      <td>53.42</td>\n",
              "      <td>53.94</td>\n",
              "    </tr>\n",
              "    <tr>\n",
              "      <th>1</th>\n",
              "      <td>13</td>\n",
              "      <td>M</td>\n",
              "      <td>1993.0</td>\n",
              "      <td>BOGOTÁ DC</td>\n",
              "      <td>BOGOTÁ</td>\n",
              "      <td>A</td>\n",
              "      <td>X</td>\n",
              "      <td>MAÑANA</td>\n",
              "      <td>53.30</td>\n",
              "      <td>45.66</td>\n",
              "      <td>44.92</td>\n",
              "    </tr>\n",
              "    <tr>\n",
              "      <th>2</th>\n",
              "      <td>14</td>\n",
              "      <td>M</td>\n",
              "      <td>1991.0</td>\n",
              "      <td>BOGOTÁ DC</td>\n",
              "      <td>BOGOTÁ</td>\n",
              "      <td>A</td>\n",
              "      <td>X</td>\n",
              "      <td>COMPLETA U ORDINARIA</td>\n",
              "      <td>47.41</td>\n",
              "      <td>24.75</td>\n",
              "      <td>47.30</td>\n",
              "    </tr>\n",
              "    <tr>\n",
              "      <th>3</th>\n",
              "      <td>15</td>\n",
              "      <td>F</td>\n",
              "      <td>1990.0</td>\n",
              "      <td>NEIVA</td>\n",
              "      <td>HUILA</td>\n",
              "      <td>F</td>\n",
              "      <td>X</td>\n",
              "      <td>NOCHE</td>\n",
              "      <td>43.06</td>\n",
              "      <td>58.15</td>\n",
              "      <td>47.30</td>\n",
              "    </tr>\n",
              "    <tr>\n",
              "      <th>4</th>\n",
              "      <td>21</td>\n",
              "      <td>M</td>\n",
              "      <td>1985.0</td>\n",
              "      <td>LA CAPILLA</td>\n",
              "      <td>BOYACÁ</td>\n",
              "      <td>A</td>\n",
              "      <td>M</td>\n",
              "      <td>COMPLETA U ORDINARIA</td>\n",
              "      <td>51.38</td>\n",
              "      <td>39.38</td>\n",
              "      <td>28.47</td>\n",
              "    </tr>\n",
              "  </tbody>\n",
              "</table>\n",
              "</div>"
            ],
            "text/plain": [
              "   estu_edad estu_genero  ...  punt_matematicas punt_filosofia\n",
              "0         16           M  ...             53.42          53.94\n",
              "1         13           M  ...             45.66          44.92\n",
              "2         14           M  ...             24.75          47.30\n",
              "3         15           F  ...             58.15          47.30\n",
              "4         21           M  ...             39.38          28.47\n",
              "\n",
              "[5 rows x 11 columns]"
            ]
          },
          "metadata": {
            "tags": []
          },
          "execution_count": 6
        }
      ]
    },
    {
      "cell_type": "code",
      "metadata": {
        "id": "wd2pmTAsdVlh"
      },
      "source": [
        "df.columns=['edad','genero','año','mcpio','dpto','col_cal','col_gen','col_jor','lenguaje','matematicas','filosofia'];"
      ],
      "execution_count": null,
      "outputs": []
    },
    {
      "cell_type": "code",
      "metadata": {
        "id": "Plr3gaiUdnV9",
        "colab": {
          "base_uri": "https://localhost:8080/",
          "height": 137
        },
        "outputId": "9ed2314e-b5c2-46bd-e912-2476d9c7e4de"
      },
      "source": [
        "df.head(3)"
      ],
      "execution_count": null,
      "outputs": [
        {
          "output_type": "execute_result",
          "data": {
            "text/html": [
              "<div>\n",
              "<style scoped>\n",
              "    .dataframe tbody tr th:only-of-type {\n",
              "        vertical-align: middle;\n",
              "    }\n",
              "\n",
              "    .dataframe tbody tr th {\n",
              "        vertical-align: top;\n",
              "    }\n",
              "\n",
              "    .dataframe thead th {\n",
              "        text-align: right;\n",
              "    }\n",
              "</style>\n",
              "<table border=\"1\" class=\"dataframe\">\n",
              "  <thead>\n",
              "    <tr style=\"text-align: right;\">\n",
              "      <th></th>\n",
              "      <th>edad</th>\n",
              "      <th>genero</th>\n",
              "      <th>año</th>\n",
              "      <th>mcpio</th>\n",
              "      <th>dpto</th>\n",
              "      <th>col_cal</th>\n",
              "      <th>col_gen</th>\n",
              "      <th>col_jor</th>\n",
              "      <th>lenguaje</th>\n",
              "      <th>matematicas</th>\n",
              "      <th>filosofia</th>\n",
              "    </tr>\n",
              "  </thead>\n",
              "  <tbody>\n",
              "    <tr>\n",
              "      <th>0</th>\n",
              "      <td>16</td>\n",
              "      <td>M</td>\n",
              "      <td>1990.0</td>\n",
              "      <td>SOLEDAD</td>\n",
              "      <td>ATLÁNTICO</td>\n",
              "      <td>A</td>\n",
              "      <td>X</td>\n",
              "      <td>TARDE</td>\n",
              "      <td>47.41</td>\n",
              "      <td>53.42</td>\n",
              "      <td>53.94</td>\n",
              "    </tr>\n",
              "    <tr>\n",
              "      <th>1</th>\n",
              "      <td>13</td>\n",
              "      <td>M</td>\n",
              "      <td>1993.0</td>\n",
              "      <td>BOGOTÁ DC</td>\n",
              "      <td>BOGOTÁ</td>\n",
              "      <td>A</td>\n",
              "      <td>X</td>\n",
              "      <td>MAÑANA</td>\n",
              "      <td>53.30</td>\n",
              "      <td>45.66</td>\n",
              "      <td>44.92</td>\n",
              "    </tr>\n",
              "    <tr>\n",
              "      <th>2</th>\n",
              "      <td>14</td>\n",
              "      <td>M</td>\n",
              "      <td>1991.0</td>\n",
              "      <td>BOGOTÁ DC</td>\n",
              "      <td>BOGOTÁ</td>\n",
              "      <td>A</td>\n",
              "      <td>X</td>\n",
              "      <td>COMPLETA U ORDINARIA</td>\n",
              "      <td>47.41</td>\n",
              "      <td>24.75</td>\n",
              "      <td>47.30</td>\n",
              "    </tr>\n",
              "  </tbody>\n",
              "</table>\n",
              "</div>"
            ],
            "text/plain": [
              "   edad genero     año  ... lenguaje matematicas filosofia\n",
              "0    16      M  1990.0  ...    47.41       53.42     53.94\n",
              "1    13      M  1993.0  ...    53.30       45.66     44.92\n",
              "2    14      M  1991.0  ...    47.41       24.75     47.30\n",
              "\n",
              "[3 rows x 11 columns]"
            ]
          },
          "metadata": {
            "tags": []
          },
          "execution_count": 8
        }
      ]
    },
    {
      "cell_type": "markdown",
      "metadata": {
        "id": "XqN_EXtjeDnY"
      },
      "source": [
        "Análisis Cuantitativo"
      ]
    },
    {
      "cell_type": "code",
      "metadata": {
        "id": "7mG7eYOteWlY",
        "colab": {
          "base_uri": "https://localhost:8080/",
          "height": 394
        },
        "outputId": "79626db6-a4c9-4479-8473-75e7e9d4451a"
      },
      "source": [
        "text_dict = {'size':16,'color':'blue'};\n",
        "plt.figure(figsize=(8,6));\n",
        "plt.hist(df['filosofia'],color='red');\n",
        "plt.xlabel('Puntaje Filosofía',fontdict=text_dict);"
      ],
      "execution_count": null,
      "outputs": [
        {
          "output_type": "display_data",
          "data": {
            "image/png": "[encoded data removed]",
            "text/plain": [
              "<Figure size 576x432 with 1 Axes>"
            ]
          },
          "metadata": {
            "tags": [],
            "needs_background": "light"
          }
        }
      ]
    },
    {
      "cell_type": "code",
      "metadata": {
        "id": "0Pd9amgMfbez",
        "colab": {
          "base_uri": "https://localhost:8080/",
          "height": 394
        },
        "outputId": "732be7e2-2014-46f8-aef2-0ba97fba9411"
      },
      "source": [
        "text_dict = {'size':16,'color':'blue'};\n",
        "plt.figure(figsize=(8,6));\n",
        "plt.hist(df['matematicas']);\n",
        "plt.xlabel('Puntaje Matemáticas',fontdict=text_dict);"
      ],
      "execution_count": null,
      "outputs": [
        {
          "output_type": "display_data",
          "data": {
            "image/png": "[encoded data removed]",
            "text/plain": [
              "<Figure size 576x432 with 1 Axes>"
            ]
          },
          "metadata": {
            "tags": [],
            "needs_background": "light"
          }
        }
      ]
    },
    {
      "cell_type": "markdown",
      "metadata": {
        "id": "J7Gd4UNaf09J"
      },
      "source": [
        "# All in one"
      ]
    },
    {
      "cell_type": "code",
      "metadata": {
        "id": "wdAPUGL4f4uQ",
        "colab": {
          "base_uri": "https://localhost:8080/",
          "height": 393
        },
        "outputId": "ac9a67aa-f855-4d7f-aa03-df2e5261b6bb"
      },
      "source": [
        "sns.set_style('whitegrid');\n",
        "\n",
        "text_dict = {'size':16,'color':'blue'};\n",
        "text_legend = {'size':16}\n",
        "plt.figure(figsize=(8,6));\n",
        "plt.hist(df['filosofia'],color='red',alpha=0.4,label='Filosofía');\n",
        "plt.hist(df['lenguaje'],color='blue',alpha=0.4,label='Lenguaje');\n",
        "plt.hist(df['matematicas'],color='skyblue',alpha=0.4,label='Matemáticas');\n",
        "plt.xlabel('Puntaje',fontdict=text_dict);\n",
        "plt.legend(loc='best',prop=text_legend);"
      ],
      "execution_count": null,
      "outputs": [
        {
          "output_type": "display_data",
          "data": {
            "image/png": "[encoded data removed]",
            "text/plain": [
              "<Figure size 576x432 with 1 Axes>"
            ]
          },
          "metadata": {
            "tags": []
          }
        }
      ]
    },
    {
      "cell_type": "markdown",
      "metadata": {
        "id": "PZ9VmR6shGjo"
      },
      "source": [
        "# **Two variables Q**"
      ]
    },
    {
      "cell_type": "code",
      "metadata": {
        "id": "06vm38QXhKje",
        "colab": {
          "base_uri": "https://localhost:8080/",
          "height": 388
        },
        "outputId": "b874e461-ae89-451f-a07f-296e82d1ec81"
      },
      "source": [
        "plt.figure(figsize=(8,6));\n",
        "sns.scatterplot(data=df,x='filosofia',y='lenguaje',hue='genero');"
      ],
      "execution_count": null,
      "outputs": [
        {
          "output_type": "display_data",
          "data": {
            "image/png": "[encoded data removed]",
            "text/plain": [
              "<Figure size 576x432 with 1 Axes>"
            ]
          },
          "metadata": {
            "tags": []
          }
        }
      ]
    },
    {
      "cell_type": "code",
      "metadata": {
        "id": "FtVfxBTrh3PR",
        "colab": {
          "base_uri": "https://localhost:8080/",
          "height": 441
        },
        "outputId": "e539ce81-a685-4898-826d-d91f6ab733a8"
      },
      "source": [
        "sns.jointplot(data=df, x='matematicas',y='lenguaje',color='g');"
      ],
      "execution_count": null,
      "outputs": [
        {
          "output_type": "display_data",
          "data": {
            "image/png": "[encoded data removed]",
            "text/plain": [
              "<Figure size 432x432 with 3 Axes>"
            ]
          },
          "metadata": {
            "tags": []
          }
        }
      ]
    },
    {
      "cell_type": "code",
      "metadata": {
        "id": "iXKG9goliLF8",
        "colab": {
          "base_uri": "https://localhost:8080/",
          "height": 457
        },
        "outputId": "5e8f886b-3ae6-4044-dc47-8af325734239"
      },
      "source": [
        "sns.jointplot(data=df, x='matematicas',y='lenguaje',color='g',kind='hex');\n",
        "plt.colorbar()"
      ],
      "execution_count": null,
      "outputs": [
        {
          "output_type": "execute_result",
          "data": {
            "text/plain": [
              "<matplotlib.colorbar.Colorbar at 0x7f12db7bd438>"
            ]
          },
          "metadata": {
            "tags": []
          },
          "execution_count": 14
        },
        {
          "output_type": "display_data",
          "data": {
            "image/png": "[encoded data removed]",
            "text/plain": [
              "<Figure size 432x432 with 4 Axes>"
            ]
          },
          "metadata": {
            "tags": []
          }
        }
      ]
    },
    {
      "cell_type": "markdown",
      "metadata": {
        "id": "mrwFPDn4ilLa"
      },
      "source": [
        "# **Filtrar**"
      ]
    },
    {
      "cell_type": "code",
      "metadata": {
        "id": "uq3AOQioiohk",
        "colab": {
          "base_uri": "https://localhost:8080/",
          "height": 404
        },
        "outputId": "916eeb6e-68ec-4fe2-a787-739354c7c6a7"
      },
      "source": [
        "df_baq = df[df['mcpio']=='BARRANQUILLA'];\n",
        "df_baq"
      ],
      "execution_count": null,
      "outputs": [
        {
          "output_type": "execute_result",
          "data": {
            "text/html": [
              "<div>\n",
              "<style scoped>\n",
              "    .dataframe tbody tr th:only-of-type {\n",
              "        vertical-align: middle;\n",
              "    }\n",
              "\n",
              "    .dataframe tbody tr th {\n",
              "        vertical-align: top;\n",
              "    }\n",
              "\n",
              "    .dataframe thead th {\n",
              "        text-align: right;\n",
              "    }\n",
              "</style>\n",
              "<table border=\"1\" class=\"dataframe\">\n",
              "  <thead>\n",
              "    <tr style=\"text-align: right;\">\n",
              "      <th></th>\n",
              "      <th>edad</th>\n",
              "      <th>genero</th>\n",
              "      <th>año</th>\n",
              "      <th>mcpio</th>\n",
              "      <th>dpto</th>\n",
              "      <th>col_cal</th>\n",
              "      <th>col_gen</th>\n",
              "      <th>col_jor</th>\n",
              "      <th>lenguaje</th>\n",
              "      <th>matematicas</th>\n",
              "      <th>filosofia</th>\n",
              "    </tr>\n",
              "  </thead>\n",
              "  <tbody>\n",
              "    <tr>\n",
              "      <th>12</th>\n",
              "      <td>16</td>\n",
              "      <td>F</td>\n",
              "      <td>1990.0</td>\n",
              "      <td>BARRANQUILLA</td>\n",
              "      <td>ATLÁNTICO</td>\n",
              "      <td>A</td>\n",
              "      <td>F</td>\n",
              "      <td>MAÑANA</td>\n",
              "      <td>45.30</td>\n",
              "      <td>45.66</td>\n",
              "      <td>32.89</td>\n",
              "    </tr>\n",
              "    <tr>\n",
              "      <th>88</th>\n",
              "      <td>17</td>\n",
              "      <td>F</td>\n",
              "      <td>1989.0</td>\n",
              "      <td>BARRANQUILLA</td>\n",
              "      <td>ATLÁNTICO</td>\n",
              "      <td>A</td>\n",
              "      <td>X</td>\n",
              "      <td>MAÑANA</td>\n",
              "      <td>51.38</td>\n",
              "      <td>35.55</td>\n",
              "      <td>36.49</td>\n",
              "    </tr>\n",
              "    <tr>\n",
              "      <th>90</th>\n",
              "      <td>19</td>\n",
              "      <td>M</td>\n",
              "      <td>1987.0</td>\n",
              "      <td>BARRANQUILLA</td>\n",
              "      <td>ATLÁNTICO</td>\n",
              "      <td>A</td>\n",
              "      <td>X</td>\n",
              "      <td>MAÑANA</td>\n",
              "      <td>45.30</td>\n",
              "      <td>42.69</td>\n",
              "      <td>47.30</td>\n",
              "    </tr>\n",
              "    <tr>\n",
              "      <th>106</th>\n",
              "      <td>16</td>\n",
              "      <td>M</td>\n",
              "      <td>1989.0</td>\n",
              "      <td>BARRANQUILLA</td>\n",
              "      <td>ATLÁNTICO</td>\n",
              "      <td>A</td>\n",
              "      <td>X</td>\n",
              "      <td>COMPLETA U ORDINARIA</td>\n",
              "      <td>51.38</td>\n",
              "      <td>45.66</td>\n",
              "      <td>47.30</td>\n",
              "    </tr>\n",
              "    <tr>\n",
              "      <th>109</th>\n",
              "      <td>19</td>\n",
              "      <td>F</td>\n",
              "      <td>1987.0</td>\n",
              "      <td>BARRANQUILLA</td>\n",
              "      <td>ATLÁNTICO</td>\n",
              "      <td>A</td>\n",
              "      <td>X</td>\n",
              "      <td>TARDE</td>\n",
              "      <td>31.04</td>\n",
              "      <td>42.69</td>\n",
              "      <td>44.92</td>\n",
              "    </tr>\n",
              "    <tr>\n",
              "      <th>...</th>\n",
              "      <td>...</td>\n",
              "      <td>...</td>\n",
              "      <td>...</td>\n",
              "      <td>...</td>\n",
              "      <td>...</td>\n",
              "      <td>...</td>\n",
              "      <td>...</td>\n",
              "      <td>...</td>\n",
              "      <td>...</td>\n",
              "      <td>...</td>\n",
              "      <td>...</td>\n",
              "    </tr>\n",
              "    <tr>\n",
              "      <th>410748</th>\n",
              "      <td>18</td>\n",
              "      <td>F</td>\n",
              "      <td>1988.0</td>\n",
              "      <td>BARRANQUILLA</td>\n",
              "      <td>ATLÁNTICO</td>\n",
              "      <td>A</td>\n",
              "      <td>X</td>\n",
              "      <td>TARDE</td>\n",
              "      <td>45.30</td>\n",
              "      <td>30.91</td>\n",
              "      <td>39.60</td>\n",
              "    </tr>\n",
              "    <tr>\n",
              "      <th>410786</th>\n",
              "      <td>17</td>\n",
              "      <td>F</td>\n",
              "      <td>1988.0</td>\n",
              "      <td>BARRANQUILLA</td>\n",
              "      <td>ATLÁNTICO</td>\n",
              "      <td>A</td>\n",
              "      <td>X</td>\n",
              "      <td>MAÑANA</td>\n",
              "      <td>37.92</td>\n",
              "      <td>30.91</td>\n",
              "      <td>47.30</td>\n",
              "    </tr>\n",
              "    <tr>\n",
              "      <th>410791</th>\n",
              "      <td>18</td>\n",
              "      <td>M</td>\n",
              "      <td>1988.0</td>\n",
              "      <td>BARRANQUILLA</td>\n",
              "      <td>ATLÁNTICO</td>\n",
              "      <td>A</td>\n",
              "      <td>X</td>\n",
              "      <td>TARDE</td>\n",
              "      <td>43.06</td>\n",
              "      <td>42.69</td>\n",
              "      <td>42.38</td>\n",
              "    </tr>\n",
              "    <tr>\n",
              "      <th>410799</th>\n",
              "      <td>15</td>\n",
              "      <td>F</td>\n",
              "      <td>1990.0</td>\n",
              "      <td>BARRANQUILLA</td>\n",
              "      <td>ATLÁNTICO</td>\n",
              "      <td>A</td>\n",
              "      <td>F</td>\n",
              "      <td>COMPLETA U ORDINARIA</td>\n",
              "      <td>63.33</td>\n",
              "      <td>53.42</td>\n",
              "      <td>58.26</td>\n",
              "    </tr>\n",
              "    <tr>\n",
              "      <th>410804</th>\n",
              "      <td>15</td>\n",
              "      <td>F</td>\n",
              "      <td>1990.0</td>\n",
              "      <td>BARRANQUILLA</td>\n",
              "      <td>ATLÁNTICO</td>\n",
              "      <td>A</td>\n",
              "      <td>F</td>\n",
              "      <td>MAÑANA</td>\n",
              "      <td>31.04</td>\n",
              "      <td>48.40</td>\n",
              "      <td>49.58</td>\n",
              "    </tr>\n",
              "  </tbody>\n",
              "</table>\n",
              "<p>16118 rows × 11 columns</p>\n",
              "</div>"
            ],
            "text/plain": [
              "        edad genero     año  ... lenguaje matematicas filosofia\n",
              "12        16      F  1990.0  ...    45.30       45.66     32.89\n",
              "88        17      F  1989.0  ...    51.38       35.55     36.49\n",
              "90        19      M  1987.0  ...    45.30       42.69     47.30\n",
              "106       16      M  1989.0  ...    51.38       45.66     47.30\n",
              "109       19      F  1987.0  ...    31.04       42.69     44.92\n",
              "...      ...    ...     ...  ...      ...         ...       ...\n",
              "410748    18      F  1988.0  ...    45.30       30.91     39.60\n",
              "410786    17      F  1988.0  ...    37.92       30.91     47.30\n",
              "410791    18      M  1988.0  ...    43.06       42.69     42.38\n",
              "410799    15      F  1990.0  ...    63.33       53.42     58.26\n",
              "410804    15      F  1990.0  ...    31.04       48.40     49.58\n",
              "\n",
              "[16118 rows x 11 columns]"
            ]
          },
          "metadata": {
            "tags": []
          },
          "execution_count": 15
        }
      ]
    },
    {
      "cell_type": "code",
      "metadata": {
        "id": "09rO5Kggi9QU",
        "colab": {
          "base_uri": "https://localhost:8080/",
          "height": 441
        },
        "outputId": "54f49143-fcf2-4a15-8dd7-c30cce192a4e"
      },
      "source": [
        "sns.jointplot(data=df_baq, x='matematicas',y='lenguaje',color='g',kind='kde');"
      ],
      "execution_count": null,
      "outputs": [
        {
          "output_type": "display_data",
          "data": {
            "image/png": "[encoded data removed]",
            "text/plain": [
              "<Figure size 432x432 with 3 Axes>"
            ]
          },
          "metadata": {
            "tags": []
          }
        }
      ]
    },
    {
      "cell_type": "code",
      "metadata": {
        "id": "9muptkS1jYW-",
        "colab": {
          "base_uri": "https://localhost:8080/",
          "height": 891
        },
        "outputId": "20f1f6ff-c225-43c2-a80d-42ef1ce13b1e"
      },
      "source": [
        "colu = ['lenguaje','matematicas','filosofia'];\n",
        "sns.pairplot(data=df_baq,x_vars=colu,y_vars=colu,hue='genero',height=4);"
      ],
      "execution_count": null,
      "outputs": [
        {
          "output_type": "display_data",
          "data": {
            "image/png": "[encoded data removed]",
            "text/plain": [
              "<Figure size 908.625x864 with 12 Axes>"
            ]
          },
          "metadata": {
            "tags": []
          }
        }
      ]
    },
    {
      "cell_type": "markdown",
      "metadata": {
        "id": "KTkCeuOSj5Vd"
      },
      "source": [
        "# Categorical vs Numerical"
      ]
    },
    {
      "cell_type": "code",
      "metadata": {
        "id": "00j3vtWnj9z3",
        "colab": {
          "base_uri": "https://localhost:8080/",
          "height": 67
        },
        "outputId": "d1b7950e-6a06-469d-edae-ce5232602818"
      },
      "source": [
        "df_baq.columns"
      ],
      "execution_count": null,
      "outputs": [
        {
          "output_type": "execute_result",
          "data": {
            "text/plain": [
              "Index(['edad', 'genero', 'año', 'mcpio', 'dpto', 'col_cal', 'col_gen',\n",
              "       'col_jor', 'lenguaje', 'matematicas', 'filosofia'],\n",
              "      dtype='object')"
            ]
          },
          "metadata": {
            "tags": []
          },
          "execution_count": 19
        }
      ]
    },
    {
      "cell_type": "code",
      "metadata": {
        "id": "67IVtapukF8p",
        "colab": {
          "base_uri": "https://localhost:8080/",
          "height": 279
        },
        "outputId": "974598ef-7d5e-4dc8-c045-7e7a770c87fb"
      },
      "source": [
        "sns.boxplot(data=df_baq,x='genero',y='matematicas',showfliers=False);"
      ],
      "execution_count": null,
      "outputs": [
        {
          "output_type": "display_data",
          "data": {
            "image/png": "[encoded data removed]",
            "text/plain": [
              "<Figure size 432x288 with 1 Axes>"
            ]
          },
          "metadata": {
            "tags": []
          }
        }
      ]
    },
    {
      "cell_type": "code",
      "metadata": {
        "id": "5qaR2FUgl0YE",
        "colab": {
          "base_uri": "https://localhost:8080/",
          "height": 279
        },
        "outputId": "0601a303-47c9-48ea-e5ff-1f2a2fc97f29"
      },
      "source": [
        "sns.violinplot(data=df_baq,x='genero',y='matematicas');"
      ],
      "execution_count": null,
      "outputs": [
        {
          "output_type": "display_data",
          "data": {
            "image/png": "[encoded data removed]",
            "text/plain": [
              "<Figure size 432x288 with 1 Axes>"
            ]
          },
          "metadata": {
            "tags": []
          }
        }
      ]
    },
    {
      "cell_type": "code",
      "metadata": {
        "id": "BKHIlKzdmemB",
        "colab": {
          "base_uri": "https://localhost:8080/",
          "height": 279
        },
        "outputId": "bafeb197-6d3a-47e3-d9e2-4d16cd0a78d9"
      },
      "source": [
        "sns.boxenplot(data=df_baq,x='genero',y='matematicas');"
      ],
      "execution_count": null,
      "outputs": [
        {
          "output_type": "display_data",
          "data": {
            "image/png": "[encoded data removed]",
            "text/plain": [
              "<Figure size 432x288 with 1 Axes>"
            ]
          },
          "metadata": {
            "tags": []
          }
        }
      ]
    },
    {
      "cell_type": "markdown",
      "metadata": {
        "id": "e0RXZQMwnLgo"
      },
      "source": [
        "# Agregación"
      ]
    },
    {
      "cell_type": "code",
      "metadata": {
        "id": "RWssQuEOnb7z",
        "colab": {
          "base_uri": "https://localhost:8080/",
          "height": 67
        },
        "outputId": "481493e0-4b34-4211-d9ae-e48d06cabde3"
      },
      "source": [
        "print(df.columns)"
      ],
      "execution_count": null,
      "outputs": [
        {
          "output_type": "stream",
          "text": [
            "Index(['edad', 'genero', 'año', 'mcpio', 'dpto', 'col_cal', 'col_gen',\n",
            "       'col_jor', 'lenguaje', 'matematicas', 'filosofia'],\n",
            "      dtype='object')\n"
          ],
          "name": "stdout"
        }
      ]
    },
    {
      "cell_type": "code",
      "metadata": {
        "id": "QL04KsJnnz6W",
        "colab": {
          "base_uri": "https://localhost:8080/",
          "height": 404
        },
        "outputId": "c5db5f7f-ebbd-4423-bdea-58b150225bdc"
      },
      "source": [
        "df[['genero','matematicas']]"
      ],
      "execution_count": null,
      "outputs": [
        {
          "output_type": "execute_result",
          "data": {
            "text/html": [
              "<div>\n",
              "<style scoped>\n",
              "    .dataframe tbody tr th:only-of-type {\n",
              "        vertical-align: middle;\n",
              "    }\n",
              "\n",
              "    .dataframe tbody tr th {\n",
              "        vertical-align: top;\n",
              "    }\n",
              "\n",
              "    .dataframe thead th {\n",
              "        text-align: right;\n",
              "    }\n",
              "</style>\n",
              "<table border=\"1\" class=\"dataframe\">\n",
              "  <thead>\n",
              "    <tr style=\"text-align: right;\">\n",
              "      <th></th>\n",
              "      <th>genero</th>\n",
              "      <th>matematicas</th>\n",
              "    </tr>\n",
              "  </thead>\n",
              "  <tbody>\n",
              "    <tr>\n",
              "      <th>0</th>\n",
              "      <td>M</td>\n",
              "      <td>53.42</td>\n",
              "    </tr>\n",
              "    <tr>\n",
              "      <th>1</th>\n",
              "      <td>M</td>\n",
              "      <td>45.66</td>\n",
              "    </tr>\n",
              "    <tr>\n",
              "      <th>2</th>\n",
              "      <td>M</td>\n",
              "      <td>24.75</td>\n",
              "    </tr>\n",
              "    <tr>\n",
              "      <th>3</th>\n",
              "      <td>F</td>\n",
              "      <td>58.15</td>\n",
              "    </tr>\n",
              "    <tr>\n",
              "      <th>4</th>\n",
              "      <td>M</td>\n",
              "      <td>39.38</td>\n",
              "    </tr>\n",
              "    <tr>\n",
              "      <th>...</th>\n",
              "      <td>...</td>\n",
              "      <td>...</td>\n",
              "    </tr>\n",
              "    <tr>\n",
              "      <th>410803</th>\n",
              "      <td>F</td>\n",
              "      <td>48.40</td>\n",
              "    </tr>\n",
              "    <tr>\n",
              "      <th>410804</th>\n",
              "      <td>F</td>\n",
              "      <td>48.40</td>\n",
              "    </tr>\n",
              "    <tr>\n",
              "      <th>410805</th>\n",
              "      <td>M</td>\n",
              "      <td>50.97</td>\n",
              "    </tr>\n",
              "    <tr>\n",
              "      <th>410806</th>\n",
              "      <td>F</td>\n",
              "      <td>42.69</td>\n",
              "    </tr>\n",
              "    <tr>\n",
              "      <th>410807</th>\n",
              "      <td>M</td>\n",
              "      <td>45.66</td>\n",
              "    </tr>\n",
              "  </tbody>\n",
              "</table>\n",
              "<p>410808 rows × 2 columns</p>\n",
              "</div>"
            ],
            "text/plain": [
              "       genero  matematicas\n",
              "0           M        53.42\n",
              "1           M        45.66\n",
              "2           M        24.75\n",
              "3           F        58.15\n",
              "4           M        39.38\n",
              "...       ...          ...\n",
              "410803      F        48.40\n",
              "410804      F        48.40\n",
              "410805      M        50.97\n",
              "410806      F        42.69\n",
              "410807      M        45.66\n",
              "\n",
              "[410808 rows x 2 columns]"
            ]
          },
          "metadata": {
            "tags": []
          },
          "execution_count": 27
        }
      ]
    },
    {
      "cell_type": "code",
      "metadata": {
        "id": "ovgDdMDtnkoy",
        "colab": {
          "base_uri": "https://localhost:8080/",
          "height": 166
        },
        "outputId": "04fd3eaa-b571-4c91-b151-91223102175f"
      },
      "source": [
        "df[['genero','matematicas']].groupby(by=['genero']).count()"
      ],
      "execution_count": null,
      "outputs": [
        {
          "output_type": "execute_result",
          "data": {
            "text/html": [
              "<div>\n",
              "<style scoped>\n",
              "    .dataframe tbody tr th:only-of-type {\n",
              "        vertical-align: middle;\n",
              "    }\n",
              "\n",
              "    .dataframe tbody tr th {\n",
              "        vertical-align: top;\n",
              "    }\n",
              "\n",
              "    .dataframe thead th {\n",
              "        text-align: right;\n",
              "    }\n",
              "</style>\n",
              "<table border=\"1\" class=\"dataframe\">\n",
              "  <thead>\n",
              "    <tr style=\"text-align: right;\">\n",
              "      <th></th>\n",
              "      <th>matematicas</th>\n",
              "    </tr>\n",
              "    <tr>\n",
              "      <th>genero</th>\n",
              "      <th></th>\n",
              "    </tr>\n",
              "  </thead>\n",
              "  <tbody>\n",
              "    <tr>\n",
              "      <th>-</th>\n",
              "      <td>931</td>\n",
              "    </tr>\n",
              "    <tr>\n",
              "      <th>F</th>\n",
              "      <td>221424</td>\n",
              "    </tr>\n",
              "    <tr>\n",
              "      <th>M</th>\n",
              "      <td>188453</td>\n",
              "    </tr>\n",
              "  </tbody>\n",
              "</table>\n",
              "</div>"
            ],
            "text/plain": [
              "        matematicas\n",
              "genero             \n",
              "-               931\n",
              "F            221424\n",
              "M            188453"
            ]
          },
          "metadata": {
            "tags": []
          },
          "execution_count": 30
        }
      ]
    },
    {
      "cell_type": "code",
      "metadata": {
        "id": "sxf7fKHVoUW4",
        "colab": {
          "base_uri": "https://localhost:8080/",
          "height": 166
        },
        "outputId": "4912902d-b15c-47b4-857a-0b350e80cd5e"
      },
      "source": [
        "df[['genero','matematicas']].groupby(by=['genero']).max()"
      ],
      "execution_count": null,
      "outputs": [
        {
          "output_type": "execute_result",
          "data": {
            "text/html": [
              "<div>\n",
              "<style scoped>\n",
              "    .dataframe tbody tr th:only-of-type {\n",
              "        vertical-align: middle;\n",
              "    }\n",
              "\n",
              "    .dataframe tbody tr th {\n",
              "        vertical-align: top;\n",
              "    }\n",
              "\n",
              "    .dataframe thead th {\n",
              "        text-align: right;\n",
              "    }\n",
              "</style>\n",
              "<table border=\"1\" class=\"dataframe\">\n",
              "  <thead>\n",
              "    <tr style=\"text-align: right;\">\n",
              "      <th></th>\n",
              "      <th>matematicas</th>\n",
              "    </tr>\n",
              "    <tr>\n",
              "      <th>genero</th>\n",
              "      <th></th>\n",
              "    </tr>\n",
              "  </thead>\n",
              "  <tbody>\n",
              "    <tr>\n",
              "      <th>-</th>\n",
              "      <td>76.47</td>\n",
              "    </tr>\n",
              "    <tr>\n",
              "      <th>F</th>\n",
              "      <td>90.48</td>\n",
              "    </tr>\n",
              "    <tr>\n",
              "      <th>M</th>\n",
              "      <td>115.67</td>\n",
              "    </tr>\n",
              "  </tbody>\n",
              "</table>\n",
              "</div>"
            ],
            "text/plain": [
              "        matematicas\n",
              "genero             \n",
              "-             76.47\n",
              "F             90.48\n",
              "M            115.67"
            ]
          },
          "metadata": {
            "tags": []
          },
          "execution_count": 31
        }
      ]
    },
    {
      "cell_type": "code",
      "metadata": {
        "id": "vgELrY-wodyJ"
      },
      "source": [
        "df_r = df[['dpto','genero','matematicas']].groupby(by=['dpto','genero']).mean()\n",
        "df_r = df_r.reset_index() #Liberar las variables por las cuales agrupaste\n",
        "df_r.to_excel('grouping.xls')"
      ],
      "execution_count": null,
      "outputs": []
    },
    {
      "cell_type": "code",
      "metadata": {
        "id": "whS633HApeMj",
        "colab": {
          "base_uri": "https://localhost:8080/",
          "height": 1000
        },
        "outputId": "495ca118-9433-4f37-c6aa-1f948cd716ff"
      },
      "source": [
        "df[['dpto','matematicas']].groupby(by=['dpto']).mean()"
      ],
      "execution_count": null,
      "outputs": [
        {
          "output_type": "execute_result",
          "data": {
            "text/html": [
              "<div>\n",
              "<style scoped>\n",
              "    .dataframe tbody tr th:only-of-type {\n",
              "        vertical-align: middle;\n",
              "    }\n",
              "\n",
              "    .dataframe tbody tr th {\n",
              "        vertical-align: top;\n",
              "    }\n",
              "\n",
              "    .dataframe thead th {\n",
              "        text-align: right;\n",
              "    }\n",
              "</style>\n",
              "<table border=\"1\" class=\"dataframe\">\n",
              "  <thead>\n",
              "    <tr style=\"text-align: right;\">\n",
              "      <th></th>\n",
              "      <th>matematicas</th>\n",
              "    </tr>\n",
              "    <tr>\n",
              "      <th>dpto</th>\n",
              "      <th></th>\n",
              "    </tr>\n",
              "  </thead>\n",
              "  <tbody>\n",
              "    <tr>\n",
              "      <th>-</th>\n",
              "      <td>43.942876</td>\n",
              "    </tr>\n",
              "    <tr>\n",
              "      <th>AMAZONAS</th>\n",
              "      <td>43.259319</td>\n",
              "    </tr>\n",
              "    <tr>\n",
              "      <th>ANTIOQUIA</th>\n",
              "      <td>45.150960</td>\n",
              "    </tr>\n",
              "    <tr>\n",
              "      <th>ARAUCA</th>\n",
              "      <td>44.799588</td>\n",
              "    </tr>\n",
              "    <tr>\n",
              "      <th>ATLÁNTICO</th>\n",
              "      <td>44.150882</td>\n",
              "    </tr>\n",
              "    <tr>\n",
              "      <th>BOGOTÁ</th>\n",
              "      <td>46.266720</td>\n",
              "    </tr>\n",
              "    <tr>\n",
              "      <th>BOLÍVAR</th>\n",
              "      <td>43.881612</td>\n",
              "    </tr>\n",
              "    <tr>\n",
              "      <th>BOYACÁ</th>\n",
              "      <td>45.676391</td>\n",
              "    </tr>\n",
              "    <tr>\n",
              "      <th>CALDAS</th>\n",
              "      <td>44.801124</td>\n",
              "    </tr>\n",
              "    <tr>\n",
              "      <th>CAQUETÁ</th>\n",
              "      <td>44.209611</td>\n",
              "    </tr>\n",
              "    <tr>\n",
              "      <th>CASANARE</th>\n",
              "      <td>45.235427</td>\n",
              "    </tr>\n",
              "    <tr>\n",
              "      <th>CAUCA</th>\n",
              "      <td>43.732806</td>\n",
              "    </tr>\n",
              "    <tr>\n",
              "      <th>CESAR</th>\n",
              "      <td>44.529242</td>\n",
              "    </tr>\n",
              "    <tr>\n",
              "      <th>CHOCÓ</th>\n",
              "      <td>42.021108</td>\n",
              "    </tr>\n",
              "    <tr>\n",
              "      <th>CUNDINAMARCA</th>\n",
              "      <td>44.551486</td>\n",
              "    </tr>\n",
              "    <tr>\n",
              "      <th>CÓRDOBA</th>\n",
              "      <td>43.704933</td>\n",
              "    </tr>\n",
              "    <tr>\n",
              "      <th>GUAINÍA</th>\n",
              "      <td>43.642453</td>\n",
              "    </tr>\n",
              "    <tr>\n",
              "      <th>GUAVIARE</th>\n",
              "      <td>44.136421</td>\n",
              "    </tr>\n",
              "    <tr>\n",
              "      <th>HUILA</th>\n",
              "      <td>45.075440</td>\n",
              "    </tr>\n",
              "    <tr>\n",
              "      <th>LA GUAJIRA</th>\n",
              "      <td>43.275274</td>\n",
              "    </tr>\n",
              "    <tr>\n",
              "      <th>MAGDALENA</th>\n",
              "      <td>43.146553</td>\n",
              "    </tr>\n",
              "    <tr>\n",
              "      <th>META</th>\n",
              "      <td>45.022862</td>\n",
              "    </tr>\n",
              "    <tr>\n",
              "      <th>NARIÑO</th>\n",
              "      <td>44.217618</td>\n",
              "    </tr>\n",
              "    <tr>\n",
              "      <th>NORTE SANTANDER</th>\n",
              "      <td>44.909391</td>\n",
              "    </tr>\n",
              "    <tr>\n",
              "      <th>PUTUMAYO</th>\n",
              "      <td>44.331385</td>\n",
              "    </tr>\n",
              "    <tr>\n",
              "      <th>QUINDÍO</th>\n",
              "      <td>45.229217</td>\n",
              "    </tr>\n",
              "    <tr>\n",
              "      <th>RISARALDA</th>\n",
              "      <td>44.640075</td>\n",
              "    </tr>\n",
              "    <tr>\n",
              "      <th>SAN ANDRÉS</th>\n",
              "      <td>42.999064</td>\n",
              "    </tr>\n",
              "    <tr>\n",
              "      <th>SANTANDER</th>\n",
              "      <td>46.592393</td>\n",
              "    </tr>\n",
              "    <tr>\n",
              "      <th>SUCRE</th>\n",
              "      <td>44.515547</td>\n",
              "    </tr>\n",
              "    <tr>\n",
              "      <th>TOLIMA</th>\n",
              "      <td>44.342534</td>\n",
              "    </tr>\n",
              "    <tr>\n",
              "      <th>VALLE</th>\n",
              "      <td>43.338988</td>\n",
              "    </tr>\n",
              "    <tr>\n",
              "      <th>VAUPÉS</th>\n",
              "      <td>42.528214</td>\n",
              "    </tr>\n",
              "    <tr>\n",
              "      <th>VICHADA</th>\n",
              "      <td>43.310686</td>\n",
              "    </tr>\n",
              "  </tbody>\n",
              "</table>\n",
              "</div>"
            ],
            "text/plain": [
              "                 matematicas\n",
              "dpto                        \n",
              "-                  43.942876\n",
              "AMAZONAS           43.259319\n",
              "ANTIOQUIA          45.150960\n",
              "ARAUCA             44.799588\n",
              "ATLÁNTICO          44.150882\n",
              "BOGOTÁ             46.266720\n",
              "BOLÍVAR            43.881612\n",
              "BOYACÁ             45.676391\n",
              "CALDAS             44.801124\n",
              "CAQUETÁ            44.209611\n",
              "CASANARE           45.235427\n",
              "CAUCA              43.732806\n",
              "CESAR              44.529242\n",
              "CHOCÓ              42.021108\n",
              "CUNDINAMARCA       44.551486\n",
              "CÓRDOBA            43.704933\n",
              "GUAINÍA            43.642453\n",
              "GUAVIARE           44.136421\n",
              "HUILA              45.075440\n",
              "LA GUAJIRA         43.275274\n",
              "MAGDALENA          43.146553\n",
              "META               45.022862\n",
              "NARIÑO             44.217618\n",
              "NORTE SANTANDER    44.909391\n",
              "PUTUMAYO           44.331385\n",
              "QUINDÍO            45.229217\n",
              "RISARALDA          44.640075\n",
              "SAN ANDRÉS         42.999064\n",
              "SANTANDER          46.592393\n",
              "SUCRE              44.515547\n",
              "TOLIMA             44.342534\n",
              "VALLE              43.338988\n",
              "VAUPÉS             42.528214\n",
              "VICHADA            43.310686"
            ]
          },
          "metadata": {
            "tags": []
          },
          "execution_count": 39
        }
      ]
    }
  ]
}