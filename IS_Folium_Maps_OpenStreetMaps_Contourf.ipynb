{
  "nbformat": 4,
  "nbformat_minor": 0,
  "metadata": {
    "colab": {
      "name": "IS - Folium - Maps - OpenStreetMaps - Contourf.ipynb",
      "provenance": [],
      "authorship_tag": "ABX9TyP1cgLKw2V0Q+20/HeLWBJ5",
      "include_colab_link": true
    },
    "kernelspec": {
      "name": "python3",
      "display_name": "Python 3"
    },
    "language_info": {
      "name": "python"
    }
  },
  "cells": [
    {
      "cell_type": "markdown",
      "metadata": {
        "id": "view-in-github",
        "colab_type": "text"
      },
      "source": [
        "<a href=\"https://colab.research.google.com/github/enino84/Intro-to-Data-Analytics/blob/main/IS_Folium_Maps_OpenStreetMaps_Contourf.ipynb\" target=\"_parent\"><img src=\"https://colab.research.google.com/assets/colab-badge.svg\" alt=\"Open In Colab\"/></a>"
      ]
    },
    {
      "cell_type": "markdown",
      "metadata": {
        "id": "WJ9JEkR-ikQn"
      },
      "source": [
        "# **Datos Abiertos:**\n",
        "\n",
        "https://www.datos.gov.co/Transporte/accidentes-calle-30-2015-2019/sefb-a755"
      ]
    },
    {
      "cell_type": "code",
      "metadata": {
        "id": "nYX2Bxneiuv5"
      },
      "source": [
        "import pandas as pd"
      ],
      "execution_count": null,
      "outputs": []
    },
    {
      "cell_type": "code",
      "metadata": {
        "id": "TC7vlNAIigLm"
      },
      "source": [
        "url = 'https://www.datos.gov.co/api/views/yb9r-2dsi/rows.csv?accessType=DOWNLOAD';\n",
        "df_acc = pd.read_csv(url);"
      ],
      "execution_count": null,
      "outputs": []
    },
    {
      "cell_type": "code",
      "metadata": {
        "colab": {
          "base_uri": "https://localhost:8080/",
          "height": 278
        },
        "id": "Chk-t6GWi2xi",
        "outputId": "20aa1697-ed39-4f85-983b-0c59f05ee3c6"
      },
      "source": [
        "df_acc.head(4)"
      ],
      "execution_count": null,
      "outputs": [
        {
          "output_type": "execute_result",
          "data": {
            "text/html": [
              "<div>\n",
              "<style scoped>\n",
              "    .dataframe tbody tr th:only-of-type {\n",
              "        vertical-align: middle;\n",
              "    }\n",
              "\n",
              "    .dataframe tbody tr th {\n",
              "        vertical-align: top;\n",
              "    }\n",
              "\n",
              "    .dataframe thead th {\n",
              "        text-align: right;\n",
              "    }\n",
              "</style>\n",
              "<table border=\"1\" class=\"dataframe\">\n",
              "  <thead>\n",
              "    <tr style=\"text-align: right;\">\n",
              "      <th></th>\n",
              "      <th>FECHA_ACCIDENTE</th>\n",
              "      <th>AÑO_ACCIDENTE</th>\n",
              "      <th>MES_ACCIDENTE</th>\n",
              "      <th>DIA_ACCIDENTE</th>\n",
              "      <th>HORA_ACCIDENTE</th>\n",
              "      <th>GRAVEDAD_ACCIDENTE</th>\n",
              "      <th>CLASE_ACCIDENTE</th>\n",
              "      <th>SITIO_EXACTO_ACCIDENTE</th>\n",
              "      <th>CANT_HERIDOS_EN _SITIO_ACCIDENTE</th>\n",
              "      <th>CANT_MUERTOS_EN _SITIO_ACCIDENTE</th>\n",
              "      <th>CANTIDAD_ACCIDENTES</th>\n",
              "    </tr>\n",
              "  </thead>\n",
              "  <tbody>\n",
              "    <tr>\n",
              "      <th>0</th>\n",
              "      <td>01/01/2015 12:00:00 AM</td>\n",
              "      <td>2015</td>\n",
              "      <td>1</td>\n",
              "      <td>Jue</td>\n",
              "      <td>02:10:00:PM</td>\n",
              "      <td>Con heridos</td>\n",
              "      <td>Choque</td>\n",
              "      <td>VIA 40 CON 77</td>\n",
              "      <td>1.0</td>\n",
              "      <td>NaN</td>\n",
              "      <td>1</td>\n",
              "    </tr>\n",
              "    <tr>\n",
              "      <th>1</th>\n",
              "      <td>01/01/2015 12:00:00 AM</td>\n",
              "      <td>2015</td>\n",
              "      <td>1</td>\n",
              "      <td>Jue</td>\n",
              "      <td>02:15:00:PM</td>\n",
              "      <td>Solo daños</td>\n",
              "      <td>Choque</td>\n",
              "      <td>CALLE 14 CR 13</td>\n",
              "      <td>NaN</td>\n",
              "      <td>NaN</td>\n",
              "      <td>1</td>\n",
              "    </tr>\n",
              "    <tr>\n",
              "      <th>2</th>\n",
              "      <td>01/01/2015 12:00:00 AM</td>\n",
              "      <td>2015</td>\n",
              "      <td>1</td>\n",
              "      <td>Jue</td>\n",
              "      <td>02:20:00:PM</td>\n",
              "      <td>Solo daños</td>\n",
              "      <td>Choque</td>\n",
              "      <td>CL 74 CR 38C</td>\n",
              "      <td>NaN</td>\n",
              "      <td>NaN</td>\n",
              "      <td>1</td>\n",
              "    </tr>\n",
              "    <tr>\n",
              "      <th>3</th>\n",
              "      <td>01/01/2015 12:00:00 AM</td>\n",
              "      <td>2015</td>\n",
              "      <td>1</td>\n",
              "      <td>Jue</td>\n",
              "      <td>03:30:00:PM</td>\n",
              "      <td>Con heridos</td>\n",
              "      <td>Choque</td>\n",
              "      <td>CL 45 CR 19</td>\n",
              "      <td>2.0</td>\n",
              "      <td>NaN</td>\n",
              "      <td>1</td>\n",
              "    </tr>\n",
              "  </tbody>\n",
              "</table>\n",
              "</div>"
            ],
            "text/plain": [
              "          FECHA_ACCIDENTE  ...  CANTIDAD_ACCIDENTES\n",
              "0  01/01/2015 12:00:00 AM  ...                    1\n",
              "1  01/01/2015 12:00:00 AM  ...                    1\n",
              "2  01/01/2015 12:00:00 AM  ...                    1\n",
              "3  01/01/2015 12:00:00 AM  ...                    1\n",
              "\n",
              "[4 rows x 11 columns]"
            ]
          },
          "metadata": {},
          "execution_count": 3
        }
      ]
    },
    {
      "cell_type": "markdown",
      "metadata": {
        "id": "EvGnfll3jhQL"
      },
      "source": [
        "# `datetime`"
      ]
    },
    {
      "cell_type": "markdown",
      "metadata": {
        "id": "5wsgxHDSjZ9K"
      },
      "source": [
        "Convertimos los datos de la columna `df_acc['FECHA_ACCIDENTE']` a campos `datetime`."
      ]
    },
    {
      "cell_type": "code",
      "metadata": {
        "id": "17F-Q5LmjRIq"
      },
      "source": [
        "df_acc['FECHA_ACCIDENTE'] = pd.to_datetime(df_acc['FECHA_ACCIDENTE']);"
      ],
      "execution_count": null,
      "outputs": []
    },
    {
      "cell_type": "code",
      "metadata": {
        "colab": {
          "base_uri": "https://localhost:8080/",
          "height": 148
        },
        "id": "69NIJmkHjnPT",
        "outputId": "f589fc85-d8bd-471f-c40f-438b21a91bf5"
      },
      "source": [
        "df_acc.tail(2)"
      ],
      "execution_count": null,
      "outputs": [
        {
          "output_type": "execute_result",
          "data": {
            "text/html": [
              "<div>\n",
              "<style scoped>\n",
              "    .dataframe tbody tr th:only-of-type {\n",
              "        vertical-align: middle;\n",
              "    }\n",
              "\n",
              "    .dataframe tbody tr th {\n",
              "        vertical-align: top;\n",
              "    }\n",
              "\n",
              "    .dataframe thead th {\n",
              "        text-align: right;\n",
              "    }\n",
              "</style>\n",
              "<table border=\"1\" class=\"dataframe\">\n",
              "  <thead>\n",
              "    <tr style=\"text-align: right;\">\n",
              "      <th></th>\n",
              "      <th>FECHA_ACCIDENTE</th>\n",
              "      <th>AÑO_ACCIDENTE</th>\n",
              "      <th>MES_ACCIDENTE</th>\n",
              "      <th>DIA_ACCIDENTE</th>\n",
              "      <th>HORA_ACCIDENTE</th>\n",
              "      <th>GRAVEDAD_ACCIDENTE</th>\n",
              "      <th>CLASE_ACCIDENTE</th>\n",
              "      <th>SITIO_EXACTO_ACCIDENTE</th>\n",
              "      <th>CANT_HERIDOS_EN _SITIO_ACCIDENTE</th>\n",
              "      <th>CANT_MUERTOS_EN _SITIO_ACCIDENTE</th>\n",
              "      <th>CANTIDAD_ACCIDENTES</th>\n",
              "    </tr>\n",
              "  </thead>\n",
              "  <tbody>\n",
              "    <tr>\n",
              "      <th>37242</th>\n",
              "      <td>2021-09-30</td>\n",
              "      <td>2021</td>\n",
              "      <td>9</td>\n",
              "      <td>Jue</td>\n",
              "      <td>09:30:00:AM</td>\n",
              "      <td>Solo daños</td>\n",
              "      <td>Choque</td>\n",
              "      <td>CR 25B 74B 94</td>\n",
              "      <td>NaN</td>\n",
              "      <td>NaN</td>\n",
              "      <td>1</td>\n",
              "    </tr>\n",
              "    <tr>\n",
              "      <th>37243</th>\n",
              "      <td>2021-09-30</td>\n",
              "      <td>2021</td>\n",
              "      <td>9</td>\n",
              "      <td>Jue</td>\n",
              "      <td>12:10:00:PM</td>\n",
              "      <td>Solo daños</td>\n",
              "      <td>Choque</td>\n",
              "      <td>CR 43 CL 55</td>\n",
              "      <td>NaN</td>\n",
              "      <td>NaN</td>\n",
              "      <td>1</td>\n",
              "    </tr>\n",
              "  </tbody>\n",
              "</table>\n",
              "</div>"
            ],
            "text/plain": [
              "      FECHA_ACCIDENTE  ...  CANTIDAD_ACCIDENTES\n",
              "37242      2021-09-30  ...                    1\n",
              "37243      2021-09-30  ...                    1\n",
              "\n",
              "[2 rows x 11 columns]"
            ]
          },
          "metadata": {},
          "execution_count": 5
        }
      ]
    },
    {
      "cell_type": "markdown",
      "metadata": {
        "id": "q54AauILmH1O"
      },
      "source": [
        "# Setting the format: https://www.w3schools.com/python/python_datetime.asp"
      ]
    },
    {
      "cell_type": "code",
      "metadata": {
        "colab": {
          "base_uri": "https://localhost:8080/"
        },
        "id": "CB0qVT6UjuS0",
        "outputId": "782652cd-1735-4224-db06-a0385b051e5a"
      },
      "source": [
        "df_acc['FECHA_ACCIDENTE'].dt.second"
      ],
      "execution_count": null,
      "outputs": [
        {
          "output_type": "execute_result",
          "data": {
            "text/plain": [
              "0        0\n",
              "1        0\n",
              "2        0\n",
              "3        0\n",
              "4        0\n",
              "        ..\n",
              "37239    0\n",
              "37240    0\n",
              "37241    0\n",
              "37242    0\n",
              "37243    0\n",
              "Name: FECHA_ACCIDENTE, Length: 37244, dtype: int64"
            ]
          },
          "metadata": {},
          "execution_count": 6
        }
      ]
    },
    {
      "cell_type": "code",
      "metadata": {
        "id": "BlaNFMQflTZa"
      },
      "source": [
        "df_acc['HORA_ACCIDENTE'] = pd.to_datetime(df_acc['HORA_ACCIDENTE'], format='%I:%M:%S:%p');"
      ],
      "execution_count": null,
      "outputs": []
    },
    {
      "cell_type": "code",
      "metadata": {
        "colab": {
          "base_uri": "https://localhost:8080/",
          "height": 230
        },
        "id": "lTTo2ZrPnFEz",
        "outputId": "f1efd1d0-65ef-4cba-f62c-95f39812c030"
      },
      "source": [
        "df_acc.head(3)"
      ],
      "execution_count": null,
      "outputs": [
        {
          "output_type": "execute_result",
          "data": {
            "text/html": [
              "<div>\n",
              "<style scoped>\n",
              "    .dataframe tbody tr th:only-of-type {\n",
              "        vertical-align: middle;\n",
              "    }\n",
              "\n",
              "    .dataframe tbody tr th {\n",
              "        vertical-align: top;\n",
              "    }\n",
              "\n",
              "    .dataframe thead th {\n",
              "        text-align: right;\n",
              "    }\n",
              "</style>\n",
              "<table border=\"1\" class=\"dataframe\">\n",
              "  <thead>\n",
              "    <tr style=\"text-align: right;\">\n",
              "      <th></th>\n",
              "      <th>FECHA_ACCIDENTE</th>\n",
              "      <th>AÑO_ACCIDENTE</th>\n",
              "      <th>MES_ACCIDENTE</th>\n",
              "      <th>DIA_ACCIDENTE</th>\n",
              "      <th>HORA_ACCIDENTE</th>\n",
              "      <th>GRAVEDAD_ACCIDENTE</th>\n",
              "      <th>CLASE_ACCIDENTE</th>\n",
              "      <th>SITIO_EXACTO_ACCIDENTE</th>\n",
              "      <th>CANT_HERIDOS_EN _SITIO_ACCIDENTE</th>\n",
              "      <th>CANT_MUERTOS_EN _SITIO_ACCIDENTE</th>\n",
              "      <th>CANTIDAD_ACCIDENTES</th>\n",
              "    </tr>\n",
              "  </thead>\n",
              "  <tbody>\n",
              "    <tr>\n",
              "      <th>0</th>\n",
              "      <td>2015-01-01</td>\n",
              "      <td>2015</td>\n",
              "      <td>1</td>\n",
              "      <td>Jue</td>\n",
              "      <td>1900-01-01 14:10:00</td>\n",
              "      <td>Con heridos</td>\n",
              "      <td>Choque</td>\n",
              "      <td>VIA 40 CON 77</td>\n",
              "      <td>1.0</td>\n",
              "      <td>NaN</td>\n",
              "      <td>1</td>\n",
              "    </tr>\n",
              "    <tr>\n",
              "      <th>1</th>\n",
              "      <td>2015-01-01</td>\n",
              "      <td>2015</td>\n",
              "      <td>1</td>\n",
              "      <td>Jue</td>\n",
              "      <td>1900-01-01 14:15:00</td>\n",
              "      <td>Solo daños</td>\n",
              "      <td>Choque</td>\n",
              "      <td>CALLE 14 CR 13</td>\n",
              "      <td>NaN</td>\n",
              "      <td>NaN</td>\n",
              "      <td>1</td>\n",
              "    </tr>\n",
              "    <tr>\n",
              "      <th>2</th>\n",
              "      <td>2015-01-01</td>\n",
              "      <td>2015</td>\n",
              "      <td>1</td>\n",
              "      <td>Jue</td>\n",
              "      <td>1900-01-01 14:20:00</td>\n",
              "      <td>Solo daños</td>\n",
              "      <td>Choque</td>\n",
              "      <td>CL 74 CR 38C</td>\n",
              "      <td>NaN</td>\n",
              "      <td>NaN</td>\n",
              "      <td>1</td>\n",
              "    </tr>\n",
              "  </tbody>\n",
              "</table>\n",
              "</div>"
            ],
            "text/plain": [
              "  FECHA_ACCIDENTE  ...  CANTIDAD_ACCIDENTES\n",
              "0      2015-01-01  ...                    1\n",
              "1      2015-01-01  ...                    1\n",
              "2      2015-01-01  ...                    1\n",
              "\n",
              "[3 rows x 11 columns]"
            ]
          },
          "metadata": {},
          "execution_count": 8
        }
      ]
    },
    {
      "cell_type": "markdown",
      "metadata": {
        "id": "A4HXhtWpnfmo"
      },
      "source": [
        "# `timedelta`"
      ]
    },
    {
      "cell_type": "code",
      "metadata": {
        "id": "Zp4qEyOcnmOU"
      },
      "source": [
        "fecha = df_acc['FECHA_ACCIDENTE'];\n",
        "hora = df_acc['HORA_ACCIDENTE'];"
      ],
      "execution_count": null,
      "outputs": []
    },
    {
      "cell_type": "code",
      "metadata": {
        "id": "PVEkqjt3ntuZ"
      },
      "source": [
        "fecha_total = fecha + pd.to_timedelta(hora.dt.hour, unit='hr') + pd.to_timedelta(hora.dt.minute, unit='min')"
      ],
      "execution_count": null,
      "outputs": []
    },
    {
      "cell_type": "code",
      "metadata": {
        "colab": {
          "base_uri": "https://localhost:8080/"
        },
        "id": "uPNiWULhoJ_o",
        "outputId": "4bf6b6d8-f608-4649-c76e-f5fb77b98902"
      },
      "source": [
        "fecha_total"
      ],
      "execution_count": null,
      "outputs": [
        {
          "output_type": "execute_result",
          "data": {
            "text/plain": [
              "0       2015-01-01 14:10:00\n",
              "1       2015-01-01 14:15:00\n",
              "2       2015-01-01 14:20:00\n",
              "3       2015-01-01 15:30:00\n",
              "4       2015-01-01 04:20:00\n",
              "                ...        \n",
              "37239   2021-09-30 18:20:00\n",
              "37240   2021-09-30 08:10:00\n",
              "37241   2021-09-30 20:15:00\n",
              "37242   2021-09-30 09:30:00\n",
              "37243   2021-09-30 12:10:00\n",
              "Length: 37244, dtype: datetime64[ns]"
            ]
          },
          "metadata": {},
          "execution_count": 11
        }
      ]
    },
    {
      "cell_type": "markdown",
      "metadata": {
        "id": "UaraZprpoRHw"
      },
      "source": [
        "# Agregamos una nueva columna a nuestro dataframe `df_acc`"
      ]
    },
    {
      "cell_type": "code",
      "metadata": {
        "id": "2w7zI0Z6oVcm"
      },
      "source": [
        "df_acc['fecha'] = fecha_total;"
      ],
      "execution_count": null,
      "outputs": []
    },
    {
      "cell_type": "code",
      "metadata": {
        "colab": {
          "base_uri": "https://localhost:8080/",
          "height": 282
        },
        "id": "g9a5Yd1ToZfl",
        "outputId": "a004756a-224c-4cc4-bcf3-70d8d0b3eb16"
      },
      "source": [
        "df_acc.head(3)"
      ],
      "execution_count": null,
      "outputs": [
        {
          "output_type": "execute_result",
          "data": {
            "text/html": [
              "<div>\n",
              "<style scoped>\n",
              "    .dataframe tbody tr th:only-of-type {\n",
              "        vertical-align: middle;\n",
              "    }\n",
              "\n",
              "    .dataframe tbody tr th {\n",
              "        vertical-align: top;\n",
              "    }\n",
              "\n",
              "    .dataframe thead th {\n",
              "        text-align: right;\n",
              "    }\n",
              "</style>\n",
              "<table border=\"1\" class=\"dataframe\">\n",
              "  <thead>\n",
              "    <tr style=\"text-align: right;\">\n",
              "      <th></th>\n",
              "      <th>FECHA_ACCIDENTE</th>\n",
              "      <th>AÑO_ACCIDENTE</th>\n",
              "      <th>MES_ACCIDENTE</th>\n",
              "      <th>DIA_ACCIDENTE</th>\n",
              "      <th>HORA_ACCIDENTE</th>\n",
              "      <th>GRAVEDAD_ACCIDENTE</th>\n",
              "      <th>CLASE_ACCIDENTE</th>\n",
              "      <th>SITIO_EXACTO_ACCIDENTE</th>\n",
              "      <th>CANT_HERIDOS_EN _SITIO_ACCIDENTE</th>\n",
              "      <th>CANT_MUERTOS_EN _SITIO_ACCIDENTE</th>\n",
              "      <th>CANTIDAD_ACCIDENTES</th>\n",
              "      <th>fecha</th>\n",
              "    </tr>\n",
              "  </thead>\n",
              "  <tbody>\n",
              "    <tr>\n",
              "      <th>0</th>\n",
              "      <td>2015-01-01</td>\n",
              "      <td>2015</td>\n",
              "      <td>1</td>\n",
              "      <td>Jue</td>\n",
              "      <td>1900-01-01 14:10:00</td>\n",
              "      <td>Con heridos</td>\n",
              "      <td>Choque</td>\n",
              "      <td>VIA 40 CON 77</td>\n",
              "      <td>1.0</td>\n",
              "      <td>NaN</td>\n",
              "      <td>1</td>\n",
              "      <td>2015-01-01 14:10:00</td>\n",
              "    </tr>\n",
              "    <tr>\n",
              "      <th>1</th>\n",
              "      <td>2015-01-01</td>\n",
              "      <td>2015</td>\n",
              "      <td>1</td>\n",
              "      <td>Jue</td>\n",
              "      <td>1900-01-01 14:15:00</td>\n",
              "      <td>Solo daños</td>\n",
              "      <td>Choque</td>\n",
              "      <td>CALLE 14 CR 13</td>\n",
              "      <td>NaN</td>\n",
              "      <td>NaN</td>\n",
              "      <td>1</td>\n",
              "      <td>2015-01-01 14:15:00</td>\n",
              "    </tr>\n",
              "    <tr>\n",
              "      <th>2</th>\n",
              "      <td>2015-01-01</td>\n",
              "      <td>2015</td>\n",
              "      <td>1</td>\n",
              "      <td>Jue</td>\n",
              "      <td>1900-01-01 14:20:00</td>\n",
              "      <td>Solo daños</td>\n",
              "      <td>Choque</td>\n",
              "      <td>CL 74 CR 38C</td>\n",
              "      <td>NaN</td>\n",
              "      <td>NaN</td>\n",
              "      <td>1</td>\n",
              "      <td>2015-01-01 14:20:00</td>\n",
              "    </tr>\n",
              "  </tbody>\n",
              "</table>\n",
              "</div>"
            ],
            "text/plain": [
              "  FECHA_ACCIDENTE  AÑO_ACCIDENTE  ...  CANTIDAD_ACCIDENTES               fecha\n",
              "0      2015-01-01           2015  ...                    1 2015-01-01 14:10:00\n",
              "1      2015-01-01           2015  ...                    1 2015-01-01 14:15:00\n",
              "2      2015-01-01           2015  ...                    1 2015-01-01 14:20:00\n",
              "\n",
              "[3 rows x 12 columns]"
            ]
          },
          "metadata": {},
          "execution_count": 13
        }
      ]
    },
    {
      "cell_type": "markdown",
      "metadata": {
        "id": "LpYG75LMojug"
      },
      "source": [
        "# drop column from a dataframe"
      ]
    },
    {
      "cell_type": "markdown",
      "metadata": {
        "id": "sAJ4VL44pKZ5"
      },
      "source": [
        "Pregunta de David"
      ]
    },
    {
      "cell_type": "code",
      "metadata": {
        "id": "penByhM8omth"
      },
      "source": [
        "df_acc_copy = df_acc.drop(columns=['FECHA_ACCIDENTE','AÑO_ACCIDENTE','MES_ACCIDENTE','DIA_ACCIDENTE','HORA_ACCIDENTE'])"
      ],
      "execution_count": null,
      "outputs": []
    },
    {
      "cell_type": "code",
      "metadata": {
        "colab": {
          "base_uri": "https://localhost:8080/",
          "height": 282
        },
        "id": "PYSCRzZBpAwm",
        "outputId": "10da5240-ae2a-465b-9837-ec788184a49f"
      },
      "source": [
        "df_acc_copy.head(3)"
      ],
      "execution_count": null,
      "outputs": [
        {
          "output_type": "execute_result",
          "data": {
            "text/html": [
              "<div>\n",
              "<style scoped>\n",
              "    .dataframe tbody tr th:only-of-type {\n",
              "        vertical-align: middle;\n",
              "    }\n",
              "\n",
              "    .dataframe tbody tr th {\n",
              "        vertical-align: top;\n",
              "    }\n",
              "\n",
              "    .dataframe thead th {\n",
              "        text-align: right;\n",
              "    }\n",
              "</style>\n",
              "<table border=\"1\" class=\"dataframe\">\n",
              "  <thead>\n",
              "    <tr style=\"text-align: right;\">\n",
              "      <th></th>\n",
              "      <th>GRAVEDAD_ACCIDENTE</th>\n",
              "      <th>CLASE_ACCIDENTE</th>\n",
              "      <th>SITIO_EXACTO_ACCIDENTE</th>\n",
              "      <th>CANT_HERIDOS_EN _SITIO_ACCIDENTE</th>\n",
              "      <th>CANT_MUERTOS_EN _SITIO_ACCIDENTE</th>\n",
              "      <th>CANTIDAD_ACCIDENTES</th>\n",
              "      <th>fecha</th>\n",
              "    </tr>\n",
              "  </thead>\n",
              "  <tbody>\n",
              "    <tr>\n",
              "      <th>0</th>\n",
              "      <td>Con heridos</td>\n",
              "      <td>Choque</td>\n",
              "      <td>VIA 40 CON 77</td>\n",
              "      <td>1.0</td>\n",
              "      <td>NaN</td>\n",
              "      <td>1</td>\n",
              "      <td>2015-01-01 14:10:00</td>\n",
              "    </tr>\n",
              "    <tr>\n",
              "      <th>1</th>\n",
              "      <td>Solo daños</td>\n",
              "      <td>Choque</td>\n",
              "      <td>CALLE 14 CR 13</td>\n",
              "      <td>NaN</td>\n",
              "      <td>NaN</td>\n",
              "      <td>1</td>\n",
              "      <td>2015-01-01 14:15:00</td>\n",
              "    </tr>\n",
              "    <tr>\n",
              "      <th>2</th>\n",
              "      <td>Solo daños</td>\n",
              "      <td>Choque</td>\n",
              "      <td>CL 74 CR 38C</td>\n",
              "      <td>NaN</td>\n",
              "      <td>NaN</td>\n",
              "      <td>1</td>\n",
              "      <td>2015-01-01 14:20:00</td>\n",
              "    </tr>\n",
              "  </tbody>\n",
              "</table>\n",
              "</div>"
            ],
            "text/plain": [
              "  GRAVEDAD_ACCIDENTE CLASE_ACCIDENTE  ... CANTIDAD_ACCIDENTES               fecha\n",
              "0        Con heridos          Choque  ...                   1 2015-01-01 14:10:00\n",
              "1         Solo daños          Choque  ...                   1 2015-01-01 14:15:00\n",
              "2         Solo daños          Choque  ...                   1 2015-01-01 14:20:00\n",
              "\n",
              "[3 rows x 7 columns]"
            ]
          },
          "metadata": {},
          "execution_count": 15
        }
      ]
    },
    {
      "cell_type": "code",
      "metadata": {
        "colab": {
          "base_uri": "https://localhost:8080/",
          "height": 282
        },
        "id": "S4w2f3P2pFQE",
        "outputId": "a1611418-4867-49b9-ba8a-24f550126724"
      },
      "source": [
        "df_acc.head(3)"
      ],
      "execution_count": null,
      "outputs": [
        {
          "output_type": "execute_result",
          "data": {
            "text/html": [
              "<div>\n",
              "<style scoped>\n",
              "    .dataframe tbody tr th:only-of-type {\n",
              "        vertical-align: middle;\n",
              "    }\n",
              "\n",
              "    .dataframe tbody tr th {\n",
              "        vertical-align: top;\n",
              "    }\n",
              "\n",
              "    .dataframe thead th {\n",
              "        text-align: right;\n",
              "    }\n",
              "</style>\n",
              "<table border=\"1\" class=\"dataframe\">\n",
              "  <thead>\n",
              "    <tr style=\"text-align: right;\">\n",
              "      <th></th>\n",
              "      <th>FECHA_ACCIDENTE</th>\n",
              "      <th>AÑO_ACCIDENTE</th>\n",
              "      <th>MES_ACCIDENTE</th>\n",
              "      <th>DIA_ACCIDENTE</th>\n",
              "      <th>HORA_ACCIDENTE</th>\n",
              "      <th>GRAVEDAD_ACCIDENTE</th>\n",
              "      <th>CLASE_ACCIDENTE</th>\n",
              "      <th>SITIO_EXACTO_ACCIDENTE</th>\n",
              "      <th>CANT_HERIDOS_EN _SITIO_ACCIDENTE</th>\n",
              "      <th>CANT_MUERTOS_EN _SITIO_ACCIDENTE</th>\n",
              "      <th>CANTIDAD_ACCIDENTES</th>\n",
              "      <th>fecha</th>\n",
              "    </tr>\n",
              "  </thead>\n",
              "  <tbody>\n",
              "    <tr>\n",
              "      <th>0</th>\n",
              "      <td>2015-01-01</td>\n",
              "      <td>2015</td>\n",
              "      <td>1</td>\n",
              "      <td>Jue</td>\n",
              "      <td>1900-01-01 14:10:00</td>\n",
              "      <td>Con heridos</td>\n",
              "      <td>Choque</td>\n",
              "      <td>VIA 40 CON 77</td>\n",
              "      <td>1.0</td>\n",
              "      <td>NaN</td>\n",
              "      <td>1</td>\n",
              "      <td>2015-01-01 14:10:00</td>\n",
              "    </tr>\n",
              "    <tr>\n",
              "      <th>1</th>\n",
              "      <td>2015-01-01</td>\n",
              "      <td>2015</td>\n",
              "      <td>1</td>\n",
              "      <td>Jue</td>\n",
              "      <td>1900-01-01 14:15:00</td>\n",
              "      <td>Solo daños</td>\n",
              "      <td>Choque</td>\n",
              "      <td>CALLE 14 CR 13</td>\n",
              "      <td>NaN</td>\n",
              "      <td>NaN</td>\n",
              "      <td>1</td>\n",
              "      <td>2015-01-01 14:15:00</td>\n",
              "    </tr>\n",
              "    <tr>\n",
              "      <th>2</th>\n",
              "      <td>2015-01-01</td>\n",
              "      <td>2015</td>\n",
              "      <td>1</td>\n",
              "      <td>Jue</td>\n",
              "      <td>1900-01-01 14:20:00</td>\n",
              "      <td>Solo daños</td>\n",
              "      <td>Choque</td>\n",
              "      <td>CL 74 CR 38C</td>\n",
              "      <td>NaN</td>\n",
              "      <td>NaN</td>\n",
              "      <td>1</td>\n",
              "      <td>2015-01-01 14:20:00</td>\n",
              "    </tr>\n",
              "  </tbody>\n",
              "</table>\n",
              "</div>"
            ],
            "text/plain": [
              "  FECHA_ACCIDENTE  AÑO_ACCIDENTE  ...  CANTIDAD_ACCIDENTES               fecha\n",
              "0      2015-01-01           2015  ...                    1 2015-01-01 14:10:00\n",
              "1      2015-01-01           2015  ...                    1 2015-01-01 14:15:00\n",
              "2      2015-01-01           2015  ...                    1 2015-01-01 14:20:00\n",
              "\n",
              "[3 rows x 12 columns]"
            ]
          },
          "metadata": {},
          "execution_count": 16
        }
      ]
    },
    {
      "cell_type": "code",
      "metadata": {
        "colab": {
          "base_uri": "https://localhost:8080/",
          "height": 282
        },
        "id": "ywGJ0CW1l87r",
        "outputId": "318ccc9a-7238-4acd-c708-ccf1a27a812f"
      },
      "source": [
        "df_acc.tail(3)"
      ],
      "execution_count": null,
      "outputs": [
        {
          "output_type": "execute_result",
          "data": {
            "text/html": [
              "<div>\n",
              "<style scoped>\n",
              "    .dataframe tbody tr th:only-of-type {\n",
              "        vertical-align: middle;\n",
              "    }\n",
              "\n",
              "    .dataframe tbody tr th {\n",
              "        vertical-align: top;\n",
              "    }\n",
              "\n",
              "    .dataframe thead th {\n",
              "        text-align: right;\n",
              "    }\n",
              "</style>\n",
              "<table border=\"1\" class=\"dataframe\">\n",
              "  <thead>\n",
              "    <tr style=\"text-align: right;\">\n",
              "      <th></th>\n",
              "      <th>FECHA_ACCIDENTE</th>\n",
              "      <th>AÑO_ACCIDENTE</th>\n",
              "      <th>MES_ACCIDENTE</th>\n",
              "      <th>DIA_ACCIDENTE</th>\n",
              "      <th>HORA_ACCIDENTE</th>\n",
              "      <th>GRAVEDAD_ACCIDENTE</th>\n",
              "      <th>CLASE_ACCIDENTE</th>\n",
              "      <th>SITIO_EXACTO_ACCIDENTE</th>\n",
              "      <th>CANT_HERIDOS_EN _SITIO_ACCIDENTE</th>\n",
              "      <th>CANT_MUERTOS_EN _SITIO_ACCIDENTE</th>\n",
              "      <th>CANTIDAD_ACCIDENTES</th>\n",
              "      <th>fecha</th>\n",
              "    </tr>\n",
              "  </thead>\n",
              "  <tbody>\n",
              "    <tr>\n",
              "      <th>37241</th>\n",
              "      <td>2021-09-30</td>\n",
              "      <td>2021</td>\n",
              "      <td>9</td>\n",
              "      <td>Jue</td>\n",
              "      <td>1900-01-01 20:15:00</td>\n",
              "      <td>Con heridos</td>\n",
              "      <td>Choque</td>\n",
              "      <td>CR 20 24 114</td>\n",
              "      <td>1.0</td>\n",
              "      <td>NaN</td>\n",
              "      <td>1</td>\n",
              "      <td>2021-09-30 20:15:00</td>\n",
              "    </tr>\n",
              "    <tr>\n",
              "      <th>37242</th>\n",
              "      <td>2021-09-30</td>\n",
              "      <td>2021</td>\n",
              "      <td>9</td>\n",
              "      <td>Jue</td>\n",
              "      <td>1900-01-01 09:30:00</td>\n",
              "      <td>Solo daños</td>\n",
              "      <td>Choque</td>\n",
              "      <td>CR 25B 74B 94</td>\n",
              "      <td>NaN</td>\n",
              "      <td>NaN</td>\n",
              "      <td>1</td>\n",
              "      <td>2021-09-30 09:30:00</td>\n",
              "    </tr>\n",
              "    <tr>\n",
              "      <th>37243</th>\n",
              "      <td>2021-09-30</td>\n",
              "      <td>2021</td>\n",
              "      <td>9</td>\n",
              "      <td>Jue</td>\n",
              "      <td>1900-01-01 12:10:00</td>\n",
              "      <td>Solo daños</td>\n",
              "      <td>Choque</td>\n",
              "      <td>CR 43 CL 55</td>\n",
              "      <td>NaN</td>\n",
              "      <td>NaN</td>\n",
              "      <td>1</td>\n",
              "      <td>2021-09-30 12:10:00</td>\n",
              "    </tr>\n",
              "  </tbody>\n",
              "</table>\n",
              "</div>"
            ],
            "text/plain": [
              "      FECHA_ACCIDENTE  AÑO_ACCIDENTE  ...  CANTIDAD_ACCIDENTES               fecha\n",
              "37241      2021-09-30           2021  ...                    1 2021-09-30 20:15:00\n",
              "37242      2021-09-30           2021  ...                    1 2021-09-30 09:30:00\n",
              "37243      2021-09-30           2021  ...                    1 2021-09-30 12:10:00\n",
              "\n",
              "[3 rows x 12 columns]"
            ]
          },
          "metadata": {},
          "execution_count": 17
        }
      ]
    },
    {
      "cell_type": "markdown",
      "metadata": {
        "id": "R8aTMAh1pYC5"
      },
      "source": [
        "## Manera correcta empleando `inplace=True`"
      ]
    },
    {
      "cell_type": "code",
      "metadata": {
        "id": "_4Ld63v-pOZh"
      },
      "source": [
        "df_acc.drop(columns=['FECHA_ACCIDENTE','AÑO_ACCIDENTE','MES_ACCIDENTE','DIA_ACCIDENTE','HORA_ACCIDENTE'], inplace=True)"
      ],
      "execution_count": null,
      "outputs": []
    },
    {
      "cell_type": "code",
      "metadata": {
        "colab": {
          "base_uri": "https://localhost:8080/"
        },
        "id": "j_RSzybgpUtu",
        "outputId": "0cfcf014-0d66-4a42-c0bb-bdf4aaa01da9"
      },
      "source": [
        "df_acc.head(3)"
      ],
      "execution_count": null,
      "outputs": [
        {
          "output_type": "execute_result",
          "data": {
            "text/html": [
              "<div>\n",
              "<style scoped>\n",
              "    .dataframe tbody tr th:only-of-type {\n",
              "        vertical-align: middle;\n",
              "    }\n",
              "\n",
              "    .dataframe tbody tr th {\n",
              "        vertical-align: top;\n",
              "    }\n",
              "\n",
              "    .dataframe thead th {\n",
              "        text-align: right;\n",
              "    }\n",
              "</style>\n",
              "<table border=\"1\" class=\"dataframe\">\n",
              "  <thead>\n",
              "    <tr style=\"text-align: right;\">\n",
              "      <th></th>\n",
              "      <th>GRAVEDAD_ACCIDENTE</th>\n",
              "      <th>CLASE_ACCIDENTE</th>\n",
              "      <th>SITIO_EXACTO_ACCIDENTE</th>\n",
              "      <th>CANT_HERIDOS_EN _SITIO_ACCIDENTE</th>\n",
              "      <th>CANT_MUERTOS_EN _SITIO_ACCIDENTE</th>\n",
              "      <th>CANTIDAD_ACCIDENTES</th>\n",
              "      <th>fecha</th>\n",
              "    </tr>\n",
              "  </thead>\n",
              "  <tbody>\n",
              "    <tr>\n",
              "      <th>0</th>\n",
              "      <td>Con heridos</td>\n",
              "      <td>Choque</td>\n",
              "      <td>VIA 40 CON 77</td>\n",
              "      <td>1.0</td>\n",
              "      <td>NaN</td>\n",
              "      <td>1</td>\n",
              "      <td>2015-01-01 14:10:00</td>\n",
              "    </tr>\n",
              "    <tr>\n",
              "      <th>1</th>\n",
              "      <td>Solo daños</td>\n",
              "      <td>Choque</td>\n",
              "      <td>CALLE 14 CR 13</td>\n",
              "      <td>NaN</td>\n",
              "      <td>NaN</td>\n",
              "      <td>1</td>\n",
              "      <td>2015-01-01 14:15:00</td>\n",
              "    </tr>\n",
              "    <tr>\n",
              "      <th>2</th>\n",
              "      <td>Solo daños</td>\n",
              "      <td>Choque</td>\n",
              "      <td>CL 74 CR 38C</td>\n",
              "      <td>NaN</td>\n",
              "      <td>NaN</td>\n",
              "      <td>1</td>\n",
              "      <td>2015-01-01 14:20:00</td>\n",
              "    </tr>\n",
              "  </tbody>\n",
              "</table>\n",
              "</div>"
            ],
            "text/plain": [
              "  GRAVEDAD_ACCIDENTE CLASE_ACCIDENTE  ... CANTIDAD_ACCIDENTES               fecha\n",
              "0        Con heridos          Choque  ...                   1 2015-01-01 14:10:00\n",
              "1         Solo daños          Choque  ...                   1 2015-01-01 14:15:00\n",
              "2         Solo daños          Choque  ...                   1 2015-01-01 14:20:00\n",
              "\n",
              "[3 rows x 7 columns]"
            ]
          },
          "metadata": {},
          "execution_count": 19
        }
      ]
    },
    {
      "cell_type": "code",
      "metadata": {
        "id": "XDxKiFr6pdnV"
      },
      "source": [
        "df_acc.columns = ['gravedad','clase','sitio','heridos','muertes','cantidad','fecha'];"
      ],
      "execution_count": null,
      "outputs": []
    },
    {
      "cell_type": "code",
      "metadata": {
        "id": "maxjn_ECpsuV",
        "colab": {
          "base_uri": "https://localhost:8080/"
        },
        "outputId": "e6a17425-8c85-47a4-d997-aea4f3519f80"
      },
      "source": [
        "df_acc.head(3)"
      ],
      "execution_count": null,
      "outputs": [
        {
          "output_type": "execute_result",
          "data": {
            "text/html": [
              "<div>\n",
              "<style scoped>\n",
              "    .dataframe tbody tr th:only-of-type {\n",
              "        vertical-align: middle;\n",
              "    }\n",
              "\n",
              "    .dataframe tbody tr th {\n",
              "        vertical-align: top;\n",
              "    }\n",
              "\n",
              "    .dataframe thead th {\n",
              "        text-align: right;\n",
              "    }\n",
              "</style>\n",
              "<table border=\"1\" class=\"dataframe\">\n",
              "  <thead>\n",
              "    <tr style=\"text-align: right;\">\n",
              "      <th></th>\n",
              "      <th>gravedad</th>\n",
              "      <th>clase</th>\n",
              "      <th>sitio</th>\n",
              "      <th>heridos</th>\n",
              "      <th>muertes</th>\n",
              "      <th>cantidad</th>\n",
              "      <th>fecha</th>\n",
              "    </tr>\n",
              "  </thead>\n",
              "  <tbody>\n",
              "    <tr>\n",
              "      <th>0</th>\n",
              "      <td>Con heridos</td>\n",
              "      <td>Choque</td>\n",
              "      <td>VIA 40 CON 77</td>\n",
              "      <td>1.0</td>\n",
              "      <td>NaN</td>\n",
              "      <td>1</td>\n",
              "      <td>2015-01-01 14:10:00</td>\n",
              "    </tr>\n",
              "    <tr>\n",
              "      <th>1</th>\n",
              "      <td>Solo daños</td>\n",
              "      <td>Choque</td>\n",
              "      <td>CALLE 14 CR 13</td>\n",
              "      <td>NaN</td>\n",
              "      <td>NaN</td>\n",
              "      <td>1</td>\n",
              "      <td>2015-01-01 14:15:00</td>\n",
              "    </tr>\n",
              "    <tr>\n",
              "      <th>2</th>\n",
              "      <td>Solo daños</td>\n",
              "      <td>Choque</td>\n",
              "      <td>CL 74 CR 38C</td>\n",
              "      <td>NaN</td>\n",
              "      <td>NaN</td>\n",
              "      <td>1</td>\n",
              "      <td>2015-01-01 14:20:00</td>\n",
              "    </tr>\n",
              "  </tbody>\n",
              "</table>\n",
              "</div>"
            ],
            "text/plain": [
              "      gravedad   clase           sitio  ...  muertes  cantidad               fecha\n",
              "0  Con heridos  Choque   VIA 40 CON 77  ...      NaN         1 2015-01-01 14:10:00\n",
              "1   Solo daños  Choque  CALLE 14 CR 13  ...      NaN         1 2015-01-01 14:15:00\n",
              "2   Solo daños  Choque    CL 74 CR 38C  ...      NaN         1 2015-01-01 14:20:00\n",
              "\n",
              "[3 rows x 7 columns]"
            ]
          },
          "metadata": {},
          "execution_count": 21
        }
      ]
    },
    {
      "cell_type": "code",
      "metadata": {
        "colab": {
          "base_uri": "https://localhost:8080/"
        },
        "id": "t2AxGg6QnXyL",
        "outputId": "7d2a80b4-1ee3-4a01-a592-77a7919069d7"
      },
      "source": [
        "df_acc.columns"
      ],
      "execution_count": null,
      "outputs": [
        {
          "output_type": "execute_result",
          "data": {
            "text/plain": [
              "Index(['gravedad', 'clase', 'sitio', 'heridos', 'muertes', 'cantidad',\n",
              "       'fecha'],\n",
              "      dtype='object')"
            ]
          },
          "metadata": {},
          "execution_count": 22
        }
      ]
    },
    {
      "cell_type": "code",
      "metadata": {
        "colab": {
          "base_uri": "https://localhost:8080/"
        },
        "id": "F5f8FdMznau2",
        "outputId": "225a18e0-bd05-487a-fc88-8625cdcab273"
      },
      "source": [
        "df_acc.index"
      ],
      "execution_count": null,
      "outputs": [
        {
          "output_type": "execute_result",
          "data": {
            "text/plain": [
              "RangeIndex(start=0, stop=37244, step=1)"
            ]
          },
          "metadata": {},
          "execution_count": 23
        }
      ]
    },
    {
      "cell_type": "code",
      "metadata": {
        "colab": {
          "base_uri": "https://localhost:8080/"
        },
        "id": "FIhXv215lC0u",
        "outputId": "cc9a2b7e-191f-4439-c01e-56c809a61284"
      },
      "source": [
        "df_acc['gravedad'].unique()"
      ],
      "execution_count": null,
      "outputs": [
        {
          "output_type": "execute_result",
          "data": {
            "text/plain": [
              "array(['Con heridos', 'Solo daños', 'Con muertos'], dtype=object)"
            ]
          },
          "metadata": {},
          "execution_count": 24
        }
      ]
    },
    {
      "cell_type": "markdown",
      "metadata": {
        "id": "ONhYs3NtjjjQ"
      },
      "source": [
        "# Funciones de Agregación\n",
        "\n",
        "1. Son empleadas para agregar datos (condensar datos)\n",
        "2. max, min, mean, sum, count"
      ]
    },
    {
      "cell_type": "markdown",
      "metadata": {
        "id": "HSRnr23-ju-E"
      },
      "source": [
        "# **Conjunto de datos**\n",
        "\n",
        "Q = [(A,1), (A,2), (B,1), (B,5), (C,100)] \n",
        "\n",
        "Agregar la información por (LETRA, NUMBER)\n",
        "\n",
        "1. Agregación por LETRA\n",
        "* [(A,1), (A,2)]\n",
        "* [(B,1), (B,5)]\n",
        "* [(C,100)]\n",
        "\n",
        "2.1. La función de agregación max\n",
        "[A->2], [B->5], [C->100]\n",
        "\n",
        "2.2. La función de agregación min\n",
        "[A->1], [B->1], [C->100]\n",
        "\n",
        "2.3. La función de agregación sum\n",
        "[A->3], [B->6], [C->100]\n",
        "\n",
        "2.4. La función de agregación count\n",
        "[A->2], [B->2], [C->1]\n",
        "\n",
        "2.5. La función de agregación mean\n",
        "[A->1.5], [B->3], [C->100]"
      ]
    },
    {
      "cell_type": "markdown",
      "metadata": {
        "id": "DciOwvTqmBY-"
      },
      "source": [
        "# 2021-07-30 11:30:00"
      ]
    },
    {
      "cell_type": "code",
      "metadata": {
        "id": "6uPCkOrvlKAV"
      },
      "source": [
        "select = ['gravedad','cantidad'];\n",
        "grupos = ['gravedad'];\n",
        "df_acc_gravedad = df_acc[select].groupby(by=grupos).count()"
      ],
      "execution_count": null,
      "outputs": []
    },
    {
      "cell_type": "code",
      "metadata": {
        "id": "Jt3a4PuImKj3"
      },
      "source": [
        "df_acc_gravedad.reset_index(inplace=True)"
      ],
      "execution_count": null,
      "outputs": []
    },
    {
      "cell_type": "code",
      "metadata": {
        "colab": {
          "base_uri": "https://localhost:8080/"
        },
        "id": "sC7xrcJZoNcV",
        "outputId": "7b1d07f0-a455-4612-f421-3ef5c8cbc471"
      },
      "source": [
        "df_acc_gravedad"
      ],
      "execution_count": null,
      "outputs": [
        {
          "output_type": "execute_result",
          "data": {
            "text/html": [
              "<div>\n",
              "<style scoped>\n",
              "    .dataframe tbody tr th:only-of-type {\n",
              "        vertical-align: middle;\n",
              "    }\n",
              "\n",
              "    .dataframe tbody tr th {\n",
              "        vertical-align: top;\n",
              "    }\n",
              "\n",
              "    .dataframe thead th {\n",
              "        text-align: right;\n",
              "    }\n",
              "</style>\n",
              "<table border=\"1\" class=\"dataframe\">\n",
              "  <thead>\n",
              "    <tr style=\"text-align: right;\">\n",
              "      <th></th>\n",
              "      <th>gravedad</th>\n",
              "      <th>cantidad</th>\n",
              "    </tr>\n",
              "  </thead>\n",
              "  <tbody>\n",
              "    <tr>\n",
              "      <th>0</th>\n",
              "      <td>Con heridos</td>\n",
              "      <td>7653</td>\n",
              "    </tr>\n",
              "    <tr>\n",
              "      <th>1</th>\n",
              "      <td>Con muertos</td>\n",
              "      <td>240</td>\n",
              "    </tr>\n",
              "    <tr>\n",
              "      <th>2</th>\n",
              "      <td>Solo daños</td>\n",
              "      <td>29351</td>\n",
              "    </tr>\n",
              "  </tbody>\n",
              "</table>\n",
              "</div>"
            ],
            "text/plain": [
              "      gravedad  cantidad\n",
              "0  Con heridos      7653\n",
              "1  Con muertos       240\n",
              "2   Solo daños     29351"
            ]
          },
          "metadata": {},
          "execution_count": 27
        }
      ]
    },
    {
      "cell_type": "code",
      "metadata": {
        "colab": {
          "base_uri": "https://localhost:8080/"
        },
        "id": "oT7WE4_BmVrL",
        "outputId": "45cd6734-a471-4cf9-d068-bfa65ed670c1"
      },
      "source": [
        "df_acc_gravedad.columns"
      ],
      "execution_count": null,
      "outputs": [
        {
          "output_type": "execute_result",
          "data": {
            "text/plain": [
              "Index(['gravedad', 'cantidad'], dtype='object')"
            ]
          },
          "metadata": {},
          "execution_count": 28
        }
      ]
    },
    {
      "cell_type": "code",
      "metadata": {
        "colab": {
          "base_uri": "https://localhost:8080/"
        },
        "id": "m3npBlrhmY6X",
        "outputId": "95e434c2-6b28-4878-9a1b-8915df1bbc6b"
      },
      "source": [
        "df_acc_gravedad.index"
      ],
      "execution_count": null,
      "outputs": [
        {
          "output_type": "execute_result",
          "data": {
            "text/plain": [
              "RangeIndex(start=0, stop=3, step=1)"
            ]
          },
          "metadata": {},
          "execution_count": 29
        }
      ]
    },
    {
      "cell_type": "code",
      "metadata": {
        "id": "uITRneVTpV7V"
      },
      "source": [
        "import seaborn as sns"
      ],
      "execution_count": null,
      "outputs": []
    },
    {
      "cell_type": "markdown",
      "metadata": {
        "id": "hbFTx8xWpYc4"
      },
      "source": [
        "# `barplot`"
      ]
    },
    {
      "cell_type": "code",
      "metadata": {
        "colab": {
          "base_uri": "https://localhost:8080/"
        },
        "id": "QnNy2BWXpXrr",
        "outputId": "f39764e0-31ef-4ea6-bfe4-70aba1feba6d"
      },
      "source": [
        "sns.barplot(data=df_acc_gravedad, x='gravedad', y='cantidad');"
      ],
      "execution_count": null,
      "outputs": [
        {
          "output_type": "display_data",
          "data": {
            "image/png": "[encoded data removed]",
            "text/plain": [
              "<Figure size 432x288 with 1 Axes>"
            ]
          },
          "metadata": {
            "needs_background": "light"
          }
        }
      ]
    },
    {
      "cell_type": "markdown",
      "metadata": {
        "id": "W5e5HnbUp1-f"
      },
      "source": [
        "# Por clase de accidente"
      ]
    },
    {
      "cell_type": "code",
      "metadata": {
        "colab": {
          "base_uri": "https://localhost:8080/"
        },
        "id": "T-4d-4lVp3uv",
        "outputId": "c941ec69-9e1b-47fc-a06c-f1c6eeadfeb2"
      },
      "source": [
        "select = ['clase','cantidad'];\n",
        "grupos = ['clase'];\n",
        "df_acc_clase = df_acc[select].groupby(by=grupos).count()\n",
        "df_acc_clase.reset_index(inplace=True);\n",
        "sns.barplot(data=df_acc_clase, y='clase', x='cantidad');"
      ],
      "execution_count": null,
      "outputs": [
        {
          "output_type": "display_data",
          "data": {
            "image/png": "[encoded data removed]",
            "text/plain": [
              "<Figure size 432x288 with 1 Axes>"
            ]
          },
          "metadata": {
            "needs_background": "light"
          }
        }
      ]
    },
    {
      "cell_type": "markdown",
      "metadata": {
        "id": "w50VQsipqjt3"
      },
      "source": [
        "# **Dos niveles de Agregación**"
      ]
    },
    {
      "cell_type": "code",
      "metadata": {
        "id": "WkXRCk51qmlw"
      },
      "source": [
        "select = ['gravedad','clase','cantidad'];\n",
        "grupos = ['gravedad','clase'];\n",
        "df_acc_gravedad_clase = df_acc[select].groupby(by=grupos).count()\n",
        "#df_acc_gravedad_clase.reset_index(inplace=True);\n"
      ],
      "execution_count": null,
      "outputs": []
    },
    {
      "cell_type": "code",
      "metadata": {
        "colab": {
          "base_uri": "https://localhost:8080/"
        },
        "id": "p0CNNI-Hq0GU",
        "outputId": "d469d564-ad52-43b0-e993-f5a2f7c623d9"
      },
      "source": [
        "df_acc_gravedad_clase"
      ],
      "execution_count": null,
      "outputs": [
        {
          "output_type": "execute_result",
          "data": {
            "text/html": [
              "<div>\n",
              "<style scoped>\n",
              "    .dataframe tbody tr th:only-of-type {\n",
              "        vertical-align: middle;\n",
              "    }\n",
              "\n",
              "    .dataframe tbody tr th {\n",
              "        vertical-align: top;\n",
              "    }\n",
              "\n",
              "    .dataframe thead th {\n",
              "        text-align: right;\n",
              "    }\n",
              "</style>\n",
              "<table border=\"1\" class=\"dataframe\">\n",
              "  <thead>\n",
              "    <tr style=\"text-align: right;\">\n",
              "      <th></th>\n",
              "      <th></th>\n",
              "      <th>cantidad</th>\n",
              "    </tr>\n",
              "    <tr>\n",
              "      <th>gravedad</th>\n",
              "      <th>clase</th>\n",
              "      <th></th>\n",
              "    </tr>\n",
              "  </thead>\n",
              "  <tbody>\n",
              "    <tr>\n",
              "      <th rowspan=\"6\" valign=\"top\">Con heridos</th>\n",
              "      <th>Atropello</th>\n",
              "      <td>1296</td>\n",
              "    </tr>\n",
              "    <tr>\n",
              "      <th>Caida Ocupante</th>\n",
              "      <td>152</td>\n",
              "    </tr>\n",
              "    <tr>\n",
              "      <th>Choque</th>\n",
              "      <td>6060</td>\n",
              "    </tr>\n",
              "    <tr>\n",
              "      <th>Incendio</th>\n",
              "      <td>1</td>\n",
              "    </tr>\n",
              "    <tr>\n",
              "      <th>Otro</th>\n",
              "      <td>88</td>\n",
              "    </tr>\n",
              "    <tr>\n",
              "      <th>Volcamiento</th>\n",
              "      <td>56</td>\n",
              "    </tr>\n",
              "    <tr>\n",
              "      <th rowspan=\"5\" valign=\"top\">Con muertos</th>\n",
              "      <th>Atropello</th>\n",
              "      <td>86</td>\n",
              "    </tr>\n",
              "    <tr>\n",
              "      <th>Caida Ocupante</th>\n",
              "      <td>4</td>\n",
              "    </tr>\n",
              "    <tr>\n",
              "      <th>Choque</th>\n",
              "      <td>142</td>\n",
              "    </tr>\n",
              "    <tr>\n",
              "      <th>Otro</th>\n",
              "      <td>6</td>\n",
              "    </tr>\n",
              "    <tr>\n",
              "      <th>Volcamiento</th>\n",
              "      <td>2</td>\n",
              "    </tr>\n",
              "    <tr>\n",
              "      <th rowspan=\"4\" valign=\"top\">Solo daños</th>\n",
              "      <th>Choque</th>\n",
              "      <td>29135</td>\n",
              "    </tr>\n",
              "    <tr>\n",
              "      <th>Incendio</th>\n",
              "      <td>19</td>\n",
              "    </tr>\n",
              "    <tr>\n",
              "      <th>Otro</th>\n",
              "      <td>127</td>\n",
              "    </tr>\n",
              "    <tr>\n",
              "      <th>Volcamiento</th>\n",
              "      <td>70</td>\n",
              "    </tr>\n",
              "  </tbody>\n",
              "</table>\n",
              "</div>"
            ],
            "text/plain": [
              "                            cantidad\n",
              "gravedad    clase                   \n",
              "Con heridos Atropello           1296\n",
              "            Caida Ocupante       152\n",
              "            Choque              6060\n",
              "            Incendio               1\n",
              "            Otro                  88\n",
              "            Volcamiento           56\n",
              "Con muertos Atropello             86\n",
              "            Caida Ocupante         4\n",
              "            Choque               142\n",
              "            Otro                   6\n",
              "            Volcamiento            2\n",
              "Solo daños  Choque             29135\n",
              "            Incendio              19\n",
              "            Otro                 127\n",
              "            Volcamiento           70"
            ]
          },
          "metadata": {},
          "execution_count": 34
        }
      ]
    },
    {
      "cell_type": "code",
      "metadata": {
        "colab": {
          "base_uri": "https://localhost:8080/"
        },
        "id": "P2SezS1-rPzD",
        "outputId": "44eded3f-3d50-4235-d215-c030984f90f4"
      },
      "source": [
        "df_acc_gravedad_clase.columns"
      ],
      "execution_count": null,
      "outputs": [
        {
          "output_type": "execute_result",
          "data": {
            "text/plain": [
              "Index(['cantidad'], dtype='object')"
            ]
          },
          "metadata": {},
          "execution_count": 35
        }
      ]
    },
    {
      "cell_type": "code",
      "metadata": {
        "colab": {
          "base_uri": "https://localhost:8080/"
        },
        "id": "Zz6ggFHzrTl9",
        "outputId": "f847d1c3-8139-4fb9-ff27-4562d1bb1e32"
      },
      "source": [
        "df_acc_gravedad_clase.index"
      ],
      "execution_count": null,
      "outputs": [
        {
          "output_type": "execute_result",
          "data": {
            "text/plain": [
              "MultiIndex([('Con heridos',      'Atropello'),\n",
              "            ('Con heridos', 'Caida Ocupante'),\n",
              "            ('Con heridos',         'Choque'),\n",
              "            ('Con heridos',       'Incendio'),\n",
              "            ('Con heridos',           'Otro'),\n",
              "            ('Con heridos',    'Volcamiento'),\n",
              "            ('Con muertos',      'Atropello'),\n",
              "            ('Con muertos', 'Caida Ocupante'),\n",
              "            ('Con muertos',         'Choque'),\n",
              "            ('Con muertos',           'Otro'),\n",
              "            ('Con muertos',    'Volcamiento'),\n",
              "            ( 'Solo daños',         'Choque'),\n",
              "            ( 'Solo daños',       'Incendio'),\n",
              "            ( 'Solo daños',           'Otro'),\n",
              "            ( 'Solo daños',    'Volcamiento')],\n",
              "           names=['gravedad', 'clase'])"
            ]
          },
          "metadata": {},
          "execution_count": 36
        }
      ]
    },
    {
      "cell_type": "code",
      "metadata": {
        "id": "GQDpm-nMrft7"
      },
      "source": [
        "df_acc_gravedad_clase.reset_index(inplace=True)"
      ],
      "execution_count": null,
      "outputs": []
    },
    {
      "cell_type": "code",
      "metadata": {
        "colab": {
          "base_uri": "https://localhost:8080/"
        },
        "id": "x4dgSJZ4rj6k",
        "outputId": "16f7ceb4-b280-4807-ac79-7b80d05e5c00"
      },
      "source": [
        "df_acc_gravedad_clase"
      ],
      "execution_count": null,
      "outputs": [
        {
          "output_type": "execute_result",
          "data": {
            "text/html": [
              "<div>\n",
              "<style scoped>\n",
              "    .dataframe tbody tr th:only-of-type {\n",
              "        vertical-align: middle;\n",
              "    }\n",
              "\n",
              "    .dataframe tbody tr th {\n",
              "        vertical-align: top;\n",
              "    }\n",
              "\n",
              "    .dataframe thead th {\n",
              "        text-align: right;\n",
              "    }\n",
              "</style>\n",
              "<table border=\"1\" class=\"dataframe\">\n",
              "  <thead>\n",
              "    <tr style=\"text-align: right;\">\n",
              "      <th></th>\n",
              "      <th>gravedad</th>\n",
              "      <th>clase</th>\n",
              "      <th>cantidad</th>\n",
              "    </tr>\n",
              "  </thead>\n",
              "  <tbody>\n",
              "    <tr>\n",
              "      <th>0</th>\n",
              "      <td>Con heridos</td>\n",
              "      <td>Atropello</td>\n",
              "      <td>1296</td>\n",
              "    </tr>\n",
              "    <tr>\n",
              "      <th>1</th>\n",
              "      <td>Con heridos</td>\n",
              "      <td>Caida Ocupante</td>\n",
              "      <td>152</td>\n",
              "    </tr>\n",
              "    <tr>\n",
              "      <th>2</th>\n",
              "      <td>Con heridos</td>\n",
              "      <td>Choque</td>\n",
              "      <td>6060</td>\n",
              "    </tr>\n",
              "    <tr>\n",
              "      <th>3</th>\n",
              "      <td>Con heridos</td>\n",
              "      <td>Incendio</td>\n",
              "      <td>1</td>\n",
              "    </tr>\n",
              "    <tr>\n",
              "      <th>4</th>\n",
              "      <td>Con heridos</td>\n",
              "      <td>Otro</td>\n",
              "      <td>88</td>\n",
              "    </tr>\n",
              "    <tr>\n",
              "      <th>5</th>\n",
              "      <td>Con heridos</td>\n",
              "      <td>Volcamiento</td>\n",
              "      <td>56</td>\n",
              "    </tr>\n",
              "    <tr>\n",
              "      <th>6</th>\n",
              "      <td>Con muertos</td>\n",
              "      <td>Atropello</td>\n",
              "      <td>86</td>\n",
              "    </tr>\n",
              "    <tr>\n",
              "      <th>7</th>\n",
              "      <td>Con muertos</td>\n",
              "      <td>Caida Ocupante</td>\n",
              "      <td>4</td>\n",
              "    </tr>\n",
              "    <tr>\n",
              "      <th>8</th>\n",
              "      <td>Con muertos</td>\n",
              "      <td>Choque</td>\n",
              "      <td>142</td>\n",
              "    </tr>\n",
              "    <tr>\n",
              "      <th>9</th>\n",
              "      <td>Con muertos</td>\n",
              "      <td>Otro</td>\n",
              "      <td>6</td>\n",
              "    </tr>\n",
              "    <tr>\n",
              "      <th>10</th>\n",
              "      <td>Con muertos</td>\n",
              "      <td>Volcamiento</td>\n",
              "      <td>2</td>\n",
              "    </tr>\n",
              "    <tr>\n",
              "      <th>11</th>\n",
              "      <td>Solo daños</td>\n",
              "      <td>Choque</td>\n",
              "      <td>29135</td>\n",
              "    </tr>\n",
              "    <tr>\n",
              "      <th>12</th>\n",
              "      <td>Solo daños</td>\n",
              "      <td>Incendio</td>\n",
              "      <td>19</td>\n",
              "    </tr>\n",
              "    <tr>\n",
              "      <th>13</th>\n",
              "      <td>Solo daños</td>\n",
              "      <td>Otro</td>\n",
              "      <td>127</td>\n",
              "    </tr>\n",
              "    <tr>\n",
              "      <th>14</th>\n",
              "      <td>Solo daños</td>\n",
              "      <td>Volcamiento</td>\n",
              "      <td>70</td>\n",
              "    </tr>\n",
              "  </tbody>\n",
              "</table>\n",
              "</div>"
            ],
            "text/plain": [
              "       gravedad           clase  cantidad\n",
              "0   Con heridos       Atropello      1296\n",
              "1   Con heridos  Caida Ocupante       152\n",
              "2   Con heridos          Choque      6060\n",
              "3   Con heridos        Incendio         1\n",
              "4   Con heridos            Otro        88\n",
              "5   Con heridos     Volcamiento        56\n",
              "6   Con muertos       Atropello        86\n",
              "7   Con muertos  Caida Ocupante         4\n",
              "8   Con muertos          Choque       142\n",
              "9   Con muertos            Otro         6\n",
              "10  Con muertos     Volcamiento         2\n",
              "11   Solo daños          Choque     29135\n",
              "12   Solo daños        Incendio        19\n",
              "13   Solo daños            Otro       127\n",
              "14   Solo daños     Volcamiento        70"
            ]
          },
          "metadata": {},
          "execution_count": 38
        }
      ]
    },
    {
      "cell_type": "markdown",
      "metadata": {
        "id": "HyJGDLG4r4l5"
      },
      "source": [
        "# Ideas"
      ]
    },
    {
      "cell_type": "markdown",
      "metadata": {
        "id": "-w-k_Ejsr6v1"
      },
      "source": [
        "# 1. `barplot` hue"
      ]
    },
    {
      "cell_type": "code",
      "metadata": {
        "colab": {
          "base_uri": "https://localhost:8080/"
        },
        "id": "HH8G_Sw1rozK",
        "outputId": "2a0cd331-6b10-40b6-8d4f-b3d8b4d20585"
      },
      "source": [
        "sns.barplot(data=df_acc_gravedad_clase,x='cantidad',y='clase',hue='gravedad')"
      ],
      "execution_count": null,
      "outputs": [
        {
          "output_type": "execute_result",
          "data": {
            "text/plain": [
              "<matplotlib.axes._subplots.AxesSubplot at 0x7f946b08b050>"
            ]
          },
          "metadata": {},
          "execution_count": 39
        },
        {
          "output_type": "display_data",
          "data": {
            "image/png": "[encoded data removed]",
            "text/plain": [
              "<Figure size 432x288 with 1 Axes>"
            ]
          },
          "metadata": {
            "needs_background": "light"
          }
        }
      ]
    },
    {
      "cell_type": "markdown",
      "metadata": {
        "id": "jhs-f7k2sYPU"
      },
      "source": [
        "# 2. `catplot`"
      ]
    },
    {
      "cell_type": "code",
      "metadata": {
        "colab": {
          "base_uri": "https://localhost:8080/"
        },
        "id": "oY5iceKjsa7A",
        "outputId": "52516766-f83a-439e-908f-c3138919479e"
      },
      "source": [
        "sns.catplot(data=df_acc_gravedad_clase, x='cantidad', y='clase', col='gravedad', kind='bar', sharex=False)"
      ],
      "execution_count": null,
      "outputs": [
        {
          "output_type": "execute_result",
          "data": {
            "text/plain": [
              "<seaborn.axisgrid.FacetGrid at 0x7f946b0d32d0>"
            ]
          },
          "metadata": {},
          "execution_count": 40
        },
        {
          "output_type": "display_data",
          "data": {
            "image/png": "[encoded data removed]",
            "text/plain": [
              "<Figure size 1080x360 with 3 Axes>"
            ]
          },
          "metadata": {
            "needs_background": "light"
          }
        }
      ]
    },
    {
      "cell_type": "code",
      "metadata": {
        "id": "Ye3O3o29tXoA",
        "colab": {
          "base_uri": "https://localhost:8080/"
        },
        "outputId": "eefc01e4-a993-4c1e-fb19-910d11c9d934"
      },
      "source": [
        "sns.catplot(data=df_acc_gravedad_clase, x='cantidad', y='clase', col='gravedad', kind='bar')"
      ],
      "execution_count": null,
      "outputs": [
        {
          "output_type": "execute_result",
          "data": {
            "text/plain": [
              "<seaborn.axisgrid.FacetGrid at 0x7f946262fbd0>"
            ]
          },
          "metadata": {},
          "execution_count": 41
        },
        {
          "output_type": "display_data",
          "data": {
            "image/png": "[encoded data removed]",
            "text/plain": [
              "<Figure size 1080x360 with 3 Axes>"
            ]
          },
          "metadata": {
            "needs_background": "light"
          }
        }
      ]
    },
    {
      "cell_type": "markdown",
      "metadata": {
        "id": "4ZQvdwDKpX8d"
      },
      "source": [
        "# `sharex`"
      ]
    },
    {
      "cell_type": "code",
      "metadata": {
        "colab": {
          "base_uri": "https://localhost:8080/"
        },
        "id": "5O58mpcSpZ0k",
        "outputId": "19b313ef-7f68-4bdb-e70d-de5da031e7da"
      },
      "source": [
        "sns.catplot(data=df_acc_gravedad_clase, x='cantidad', y='clase', col='gravedad', kind='bar', sharex=False)"
      ],
      "execution_count": null,
      "outputs": [
        {
          "output_type": "execute_result",
          "data": {
            "text/plain": [
              "<seaborn.axisgrid.FacetGrid at 0x7f94625d1cd0>"
            ]
          },
          "metadata": {},
          "execution_count": 42
        },
        {
          "output_type": "display_data",
          "data": {
            "image/png": "[encoded data removed]",
            "text/plain": [
              "<Figure size 1080x360 with 3 Axes>"
            ]
          },
          "metadata": {
            "needs_background": "light"
          }
        }
      ]
    },
    {
      "cell_type": "markdown",
      "metadata": {
        "id": "wZgcFd2WpulV"
      },
      "source": [
        ""
      ]
    },
    {
      "cell_type": "code",
      "metadata": {
        "colab": {
          "base_uri": "https://localhost:8080/"
        },
        "id": "FZeX20oypzk6",
        "outputId": "187cc4a0-3e9b-4340-d929-72efbef1049a"
      },
      "source": [
        "df_acc.head(2)"
      ],
      "execution_count": null,
      "outputs": [
        {
          "output_type": "execute_result",
          "data": {
            "text/html": [
              "<div>\n",
              "<style scoped>\n",
              "    .dataframe tbody tr th:only-of-type {\n",
              "        vertical-align: middle;\n",
              "    }\n",
              "\n",
              "    .dataframe tbody tr th {\n",
              "        vertical-align: top;\n",
              "    }\n",
              "\n",
              "    .dataframe thead th {\n",
              "        text-align: right;\n",
              "    }\n",
              "</style>\n",
              "<table border=\"1\" class=\"dataframe\">\n",
              "  <thead>\n",
              "    <tr style=\"text-align: right;\">\n",
              "      <th></th>\n",
              "      <th>gravedad</th>\n",
              "      <th>clase</th>\n",
              "      <th>sitio</th>\n",
              "      <th>heridos</th>\n",
              "      <th>muertes</th>\n",
              "      <th>cantidad</th>\n",
              "      <th>fecha</th>\n",
              "    </tr>\n",
              "  </thead>\n",
              "  <tbody>\n",
              "    <tr>\n",
              "      <th>0</th>\n",
              "      <td>Con heridos</td>\n",
              "      <td>Choque</td>\n",
              "      <td>VIA 40 CON 77</td>\n",
              "      <td>1.0</td>\n",
              "      <td>NaN</td>\n",
              "      <td>1</td>\n",
              "      <td>2015-01-01 14:10:00</td>\n",
              "    </tr>\n",
              "    <tr>\n",
              "      <th>1</th>\n",
              "      <td>Solo daños</td>\n",
              "      <td>Choque</td>\n",
              "      <td>CALLE 14 CR 13</td>\n",
              "      <td>NaN</td>\n",
              "      <td>NaN</td>\n",
              "      <td>1</td>\n",
              "      <td>2015-01-01 14:15:00</td>\n",
              "    </tr>\n",
              "  </tbody>\n",
              "</table>\n",
              "</div>"
            ],
            "text/plain": [
              "      gravedad   clase           sitio  ...  muertes  cantidad               fecha\n",
              "0  Con heridos  Choque   VIA 40 CON 77  ...      NaN         1 2015-01-01 14:10:00\n",
              "1   Solo daños  Choque  CALLE 14 CR 13  ...      NaN         1 2015-01-01 14:15:00\n",
              "\n",
              "[2 rows x 7 columns]"
            ]
          },
          "metadata": {},
          "execution_count": 43
        }
      ]
    },
    {
      "cell_type": "markdown",
      "metadata": {
        "id": "TafFZIcWp3Ah"
      },
      "source": [
        "# `fillna`"
      ]
    },
    {
      "cell_type": "markdown",
      "metadata": {
        "id": "_RqXJiXprPTU"
      },
      "source": [
        "# **NaN** - **N**ot **A** **N**umber\n",
        "\n",
        "Campos Nulos - Sin información - (NULL, null, None)"
      ]
    },
    {
      "cell_type": "code",
      "metadata": {
        "colab": {
          "base_uri": "https://localhost:8080/"
        },
        "id": "X72ZCuRkp_d7",
        "outputId": "d191f6f2-33be-40c9-dc33-c5dee42ef089"
      },
      "source": [
        "df_acc.isna().any()"
      ],
      "execution_count": null,
      "outputs": [
        {
          "output_type": "execute_result",
          "data": {
            "text/plain": [
              "gravedad    False\n",
              "clase       False\n",
              "sitio        True\n",
              "heridos      True\n",
              "muertes      True\n",
              "cantidad    False\n",
              "fecha       False\n",
              "dtype: bool"
            ]
          },
          "metadata": {},
          "execution_count": 44
        }
      ]
    },
    {
      "cell_type": "code",
      "metadata": {
        "id": "O0_Yk889p4wc"
      },
      "source": [
        "reemplazar_nans = {'sitio':'NO REPORTA', 'heridos':0, 'muertes':0};\n",
        "\n",
        "df_acc.fillna(reemplazar_nans, inplace=True)"
      ],
      "execution_count": null,
      "outputs": []
    },
    {
      "cell_type": "markdown",
      "metadata": {
        "id": "s3apmhG1sA09"
      },
      "source": [
        "astype()\n",
        "\n",
        "1. 'int32' - Integers - IEE-754\n",
        "2. 'float32' ('float64' - double) - Floats (reales) - IEE-754"
      ]
    },
    {
      "cell_type": "code",
      "metadata": {
        "id": "kiUlSFjArz5V"
      },
      "source": [
        "df_acc['heridos'] = df_acc['heridos'].astype('int32');\n",
        "df_acc['muertes'] = df_acc['muertes'].astype('int32');"
      ],
      "execution_count": null,
      "outputs": []
    },
    {
      "cell_type": "code",
      "metadata": {
        "colab": {
          "base_uri": "https://localhost:8080/"
        },
        "id": "1rJ9UQYQsoEr",
        "outputId": "2ca02462-2d2f-4a1d-8d66-dd52ef631ea1"
      },
      "source": [
        "df_acc.head(6)"
      ],
      "execution_count": null,
      "outputs": [
        {
          "output_type": "execute_result",
          "data": {
            "text/html": [
              "<div>\n",
              "<style scoped>\n",
              "    .dataframe tbody tr th:only-of-type {\n",
              "        vertical-align: middle;\n",
              "    }\n",
              "\n",
              "    .dataframe tbody tr th {\n",
              "        vertical-align: top;\n",
              "    }\n",
              "\n",
              "    .dataframe thead th {\n",
              "        text-align: right;\n",
              "    }\n",
              "</style>\n",
              "<table border=\"1\" class=\"dataframe\">\n",
              "  <thead>\n",
              "    <tr style=\"text-align: right;\">\n",
              "      <th></th>\n",
              "      <th>gravedad</th>\n",
              "      <th>clase</th>\n",
              "      <th>sitio</th>\n",
              "      <th>heridos</th>\n",
              "      <th>muertes</th>\n",
              "      <th>cantidad</th>\n",
              "      <th>fecha</th>\n",
              "    </tr>\n",
              "  </thead>\n",
              "  <tbody>\n",
              "    <tr>\n",
              "      <th>0</th>\n",
              "      <td>Con heridos</td>\n",
              "      <td>Choque</td>\n",
              "      <td>VIA 40 CON 77</td>\n",
              "      <td>1</td>\n",
              "      <td>0</td>\n",
              "      <td>1</td>\n",
              "      <td>2015-01-01 14:10:00</td>\n",
              "    </tr>\n",
              "    <tr>\n",
              "      <th>1</th>\n",
              "      <td>Solo daños</td>\n",
              "      <td>Choque</td>\n",
              "      <td>CALLE 14 CR 13</td>\n",
              "      <td>0</td>\n",
              "      <td>0</td>\n",
              "      <td>1</td>\n",
              "      <td>2015-01-01 14:15:00</td>\n",
              "    </tr>\n",
              "    <tr>\n",
              "      <th>2</th>\n",
              "      <td>Solo daños</td>\n",
              "      <td>Choque</td>\n",
              "      <td>CL 74 CR 38C</td>\n",
              "      <td>0</td>\n",
              "      <td>0</td>\n",
              "      <td>1</td>\n",
              "      <td>2015-01-01 14:20:00</td>\n",
              "    </tr>\n",
              "    <tr>\n",
              "      <th>3</th>\n",
              "      <td>Con heridos</td>\n",
              "      <td>Choque</td>\n",
              "      <td>CL 45 CR 19</td>\n",
              "      <td>2</td>\n",
              "      <td>0</td>\n",
              "      <td>1</td>\n",
              "      <td>2015-01-01 15:30:00</td>\n",
              "    </tr>\n",
              "    <tr>\n",
              "      <th>4</th>\n",
              "      <td>Solo daños</td>\n",
              "      <td>Choque</td>\n",
              "      <td>CRA 15 CLLE 21</td>\n",
              "      <td>0</td>\n",
              "      <td>0</td>\n",
              "      <td>1</td>\n",
              "      <td>2015-01-01 04:20:00</td>\n",
              "    </tr>\n",
              "    <tr>\n",
              "      <th>5</th>\n",
              "      <td>Con heridos</td>\n",
              "      <td>Choque</td>\n",
              "      <td>CRA 14 CLLE 35</td>\n",
              "      <td>2</td>\n",
              "      <td>0</td>\n",
              "      <td>1</td>\n",
              "      <td>2015-01-01 16:40:00</td>\n",
              "    </tr>\n",
              "  </tbody>\n",
              "</table>\n",
              "</div>"
            ],
            "text/plain": [
              "      gravedad   clase           sitio  ...  muertes  cantidad               fecha\n",
              "0  Con heridos  Choque   VIA 40 CON 77  ...        0         1 2015-01-01 14:10:00\n",
              "1   Solo daños  Choque  CALLE 14 CR 13  ...        0         1 2015-01-01 14:15:00\n",
              "2   Solo daños  Choque    CL 74 CR 38C  ...        0         1 2015-01-01 14:20:00\n",
              "3  Con heridos  Choque     CL 45 CR 19  ...        0         1 2015-01-01 15:30:00\n",
              "4   Solo daños  Choque  CRA 15 CLLE 21  ...        0         1 2015-01-01 04:20:00\n",
              "5  Con heridos  Choque  CRA 14 CLLE 35  ...        0         1 2015-01-01 16:40:00\n",
              "\n",
              "[6 rows x 7 columns]"
            ]
          },
          "metadata": {},
          "execution_count": 47
        }
      ]
    },
    {
      "cell_type": "markdown",
      "metadata": {
        "id": "QszMA9s_sunT"
      },
      "source": [
        "# **Standard - Address (sitio)**"
      ]
    },
    {
      "cell_type": "code",
      "metadata": {
        "colab": {
          "base_uri": "https://localhost:8080/"
        },
        "id": "9g0QVXWbtKpg",
        "outputId": "6f0bbb86-fa67-4f55-cb59-ae580c6baa04"
      },
      "source": [
        "df_acc['sitio'].unique()"
      ],
      "execution_count": null,
      "outputs": [
        {
          "output_type": "execute_result",
          "data": {
            "text/plain": [
              "array(['VIA 40 CON 77', 'CALLE 14 CR 13', 'CL 74 CR 38C', ...,\n",
              "       'CARRERA 56 FRENTE # 68 157', 'CR 20 24 114', 'CR 25B 74B 94'],\n",
              "      dtype=object)"
            ]
          },
          "metadata": {},
          "execution_count": 48
        }
      ]
    },
    {
      "cell_type": "markdown",
      "metadata": {
        "id": "S6J7DMrmt5fv"
      },
      "source": [
        "## https://www.w3schools.com/python/python_strings_methods.asp"
      ]
    },
    {
      "cell_type": "code",
      "metadata": {
        "id": "jCInOY7Utlcz"
      },
      "source": [
        "direcciones = df_acc['sitio'].str.split(' ', expand=True)"
      ],
      "execution_count": null,
      "outputs": []
    },
    {
      "cell_type": "code",
      "metadata": {
        "colab": {
          "base_uri": "https://localhost:8080/",
          "height": 173
        },
        "id": "M7UtUgr7uezx",
        "outputId": "72afffed-51bf-4e83-cc22-e001b288a28f"
      },
      "source": [
        "direcciones.head(4)"
      ],
      "execution_count": null,
      "outputs": [
        {
          "output_type": "execute_result",
          "data": {
            "text/html": [
              "<div>\n",
              "<style scoped>\n",
              "    .dataframe tbody tr th:only-of-type {\n",
              "        vertical-align: middle;\n",
              "    }\n",
              "\n",
              "    .dataframe tbody tr th {\n",
              "        vertical-align: top;\n",
              "    }\n",
              "\n",
              "    .dataframe thead th {\n",
              "        text-align: right;\n",
              "    }\n",
              "</style>\n",
              "<table border=\"1\" class=\"dataframe\">\n",
              "  <thead>\n",
              "    <tr style=\"text-align: right;\">\n",
              "      <th></th>\n",
              "      <th>0</th>\n",
              "      <th>1</th>\n",
              "      <th>2</th>\n",
              "      <th>3</th>\n",
              "      <th>4</th>\n",
              "      <th>5</th>\n",
              "      <th>6</th>\n",
              "      <th>7</th>\n",
              "      <th>8</th>\n",
              "      <th>9</th>\n",
              "      <th>10</th>\n",
              "      <th>11</th>\n",
              "      <th>12</th>\n",
              "    </tr>\n",
              "  </thead>\n",
              "  <tbody>\n",
              "    <tr>\n",
              "      <th>0</th>\n",
              "      <td>VIA</td>\n",
              "      <td>40</td>\n",
              "      <td>CON</td>\n",
              "      <td>77</td>\n",
              "      <td>None</td>\n",
              "      <td>None</td>\n",
              "      <td>None</td>\n",
              "      <td>None</td>\n",
              "      <td>None</td>\n",
              "      <td>None</td>\n",
              "      <td>None</td>\n",
              "      <td>None</td>\n",
              "      <td>None</td>\n",
              "    </tr>\n",
              "    <tr>\n",
              "      <th>1</th>\n",
              "      <td>CALLE</td>\n",
              "      <td>14</td>\n",
              "      <td>CR</td>\n",
              "      <td>13</td>\n",
              "      <td>None</td>\n",
              "      <td>None</td>\n",
              "      <td>None</td>\n",
              "      <td>None</td>\n",
              "      <td>None</td>\n",
              "      <td>None</td>\n",
              "      <td>None</td>\n",
              "      <td>None</td>\n",
              "      <td>None</td>\n",
              "    </tr>\n",
              "    <tr>\n",
              "      <th>2</th>\n",
              "      <td>CL</td>\n",
              "      <td>74</td>\n",
              "      <td>CR</td>\n",
              "      <td>38C</td>\n",
              "      <td>None</td>\n",
              "      <td>None</td>\n",
              "      <td>None</td>\n",
              "      <td>None</td>\n",
              "      <td>None</td>\n",
              "      <td>None</td>\n",
              "      <td>None</td>\n",
              "      <td>None</td>\n",
              "      <td>None</td>\n",
              "    </tr>\n",
              "    <tr>\n",
              "      <th>3</th>\n",
              "      <td>CL</td>\n",
              "      <td>45</td>\n",
              "      <td>CR</td>\n",
              "      <td>19</td>\n",
              "      <td>None</td>\n",
              "      <td>None</td>\n",
              "      <td>None</td>\n",
              "      <td>None</td>\n",
              "      <td>None</td>\n",
              "      <td>None</td>\n",
              "      <td>None</td>\n",
              "      <td>None</td>\n",
              "      <td>None</td>\n",
              "    </tr>\n",
              "  </tbody>\n",
              "</table>\n",
              "</div>"
            ],
            "text/plain": [
              "      0   1    2    3     4     5     6     7     8     9     10    11    12\n",
              "0    VIA  40  CON   77  None  None  None  None  None  None  None  None  None\n",
              "1  CALLE  14   CR   13  None  None  None  None  None  None  None  None  None\n",
              "2     CL  74   CR  38C  None  None  None  None  None  None  None  None  None\n",
              "3     CL  45   CR   19  None  None  None  None  None  None  None  None  None"
            ]
          },
          "metadata": {},
          "execution_count": 50
        }
      ]
    },
    {
      "cell_type": "code",
      "metadata": {
        "id": "TgLXYujMuqqc"
      },
      "source": [
        "direcciones.fillna(value=' ', inplace=True)"
      ],
      "execution_count": null,
      "outputs": []
    },
    {
      "cell_type": "code",
      "metadata": {
        "colab": {
          "base_uri": "https://localhost:8080/",
          "height": 236
        },
        "id": "NO80cFSmwbl6",
        "outputId": "9cdfa57b-2533-4cf8-a321-86ead7436a7d"
      },
      "source": [
        "direcciones.head(6)"
      ],
      "execution_count": null,
      "outputs": [
        {
          "output_type": "execute_result",
          "data": {
            "text/html": [
              "<div>\n",
              "<style scoped>\n",
              "    .dataframe tbody tr th:only-of-type {\n",
              "        vertical-align: middle;\n",
              "    }\n",
              "\n",
              "    .dataframe tbody tr th {\n",
              "        vertical-align: top;\n",
              "    }\n",
              "\n",
              "    .dataframe thead th {\n",
              "        text-align: right;\n",
              "    }\n",
              "</style>\n",
              "<table border=\"1\" class=\"dataframe\">\n",
              "  <thead>\n",
              "    <tr style=\"text-align: right;\">\n",
              "      <th></th>\n",
              "      <th>0</th>\n",
              "      <th>1</th>\n",
              "      <th>2</th>\n",
              "      <th>3</th>\n",
              "      <th>4</th>\n",
              "      <th>5</th>\n",
              "      <th>6</th>\n",
              "      <th>7</th>\n",
              "      <th>8</th>\n",
              "      <th>9</th>\n",
              "      <th>10</th>\n",
              "      <th>11</th>\n",
              "      <th>12</th>\n",
              "    </tr>\n",
              "  </thead>\n",
              "  <tbody>\n",
              "    <tr>\n",
              "      <th>0</th>\n",
              "      <td>VIA</td>\n",
              "      <td>40</td>\n",
              "      <td>CON</td>\n",
              "      <td>77</td>\n",
              "      <td></td>\n",
              "      <td></td>\n",
              "      <td></td>\n",
              "      <td></td>\n",
              "      <td></td>\n",
              "      <td></td>\n",
              "      <td></td>\n",
              "      <td></td>\n",
              "      <td></td>\n",
              "    </tr>\n",
              "    <tr>\n",
              "      <th>1</th>\n",
              "      <td>CALLE</td>\n",
              "      <td>14</td>\n",
              "      <td>CR</td>\n",
              "      <td>13</td>\n",
              "      <td></td>\n",
              "      <td></td>\n",
              "      <td></td>\n",
              "      <td></td>\n",
              "      <td></td>\n",
              "      <td></td>\n",
              "      <td></td>\n",
              "      <td></td>\n",
              "      <td></td>\n",
              "    </tr>\n",
              "    <tr>\n",
              "      <th>2</th>\n",
              "      <td>CL</td>\n",
              "      <td>74</td>\n",
              "      <td>CR</td>\n",
              "      <td>38C</td>\n",
              "      <td></td>\n",
              "      <td></td>\n",
              "      <td></td>\n",
              "      <td></td>\n",
              "      <td></td>\n",
              "      <td></td>\n",
              "      <td></td>\n",
              "      <td></td>\n",
              "      <td></td>\n",
              "    </tr>\n",
              "    <tr>\n",
              "      <th>3</th>\n",
              "      <td>CL</td>\n",
              "      <td>45</td>\n",
              "      <td>CR</td>\n",
              "      <td>19</td>\n",
              "      <td></td>\n",
              "      <td></td>\n",
              "      <td></td>\n",
              "      <td></td>\n",
              "      <td></td>\n",
              "      <td></td>\n",
              "      <td></td>\n",
              "      <td></td>\n",
              "      <td></td>\n",
              "    </tr>\n",
              "    <tr>\n",
              "      <th>4</th>\n",
              "      <td>CRA</td>\n",
              "      <td>15</td>\n",
              "      <td>CLLE</td>\n",
              "      <td>21</td>\n",
              "      <td></td>\n",
              "      <td></td>\n",
              "      <td></td>\n",
              "      <td></td>\n",
              "      <td></td>\n",
              "      <td></td>\n",
              "      <td></td>\n",
              "      <td></td>\n",
              "      <td></td>\n",
              "    </tr>\n",
              "    <tr>\n",
              "      <th>5</th>\n",
              "      <td>CRA</td>\n",
              "      <td>14</td>\n",
              "      <td>CLLE</td>\n",
              "      <td>35</td>\n",
              "      <td></td>\n",
              "      <td></td>\n",
              "      <td></td>\n",
              "      <td></td>\n",
              "      <td></td>\n",
              "      <td></td>\n",
              "      <td></td>\n",
              "      <td></td>\n",
              "      <td></td>\n",
              "    </tr>\n",
              "  </tbody>\n",
              "</table>\n",
              "</div>"
            ],
            "text/plain": [
              "      0   1     2    3  4  5  6  7  8  9  10 11 12\n",
              "0    VIA  40   CON   77                           \n",
              "1  CALLE  14    CR   13                           \n",
              "2     CL  74    CR  38C                           \n",
              "3     CL  45    CR   19                           \n",
              "4    CRA  15  CLLE   21                           \n",
              "5    CRA  14  CLLE   35                           "
            ]
          },
          "metadata": {},
          "execution_count": 52
        }
      ]
    },
    {
      "cell_type": "code",
      "metadata": {
        "id": "z7ZoPa6ku1fb"
      },
      "source": [
        "typos_calle = ['CL', 'CLLE', 'cCLLE', 'CLL', 'CELL', 'CLEL', 'cl', 'clle', 'CLK', \n",
        "               'calle', 'CLE', 'CALE', 'cll', 'CALLEC', 'ALLE', 'CALL', 'CZALLE',\n",
        "               'CLLA'];"
      ],
      "execution_count": null,
      "outputs": []
    },
    {
      "cell_type": "code",
      "metadata": {
        "id": "sGeMjYEavmSU"
      },
      "source": [
        "typos_carrera = ['CRA', 'CRE', 'CREA','cra','cr', 'carrera',\n",
        "                 'CRR', 'CRARRERA', 'KRA', 'CRC', 'CARRERAB', 'CARRERAN', 'CARRERS',\n",
        "                 'Cra', 'K', 'CR'];"
      ],
      "execution_count": null,
      "outputs": []
    },
    {
      "cell_type": "markdown",
      "metadata": {
        "id": "vCQc4EJuw8_v"
      },
      "source": [
        "# List Comprehension"
      ]
    },
    {
      "cell_type": "markdown",
      "metadata": {
        "id": "-GWp4Z6oxRjq"
      },
      "source": [
        "[lo que quiero hacer con **var** for **var** in *el conjunto de variables*]"
      ]
    },
    {
      "cell_type": "code",
      "metadata": {
        "id": "G6OCE_4MwhU3"
      },
      "source": [
        "reemplazar_calle   = {typo:'CALLE'   for typo in typos_calle  };\n",
        "reemplazar_carrera = {typo:'CARRERA' for typo in typos_carrera};\n",
        "reemplazar = reemplazar_calle;\n",
        "reemplazar.update(reemplazar_carrera);"
      ],
      "execution_count": null,
      "outputs": []
    },
    {
      "cell_type": "code",
      "metadata": {
        "id": "4xNhiSokw4Wy"
      },
      "source": [
        "for columna in direcciones.columns:\n",
        "  direcciones[columna] = direcciones[columna].replace(reemplazar);"
      ],
      "execution_count": null,
      "outputs": []
    },
    {
      "cell_type": "code",
      "metadata": {
        "colab": {
          "base_uri": "https://localhost:8080/"
        },
        "id": "bfTjHMKzyv2Q",
        "outputId": "dccf63fd-4bff-414f-f293-7bb02f486591"
      },
      "source": [
        "direcciones.head(3)"
      ],
      "execution_count": null,
      "outputs": [
        {
          "output_type": "execute_result",
          "data": {
            "text/html": [
              "<div>\n",
              "<style scoped>\n",
              "    .dataframe tbody tr th:only-of-type {\n",
              "        vertical-align: middle;\n",
              "    }\n",
              "\n",
              "    .dataframe tbody tr th {\n",
              "        vertical-align: top;\n",
              "    }\n",
              "\n",
              "    .dataframe thead th {\n",
              "        text-align: right;\n",
              "    }\n",
              "</style>\n",
              "<table border=\"1\" class=\"dataframe\">\n",
              "  <thead>\n",
              "    <tr style=\"text-align: right;\">\n",
              "      <th></th>\n",
              "      <th>0</th>\n",
              "      <th>1</th>\n",
              "      <th>2</th>\n",
              "      <th>3</th>\n",
              "      <th>4</th>\n",
              "      <th>5</th>\n",
              "      <th>6</th>\n",
              "      <th>7</th>\n",
              "      <th>8</th>\n",
              "      <th>9</th>\n",
              "      <th>10</th>\n",
              "      <th>11</th>\n",
              "      <th>12</th>\n",
              "    </tr>\n",
              "  </thead>\n",
              "  <tbody>\n",
              "    <tr>\n",
              "      <th>0</th>\n",
              "      <td>VIA</td>\n",
              "      <td>40</td>\n",
              "      <td>CON</td>\n",
              "      <td>77</td>\n",
              "      <td></td>\n",
              "      <td></td>\n",
              "      <td></td>\n",
              "      <td></td>\n",
              "      <td></td>\n",
              "      <td></td>\n",
              "      <td></td>\n",
              "      <td></td>\n",
              "      <td></td>\n",
              "    </tr>\n",
              "    <tr>\n",
              "      <th>1</th>\n",
              "      <td>CALLE</td>\n",
              "      <td>14</td>\n",
              "      <td>CARRERA</td>\n",
              "      <td>13</td>\n",
              "      <td></td>\n",
              "      <td></td>\n",
              "      <td></td>\n",
              "      <td></td>\n",
              "      <td></td>\n",
              "      <td></td>\n",
              "      <td></td>\n",
              "      <td></td>\n",
              "      <td></td>\n",
              "    </tr>\n",
              "    <tr>\n",
              "      <th>2</th>\n",
              "      <td>CALLE</td>\n",
              "      <td>74</td>\n",
              "      <td>CARRERA</td>\n",
              "      <td>38C</td>\n",
              "      <td></td>\n",
              "      <td></td>\n",
              "      <td></td>\n",
              "      <td></td>\n",
              "      <td></td>\n",
              "      <td></td>\n",
              "      <td></td>\n",
              "      <td></td>\n",
              "      <td></td>\n",
              "    </tr>\n",
              "  </tbody>\n",
              "</table>\n",
              "</div>"
            ],
            "text/plain": [
              "      0   1        2    3  4  5  6  7  8  9  10 11 12\n",
              "0    VIA  40      CON   77                           \n",
              "1  CALLE  14  CARRERA   13                           \n",
              "2  CALLE  74  CARRERA  38C                           "
            ]
          },
          "metadata": {},
          "execution_count": 57
        }
      ]
    },
    {
      "cell_type": "code",
      "metadata": {
        "colab": {
          "base_uri": "https://localhost:8080/"
        },
        "id": "D9k_Kzym0FfV",
        "outputId": "48ed4630-14d4-4b74-ed22-49d74623b56b"
      },
      "source": [
        "direcciones.iloc[0]"
      ],
      "execution_count": null,
      "outputs": [
        {
          "output_type": "execute_result",
          "data": {
            "text/plain": [
              "0     VIA\n",
              "1      40\n",
              "2     CON\n",
              "3      77\n",
              "4        \n",
              "5        \n",
              "6        \n",
              "7        \n",
              "8        \n",
              "9        \n",
              "10       \n",
              "11       \n",
              "12       \n",
              "Name: 0, dtype: object"
            ]
          },
          "metadata": {},
          "execution_count": 58
        }
      ]
    },
    {
      "cell_type": "code",
      "metadata": {
        "colab": {
          "base_uri": "https://localhost:8080/"
        },
        "id": "h0gdN1Mx5Gsr",
        "outputId": "62057496-5185-4145-dafe-93f4791fbb0f"
      },
      "source": [
        "direcciones.iloc[1][0]+' '+direcciones.iloc[1][1]"
      ],
      "execution_count": null,
      "outputs": [
        {
          "output_type": "execute_result",
          "data": {
            "application/vnd.google.colaboratory.intrinsic+json": {
              "type": "string"
            },
            "text/plain": [
              "'CALLE 14'"
            ]
          },
          "metadata": {},
          "execution_count": 59
        }
      ]
    },
    {
      "cell_type": "code",
      "metadata": {
        "colab": {
          "base_uri": "https://localhost:8080/"
        },
        "id": "9z65px7fzI5r",
        "outputId": "d1500115-2bc4-43eb-abfb-482fe5177236"
      },
      "source": [
        "' '.join(direcciones.iloc[1].values).rstrip()"
      ],
      "execution_count": null,
      "outputs": [
        {
          "output_type": "execute_result",
          "data": {
            "application/vnd.google.colaboratory.intrinsic+json": {
              "type": "string"
            },
            "text/plain": [
              "'CALLE 14 CARRERA 13'"
            ]
          },
          "metadata": {},
          "execution_count": 60
        }
      ]
    },
    {
      "cell_type": "code",
      "metadata": {
        "id": "RH52uC6DzuW-"
      },
      "source": [
        "dir_ready = [];\n",
        "for registro in direcciones.index:\n",
        "  #dir_ready.append(' '.join(direcciones.iloc[registro].values).rstrip())\n",
        "  dir_ready.append(direcciones.iloc[registro][0]+' '+direcciones.iloc[registro][1])"
      ],
      "execution_count": null,
      "outputs": []
    },
    {
      "cell_type": "code",
      "metadata": {
        "id": "Hc78Crbw0XLM"
      },
      "source": [
        "df_acc['sitio'] = dir_ready"
      ],
      "execution_count": null,
      "outputs": []
    },
    {
      "cell_type": "code",
      "metadata": {
        "colab": {
          "base_uri": "https://localhost:8080/"
        },
        "id": "8JnQ9LiB0hik",
        "outputId": "5f07169e-3337-4228-80af-54eac344220f"
      },
      "source": [
        "df_acc"
      ],
      "execution_count": null,
      "outputs": [
        {
          "output_type": "execute_result",
          "data": {
            "text/html": [
              "<div>\n",
              "<style scoped>\n",
              "    .dataframe tbody tr th:only-of-type {\n",
              "        vertical-align: middle;\n",
              "    }\n",
              "\n",
              "    .dataframe tbody tr th {\n",
              "        vertical-align: top;\n",
              "    }\n",
              "\n",
              "    .dataframe thead th {\n",
              "        text-align: right;\n",
              "    }\n",
              "</style>\n",
              "<table border=\"1\" class=\"dataframe\">\n",
              "  <thead>\n",
              "    <tr style=\"text-align: right;\">\n",
              "      <th></th>\n",
              "      <th>gravedad</th>\n",
              "      <th>clase</th>\n",
              "      <th>sitio</th>\n",
              "      <th>heridos</th>\n",
              "      <th>muertes</th>\n",
              "      <th>cantidad</th>\n",
              "      <th>fecha</th>\n",
              "    </tr>\n",
              "  </thead>\n",
              "  <tbody>\n",
              "    <tr>\n",
              "      <th>0</th>\n",
              "      <td>Con heridos</td>\n",
              "      <td>Choque</td>\n",
              "      <td>VIA 40</td>\n",
              "      <td>1</td>\n",
              "      <td>0</td>\n",
              "      <td>1</td>\n",
              "      <td>2015-01-01 14:10:00</td>\n",
              "    </tr>\n",
              "    <tr>\n",
              "      <th>1</th>\n",
              "      <td>Solo daños</td>\n",
              "      <td>Choque</td>\n",
              "      <td>CALLE 14</td>\n",
              "      <td>0</td>\n",
              "      <td>0</td>\n",
              "      <td>1</td>\n",
              "      <td>2015-01-01 14:15:00</td>\n",
              "    </tr>\n",
              "    <tr>\n",
              "      <th>2</th>\n",
              "      <td>Solo daños</td>\n",
              "      <td>Choque</td>\n",
              "      <td>CALLE 74</td>\n",
              "      <td>0</td>\n",
              "      <td>0</td>\n",
              "      <td>1</td>\n",
              "      <td>2015-01-01 14:20:00</td>\n",
              "    </tr>\n",
              "    <tr>\n",
              "      <th>3</th>\n",
              "      <td>Con heridos</td>\n",
              "      <td>Choque</td>\n",
              "      <td>CALLE 45</td>\n",
              "      <td>2</td>\n",
              "      <td>0</td>\n",
              "      <td>1</td>\n",
              "      <td>2015-01-01 15:30:00</td>\n",
              "    </tr>\n",
              "    <tr>\n",
              "      <th>4</th>\n",
              "      <td>Solo daños</td>\n",
              "      <td>Choque</td>\n",
              "      <td>CARRERA 15</td>\n",
              "      <td>0</td>\n",
              "      <td>0</td>\n",
              "      <td>1</td>\n",
              "      <td>2015-01-01 04:20:00</td>\n",
              "    </tr>\n",
              "    <tr>\n",
              "      <th>...</th>\n",
              "      <td>...</td>\n",
              "      <td>...</td>\n",
              "      <td>...</td>\n",
              "      <td>...</td>\n",
              "      <td>...</td>\n",
              "      <td>...</td>\n",
              "      <td>...</td>\n",
              "    </tr>\n",
              "    <tr>\n",
              "      <th>37239</th>\n",
              "      <td>Con heridos</td>\n",
              "      <td>Atropello</td>\n",
              "      <td>CARRERA 15</td>\n",
              "      <td>2</td>\n",
              "      <td>0</td>\n",
              "      <td>1</td>\n",
              "      <td>2021-09-30 18:20:00</td>\n",
              "    </tr>\n",
              "    <tr>\n",
              "      <th>37240</th>\n",
              "      <td>Con heridos</td>\n",
              "      <td>Choque</td>\n",
              "      <td>CARRERA 56</td>\n",
              "      <td>1</td>\n",
              "      <td>0</td>\n",
              "      <td>1</td>\n",
              "      <td>2021-09-30 08:10:00</td>\n",
              "    </tr>\n",
              "    <tr>\n",
              "      <th>37241</th>\n",
              "      <td>Con heridos</td>\n",
              "      <td>Choque</td>\n",
              "      <td>CARRERA 20</td>\n",
              "      <td>1</td>\n",
              "      <td>0</td>\n",
              "      <td>1</td>\n",
              "      <td>2021-09-30 20:15:00</td>\n",
              "    </tr>\n",
              "    <tr>\n",
              "      <th>37242</th>\n",
              "      <td>Solo daños</td>\n",
              "      <td>Choque</td>\n",
              "      <td>CARRERA 25B</td>\n",
              "      <td>0</td>\n",
              "      <td>0</td>\n",
              "      <td>1</td>\n",
              "      <td>2021-09-30 09:30:00</td>\n",
              "    </tr>\n",
              "    <tr>\n",
              "      <th>37243</th>\n",
              "      <td>Solo daños</td>\n",
              "      <td>Choque</td>\n",
              "      <td>CARRERA 43</td>\n",
              "      <td>0</td>\n",
              "      <td>0</td>\n",
              "      <td>1</td>\n",
              "      <td>2021-09-30 12:10:00</td>\n",
              "    </tr>\n",
              "  </tbody>\n",
              "</table>\n",
              "<p>37244 rows × 7 columns</p>\n",
              "</div>"
            ],
            "text/plain": [
              "          gravedad      clase  ... cantidad               fecha\n",
              "0      Con heridos     Choque  ...        1 2015-01-01 14:10:00\n",
              "1       Solo daños     Choque  ...        1 2015-01-01 14:15:00\n",
              "2       Solo daños     Choque  ...        1 2015-01-01 14:20:00\n",
              "3      Con heridos     Choque  ...        1 2015-01-01 15:30:00\n",
              "4       Solo daños     Choque  ...        1 2015-01-01 04:20:00\n",
              "...            ...        ...  ...      ...                 ...\n",
              "37239  Con heridos  Atropello  ...        1 2021-09-30 18:20:00\n",
              "37240  Con heridos     Choque  ...        1 2021-09-30 08:10:00\n",
              "37241  Con heridos     Choque  ...        1 2021-09-30 20:15:00\n",
              "37242   Solo daños     Choque  ...        1 2021-09-30 09:30:00\n",
              "37243   Solo daños     Choque  ...        1 2021-09-30 12:10:00\n",
              "\n",
              "[37244 rows x 7 columns]"
            ]
          },
          "metadata": {},
          "execution_count": 63
        }
      ]
    },
    {
      "cell_type": "markdown",
      "metadata": {
        "id": "U3d-7ty80n52"
      },
      "source": [
        "# Sitios Top - Accidentes"
      ]
    },
    {
      "cell_type": "code",
      "metadata": {
        "id": "kRAq62HO0rC0"
      },
      "source": [
        "select = ['sitio', 'cantidad'];\n",
        "grupos = ['sitio'];\n",
        "df_acc_sitio = df_acc[select].groupby(by=grupos).count(); #max()\n",
        "df_acc_sitio.reset_index(inplace=True);"
      ],
      "execution_count": null,
      "outputs": []
    },
    {
      "cell_type": "code",
      "metadata": {
        "colab": {
          "base_uri": "https://localhost:8080/",
          "height": 515
        },
        "id": "FPP7nObj00b-",
        "outputId": "34a8fc08-8e5a-48ce-fe57-40250a484e18"
      },
      "source": [
        "df_acc_sitio.nlargest(n=15, columns=['cantidad'])"
      ],
      "execution_count": null,
      "outputs": [
        {
          "output_type": "execute_result",
          "data": {
            "text/html": [
              "<div>\n",
              "<style scoped>\n",
              "    .dataframe tbody tr th:only-of-type {\n",
              "        vertical-align: middle;\n",
              "    }\n",
              "\n",
              "    .dataframe tbody tr th {\n",
              "        vertical-align: top;\n",
              "    }\n",
              "\n",
              "    .dataframe thead th {\n",
              "        text-align: right;\n",
              "    }\n",
              "</style>\n",
              "<table border=\"1\" class=\"dataframe\">\n",
              "  <thead>\n",
              "    <tr style=\"text-align: right;\">\n",
              "      <th></th>\n",
              "      <th>sitio</th>\n",
              "      <th>cantidad</th>\n",
              "    </tr>\n",
              "  </thead>\n",
              "  <tbody>\n",
              "    <tr>\n",
              "      <th>970</th>\n",
              "      <td>VIA 40</td>\n",
              "      <td>1715</td>\n",
              "    </tr>\n",
              "    <tr>\n",
              "      <th>170</th>\n",
              "      <td>CALLE 30</td>\n",
              "      <td>1635</td>\n",
              "    </tr>\n",
              "    <tr>\n",
              "      <th>106</th>\n",
              "      <td>CALLE 110</td>\n",
              "      <td>1507</td>\n",
              "    </tr>\n",
              "    <tr>\n",
              "      <th>550</th>\n",
              "      <td>CARRERA 38</td>\n",
              "      <td>1466</td>\n",
              "    </tr>\n",
              "    <tr>\n",
              "      <th>209</th>\n",
              "      <td>CALLE 45</td>\n",
              "      <td>1264</td>\n",
              "    </tr>\n",
              "    <tr>\n",
              "      <th>23</th>\n",
              "      <td>AV CIRCUNVALAR</td>\n",
              "      <td>1073</td>\n",
              "    </tr>\n",
              "    <tr>\n",
              "      <th>594</th>\n",
              "      <td>CARRERA 43</td>\n",
              "      <td>895</td>\n",
              "    </tr>\n",
              "    <tr>\n",
              "      <th>611</th>\n",
              "      <td>CARRERA 46</td>\n",
              "      <td>873</td>\n",
              "    </tr>\n",
              "    <tr>\n",
              "      <th>316</th>\n",
              "      <td>CALLE 72</td>\n",
              "      <td>660</td>\n",
              "    </tr>\n",
              "    <tr>\n",
              "      <th>601</th>\n",
              "      <td>CARRERA 44</td>\n",
              "      <td>645</td>\n",
              "    </tr>\n",
              "    <tr>\n",
              "      <th>145</th>\n",
              "      <td>CALLE 19</td>\n",
              "      <td>619</td>\n",
              "    </tr>\n",
              "    <tr>\n",
              "      <th>142</th>\n",
              "      <td>CALLE 17</td>\n",
              "      <td>608</td>\n",
              "    </tr>\n",
              "    <tr>\n",
              "      <th>644</th>\n",
              "      <td>CARRERA 53</td>\n",
              "      <td>554</td>\n",
              "    </tr>\n",
              "    <tr>\n",
              "      <th>369</th>\n",
              "      <td>CALLE 84</td>\n",
              "      <td>552</td>\n",
              "    </tr>\n",
              "    <tr>\n",
              "      <th>334</th>\n",
              "      <td>CALLE 76</td>\n",
              "      <td>497</td>\n",
              "    </tr>\n",
              "  </tbody>\n",
              "</table>\n",
              "</div>"
            ],
            "text/plain": [
              "              sitio  cantidad\n",
              "970          VIA 40      1715\n",
              "170        CALLE 30      1635\n",
              "106       CALLE 110      1507\n",
              "550      CARRERA 38      1466\n",
              "209        CALLE 45      1264\n",
              "23   AV CIRCUNVALAR      1073\n",
              "594      CARRERA 43       895\n",
              "611      CARRERA 46       873\n",
              "316        CALLE 72       660\n",
              "601      CARRERA 44       645\n",
              "145        CALLE 19       619\n",
              "142        CALLE 17       608\n",
              "644      CARRERA 53       554\n",
              "369        CALLE 84       552\n",
              "334        CALLE 76       497"
            ]
          },
          "metadata": {},
          "execution_count": 65
        }
      ]
    },
    {
      "cell_type": "code",
      "metadata": {
        "id": "zzryOb8a3OyL"
      },
      "source": [
        "df_acc_top = df_acc_sitio.nlargest(n=15, columns=['cantidad'])"
      ],
      "execution_count": null,
      "outputs": []
    },
    {
      "cell_type": "code",
      "metadata": {
        "colab": {
          "base_uri": "https://localhost:8080/",
          "height": 515
        },
        "id": "Q_rTMH633R4Q",
        "outputId": "bcd94e1c-2d99-4ec4-d826-532be49c63bc"
      },
      "source": [
        "df_acc_top"
      ],
      "execution_count": null,
      "outputs": [
        {
          "output_type": "execute_result",
          "data": {
            "text/html": [
              "<div>\n",
              "<style scoped>\n",
              "    .dataframe tbody tr th:only-of-type {\n",
              "        vertical-align: middle;\n",
              "    }\n",
              "\n",
              "    .dataframe tbody tr th {\n",
              "        vertical-align: top;\n",
              "    }\n",
              "\n",
              "    .dataframe thead th {\n",
              "        text-align: right;\n",
              "    }\n",
              "</style>\n",
              "<table border=\"1\" class=\"dataframe\">\n",
              "  <thead>\n",
              "    <tr style=\"text-align: right;\">\n",
              "      <th></th>\n",
              "      <th>sitio</th>\n",
              "      <th>cantidad</th>\n",
              "    </tr>\n",
              "  </thead>\n",
              "  <tbody>\n",
              "    <tr>\n",
              "      <th>970</th>\n",
              "      <td>VIA 40</td>\n",
              "      <td>1715</td>\n",
              "    </tr>\n",
              "    <tr>\n",
              "      <th>170</th>\n",
              "      <td>CALLE 30</td>\n",
              "      <td>1635</td>\n",
              "    </tr>\n",
              "    <tr>\n",
              "      <th>106</th>\n",
              "      <td>CALLE 110</td>\n",
              "      <td>1507</td>\n",
              "    </tr>\n",
              "    <tr>\n",
              "      <th>550</th>\n",
              "      <td>CARRERA 38</td>\n",
              "      <td>1466</td>\n",
              "    </tr>\n",
              "    <tr>\n",
              "      <th>209</th>\n",
              "      <td>CALLE 45</td>\n",
              "      <td>1264</td>\n",
              "    </tr>\n",
              "    <tr>\n",
              "      <th>23</th>\n",
              "      <td>AV CIRCUNVALAR</td>\n",
              "      <td>1073</td>\n",
              "    </tr>\n",
              "    <tr>\n",
              "      <th>594</th>\n",
              "      <td>CARRERA 43</td>\n",
              "      <td>895</td>\n",
              "    </tr>\n",
              "    <tr>\n",
              "      <th>611</th>\n",
              "      <td>CARRERA 46</td>\n",
              "      <td>873</td>\n",
              "    </tr>\n",
              "    <tr>\n",
              "      <th>316</th>\n",
              "      <td>CALLE 72</td>\n",
              "      <td>660</td>\n",
              "    </tr>\n",
              "    <tr>\n",
              "      <th>601</th>\n",
              "      <td>CARRERA 44</td>\n",
              "      <td>645</td>\n",
              "    </tr>\n",
              "    <tr>\n",
              "      <th>145</th>\n",
              "      <td>CALLE 19</td>\n",
              "      <td>619</td>\n",
              "    </tr>\n",
              "    <tr>\n",
              "      <th>142</th>\n",
              "      <td>CALLE 17</td>\n",
              "      <td>608</td>\n",
              "    </tr>\n",
              "    <tr>\n",
              "      <th>644</th>\n",
              "      <td>CARRERA 53</td>\n",
              "      <td>554</td>\n",
              "    </tr>\n",
              "    <tr>\n",
              "      <th>369</th>\n",
              "      <td>CALLE 84</td>\n",
              "      <td>552</td>\n",
              "    </tr>\n",
              "    <tr>\n",
              "      <th>334</th>\n",
              "      <td>CALLE 76</td>\n",
              "      <td>497</td>\n",
              "    </tr>\n",
              "  </tbody>\n",
              "</table>\n",
              "</div>"
            ],
            "text/plain": [
              "              sitio  cantidad\n",
              "970          VIA 40      1715\n",
              "170        CALLE 30      1635\n",
              "106       CALLE 110      1507\n",
              "550      CARRERA 38      1466\n",
              "209        CALLE 45      1264\n",
              "23   AV CIRCUNVALAR      1073\n",
              "594      CARRERA 43       895\n",
              "611      CARRERA 46       873\n",
              "316        CALLE 72       660\n",
              "601      CARRERA 44       645\n",
              "145        CALLE 19       619\n",
              "142        CALLE 17       608\n",
              "644      CARRERA 53       554\n",
              "369        CALLE 84       552\n",
              "334        CALLE 76       497"
            ]
          },
          "metadata": {},
          "execution_count": 67
        }
      ]
    },
    {
      "cell_type": "markdown",
      "metadata": {
        "id": "uBqv-JgZ0TIo"
      },
      "source": [
        "# **Georeferencia - lon, lat, elev**\n",
        "\n",
        "1. (lon, lat) = (x, y)\n",
        "\n",
        "2. Taken from: https://keydifferences.com/difference-between-latitude-and-longitude.html\n",
        "\n",
        "![latitude-vs-longitude2.jpg](data:image/jpeg;base64,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)\n",
        "\n"
      ]
    },
    {
      "cell_type": "markdown",
      "metadata": {
        "id": "WzaRDadJ1fho"
      },
      "source": [
        "# **GeoPy**\n",
        "\n",
        "https://geopy.readthedocs.io/en/stable/\n",
        "\n",
        "https://www.openstreetmap.org/#map=6/4.632/-74.299\n",
        "\n",
        "https://nominatim.org/"
      ]
    },
    {
      "cell_type": "code",
      "metadata": {
        "id": "bryBIQgo1vjw"
      },
      "source": [
        "from geopy.geocoders import Nominatim"
      ],
      "execution_count": null,
      "outputs": []
    },
    {
      "cell_type": "code",
      "metadata": {
        "colab": {
          "base_uri": "https://localhost:8080/"
        },
        "id": "JTV-x5tk2CS6",
        "outputId": "d0292186-919c-4428-ff11-0e986b35ebec"
      },
      "source": [
        "geolocator = Nominatim(); #OpenStreetMap by default"
      ],
      "execution_count": null,
      "outputs": [
        {
          "output_type": "stream",
          "name": "stderr",
          "text": [
            "/usr/local/lib/python3.7/dist-packages/geopy/geocoders/osm.py:143: UserWarning: Using Nominatim with the default \"geopy/1.17.0\" `user_agent` is strongly discouraged, as it violates Nominatim's ToS https://operations.osmfoundation.org/policies/nominatim/ and may possibly cause 403 and 429 HTTP errors. Please specify a custom `user_agent` with `Nominatim(user_agent=\"my-application\")` or by overriding the default `user_agent`: `geopy.geocoders.options.default_user_agent = \"my-application\"`. In geopy 2.0 this will become an exception.\n",
            "  UserWarning\n"
          ]
        }
      ]
    },
    {
      "cell_type": "code",
      "metadata": {
        "colab": {
          "base_uri": "https://localhost:8080/",
          "height": 35
        },
        "id": "eOnbY4wd3W-R",
        "outputId": "adf38722-39e8-41f1-c3c8-f404768da5bd"
      },
      "source": [
        "df_acc_top.iloc[0]['sitio']"
      ],
      "execution_count": null,
      "outputs": [
        {
          "output_type": "execute_result",
          "data": {
            "application/vnd.google.colaboratory.intrinsic+json": {
              "type": "string"
            },
            "text/plain": [
              "'VIA 40'"
            ]
          },
          "metadata": {},
          "execution_count": 70
        }
      ]
    },
    {
      "cell_type": "code",
      "metadata": {
        "id": "D-6nX3532Gwd"
      },
      "source": [
        "direccion = df_acc_top.iloc[0]['sitio'];\n",
        "place = geolocator.geocode(direccion+', Barranquilla, Colombia')"
      ],
      "execution_count": null,
      "outputs": []
    },
    {
      "cell_type": "code",
      "metadata": {
        "colab": {
          "base_uri": "https://localhost:8080/"
        },
        "id": "Kvqain9e2YLC",
        "outputId": "4b043057-230b-44cc-e7ac-54379cf8f419"
      },
      "source": [
        "print(place)"
      ],
      "execution_count": null,
      "outputs": [
        {
          "output_type": "stream",
          "name": "stdout",
          "text": [
            "Vía 40, Siape, Las Flores, Barranquilla, Atlántico, 080001, Colombia\n"
          ]
        }
      ]
    },
    {
      "cell_type": "code",
      "metadata": {
        "colab": {
          "base_uri": "https://localhost:8080/"
        },
        "id": "6ETTHVV023YB",
        "outputId": "f52f300b-7681-4745-cc10-3bc7c227012a"
      },
      "source": [
        "place.latitude"
      ],
      "execution_count": null,
      "outputs": [
        {
          "output_type": "execute_result",
          "data": {
            "text/plain": [
              "11.0320547"
            ]
          },
          "metadata": {},
          "execution_count": 73
        }
      ]
    },
    {
      "cell_type": "code",
      "metadata": {
        "colab": {
          "base_uri": "https://localhost:8080/"
        },
        "id": "GPYzHVQC3Crs",
        "outputId": "f5f9dc8d-2c74-4003-a5a3-17363bd4b16c"
      },
      "source": [
        "place.longitude"
      ],
      "execution_count": null,
      "outputs": [
        {
          "output_type": "execute_result",
          "data": {
            "text/plain": [
              "-74.8095839"
            ]
          },
          "metadata": {},
          "execution_count": 74
        }
      ]
    },
    {
      "cell_type": "markdown",
      "metadata": {
        "id": "LKdTlH-b6Efe"
      },
      "source": [
        "# **Folium**\n",
        "\n",
        "https://python-visualization.github.io/folium/"
      ]
    },
    {
      "cell_type": "code",
      "metadata": {
        "id": "fwOHpxqQ6Jwe"
      },
      "source": [
        "import folium as fl"
      ],
      "execution_count": null,
      "outputs": []
    },
    {
      "cell_type": "code",
      "metadata": {
        "colab": {
          "base_uri": "https://localhost:8080/",
          "height": 558
        },
        "id": "M7Jvf92F6MDG",
        "outputId": "63d3f740-63cc-4bb2-eeb2-6f310efeb3da"
      },
      "source": [
        "m = fl.Map(location=[place.latitude, place.longitude], zoom_start=16)\n",
        "m"
      ],
      "execution_count": null,
      "outputs": [
        {
          "output_type": "execute_result",
          "data": {
            "text/html": [
              "<div style=\"width:100%;\"><div style=\"position:relative;width:100%;height:0;padding-bottom:60%;\"><span style=\"color:#565656\">Make this Notebook Trusted to load map: File -> Trust Notebook</span><iframe src=\"about:blank\" style=\"position:absolute;width:100%;height:100%;left:0;top:0;border:none !important;\" data-html=%3C%21DOCTYPE%20html%3E%0A%3Chead%3E%20%20%20%20%0A%20%20%20%20%3Cmeta%20http-equiv%3D%22content-type%22%20content%3D%22text/html%3B%20charset%3DUTF-8%22%20/%3E%0A%20%20%20%20%3Cscript%3EL_PREFER_CANVAS%3Dfalse%3B%20L_NO_TOUCH%3Dfalse%3B%20L_DISABLE_3D%3Dfalse%3B%3C/script%3E%0A%20%20%20%20%3Cscript%20src%3D%22https%3A//cdn.jsdelivr.net/npm/leaflet%401.4.0/dist/leaflet.js%22%3E%3C/script%3E%0A%20%20%20%20%3Cscript%20src%3D%22https%3A//code.jquery.com/jquery-1.12.4.min.js%22%3E%3C/script%3E%0A%20%20%20%20%3Cscript%20src%3D%22https%3A//maxcdn.bootstrapcdn.com/bootstrap/3.2.0/js/bootstrap.min.js%22%3E%3C/script%3E%0A%20%20%20%20%3Cscript%20src%3D%22https%3A//cdnjs.cloudflare.com/ajax/libs/Leaflet.awesome-markers/2.0.2/leaflet.awesome-markers.js%22%3E%3C/script%3E%0A%20%20%20%20%3Clink%20rel%3D%22stylesheet%22%20href%3D%22https%3A//cdn.jsdelivr.net/npm/leaflet%401.4.0/dist/leaflet.css%22/%3E%0A%20%20%20%20%3Clink%20rel%3D%22stylesheet%22%20href%3D%22https%3A//maxcdn.bootstrapcdn.com/bootstrap/3.2.0/css/bootstrap.min.css%22/%3E%0A%20%20%20%20%3Clink%20rel%3D%22stylesheet%22%20href%3D%22https%3A//maxcdn.bootstrapcdn.com/bootstrap/3.2.0/css/bootstrap-theme.min.css%22/%3E%0A%20%20%20%20%3Clink%20rel%3D%22stylesheet%22%20href%3D%22https%3A//maxcdn.bootstrapcdn.com/font-awesome/4.6.3/css/font-awesome.min.css%22/%3E%0A%20%20%20%20%3Clink%20rel%3D%22stylesheet%22%20href%3D%22https%3A//cdnjs.cloudflare.com/ajax/libs/Leaflet.awesome-markers/2.0.2/leaflet.awesome-markers.css%22/%3E%0A%20%20%20%20%3Clink%20rel%3D%22stylesheet%22%20href%3D%22https%3A//rawcdn.githack.com/python-visualization/folium/master/folium/templates/leaflet.awesome.rotate.css%22/%3E%0A%20%20%20%20%3Cstyle%3Ehtml%2C%20body%20%7Bwidth%3A%20100%25%3Bheight%3A%20100%25%3Bmargin%3A%200%3Bpadding%3A%200%3B%7D%3C/style%3E%0A%20%20%20%20%3Cstyle%3E%23map%20%7Bposition%3Aabsolute%3Btop%3A0%3Bbottom%3A0%3Bright%3A0%3Bleft%3A0%3B%7D%3C/style%3E%0A%20%20%20%20%0A%20%20%20%20%3Cmeta%20name%3D%22viewport%22%20content%3D%22width%3Ddevice-width%2C%0A%20%20%20%20%20%20%20%20initial-scale%3D1.0%2C%20maximum-scale%3D1.0%2C%20user-scalable%3Dno%22%20/%3E%0A%20%20%20%20%3Cstyle%3E%23map_03333149e09343a3ac112fe8b693c4ca%20%7B%0A%20%20%20%20%20%20%20%20position%3A%20relative%3B%0A%20%20%20%20%20%20%20%20width%3A%20100.0%25%3B%0A%20%20%20%20%20%20%20%20height%3A%20100.0%25%3B%0A%20%20%20%20%20%20%20%20left%3A%200.0%25%3B%0A%20%20%20%20%20%20%20%20top%3A%200.0%25%3B%0A%20%20%20%20%20%20%20%20%7D%0A%20%20%20%20%3C/style%3E%0A%3C/head%3E%0A%3Cbody%3E%20%20%20%20%0A%20%20%20%20%0A%20%20%20%20%3Cdiv%20class%3D%22folium-map%22%20id%3D%22map_03333149e09343a3ac112fe8b693c4ca%22%20%3E%3C/div%3E%0A%3C/body%3E%0A%3Cscript%3E%20%20%20%20%0A%20%20%20%20%0A%20%20%20%20%0A%20%20%20%20%20%20%20%20var%20bounds%20%3D%20null%3B%0A%20%20%20%20%0A%0A%20%20%20%20var%20map_03333149e09343a3ac112fe8b693c4ca%20%3D%20L.map%28%0A%20%20%20%20%20%20%20%20%27map_03333149e09343a3ac112fe8b693c4ca%27%2C%20%7B%0A%20%20%20%20%20%20%20%20center%3A%20%5B11.0320547%2C%20-74.8095839%5D%2C%0A%20%20%20%20%20%20%20%20zoom%3A%2016%2C%0A%20%20%20%20%20%20%20%20maxBounds%3A%20bounds%2C%0A%20%20%20%20%20%20%20%20layers%3A%20%5B%5D%2C%0A%20%20%20%20%20%20%20%20worldCopyJump%3A%20false%2C%0A%20%20%20%20%20%20%20%20crs%3A%20L.CRS.EPSG3857%2C%0A%20%20%20%20%20%20%20%20zoomControl%3A%20true%2C%0A%20%20%20%20%20%20%20%20%7D%29%3B%0A%0A%0A%20%20%20%20%0A%20%20%20%20var%20tile_layer_cbc2aa0f8f444799bd3ccd685a1a5ebe%20%3D%20L.tileLayer%28%0A%20%20%20%20%20%20%20%20%27https%3A//%7Bs%7D.tile.openstreetmap.org/%7Bz%7D/%7Bx%7D/%7By%7D.png%27%2C%0A%20%20%20%20%20%20%20%20%7B%0A%20%20%20%20%20%20%20%20%22attribution%22%3A%20null%2C%0A%20%20%20%20%20%20%20%20%22detectRetina%22%3A%20false%2C%0A%20%20%20%20%20%20%20%20%22maxNativeZoom%22%3A%2018%2C%0A%20%20%20%20%20%20%20%20%22maxZoom%22%3A%2018%2C%0A%20%20%20%20%20%20%20%20%22minZoom%22%3A%200%2C%0A%20%20%20%20%20%20%20%20%22noWrap%22%3A%20false%2C%0A%20%20%20%20%20%20%20%20%22opacity%22%3A%201%2C%0A%20%20%20%20%20%20%20%20%22subdomains%22%3A%20%22abc%22%2C%0A%20%20%20%20%20%20%20%20%22tms%22%3A%20false%0A%7D%29.addTo%28map_03333149e09343a3ac112fe8b693c4ca%29%3B%0A%3C/script%3E onload=\"this.contentDocument.open();this.contentDocument.write(    decodeURIComponent(this.getAttribute('data-html')));this.contentDocument.close();\" allowfullscreen webkitallowfullscreen mozallowfullscreen></iframe></div></div>"
            ],
            "text/plain": [
              "<folium.folium.Map at 0x7f94621d1110>"
            ]
          },
          "metadata": {},
          "execution_count": 76
        }
      ]
    },
    {
      "cell_type": "markdown",
      "metadata": {
        "id": "JS1sBHYz6chY"
      },
      "source": [
        "# **Marker**"
      ]
    },
    {
      "cell_type": "code",
      "metadata": {
        "colab": {
          "base_uri": "https://localhost:8080/",
          "height": 558
        },
        "id": "qr0YtrrD6d_f",
        "outputId": "2ba85294-2d78-4873-efd6-5db02852b292"
      },
      "source": [
        "m = fl.Map(location=[place.latitude, place.longitude], zoom_start=16)\n",
        "fl.Marker(location=[place.latitude, place.longitude]).add_to(m)\n",
        "m"
      ],
      "execution_count": null,
      "outputs": [
        {
          "output_type": "execute_result",
          "data": {
            "text/html": [
              "<div style=\"width:100%;\"><div style=\"position:relative;width:100%;height:0;padding-bottom:60%;\"><span style=\"color:#565656\">Make this Notebook Trusted to load map: File -> Trust Notebook</span><iframe src=\"about:blank\" style=\"position:absolute;width:100%;height:100%;left:0;top:0;border:none !important;\" data-html=%3C%21DOCTYPE%20html%3E%0A%3Chead%3E%20%20%20%20%0A%20%20%20%20%3Cmeta%20http-equiv%3D%22content-type%22%20content%3D%22text/html%3B%20charset%3DUTF-8%22%20/%3E%0A%20%20%20%20%3Cscript%3EL_PREFER_CANVAS%3Dfalse%3B%20L_NO_TOUCH%3Dfalse%3B%20L_DISABLE_3D%3Dfalse%3B%3C/script%3E%0A%20%20%20%20%3Cscript%20src%3D%22https%3A//cdn.jsdelivr.net/npm/leaflet%401.4.0/dist/leaflet.js%22%3E%3C/script%3E%0A%20%20%20%20%3Cscript%20src%3D%22https%3A//code.jquery.com/jquery-1.12.4.min.js%22%3E%3C/script%3E%0A%20%20%20%20%3Cscript%20src%3D%22https%3A//maxcdn.bootstrapcdn.com/bootstrap/3.2.0/js/bootstrap.min.js%22%3E%3C/script%3E%0A%20%20%20%20%3Cscript%20src%3D%22https%3A//cdnjs.cloudflare.com/ajax/libs/Leaflet.awesome-markers/2.0.2/leaflet.awesome-markers.js%22%3E%3C/script%3E%0A%20%20%20%20%3Clink%20rel%3D%22stylesheet%22%20href%3D%22https%3A//cdn.jsdelivr.net/npm/leaflet%401.4.0/dist/leaflet.css%22/%3E%0A%20%20%20%20%3Clink%20rel%3D%22stylesheet%22%20href%3D%22https%3A//maxcdn.bootstrapcdn.com/bootstrap/3.2.0/css/bootstrap.min.css%22/%3E%0A%20%20%20%20%3Clink%20rel%3D%22stylesheet%22%20href%3D%22https%3A//maxcdn.bootstrapcdn.com/bootstrap/3.2.0/css/bootstrap-theme.min.css%22/%3E%0A%20%20%20%20%3Clink%20rel%3D%22stylesheet%22%20href%3D%22https%3A//maxcdn.bootstrapcdn.com/font-awesome/4.6.3/css/font-awesome.min.css%22/%3E%0A%20%20%20%20%3Clink%20rel%3D%22stylesheet%22%20href%3D%22https%3A//cdnjs.cloudflare.com/ajax/libs/Leaflet.awesome-markers/2.0.2/leaflet.awesome-markers.css%22/%3E%0A%20%20%20%20%3Clink%20rel%3D%22stylesheet%22%20href%3D%22https%3A//rawcdn.githack.com/python-visualization/folium/master/folium/templates/leaflet.awesome.rotate.css%22/%3E%0A%20%20%20%20%3Cstyle%3Ehtml%2C%20body%20%7Bwidth%3A%20100%25%3Bheight%3A%20100%25%3Bmargin%3A%200%3Bpadding%3A%200%3B%7D%3C/style%3E%0A%20%20%20%20%3Cstyle%3E%23map%20%7Bposition%3Aabsolute%3Btop%3A0%3Bbottom%3A0%3Bright%3A0%3Bleft%3A0%3B%7D%3C/style%3E%0A%20%20%20%20%0A%20%20%20%20%3Cmeta%20name%3D%22viewport%22%20content%3D%22width%3Ddevice-width%2C%0A%20%20%20%20%20%20%20%20initial-scale%3D1.0%2C%20maximum-scale%3D1.0%2C%20user-scalable%3Dno%22%20/%3E%0A%20%20%20%20%3Cstyle%3E%23map_c6868f82ba114615bdf120570a6abd6b%20%7B%0A%20%20%20%20%20%20%20%20position%3A%20relative%3B%0A%20%20%20%20%20%20%20%20width%3A%20100.0%25%3B%0A%20%20%20%20%20%20%20%20height%3A%20100.0%25%3B%0A%20%20%20%20%20%20%20%20left%3A%200.0%25%3B%0A%20%20%20%20%20%20%20%20top%3A%200.0%25%3B%0A%20%20%20%20%20%20%20%20%7D%0A%20%20%20%20%3C/style%3E%0A%3C/head%3E%0A%3Cbody%3E%20%20%20%20%0A%20%20%20%20%0A%20%20%20%20%3Cdiv%20class%3D%22folium-map%22%20id%3D%22map_c6868f82ba114615bdf120570a6abd6b%22%20%3E%3C/div%3E%0A%3C/body%3E%0A%3Cscript%3E%20%20%20%20%0A%20%20%20%20%0A%20%20%20%20%0A%20%20%20%20%20%20%20%20var%20bounds%20%3D%20null%3B%0A%20%20%20%20%0A%0A%20%20%20%20var%20map_c6868f82ba114615bdf120570a6abd6b%20%3D%20L.map%28%0A%20%20%20%20%20%20%20%20%27map_c6868f82ba114615bdf120570a6abd6b%27%2C%20%7B%0A%20%20%20%20%20%20%20%20center%3A%20%5B11.0320547%2C%20-74.8095839%5D%2C%0A%20%20%20%20%20%20%20%20zoom%3A%2016%2C%0A%20%20%20%20%20%20%20%20maxBounds%3A%20bounds%2C%0A%20%20%20%20%20%20%20%20layers%3A%20%5B%5D%2C%0A%20%20%20%20%20%20%20%20worldCopyJump%3A%20false%2C%0A%20%20%20%20%20%20%20%20crs%3A%20L.CRS.EPSG3857%2C%0A%20%20%20%20%20%20%20%20zoomControl%3A%20true%2C%0A%20%20%20%20%20%20%20%20%7D%29%3B%0A%0A%0A%20%20%20%20%0A%20%20%20%20var%20tile_layer_e7bf9dfd1d4e462d8b6061e554ef5ab6%20%3D%20L.tileLayer%28%0A%20%20%20%20%20%20%20%20%27https%3A//%7Bs%7D.tile.openstreetmap.org/%7Bz%7D/%7Bx%7D/%7By%7D.png%27%2C%0A%20%20%20%20%20%20%20%20%7B%0A%20%20%20%20%20%20%20%20%22attribution%22%3A%20null%2C%0A%20%20%20%20%20%20%20%20%22detectRetina%22%3A%20false%2C%0A%20%20%20%20%20%20%20%20%22maxNativeZoom%22%3A%2018%2C%0A%20%20%20%20%20%20%20%20%22maxZoom%22%3A%2018%2C%0A%20%20%20%20%20%20%20%20%22minZoom%22%3A%200%2C%0A%20%20%20%20%20%20%20%20%22noWrap%22%3A%20false%2C%0A%20%20%20%20%20%20%20%20%22opacity%22%3A%201%2C%0A%20%20%20%20%20%20%20%20%22subdomains%22%3A%20%22abc%22%2C%0A%20%20%20%20%20%20%20%20%22tms%22%3A%20false%0A%7D%29.addTo%28map_c6868f82ba114615bdf120570a6abd6b%29%3B%0A%20%20%20%20%0A%20%20%20%20%20%20%20%20var%20marker_cf89f7a782d1479681e1e7807fab5853%20%3D%20L.marker%28%0A%20%20%20%20%20%20%20%20%20%20%20%20%5B11.0320547%2C%20-74.8095839%5D%2C%0A%20%20%20%20%20%20%20%20%20%20%20%20%7B%0A%20%20%20%20%20%20%20%20%20%20%20%20%20%20%20%20icon%3A%20new%20L.Icon.Default%28%29%2C%0A%20%20%20%20%20%20%20%20%20%20%20%20%20%20%20%20%7D%0A%20%20%20%20%20%20%20%20%20%20%20%20%29.addTo%28map_c6868f82ba114615bdf120570a6abd6b%29%3B%0A%20%20%20%20%20%20%20%20%0A%3C/script%3E onload=\"this.contentDocument.open();this.contentDocument.write(    decodeURIComponent(this.getAttribute('data-html')));this.contentDocument.close();\" allowfullscreen webkitallowfullscreen mozallowfullscreen></iframe></div></div>"
            ],
            "text/plain": [
              "<folium.folium.Map at 0x7f94621d5ed0>"
            ]
          },
          "metadata": {},
          "execution_count": 77
        }
      ]
    },
    {
      "cell_type": "code",
      "metadata": {
        "colab": {
          "base_uri": "https://localhost:8080/",
          "height": 558
        },
        "id": "ClwYOKZI6pfs",
        "outputId": "93bbd3dc-2958-44ee-e3c7-2e3b2851ffa3"
      },
      "source": [
        "m = fl.Map(location=[place.latitude, place.longitude], zoom_start=16)\n",
        "fl.Marker(location=[place.latitude, place.longitude], popup=place.address).add_to(m)\n",
        "m"
      ],
      "execution_count": null,
      "outputs": [
        {
          "output_type": "execute_result",
          "data": {
            "text/html": [
              "<div style=\"width:100%;\"><div style=\"position:relative;width:100%;height:0;padding-bottom:60%;\"><span style=\"color:#565656\">Make this Notebook Trusted to load map: File -> Trust Notebook</span><iframe src=\"about:blank\" style=\"position:absolute;width:100%;height:100%;left:0;top:0;border:none !important;\" data-html=%3C%21DOCTYPE%20html%3E%0A%3Chead%3E%20%20%20%20%0A%20%20%20%20%3Cmeta%20http-equiv%3D%22content-type%22%20content%3D%22text/html%3B%20charset%3DUTF-8%22%20/%3E%0A%20%20%20%20%3Cscript%3EL_PREFER_CANVAS%3Dfalse%3B%20L_NO_TOUCH%3Dfalse%3B%20L_DISABLE_3D%3Dfalse%3B%3C/script%3E%0A%20%20%20%20%3Cscript%20src%3D%22https%3A//cdn.jsdelivr.net/npm/leaflet%401.4.0/dist/leaflet.js%22%3E%3C/script%3E%0A%20%20%20%20%3Cscript%20src%3D%22https%3A//code.jquery.com/jquery-1.12.4.min.js%22%3E%3C/script%3E%0A%20%20%20%20%3Cscript%20src%3D%22https%3A//maxcdn.bootstrapcdn.com/bootstrap/3.2.0/js/bootstrap.min.js%22%3E%3C/script%3E%0A%20%20%20%20%3Cscript%20src%3D%22https%3A//cdnjs.cloudflare.com/ajax/libs/Leaflet.awesome-markers/2.0.2/leaflet.awesome-markers.js%22%3E%3C/script%3E%0A%20%20%20%20%3Clink%20rel%3D%22stylesheet%22%20href%3D%22https%3A//cdn.jsdelivr.net/npm/leaflet%401.4.0/dist/leaflet.css%22/%3E%0A%20%20%20%20%3Clink%20rel%3D%22stylesheet%22%20href%3D%22https%3A//maxcdn.bootstrapcdn.com/bootstrap/3.2.0/css/bootstrap.min.css%22/%3E%0A%20%20%20%20%3Clink%20rel%3D%22stylesheet%22%20href%3D%22https%3A//maxcdn.bootstrapcdn.com/bootstrap/3.2.0/css/bootstrap-theme.min.css%22/%3E%0A%20%20%20%20%3Clink%20rel%3D%22stylesheet%22%20href%3D%22https%3A//maxcdn.bootstrapcdn.com/font-awesome/4.6.3/css/font-awesome.min.css%22/%3E%0A%20%20%20%20%3Clink%20rel%3D%22stylesheet%22%20href%3D%22https%3A//cdnjs.cloudflare.com/ajax/libs/Leaflet.awesome-markers/2.0.2/leaflet.awesome-markers.css%22/%3E%0A%20%20%20%20%3Clink%20rel%3D%22stylesheet%22%20href%3D%22https%3A//rawcdn.githack.com/python-visualization/folium/master/folium/templates/leaflet.awesome.rotate.css%22/%3E%0A%20%20%20%20%3Cstyle%3Ehtml%2C%20body%20%7Bwidth%3A%20100%25%3Bheight%3A%20100%25%3Bmargin%3A%200%3Bpadding%3A%200%3B%7D%3C/style%3E%0A%20%20%20%20%3Cstyle%3E%23map%20%7Bposition%3Aabsolute%3Btop%3A0%3Bbottom%3A0%3Bright%3A0%3Bleft%3A0%3B%7D%3C/style%3E%0A%20%20%20%20%0A%20%20%20%20%3Cmeta%20name%3D%22viewport%22%20content%3D%22width%3Ddevice-width%2C%0A%20%20%20%20%20%20%20%20initial-scale%3D1.0%2C%20maximum-scale%3D1.0%2C%20user-scalable%3Dno%22%20/%3E%0A%20%20%20%20%3Cstyle%3E%23map_d93a65f87c6a4a70b10fb2c3a32d1cec%20%7B%0A%20%20%20%20%20%20%20%20position%3A%20relative%3B%0A%20%20%20%20%20%20%20%20width%3A%20100.0%25%3B%0A%20%20%20%20%20%20%20%20height%3A%20100.0%25%3B%0A%20%20%20%20%20%20%20%20left%3A%200.0%25%3B%0A%20%20%20%20%20%20%20%20top%3A%200.0%25%3B%0A%20%20%20%20%20%20%20%20%7D%0A%20%20%20%20%3C/style%3E%0A%3C/head%3E%0A%3Cbody%3E%20%20%20%20%0A%20%20%20%20%0A%20%20%20%20%3Cdiv%20class%3D%22folium-map%22%20id%3D%22map_d93a65f87c6a4a70b10fb2c3a32d1cec%22%20%3E%3C/div%3E%0A%3C/body%3E%0A%3Cscript%3E%20%20%20%20%0A%20%20%20%20%0A%20%20%20%20%0A%20%20%20%20%20%20%20%20var%20bounds%20%3D%20null%3B%0A%20%20%20%20%0A%0A%20%20%20%20var%20map_d93a65f87c6a4a70b10fb2c3a32d1cec%20%3D%20L.map%28%0A%20%20%20%20%20%20%20%20%27map_d93a65f87c6a4a70b10fb2c3a32d1cec%27%2C%20%7B%0A%20%20%20%20%20%20%20%20center%3A%20%5B11.0320547%2C%20-74.8095839%5D%2C%0A%20%20%20%20%20%20%20%20zoom%3A%2016%2C%0A%20%20%20%20%20%20%20%20maxBounds%3A%20bounds%2C%0A%20%20%20%20%20%20%20%20layers%3A%20%5B%5D%2C%0A%20%20%20%20%20%20%20%20worldCopyJump%3A%20false%2C%0A%20%20%20%20%20%20%20%20crs%3A%20L.CRS.EPSG3857%2C%0A%20%20%20%20%20%20%20%20zoomControl%3A%20true%2C%0A%20%20%20%20%20%20%20%20%7D%29%3B%0A%0A%0A%20%20%20%20%0A%20%20%20%20var%20tile_layer_469913bac63d45cb8cdb1b8b5b8df3c4%20%3D%20L.tileLayer%28%0A%20%20%20%20%20%20%20%20%27https%3A//%7Bs%7D.tile.openstreetmap.org/%7Bz%7D/%7Bx%7D/%7By%7D.png%27%2C%0A%20%20%20%20%20%20%20%20%7B%0A%20%20%20%20%20%20%20%20%22attribution%22%3A%20null%2C%0A%20%20%20%20%20%20%20%20%22detectRetina%22%3A%20false%2C%0A%20%20%20%20%20%20%20%20%22maxNativeZoom%22%3A%2018%2C%0A%20%20%20%20%20%20%20%20%22maxZoom%22%3A%2018%2C%0A%20%20%20%20%20%20%20%20%22minZoom%22%3A%200%2C%0A%20%20%20%20%20%20%20%20%22noWrap%22%3A%20false%2C%0A%20%20%20%20%20%20%20%20%22opacity%22%3A%201%2C%0A%20%20%20%20%20%20%20%20%22subdomains%22%3A%20%22abc%22%2C%0A%20%20%20%20%20%20%20%20%22tms%22%3A%20false%0A%7D%29.addTo%28map_d93a65f87c6a4a70b10fb2c3a32d1cec%29%3B%0A%20%20%20%20%0A%20%20%20%20%20%20%20%20var%20marker_4810f5b8fb934bcb84d73ef6744bf1c0%20%3D%20L.marker%28%0A%20%20%20%20%20%20%20%20%20%20%20%20%5B11.0320547%2C%20-74.8095839%5D%2C%0A%20%20%20%20%20%20%20%20%20%20%20%20%7B%0A%20%20%20%20%20%20%20%20%20%20%20%20%20%20%20%20icon%3A%20new%20L.Icon.Default%28%29%2C%0A%20%20%20%20%20%20%20%20%20%20%20%20%20%20%20%20%7D%0A%20%20%20%20%20%20%20%20%20%20%20%20%29.addTo%28map_d93a65f87c6a4a70b10fb2c3a32d1cec%29%3B%0A%20%20%20%20%20%20%20%20%0A%20%20%20%20%0A%20%20%20%20%20%20%20%20%20%20%20%20var%20popup_5b1d5074bb7e43ac817c9e1e02a3543a%20%3D%20L.popup%28%7BmaxWidth%3A%20%27100%25%27%0A%20%20%20%20%20%20%20%20%20%20%20%20%0A%20%20%20%20%20%20%20%20%20%20%20%20%7D%29%3B%0A%0A%20%20%20%20%20%20%20%20%20%20%20%20%0A%20%20%20%20%20%20%20%20%20%20%20%20%20%20%20%20var%20html_0d96b6629b8c46599fd762c6d9d7a347%20%3D%20%24%28%60%3Cdiv%20id%3D%22html_0d96b6629b8c46599fd762c6d9d7a347%22%20style%3D%22width%3A%20100.0%25%3B%20height%3A%20100.0%25%3B%22%3EV%C3%ADa%2040%2C%20Siape%2C%20Las%20Flores%2C%20Barranquilla%2C%20Atl%C3%A1ntico%2C%20080001%2C%20Colombia%3C/div%3E%60%29%5B0%5D%3B%0A%20%20%20%20%20%20%20%20%20%20%20%20%20%20%20%20popup_5b1d5074bb7e43ac817c9e1e02a3543a.setContent%28html_0d96b6629b8c46599fd762c6d9d7a347%29%3B%0A%20%20%20%20%20%20%20%20%20%20%20%20%0A%0A%20%20%20%20%20%20%20%20%20%20%20%20marker_4810f5b8fb934bcb84d73ef6744bf1c0.bindPopup%28popup_5b1d5074bb7e43ac817c9e1e02a3543a%29%0A%20%20%20%20%20%20%20%20%20%20%20%20%3B%0A%0A%20%20%20%20%20%20%20%20%20%20%20%20%0A%20%20%20%20%20%20%20%20%0A%3C/script%3E onload=\"this.contentDocument.open();this.contentDocument.write(    decodeURIComponent(this.getAttribute('data-html')));this.contentDocument.close();\" allowfullscreen webkitallowfullscreen mozallowfullscreen></iframe></div></div>"
            ],
            "text/plain": [
              "<folium.folium.Map at 0x7f94621dc990>"
            ]
          },
          "metadata": {},
          "execution_count": 78
        }
      ]
    },
    {
      "cell_type": "code",
      "metadata": {
        "colab": {
          "base_uri": "https://localhost:8080/",
          "height": 515
        },
        "id": "Ya5mzCISztb-",
        "outputId": "949897f7-9189-4b89-bfb0-797c06dd3245"
      },
      "source": [
        "df_acc_top"
      ],
      "execution_count": null,
      "outputs": [
        {
          "output_type": "execute_result",
          "data": {
            "text/html": [
              "<div>\n",
              "<style scoped>\n",
              "    .dataframe tbody tr th:only-of-type {\n",
              "        vertical-align: middle;\n",
              "    }\n",
              "\n",
              "    .dataframe tbody tr th {\n",
              "        vertical-align: top;\n",
              "    }\n",
              "\n",
              "    .dataframe thead th {\n",
              "        text-align: right;\n",
              "    }\n",
              "</style>\n",
              "<table border=\"1\" class=\"dataframe\">\n",
              "  <thead>\n",
              "    <tr style=\"text-align: right;\">\n",
              "      <th></th>\n",
              "      <th>sitio</th>\n",
              "      <th>cantidad</th>\n",
              "    </tr>\n",
              "  </thead>\n",
              "  <tbody>\n",
              "    <tr>\n",
              "      <th>970</th>\n",
              "      <td>VIA 40</td>\n",
              "      <td>1715</td>\n",
              "    </tr>\n",
              "    <tr>\n",
              "      <th>170</th>\n",
              "      <td>CALLE 30</td>\n",
              "      <td>1635</td>\n",
              "    </tr>\n",
              "    <tr>\n",
              "      <th>106</th>\n",
              "      <td>CALLE 110</td>\n",
              "      <td>1507</td>\n",
              "    </tr>\n",
              "    <tr>\n",
              "      <th>550</th>\n",
              "      <td>CARRERA 38</td>\n",
              "      <td>1466</td>\n",
              "    </tr>\n",
              "    <tr>\n",
              "      <th>209</th>\n",
              "      <td>CALLE 45</td>\n",
              "      <td>1264</td>\n",
              "    </tr>\n",
              "    <tr>\n",
              "      <th>23</th>\n",
              "      <td>AV CIRCUNVALAR</td>\n",
              "      <td>1073</td>\n",
              "    </tr>\n",
              "    <tr>\n",
              "      <th>594</th>\n",
              "      <td>CARRERA 43</td>\n",
              "      <td>895</td>\n",
              "    </tr>\n",
              "    <tr>\n",
              "      <th>611</th>\n",
              "      <td>CARRERA 46</td>\n",
              "      <td>873</td>\n",
              "    </tr>\n",
              "    <tr>\n",
              "      <th>316</th>\n",
              "      <td>CALLE 72</td>\n",
              "      <td>660</td>\n",
              "    </tr>\n",
              "    <tr>\n",
              "      <th>601</th>\n",
              "      <td>CARRERA 44</td>\n",
              "      <td>645</td>\n",
              "    </tr>\n",
              "    <tr>\n",
              "      <th>145</th>\n",
              "      <td>CALLE 19</td>\n",
              "      <td>619</td>\n",
              "    </tr>\n",
              "    <tr>\n",
              "      <th>142</th>\n",
              "      <td>CALLE 17</td>\n",
              "      <td>608</td>\n",
              "    </tr>\n",
              "    <tr>\n",
              "      <th>644</th>\n",
              "      <td>CARRERA 53</td>\n",
              "      <td>554</td>\n",
              "    </tr>\n",
              "    <tr>\n",
              "      <th>369</th>\n",
              "      <td>CALLE 84</td>\n",
              "      <td>552</td>\n",
              "    </tr>\n",
              "    <tr>\n",
              "      <th>334</th>\n",
              "      <td>CALLE 76</td>\n",
              "      <td>497</td>\n",
              "    </tr>\n",
              "  </tbody>\n",
              "</table>\n",
              "</div>"
            ],
            "text/plain": [
              "              sitio  cantidad\n",
              "970          VIA 40      1715\n",
              "170        CALLE 30      1635\n",
              "106       CALLE 110      1507\n",
              "550      CARRERA 38      1466\n",
              "209        CALLE 45      1264\n",
              "23   AV CIRCUNVALAR      1073\n",
              "594      CARRERA 43       895\n",
              "611      CARRERA 46       873\n",
              "316        CALLE 72       660\n",
              "601      CARRERA 44       645\n",
              "145        CALLE 19       619\n",
              "142        CALLE 17       608\n",
              "644      CARRERA 53       554\n",
              "369        CALLE 84       552\n",
              "334        CALLE 76       497"
            ]
          },
          "metadata": {},
          "execution_count": 79
        }
      ]
    },
    {
      "cell_type": "code",
      "metadata": {
        "colab": {
          "base_uri": "https://localhost:8080/"
        },
        "id": "CcaXRcoB0GCh",
        "outputId": "65fd8011-eff7-4007-f8be-9d671c31aae7"
      },
      "source": [
        "df_acc_top.loc[334]"
      ],
      "execution_count": null,
      "outputs": [
        {
          "output_type": "execute_result",
          "data": {
            "text/plain": [
              "sitio       CALLE 76\n",
              "cantidad         497\n",
              "Name: 334, dtype: object"
            ]
          },
          "metadata": {},
          "execution_count": 94
        }
      ]
    },
    {
      "cell_type": "markdown",
      "metadata": {
        "id": "0rXHP1JI0cWJ"
      },
      "source": [
        "Christian - Q"
      ]
    },
    {
      "cell_type": "code",
      "metadata": {
        "id": "unn3eaWY0flh"
      },
      "source": [
        "df_acc_1 = df_acc_top.copy()"
      ],
      "execution_count": null,
      "outputs": []
    },
    {
      "cell_type": "code",
      "metadata": {
        "id": "vxJHKdc40jbu"
      },
      "source": [
        "df_acc_1.reset_index(inplace=True)"
      ],
      "execution_count": null,
      "outputs": []
    },
    {
      "cell_type": "code",
      "metadata": {
        "id": "YwwZLVN60nev"
      },
      "source": [
        "df_acc_1.drop(columns='index',inplace=True)"
      ],
      "execution_count": null,
      "outputs": []
    },
    {
      "cell_type": "code",
      "metadata": {
        "colab": {
          "base_uri": "https://localhost:8080/",
          "height": 515
        },
        "id": "b0z5xA4T0ve9",
        "outputId": "31f3e1d1-5e4c-4f36-bb91-696e19424159"
      },
      "source": [
        "df_acc_1"
      ],
      "execution_count": null,
      "outputs": [
        {
          "output_type": "execute_result",
          "data": {
            "text/html": [
              "<div>\n",
              "<style scoped>\n",
              "    .dataframe tbody tr th:only-of-type {\n",
              "        vertical-align: middle;\n",
              "    }\n",
              "\n",
              "    .dataframe tbody tr th {\n",
              "        vertical-align: top;\n",
              "    }\n",
              "\n",
              "    .dataframe thead th {\n",
              "        text-align: right;\n",
              "    }\n",
              "</style>\n",
              "<table border=\"1\" class=\"dataframe\">\n",
              "  <thead>\n",
              "    <tr style=\"text-align: right;\">\n",
              "      <th></th>\n",
              "      <th>sitio</th>\n",
              "      <th>cantidad</th>\n",
              "    </tr>\n",
              "  </thead>\n",
              "  <tbody>\n",
              "    <tr>\n",
              "      <th>0</th>\n",
              "      <td>VIA 40</td>\n",
              "      <td>1715</td>\n",
              "    </tr>\n",
              "    <tr>\n",
              "      <th>1</th>\n",
              "      <td>CALLE 30</td>\n",
              "      <td>1635</td>\n",
              "    </tr>\n",
              "    <tr>\n",
              "      <th>2</th>\n",
              "      <td>CALLE 110</td>\n",
              "      <td>1507</td>\n",
              "    </tr>\n",
              "    <tr>\n",
              "      <th>3</th>\n",
              "      <td>CARRERA 38</td>\n",
              "      <td>1466</td>\n",
              "    </tr>\n",
              "    <tr>\n",
              "      <th>4</th>\n",
              "      <td>CALLE 45</td>\n",
              "      <td>1264</td>\n",
              "    </tr>\n",
              "    <tr>\n",
              "      <th>5</th>\n",
              "      <td>AV CIRCUNVALAR</td>\n",
              "      <td>1073</td>\n",
              "    </tr>\n",
              "    <tr>\n",
              "      <th>6</th>\n",
              "      <td>CARRERA 43</td>\n",
              "      <td>895</td>\n",
              "    </tr>\n",
              "    <tr>\n",
              "      <th>7</th>\n",
              "      <td>CARRERA 46</td>\n",
              "      <td>873</td>\n",
              "    </tr>\n",
              "    <tr>\n",
              "      <th>8</th>\n",
              "      <td>CALLE 72</td>\n",
              "      <td>660</td>\n",
              "    </tr>\n",
              "    <tr>\n",
              "      <th>9</th>\n",
              "      <td>CARRERA 44</td>\n",
              "      <td>645</td>\n",
              "    </tr>\n",
              "    <tr>\n",
              "      <th>10</th>\n",
              "      <td>CALLE 19</td>\n",
              "      <td>619</td>\n",
              "    </tr>\n",
              "    <tr>\n",
              "      <th>11</th>\n",
              "      <td>CALLE 17</td>\n",
              "      <td>608</td>\n",
              "    </tr>\n",
              "    <tr>\n",
              "      <th>12</th>\n",
              "      <td>CARRERA 53</td>\n",
              "      <td>554</td>\n",
              "    </tr>\n",
              "    <tr>\n",
              "      <th>13</th>\n",
              "      <td>CALLE 84</td>\n",
              "      <td>552</td>\n",
              "    </tr>\n",
              "    <tr>\n",
              "      <th>14</th>\n",
              "      <td>CALLE 76</td>\n",
              "      <td>497</td>\n",
              "    </tr>\n",
              "  </tbody>\n",
              "</table>\n",
              "</div>"
            ],
            "text/plain": [
              "             sitio  cantidad\n",
              "0           VIA 40      1715\n",
              "1         CALLE 30      1635\n",
              "2        CALLE 110      1507\n",
              "3       CARRERA 38      1466\n",
              "4         CALLE 45      1264\n",
              "5   AV CIRCUNVALAR      1073\n",
              "6       CARRERA 43       895\n",
              "7       CARRERA 46       873\n",
              "8         CALLE 72       660\n",
              "9       CARRERA 44       645\n",
              "10        CALLE 19       619\n",
              "11        CALLE 17       608\n",
              "12      CARRERA 53       554\n",
              "13        CALLE 84       552\n",
              "14        CALLE 76       497"
            ]
          },
          "metadata": {},
          "execution_count": 93
        }
      ]
    },
    {
      "cell_type": "code",
      "metadata": {
        "colab": {
          "base_uri": "https://localhost:8080/"
        },
        "id": "pBlrO1p01FNd",
        "outputId": "d2dcd504-e82c-422d-9a8b-76dff3748136"
      },
      "source": [
        "geo = [];\n",
        "for indice in df_acc_top.index:\n",
        "  direccion = df_acc_top.loc[indice]['sitio'];\n",
        "  place = geolocator.geocode(direccion+', Barranquilla, Colombia')\n",
        "  geo.append(place);\n",
        "  print(place)"
      ],
      "execution_count": null,
      "outputs": [
        {
          "output_type": "stream",
          "name": "stdout",
          "text": [
            "Vía 40, Siape, Las Flores, Barranquilla, Atlántico, 080001, Colombia\n",
            "Carrera 43, Barranquillita, Barranquilla, Atlántico, 080002, Colombia\n",
            "Calle 110, Las Flores, Barranquilla, Atlántico, 80020, Colombia\n",
            "Carrera 38, Campo Alegre, Barranquilla, Atlántico, 080020, Colombia\n",
            "Calle 45, Ciudadela 20 de Julio, Barranquilla, Atlántico, 083001, Colombia\n",
            "Avenida Circunvalar, Los Olivos II, Barranquilla, Atlántico, 080020, Colombia\n",
            "Carrera 43, Barranquilla, Atlántico, 080001, Colombia\n",
            "Carrera 46, Barranquillita, Barranquilla, Atlántico, 080002, Colombia\n",
            "Calle 72, El Bosque, Barranquilla, Atlántico, 080006, Colombia\n",
            "Carrera 44, Barranquilla, Atlántico, 080001, Colombia\n",
            "Calle 19, Simón Bolívar, Barranquilla, Atlántico, 083002, Colombia\n",
            "Calle 17, Pasadena, Barranquilla, Atlántico, 083002, Colombia\n",
            "Carrera 53, Barranquilla, Atlántico, 080020, Colombia\n",
            "Calle 84, Barranquilla, Atlántico, 080001, Colombia\n",
            "Calle 76, Barranquilla, Atlántico, 080001, Colombia\n"
          ]
        }
      ]
    },
    {
      "cell_type": "code",
      "metadata": {
        "colab": {
          "base_uri": "https://localhost:8080/",
          "height": 558
        },
        "id": "qt8GNmJ3zz-a",
        "outputId": "f8652b60-7d31-4169-f031-03b87fc0b71f"
      },
      "source": [
        "m = fl.Map(location=[place.latitude, place.longitude], zoom_start=16)\n",
        "for lugar in geo:\n",
        "  fl.Marker(location=[lugar.latitude, lugar.longitude], popup=place.address).add_to(m)\n",
        "m"
      ],
      "execution_count": null,
      "outputs": [
        {
          "output_type": "execute_result",
          "data": {
            "text/html": [
              "<div style=\"width:100%;\"><div style=\"position:relative;width:100%;height:0;padding-bottom:60%;\"><span style=\"color:#565656\">Make this Notebook Trusted to load map: File -> Trust Notebook</span><iframe src=\"about:blank\" style=\"position:absolute;width:100%;height:100%;left:0;top:0;border:none !important;\" data-html=%3C%21DOCTYPE%20html%3E%0A%3Chead%3E%20%20%20%20%0A%20%20%20%20%3Cmeta%20http-equiv%3D%22content-type%22%20content%3D%22text/html%3B%20charset%3DUTF-8%22%20/%3E%0A%20%20%20%20%3Cscript%3EL_PREFER_CANVAS%3Dfalse%3B%20L_NO_TOUCH%3Dfalse%3B%20L_DISABLE_3D%3Dfalse%3B%3C/script%3E%0A%20%20%20%20%3Cscript%20src%3D%22https%3A//cdn.jsdelivr.net/npm/leaflet%401.4.0/dist/leaflet.js%22%3E%3C/script%3E%0A%20%20%20%20%3Cscript%20src%3D%22https%3A//code.jquery.com/jquery-1.12.4.min.js%22%3E%3C/script%3E%0A%20%20%20%20%3Cscript%20src%3D%22https%3A//maxcdn.bootstrapcdn.com/bootstrap/3.2.0/js/bootstrap.min.js%22%3E%3C/script%3E%0A%20%20%20%20%3Cscript%20src%3D%22https%3A//cdnjs.cloudflare.com/ajax/libs/Leaflet.awesome-markers/2.0.2/leaflet.awesome-markers.js%22%3E%3C/script%3E%0A%20%20%20%20%3Clink%20rel%3D%22stylesheet%22%20href%3D%22https%3A//cdn.jsdelivr.net/npm/leaflet%401.4.0/dist/leaflet.css%22/%3E%0A%20%20%20%20%3Clink%20rel%3D%22stylesheet%22%20href%3D%22https%3A//maxcdn.bootstrapcdn.com/bootstrap/3.2.0/css/bootstrap.min.css%22/%3E%0A%20%20%20%20%3Clink%20rel%3D%22stylesheet%22%20href%3D%22https%3A//maxcdn.bootstrapcdn.com/bootstrap/3.2.0/css/bootstrap-theme.min.css%22/%3E%0A%20%20%20%20%3Clink%20rel%3D%22stylesheet%22%20href%3D%22https%3A//maxcdn.bootstrapcdn.com/font-awesome/4.6.3/css/font-awesome.min.css%22/%3E%0A%20%20%20%20%3Clink%20rel%3D%22stylesheet%22%20href%3D%22https%3A//cdnjs.cloudflare.com/ajax/libs/Leaflet.awesome-markers/2.0.2/leaflet.awesome-markers.css%22/%3E%0A%20%20%20%20%3Clink%20rel%3D%22stylesheet%22%20href%3D%22https%3A//rawcdn.githack.com/python-visualization/folium/master/folium/templates/leaflet.awesome.rotate.css%22/%3E%0A%20%20%20%20%3Cstyle%3Ehtml%2C%20body%20%7Bwidth%3A%20100%25%3Bheight%3A%20100%25%3Bmargin%3A%200%3Bpadding%3A%200%3B%7D%3C/style%3E%0A%20%20%20%20%3Cstyle%3E%23map%20%7Bposition%3Aabsolute%3Btop%3A0%3Bbottom%3A0%3Bright%3A0%3Bleft%3A0%3B%7D%3C/style%3E%0A%20%20%20%20%0A%20%20%20%20%3Cmeta%20name%3D%22viewport%22%20content%3D%22width%3Ddevice-width%2C%0A%20%20%20%20%20%20%20%20initial-scale%3D1.0%2C%20maximum-scale%3D1.0%2C%20user-scalable%3Dno%22%20/%3E%0A%20%20%20%20%3Cstyle%3E%23map_59b205a6de164a029f41bbfc12bf981e%20%7B%0A%20%20%20%20%20%20%20%20position%3A%20relative%3B%0A%20%20%20%20%20%20%20%20width%3A%20100.0%25%3B%0A%20%20%20%20%20%20%20%20height%3A%20100.0%25%3B%0A%20%20%20%20%20%20%20%20left%3A%200.0%25%3B%0A%20%20%20%20%20%20%20%20top%3A%200.0%25%3B%0A%20%20%20%20%20%20%20%20%7D%0A%20%20%20%20%3C/style%3E%0A%3C/head%3E%0A%3Cbody%3E%20%20%20%20%0A%20%20%20%20%0A%20%20%20%20%3Cdiv%20class%3D%22folium-map%22%20id%3D%22map_59b205a6de164a029f41bbfc12bf981e%22%20%3E%3C/div%3E%0A%3C/body%3E%0A%3Cscript%3E%20%20%20%20%0A%20%20%20%20%0A%20%20%20%20%0A%20%20%20%20%20%20%20%20var%20bounds%20%3D%20null%3B%0A%20%20%20%20%0A%0A%20%20%20%20var%20map_59b205a6de164a029f41bbfc12bf981e%20%3D%20L.map%28%0A%20%20%20%20%20%20%20%20%27map_59b205a6de164a029f41bbfc12bf981e%27%2C%20%7B%0A%20%20%20%20%20%20%20%20center%3A%20%5B10.9890895%2C%20-74.814543%5D%2C%0A%20%20%20%20%20%20%20%20zoom%3A%2016%2C%0A%20%20%20%20%20%20%20%20maxBounds%3A%20bounds%2C%0A%20%20%20%20%20%20%20%20layers%3A%20%5B%5D%2C%0A%20%20%20%20%20%20%20%20worldCopyJump%3A%20false%2C%0A%20%20%20%20%20%20%20%20crs%3A%20L.CRS.EPSG3857%2C%0A%20%20%20%20%20%20%20%20zoomControl%3A%20true%2C%0A%20%20%20%20%20%20%20%20%7D%29%3B%0A%0A%0A%20%20%20%20%0A%20%20%20%20var%20tile_layer_e1e449e9b4964da5825606ebda86e87b%20%3D%20L.tileLayer%28%0A%20%20%20%20%20%20%20%20%27https%3A//%7Bs%7D.tile.openstreetmap.org/%7Bz%7D/%7Bx%7D/%7By%7D.png%27%2C%0A%20%20%20%20%20%20%20%20%7B%0A%20%20%20%20%20%20%20%20%22attribution%22%3A%20null%2C%0A%20%20%20%20%20%20%20%20%22detectRetina%22%3A%20false%2C%0A%20%20%20%20%20%20%20%20%22maxNativeZoom%22%3A%2018%2C%0A%20%20%20%20%20%20%20%20%22maxZoom%22%3A%2018%2C%0A%20%20%20%20%20%20%20%20%22minZoom%22%3A%200%2C%0A%20%20%20%20%20%20%20%20%22noWrap%22%3A%20false%2C%0A%20%20%20%20%20%20%20%20%22opacity%22%3A%201%2C%0A%20%20%20%20%20%20%20%20%22subdomains%22%3A%20%22abc%22%2C%0A%20%20%20%20%20%20%20%20%22tms%22%3A%20false%0A%7D%29.addTo%28map_59b205a6de164a029f41bbfc12bf981e%29%3B%0A%20%20%20%20%0A%20%20%20%20%20%20%20%20var%20marker_840df5e59270477b88fa97423ee0055f%20%3D%20L.marker%28%0A%20%20%20%20%20%20%20%20%20%20%20%20%5B11.0320547%2C%20-74.8095839%5D%2C%0A%20%20%20%20%20%20%20%20%20%20%20%20%7B%0A%20%20%20%20%20%20%20%20%20%20%20%20%20%20%20%20icon%3A%20new%20L.Icon.Default%28%29%2C%0A%20%20%20%20%20%20%20%20%20%20%20%20%20%20%20%20%7D%0A%20%20%20%20%20%20%20%20%20%20%20%20%29.addTo%28map_59b205a6de164a029f41bbfc12bf981e%29%3B%0A%20%20%20%20%20%20%20%20%0A%20%20%20%20%0A%20%20%20%20%20%20%20%20%20%20%20%20var%20popup_afc96815344b4d94a46f088b9d138d98%20%3D%20L.popup%28%7BmaxWidth%3A%20%27100%25%27%0A%20%20%20%20%20%20%20%20%20%20%20%20%0A%20%20%20%20%20%20%20%20%20%20%20%20%7D%29%3B%0A%0A%20%20%20%20%20%20%20%20%20%20%20%20%0A%20%20%20%20%20%20%20%20%20%20%20%20%20%20%20%20var%20html_7e96e467f51c493bbceaaecbd56352c9%20%3D%20%24%28%60%3Cdiv%20id%3D%22html_7e96e467f51c493bbceaaecbd56352c9%22%20style%3D%22width%3A%20100.0%25%3B%20height%3A%20100.0%25%3B%22%3ECalle%2076%2C%20Barranquilla%2C%20Atl%C3%A1ntico%2C%20080001%2C%20Colombia%3C/div%3E%60%29%5B0%5D%3B%0A%20%20%20%20%20%20%20%20%20%20%20%20%20%20%20%20popup_afc96815344b4d94a46f088b9d138d98.setContent%28html_7e96e467f51c493bbceaaecbd56352c9%29%3B%0A%20%20%20%20%20%20%20%20%20%20%20%20%0A%0A%20%20%20%20%20%20%20%20%20%20%20%20marker_840df5e59270477b88fa97423ee0055f.bindPopup%28popup_afc96815344b4d94a46f088b9d138d98%29%0A%20%20%20%20%20%20%20%20%20%20%20%20%3B%0A%0A%20%20%20%20%20%20%20%20%20%20%20%20%0A%20%20%20%20%20%20%20%20%0A%20%20%20%20%0A%20%20%20%20%20%20%20%20var%20marker_b560aaf466a74d3790c35040f3519546%20%3D%20L.marker%28%0A%20%20%20%20%20%20%20%20%20%20%20%20%5B10.9810232%2C%20-74.7762661%5D%2C%0A%20%20%20%20%20%20%20%20%20%20%20%20%7B%0A%20%20%20%20%20%20%20%20%20%20%20%20%20%20%20%20icon%3A%20new%20L.Icon.Default%28%29%2C%0A%20%20%20%20%20%20%20%20%20%20%20%20%20%20%20%20%7D%0A%20%20%20%20%20%20%20%20%20%20%20%20%29.addTo%28map_59b205a6de164a029f41bbfc12bf981e%29%3B%0A%20%20%20%20%20%20%20%20%0A%20%20%20%20%0A%20%20%20%20%20%20%20%20%20%20%20%20var%20popup_35ff6c3e9a1d4a7882ed64e47c154dfc%20%3D%20L.popup%28%7BmaxWidth%3A%20%27100%25%27%0A%20%20%20%20%20%20%20%20%20%20%20%20%0A%20%20%20%20%20%20%20%20%20%20%20%20%7D%29%3B%0A%0A%20%20%20%20%20%20%20%20%20%20%20%20%0A%20%20%20%20%20%20%20%20%20%20%20%20%20%20%20%20var%20html_c497eef00bd848098e21bf69281c1d4e%20%3D%20%24%28%60%3Cdiv%20id%3D%22html_c497eef00bd848098e21bf69281c1d4e%22%20style%3D%22width%3A%20100.0%25%3B%20height%3A%20100.0%25%3B%22%3ECalle%2076%2C%20Barranquilla%2C%20Atl%C3%A1ntico%2C%20080001%2C%20Colombia%3C/div%3E%60%29%5B0%5D%3B%0A%20%20%20%20%20%20%20%20%20%20%20%20%20%20%20%20popup_35ff6c3e9a1d4a7882ed64e47c154dfc.setContent%28html_c497eef00bd848098e21bf69281c1d4e%29%3B%0A%20%20%20%20%20%20%20%20%20%20%20%20%0A%0A%20%20%20%20%20%20%20%20%20%20%20%20marker_b560aaf466a74d3790c35040f3519546.bindPopup%28popup_35ff6c3e9a1d4a7882ed64e47c154dfc%29%0A%20%20%20%20%20%20%20%20%20%20%20%20%3B%0A%0A%20%20%20%20%20%20%20%20%20%20%20%20%0A%20%20%20%20%20%20%20%20%0A%20%20%20%20%0A%20%20%20%20%20%20%20%20var%20marker_0935ffd9ed24428b898b3fc0a6d0db52%20%3D%20L.marker%28%0A%20%20%20%20%20%20%20%20%20%20%20%20%5B11.0426022%2C%20-74.8298106%5D%2C%0A%20%20%20%20%20%20%20%20%20%20%20%20%7B%0A%20%20%20%20%20%20%20%20%20%20%20%20%20%20%20%20icon%3A%20new%20L.Icon.Default%28%29%2C%0A%20%20%20%20%20%20%20%20%20%20%20%20%20%20%20%20%7D%0A%20%20%20%20%20%20%20%20%20%20%20%20%29.addTo%28map_59b205a6de164a029f41bbfc12bf981e%29%3B%0A%20%20%20%20%20%20%20%20%0A%20%20%20%20%0A%20%20%20%20%20%20%20%20%20%20%20%20var%20popup_6a29ce09957a4a1592b8777909fd5804%20%3D%20L.popup%28%7BmaxWidth%3A%20%27100%25%27%0A%20%20%20%20%20%20%20%20%20%20%20%20%0A%20%20%20%20%20%20%20%20%20%20%20%20%7D%29%3B%0A%0A%20%20%20%20%20%20%20%20%20%20%20%20%0A%20%20%20%20%20%20%20%20%20%20%20%20%20%20%20%20var%20html_dc88a9c25389466c8a3b2d8cfd9257e8%20%3D%20%24%28%60%3Cdiv%20id%3D%22html_dc88a9c25389466c8a3b2d8cfd9257e8%22%20style%3D%22width%3A%20100.0%25%3B%20height%3A%20100.0%25%3B%22%3ECalle%2076%2C%20Barranquilla%2C%20Atl%C3%A1ntico%2C%20080001%2C%20Colombia%3C/div%3E%60%29%5B0%5D%3B%0A%20%20%20%20%20%20%20%20%20%20%20%20%20%20%20%20popup_6a29ce09957a4a1592b8777909fd5804.setContent%28html_dc88a9c25389466c8a3b2d8cfd9257e8%29%3B%0A%20%20%20%20%20%20%20%20%20%20%20%20%0A%0A%20%20%20%20%20%20%20%20%20%20%20%20marker_0935ffd9ed24428b898b3fc0a6d0db52.bindPopup%28popup_6a29ce09957a4a1592b8777909fd5804%29%0A%20%20%20%20%20%20%20%20%20%20%20%20%3B%0A%0A%20%20%20%20%20%20%20%20%20%20%20%20%0A%20%20%20%20%20%20%20%20%0A%20%20%20%20%0A%20%20%20%20%20%20%20%20var%20marker_f53ed3dea98d4ef2a45ce973f61cdd30%20%3D%20L.marker%28%0A%20%20%20%20%20%20%20%20%20%20%20%20%5B10.9864022%2C%20-74.8298158%5D%2C%0A%20%20%20%20%20%20%20%20%20%20%20%20%7B%0A%20%20%20%20%20%20%20%20%20%20%20%20%20%20%20%20icon%3A%20new%20L.Icon.Default%28%29%2C%0A%20%20%20%20%20%20%20%20%20%20%20%20%20%20%20%20%7D%0A%20%20%20%20%20%20%20%20%20%20%20%20%29.addTo%28map_59b205a6de164a029f41bbfc12bf981e%29%3B%0A%20%20%20%20%20%20%20%20%0A%20%20%20%20%0A%20%20%20%20%20%20%20%20%20%20%20%20var%20popup_b0d6dc40f5b44cb39451b4f794f79320%20%3D%20L.popup%28%7BmaxWidth%3A%20%27100%25%27%0A%20%20%20%20%20%20%20%20%20%20%20%20%0A%20%20%20%20%20%20%20%20%20%20%20%20%7D%29%3B%0A%0A%20%20%20%20%20%20%20%20%20%20%20%20%0A%20%20%20%20%20%20%20%20%20%20%20%20%20%20%20%20var%20html_635d3f1e7bea44e08e975b02b8682207%20%3D%20%24%28%60%3Cdiv%20id%3D%22html_635d3f1e7bea44e08e975b02b8682207%22%20style%3D%22width%3A%20100.0%25%3B%20height%3A%20100.0%25%3B%22%3ECalle%2076%2C%20Barranquilla%2C%20Atl%C3%A1ntico%2C%20080001%2C%20Colombia%3C/div%3E%60%29%5B0%5D%3B%0A%20%20%20%20%20%20%20%20%20%20%20%20%20%20%20%20popup_b0d6dc40f5b44cb39451b4f794f79320.setContent%28html_635d3f1e7bea44e08e975b02b8682207%29%3B%0A%20%20%20%20%20%20%20%20%20%20%20%20%0A%0A%20%20%20%20%20%20%20%20%20%20%20%20marker_f53ed3dea98d4ef2a45ce973f61cdd30.bindPopup%28popup_b0d6dc40f5b44cb39451b4f794f79320%29%0A%20%20%20%20%20%20%20%20%20%20%20%20%3B%0A%0A%20%20%20%20%20%20%20%20%20%20%20%20%0A%20%20%20%20%20%20%20%20%0A%20%20%20%20%0A%20%20%20%20%20%20%20%20var%20marker_e221cd4ceac145b0b136162c4ada7be4%20%3D%20L.marker%28%0A%20%20%20%20%20%20%20%20%20%20%20%20%5B10.9274882%2C%20-74.7990498%5D%2C%0A%20%20%20%20%20%20%20%20%20%20%20%20%7B%0A%20%20%20%20%20%20%20%20%20%20%20%20%20%20%20%20icon%3A%20new%20L.Icon.Default%28%29%2C%0A%20%20%20%20%20%20%20%20%20%20%20%20%20%20%20%20%7D%0A%20%20%20%20%20%20%20%20%20%20%20%20%29.addTo%28map_59b205a6de164a029f41bbfc12bf981e%29%3B%0A%20%20%20%20%20%20%20%20%0A%20%20%20%20%0A%20%20%20%20%20%20%20%20%20%20%20%20var%20popup_709d36e8727546d0a11209462d94346f%20%3D%20L.popup%28%7BmaxWidth%3A%20%27100%25%27%0A%20%20%20%20%20%20%20%20%20%20%20%20%0A%20%20%20%20%20%20%20%20%20%20%20%20%7D%29%3B%0A%0A%20%20%20%20%20%20%20%20%20%20%20%20%0A%20%20%20%20%20%20%20%20%20%20%20%20%20%20%20%20var%20html_c2b44ceecca843a8a2cdc339b42bffa4%20%3D%20%24%28%60%3Cdiv%20id%3D%22html_c2b44ceecca843a8a2cdc339b42bffa4%22%20style%3D%22width%3A%20100.0%25%3B%20height%3A%20100.0%25%3B%22%3ECalle%2076%2C%20Barranquilla%2C%20Atl%C3%A1ntico%2C%20080001%2C%20Colombia%3C/div%3E%60%29%5B0%5D%3B%0A%20%20%20%20%20%20%20%20%20%20%20%20%20%20%20%20popup_709d36e8727546d0a11209462d94346f.setContent%28html_c2b44ceecca843a8a2cdc339b42bffa4%29%3B%0A%20%20%20%20%20%20%20%20%20%20%20%20%0A%0A%20%20%20%20%20%20%20%20%20%20%20%20marker_e221cd4ceac145b0b136162c4ada7be4.bindPopup%28popup_709d36e8727546d0a11209462d94346f%29%0A%20%20%20%20%20%20%20%20%20%20%20%20%3B%0A%0A%20%20%20%20%20%20%20%20%20%20%20%20%0A%20%20%20%20%20%20%20%20%0A%20%20%20%20%0A%20%20%20%20%20%20%20%20var%20marker_d313c9736ce2479dbc59ab3754efb693%20%3D%20L.marker%28%0A%20%20%20%20%20%20%20%20%20%20%20%20%5B10.9685506%2C%20-74.8381356%5D%2C%0A%20%20%20%20%20%20%20%20%20%20%20%20%7B%0A%20%20%20%20%20%20%20%20%20%20%20%20%20%20%20%20icon%3A%20new%20L.Icon.Default%28%29%2C%0A%20%20%20%20%20%20%20%20%20%20%20%20%20%20%20%20%7D%0A%20%20%20%20%20%20%20%20%20%20%20%20%29.addTo%28map_59b205a6de164a029f41bbfc12bf981e%29%3B%0A%20%20%20%20%20%20%20%20%0A%20%20%20%20%0A%20%20%20%20%20%20%20%20%20%20%20%20var%20popup_0f0d823444f84b7e866601d2f5bcfbc7%20%3D%20L.popup%28%7BmaxWidth%3A%20%27100%25%27%0A%20%20%20%20%20%20%20%20%20%20%20%20%0A%20%20%20%20%20%20%20%20%20%20%20%20%7D%29%3B%0A%0A%20%20%20%20%20%20%20%20%20%20%20%20%0A%20%20%20%20%20%20%20%20%20%20%20%20%20%20%20%20var%20html_ff8ab3aa5170499fa4a4309162415e45%20%3D%20%24%28%60%3Cdiv%20id%3D%22html_ff8ab3aa5170499fa4a4309162415e45%22%20style%3D%22width%3A%20100.0%25%3B%20height%3A%20100.0%25%3B%22%3ECalle%2076%2C%20Barranquilla%2C%20Atl%C3%A1ntico%2C%20080001%2C%20Colombia%3C/div%3E%60%29%5B0%5D%3B%0A%20%20%20%20%20%20%20%20%20%20%20%20%20%20%20%20popup_0f0d823444f84b7e866601d2f5bcfbc7.setContent%28html_ff8ab3aa5170499fa4a4309162415e45%29%3B%0A%20%20%20%20%20%20%20%20%20%20%20%20%0A%0A%20%20%20%20%20%20%20%20%20%20%20%20marker_d313c9736ce2479dbc59ab3754efb693.bindPopup%28popup_0f0d823444f84b7e866601d2f5bcfbc7%29%0A%20%20%20%20%20%20%20%20%20%20%20%20%3B%0A%0A%20%20%20%20%20%20%20%20%20%20%20%20%0A%20%20%20%20%20%20%20%20%0A%20%20%20%20%0A%20%20%20%20%20%20%20%20var%20marker_57d4d5236a48470a9af6b5bfe4a514be%20%3D%20L.marker%28%0A%20%20%20%20%20%20%20%20%20%20%20%20%5B10.9942654%2C%20-74.8115694%5D%2C%0A%20%20%20%20%20%20%20%20%20%20%20%20%7B%0A%20%20%20%20%20%20%20%20%20%20%20%20%20%20%20%20icon%3A%20new%20L.Icon.Default%28%29%2C%0A%20%20%20%20%20%20%20%20%20%20%20%20%20%20%20%20%7D%0A%20%20%20%20%20%20%20%20%20%20%20%20%29.addTo%28map_59b205a6de164a029f41bbfc12bf981e%29%3B%0A%20%20%20%20%20%20%20%20%0A%20%20%20%20%0A%20%20%20%20%20%20%20%20%20%20%20%20var%20popup_d0345e4af6d042eea485bd67767d2708%20%3D%20L.popup%28%7BmaxWidth%3A%20%27100%25%27%0A%20%20%20%20%20%20%20%20%20%20%20%20%0A%20%20%20%20%20%20%20%20%20%20%20%20%7D%29%3B%0A%0A%20%20%20%20%20%20%20%20%20%20%20%20%0A%20%20%20%20%20%20%20%20%20%20%20%20%20%20%20%20var%20html_2097d04f50d14be4b1795a1c0c42b2f9%20%3D%20%24%28%60%3Cdiv%20id%3D%22html_2097d04f50d14be4b1795a1c0c42b2f9%22%20style%3D%22width%3A%20100.0%25%3B%20height%3A%20100.0%25%3B%22%3ECalle%2076%2C%20Barranquilla%2C%20Atl%C3%A1ntico%2C%20080001%2C%20Colombia%3C/div%3E%60%29%5B0%5D%3B%0A%20%20%20%20%20%20%20%20%20%20%20%20%20%20%20%20popup_d0345e4af6d042eea485bd67767d2708.setContent%28html_2097d04f50d14be4b1795a1c0c42b2f9%29%3B%0A%20%20%20%20%20%20%20%20%20%20%20%20%0A%0A%20%20%20%20%20%20%20%20%20%20%20%20marker_57d4d5236a48470a9af6b5bfe4a514be.bindPopup%28popup_d0345e4af6d042eea485bd67767d2708%29%0A%20%20%20%20%20%20%20%20%20%20%20%20%3B%0A%0A%20%20%20%20%20%20%20%20%20%20%20%20%0A%20%20%20%20%20%20%20%20%0A%20%20%20%20%0A%20%20%20%20%20%20%20%20var%20marker_77973f1828be483c87a8efbf2ee42243%20%3D%20L.marker%28%0A%20%20%20%20%20%20%20%20%20%20%20%20%5B10.9852054%2C%20-74.7766225%5D%2C%0A%20%20%20%20%20%20%20%20%20%20%20%20%7B%0A%20%20%20%20%20%20%20%20%20%20%20%20%20%20%20%20icon%3A%20new%20L.Icon.Default%28%29%2C%0A%20%20%20%20%20%20%20%20%20%20%20%20%20%20%20%20%7D%0A%20%20%20%20%20%20%20%20%20%20%20%20%29.addTo%28map_59b205a6de164a029f41bbfc12bf981e%29%3B%0A%20%20%20%20%20%20%20%20%0A%20%20%20%20%0A%20%20%20%20%20%20%20%20%20%20%20%20var%20popup_dcd39c576e564f85a1eabbd7decebd38%20%3D%20L.popup%28%7BmaxWidth%3A%20%27100%25%27%0A%20%20%20%20%20%20%20%20%20%20%20%20%0A%20%20%20%20%20%20%20%20%20%20%20%20%7D%29%3B%0A%0A%20%20%20%20%20%20%20%20%20%20%20%20%0A%20%20%20%20%20%20%20%20%20%20%20%20%20%20%20%20var%20html_9b32ce00c5e14ec38d16ffeb0c45d5eb%20%3D%20%24%28%60%3Cdiv%20id%3D%22html_9b32ce00c5e14ec38d16ffeb0c45d5eb%22%20style%3D%22width%3A%20100.0%25%3B%20height%3A%20100.0%25%3B%22%3ECalle%2076%2C%20Barranquilla%2C%20Atl%C3%A1ntico%2C%20080001%2C%20Colombia%3C/div%3E%60%29%5B0%5D%3B%0A%20%20%20%20%20%20%20%20%20%20%20%20%20%20%20%20popup_dcd39c576e564f85a1eabbd7decebd38.setContent%28html_9b32ce00c5e14ec38d16ffeb0c45d5eb%29%3B%0A%20%20%20%20%20%20%20%20%20%20%20%20%0A%0A%20%20%20%20%20%20%20%20%20%20%20%20marker_77973f1828be483c87a8efbf2ee42243.bindPopup%28popup_dcd39c576e564f85a1eabbd7decebd38%29%0A%20%20%20%20%20%20%20%20%20%20%20%20%3B%0A%0A%20%20%20%20%20%20%20%20%20%20%20%20%0A%20%20%20%20%20%20%20%20%0A%20%20%20%20%0A%20%20%20%20%20%20%20%20var%20marker_d5bcb32349cb4727be82134ed91c5b94%20%3D%20L.marker%28%0A%20%20%20%20%20%20%20%20%20%20%20%20%5B10.9482054%2C%20-74.8166016%5D%2C%0A%20%20%20%20%20%20%20%20%20%20%20%20%7B%0A%20%20%20%20%20%20%20%20%20%20%20%20%20%20%20%20icon%3A%20new%20L.Icon.Default%28%29%2C%0A%20%20%20%20%20%20%20%20%20%20%20%20%20%20%20%20%7D%0A%20%20%20%20%20%20%20%20%20%20%20%20%29.addTo%28map_59b205a6de164a029f41bbfc12bf981e%29%3B%0A%20%20%20%20%20%20%20%20%0A%20%20%20%20%0A%20%20%20%20%20%20%20%20%20%20%20%20var%20popup_3f3e0d8e91104a18be5afb2a75394e07%20%3D%20L.popup%28%7BmaxWidth%3A%20%27100%25%27%0A%20%20%20%20%20%20%20%20%20%20%20%20%0A%20%20%20%20%20%20%20%20%20%20%20%20%7D%29%3B%0A%0A%20%20%20%20%20%20%20%20%20%20%20%20%0A%20%20%20%20%20%20%20%20%20%20%20%20%20%20%20%20var%20html_cbafd41ec97d402fb6e9398c31701757%20%3D%20%24%28%60%3Cdiv%20id%3D%22html_cbafd41ec97d402fb6e9398c31701757%22%20style%3D%22width%3A%20100.0%25%3B%20height%3A%20100.0%25%3B%22%3ECalle%2076%2C%20Barranquilla%2C%20Atl%C3%A1ntico%2C%20080001%2C%20Colombia%3C/div%3E%60%29%5B0%5D%3B%0A%20%20%20%20%20%20%20%20%20%20%20%20%20%20%20%20popup_3f3e0d8e91104a18be5afb2a75394e07.setContent%28html_cbafd41ec97d402fb6e9398c31701757%29%3B%0A%20%20%20%20%20%20%20%20%20%20%20%20%0A%0A%20%20%20%20%20%20%20%20%20%20%20%20marker_d5bcb32349cb4727be82134ed91c5b94.bindPopup%28popup_3f3e0d8e91104a18be5afb2a75394e07%29%0A%20%20%20%20%20%20%20%20%20%20%20%20%3B%0A%0A%20%20%20%20%20%20%20%20%20%20%20%20%0A%20%20%20%20%20%20%20%20%0A%20%20%20%20%0A%20%20%20%20%20%20%20%20var%20marker_4d83770a1f3548f4b9877808d634d8f5%20%3D%20L.marker%28%0A%20%20%20%20%20%20%20%20%20%20%20%20%5B10.9953288%2C%20-74.8109358%5D%2C%0A%20%20%20%20%20%20%20%20%20%20%20%20%7B%0A%20%20%20%20%20%20%20%20%20%20%20%20%20%20%20%20icon%3A%20new%20L.Icon.Default%28%29%2C%0A%20%20%20%20%20%20%20%20%20%20%20%20%20%20%20%20%7D%0A%20%20%20%20%20%20%20%20%20%20%20%20%29.addTo%28map_59b205a6de164a029f41bbfc12bf981e%29%3B%0A%20%20%20%20%20%20%20%20%0A%20%20%20%20%0A%20%20%20%20%20%20%20%20%20%20%20%20var%20popup_006c9c5d1b924418b26244f96a38b553%20%3D%20L.popup%28%7BmaxWidth%3A%20%27100%25%27%0A%20%20%20%20%20%20%20%20%20%20%20%20%0A%20%20%20%20%20%20%20%20%20%20%20%20%7D%29%3B%0A%0A%20%20%20%20%20%20%20%20%20%20%20%20%0A%20%20%20%20%20%20%20%20%20%20%20%20%20%20%20%20var%20html_140bb0a87e844a139bf95d668380b2fc%20%3D%20%24%28%60%3Cdiv%20id%3D%22html_140bb0a87e844a139bf95d668380b2fc%22%20style%3D%22width%3A%20100.0%25%3B%20height%3A%20100.0%25%3B%22%3ECalle%2076%2C%20Barranquilla%2C%20Atl%C3%A1ntico%2C%20080001%2C%20Colombia%3C/div%3E%60%29%5B0%5D%3B%0A%20%20%20%20%20%20%20%20%20%20%20%20%20%20%20%20popup_006c9c5d1b924418b26244f96a38b553.setContent%28html_140bb0a87e844a139bf95d668380b2fc%29%3B%0A%20%20%20%20%20%20%20%20%20%20%20%20%0A%0A%20%20%20%20%20%20%20%20%20%20%20%20marker_4d83770a1f3548f4b9877808d634d8f5.bindPopup%28popup_006c9c5d1b924418b26244f96a38b553%29%0A%20%20%20%20%20%20%20%20%20%20%20%20%3B%0A%0A%20%20%20%20%20%20%20%20%20%20%20%20%0A%20%20%20%20%20%20%20%20%0A%20%20%20%20%0A%20%20%20%20%20%20%20%20var%20marker_b9ad5bc244234d5d953689471475655e%20%3D%20L.marker%28%0A%20%20%20%20%20%20%20%20%20%20%20%20%5B10.9489219%2C%20-74.7750192%5D%2C%0A%20%20%20%20%20%20%20%20%20%20%20%20%7B%0A%20%20%20%20%20%20%20%20%20%20%20%20%20%20%20%20icon%3A%20new%20L.Icon.Default%28%29%2C%0A%20%20%20%20%20%20%20%20%20%20%20%20%20%20%20%20%7D%0A%20%20%20%20%20%20%20%20%20%20%20%20%29.addTo%28map_59b205a6de164a029f41bbfc12bf981e%29%3B%0A%20%20%20%20%20%20%20%20%0A%20%20%20%20%0A%20%20%20%20%20%20%20%20%20%20%20%20var%20popup_5231cf4d98e84781b7fe99575b2d9c65%20%3D%20L.popup%28%7BmaxWidth%3A%20%27100%25%27%0A%20%20%20%20%20%20%20%20%20%20%20%20%0A%20%20%20%20%20%20%20%20%20%20%20%20%7D%29%3B%0A%0A%20%20%20%20%20%20%20%20%20%20%20%20%0A%20%20%20%20%20%20%20%20%20%20%20%20%20%20%20%20var%20html_bdd731842d4f429f95b5188d12d8dbb2%20%3D%20%24%28%60%3Cdiv%20id%3D%22html_bdd731842d4f429f95b5188d12d8dbb2%22%20style%3D%22width%3A%20100.0%25%3B%20height%3A%20100.0%25%3B%22%3ECalle%2076%2C%20Barranquilla%2C%20Atl%C3%A1ntico%2C%20080001%2C%20Colombia%3C/div%3E%60%29%5B0%5D%3B%0A%20%20%20%20%20%20%20%20%20%20%20%20%20%20%20%20popup_5231cf4d98e84781b7fe99575b2d9c65.setContent%28html_bdd731842d4f429f95b5188d12d8dbb2%29%3B%0A%20%20%20%20%20%20%20%20%20%20%20%20%0A%0A%20%20%20%20%20%20%20%20%20%20%20%20marker_b9ad5bc244234d5d953689471475655e.bindPopup%28popup_5231cf4d98e84781b7fe99575b2d9c65%29%0A%20%20%20%20%20%20%20%20%20%20%20%20%3B%0A%0A%20%20%20%20%20%20%20%20%20%20%20%20%0A%20%20%20%20%20%20%20%20%0A%20%20%20%20%0A%20%20%20%20%20%20%20%20var%20marker_83b283b1e9864fdcbb22243d67274e87%20%3D%20L.marker%28%0A%20%20%20%20%20%20%20%20%20%20%20%20%5B10.948642%2C%20-74.7737087%5D%2C%0A%20%20%20%20%20%20%20%20%20%20%20%20%7B%0A%20%20%20%20%20%20%20%20%20%20%20%20%20%20%20%20icon%3A%20new%20L.Icon.Default%28%29%2C%0A%20%20%20%20%20%20%20%20%20%20%20%20%20%20%20%20%7D%0A%20%20%20%20%20%20%20%20%20%20%20%20%29.addTo%28map_59b205a6de164a029f41bbfc12bf981e%29%3B%0A%20%20%20%20%20%20%20%20%0A%20%20%20%20%0A%20%20%20%20%20%20%20%20%20%20%20%20var%20popup_8393fa63f276401596e01e4deafeee2b%20%3D%20L.popup%28%7BmaxWidth%3A%20%27100%25%27%0A%20%20%20%20%20%20%20%20%20%20%20%20%0A%20%20%20%20%20%20%20%20%20%20%20%20%7D%29%3B%0A%0A%20%20%20%20%20%20%20%20%20%20%20%20%0A%20%20%20%20%20%20%20%20%20%20%20%20%20%20%20%20var%20html_d727f16f8d764926833367081830dce1%20%3D%20%24%28%60%3Cdiv%20id%3D%22html_d727f16f8d764926833367081830dce1%22%20style%3D%22width%3A%20100.0%25%3B%20height%3A%20100.0%25%3B%22%3ECalle%2076%2C%20Barranquilla%2C%20Atl%C3%A1ntico%2C%20080001%2C%20Colombia%3C/div%3E%60%29%5B0%5D%3B%0A%20%20%20%20%20%20%20%20%20%20%20%20%20%20%20%20popup_8393fa63f276401596e01e4deafeee2b.setContent%28html_d727f16f8d764926833367081830dce1%29%3B%0A%20%20%20%20%20%20%20%20%20%20%20%20%0A%0A%20%20%20%20%20%20%20%20%20%20%20%20marker_83b283b1e9864fdcbb22243d67274e87.bindPopup%28popup_8393fa63f276401596e01e4deafeee2b%29%0A%20%20%20%20%20%20%20%20%20%20%20%20%3B%0A%0A%20%20%20%20%20%20%20%20%20%20%20%20%0A%20%20%20%20%20%20%20%20%0A%20%20%20%20%0A%20%20%20%20%20%20%20%20var%20marker_29c806fb5b074ea9937b16a6f923fb00%20%3D%20L.marker%28%0A%20%20%20%20%20%20%20%20%20%20%20%20%5B11.0188213%2C%20-74.8370381%5D%2C%0A%20%20%20%20%20%20%20%20%20%20%20%20%7B%0A%20%20%20%20%20%20%20%20%20%20%20%20%20%20%20%20icon%3A%20new%20L.Icon.Default%28%29%2C%0A%20%20%20%20%20%20%20%20%20%20%20%20%20%20%20%20%7D%0A%20%20%20%20%20%20%20%20%20%20%20%20%29.addTo%28map_59b205a6de164a029f41bbfc12bf981e%29%3B%0A%20%20%20%20%20%20%20%20%0A%20%20%20%20%0A%20%20%20%20%20%20%20%20%20%20%20%20var%20popup_5387dd758ffb4102ae70b7c7bc7ffc4a%20%3D%20L.popup%28%7BmaxWidth%3A%20%27100%25%27%0A%20%20%20%20%20%20%20%20%20%20%20%20%0A%20%20%20%20%20%20%20%20%20%20%20%20%7D%29%3B%0A%0A%20%20%20%20%20%20%20%20%20%20%20%20%0A%20%20%20%20%20%20%20%20%20%20%20%20%20%20%20%20var%20html_1ff4569518744d1ea65ccb882c3ad27a%20%3D%20%24%28%60%3Cdiv%20id%3D%22html_1ff4569518744d1ea65ccb882c3ad27a%22%20style%3D%22width%3A%20100.0%25%3B%20height%3A%20100.0%25%3B%22%3ECalle%2076%2C%20Barranquilla%2C%20Atl%C3%A1ntico%2C%20080001%2C%20Colombia%3C/div%3E%60%29%5B0%5D%3B%0A%20%20%20%20%20%20%20%20%20%20%20%20%20%20%20%20popup_5387dd758ffb4102ae70b7c7bc7ffc4a.setContent%28html_1ff4569518744d1ea65ccb882c3ad27a%29%3B%0A%20%20%20%20%20%20%20%20%20%20%20%20%0A%0A%20%20%20%20%20%20%20%20%20%20%20%20marker_29c806fb5b074ea9937b16a6f923fb00.bindPopup%28popup_5387dd758ffb4102ae70b7c7bc7ffc4a%29%0A%20%20%20%20%20%20%20%20%20%20%20%20%3B%0A%0A%20%20%20%20%20%20%20%20%20%20%20%20%0A%20%20%20%20%20%20%20%20%0A%20%20%20%20%0A%20%20%20%20%20%20%20%20var%20marker_7e3eaf06316243c4a51decae6d54f131%20%3D%20L.marker%28%0A%20%20%20%20%20%20%20%20%20%20%20%20%5B11.0076908%2C%20-74.8155762%5D%2C%0A%20%20%20%20%20%20%20%20%20%20%20%20%7B%0A%20%20%20%20%20%20%20%20%20%20%20%20%20%20%20%20icon%3A%20new%20L.Icon.Default%28%29%2C%0A%20%20%20%20%20%20%20%20%20%20%20%20%20%20%20%20%7D%0A%20%20%20%20%20%20%20%20%20%20%20%20%29.addTo%28map_59b205a6de164a029f41bbfc12bf981e%29%3B%0A%20%20%20%20%20%20%20%20%0A%20%20%20%20%0A%20%20%20%20%20%20%20%20%20%20%20%20var%20popup_77837c712c894255875da3f29f5fde17%20%3D%20L.popup%28%7BmaxWidth%3A%20%27100%25%27%0A%20%20%20%20%20%20%20%20%20%20%20%20%0A%20%20%20%20%20%20%20%20%20%20%20%20%7D%29%3B%0A%0A%20%20%20%20%20%20%20%20%20%20%20%20%0A%20%20%20%20%20%20%20%20%20%20%20%20%20%20%20%20var%20html_f737f4ad133f4a1388e79408ea2f2e71%20%3D%20%24%28%60%3Cdiv%20id%3D%22html_f737f4ad133f4a1388e79408ea2f2e71%22%20style%3D%22width%3A%20100.0%25%3B%20height%3A%20100.0%25%3B%22%3ECalle%2076%2C%20Barranquilla%2C%20Atl%C3%A1ntico%2C%20080001%2C%20Colombia%3C/div%3E%60%29%5B0%5D%3B%0A%20%20%20%20%20%20%20%20%20%20%20%20%20%20%20%20popup_77837c712c894255875da3f29f5fde17.setContent%28html_f737f4ad133f4a1388e79408ea2f2e71%29%3B%0A%20%20%20%20%20%20%20%20%20%20%20%20%0A%0A%20%20%20%20%20%20%20%20%20%20%20%20marker_7e3eaf06316243c4a51decae6d54f131.bindPopup%28popup_77837c712c894255875da3f29f5fde17%29%0A%20%20%20%20%20%20%20%20%20%20%20%20%3B%0A%0A%20%20%20%20%20%20%20%20%20%20%20%20%0A%20%20%20%20%20%20%20%20%0A%20%20%20%20%0A%20%20%20%20%20%20%20%20var%20marker_f71fc5bba10e4e82bf772e3831079d48%20%3D%20L.marker%28%0A%20%20%20%20%20%20%20%20%20%20%20%20%5B10.9890895%2C%20-74.814543%5D%2C%0A%20%20%20%20%20%20%20%20%20%20%20%20%7B%0A%20%20%20%20%20%20%20%20%20%20%20%20%20%20%20%20icon%3A%20new%20L.Icon.Default%28%29%2C%0A%20%20%20%20%20%20%20%20%20%20%20%20%20%20%20%20%7D%0A%20%20%20%20%20%20%20%20%20%20%20%20%29.addTo%28map_59b205a6de164a029f41bbfc12bf981e%29%3B%0A%20%20%20%20%20%20%20%20%0A%20%20%20%20%0A%20%20%20%20%20%20%20%20%20%20%20%20var%20popup_87d505865120415aa895b85f2ffb996a%20%3D%20L.popup%28%7BmaxWidth%3A%20%27100%25%27%0A%20%20%20%20%20%20%20%20%20%20%20%20%0A%20%20%20%20%20%20%20%20%20%20%20%20%7D%29%3B%0A%0A%20%20%20%20%20%20%20%20%20%20%20%20%0A%20%20%20%20%20%20%20%20%20%20%20%20%20%20%20%20var%20html_93bfb93a1e88442e968216d37c8237b0%20%3D%20%24%28%60%3Cdiv%20id%3D%22html_93bfb93a1e88442e968216d37c8237b0%22%20style%3D%22width%3A%20100.0%25%3B%20height%3A%20100.0%25%3B%22%3ECalle%2076%2C%20Barranquilla%2C%20Atl%C3%A1ntico%2C%20080001%2C%20Colombia%3C/div%3E%60%29%5B0%5D%3B%0A%20%20%20%20%20%20%20%20%20%20%20%20%20%20%20%20popup_87d505865120415aa895b85f2ffb996a.setContent%28html_93bfb93a1e88442e968216d37c8237b0%29%3B%0A%20%20%20%20%20%20%20%20%20%20%20%20%0A%0A%20%20%20%20%20%20%20%20%20%20%20%20marker_f71fc5bba10e4e82bf772e3831079d48.bindPopup%28popup_87d505865120415aa895b85f2ffb996a%29%0A%20%20%20%20%20%20%20%20%20%20%20%20%3B%0A%0A%20%20%20%20%20%20%20%20%20%20%20%20%0A%20%20%20%20%20%20%20%20%0A%3C/script%3E onload=\"this.contentDocument.open();this.contentDocument.write(    decodeURIComponent(this.getAttribute('data-html')));this.contentDocument.close();\" allowfullscreen webkitallowfullscreen mozallowfullscreen></iframe></div></div>"
            ],
            "text/plain": [
              "<folium.folium.Map at 0x7f945c91f490>"
            ]
          },
          "metadata": {},
          "execution_count": 100
        }
      ]
    },
    {
      "cell_type": "markdown",
      "metadata": {
        "id": "U65zfo__2Tty"
      },
      "source": [
        "# Choropleth - OpenStreetMap + Google Maps"
      ]
    },
    {
      "cell_type": "markdown",
      "metadata": {
        "id": "X-gELbg73rp_"
      },
      "source": [
        "## json - https://es.wikipedia.org/wiki/GeoJSON"
      ]
    },
    {
      "cell_type": "code",
      "metadata": {
        "colab": {
          "base_uri": "https://localhost:8080/"
        },
        "id": "HPAE_ev82dK_",
        "outputId": "ee682cb9-1ef0-4b55-f520-6d88e2ec17ad"
      },
      "source": [
        "geo = [];\n",
        "for indice in df_acc_top.index:\n",
        "  direccion = df_acc_top.loc[indice]['sitio'];\n",
        "  place = geolocator.geocode(direccion+', Barranquilla, Colombia', geometry='geojson')\n",
        "  geo.append(place);\n",
        "  print(place)"
      ],
      "execution_count": null,
      "outputs": [
        {
          "output_type": "stream",
          "name": "stdout",
          "text": [
            "Vía 40, Siape, Las Flores, Barranquilla, Atlántico, 080001, Colombia\n",
            "Carrera 43, Barranquillita, Barranquilla, Atlántico, 080002, Colombia\n",
            "Calle 110, Las Flores, Barranquilla, Atlántico, 80020, Colombia\n",
            "Carrera 38, Campo Alegre, Barranquilla, Atlántico, 080020, Colombia\n",
            "Calle 45, Ciudadela 20 de Julio, Barranquilla, Atlántico, 083001, Colombia\n",
            "Avenida Circunvalar, Los Olivos II, Barranquilla, Atlántico, 080020, Colombia\n",
            "Carrera 43, Barranquilla, Atlántico, 080001, Colombia\n",
            "Carrera 46, Barranquillita, Barranquilla, Atlántico, 080002, Colombia\n",
            "Calle 72, El Bosque, Barranquilla, Atlántico, 080006, Colombia\n",
            "Carrera 44, Barranquilla, Atlántico, 080001, Colombia\n",
            "Calle 19, Simón Bolívar, Barranquilla, Atlántico, 083002, Colombia\n",
            "Calle 17, Pasadena, Barranquilla, Atlántico, 083002, Colombia\n",
            "Carrera 53, Barranquilla, Atlántico, 080020, Colombia\n",
            "Calle 84, Barranquilla, Atlántico, 080001, Colombia\n",
            "Calle 76, Barranquilla, Atlántico, 080001, Colombia\n"
          ]
        }
      ]
    },
    {
      "cell_type": "code",
      "metadata": {
        "colab": {
          "base_uri": "https://localhost:8080/"
        },
        "id": "dTsBTCHO3HGS",
        "outputId": "19698a3e-f4d5-48eb-e4cf-7e29035d8f66"
      },
      "source": [
        "geo[0].raw['geojson']"
      ],
      "execution_count": null,
      "outputs": [
        {
          "output_type": "execute_result",
          "data": {
            "text/plain": [
              "{'coordinates': [[-74.8156779, 11.0363431],\n",
              "  [-74.815543, 11.0362474],\n",
              "  [-74.8130934, 11.0345108],\n",
              "  [-74.8121387, 11.0338473],\n",
              "  [-74.8116474, 11.0335057],\n",
              "  [-74.8107957, 11.0329138],\n",
              "  [-74.8095839, 11.0320547],\n",
              "  [-74.8085536, 11.031327],\n",
              "  [-74.8079578, 11.0308717],\n",
              "  [-74.8075155, 11.0304561],\n",
              "  [-74.8070814, 11.029997],\n",
              "  [-74.8065057, 11.0292941],\n",
              "  [-74.8056614, 11.0283371],\n",
              "  [-74.8044708, 11.0269876],\n",
              "  [-74.8038697, 11.0263118]],\n",
              " 'type': 'LineString'}"
            ]
          },
          "metadata": {},
          "execution_count": 103
        }
      ]
    },
    {
      "cell_type": "code",
      "metadata": {
        "colab": {
          "base_uri": "https://localhost:8080/",
          "height": 558
        },
        "id": "6LSU39de3XcU",
        "outputId": "8ce89e9c-d708-4440-ac27-c93e647f6d14"
      },
      "source": [
        "pl = geo[0];\n",
        "m = fl.Map(location=[place.latitude, place.longitude], zoom_start=16)\n",
        "fl.Choropleth(geo_data=pl.raw['geojson'], line_weight=12, line_color='red').add_to(m);\n",
        "m"
      ],
      "execution_count": null,
      "outputs": [
        {
          "output_type": "execute_result",
          "data": {
            "text/html": [
              "<div style=\"width:100%;\"><div style=\"position:relative;width:100%;height:0;padding-bottom:60%;\"><span style=\"color:#565656\">Make this Notebook Trusted to load map: File -> Trust Notebook</span><iframe src=\"about:blank\" style=\"position:absolute;width:100%;height:100%;left:0;top:0;border:none !important;\" data-html=%3C%21DOCTYPE%20html%3E%0A%3Chead%3E%20%20%20%20%0A%20%20%20%20%3Cmeta%20http-equiv%3D%22content-type%22%20content%3D%22text/html%3B%20charset%3DUTF-8%22%20/%3E%0A%20%20%20%20%3Cscript%3EL_PREFER_CANVAS%3Dfalse%3B%20L_NO_TOUCH%3Dfalse%3B%20L_DISABLE_3D%3Dfalse%3B%3C/script%3E%0A%20%20%20%20%3Cscript%20src%3D%22https%3A//cdn.jsdelivr.net/npm/leaflet%401.4.0/dist/leaflet.js%22%3E%3C/script%3E%0A%20%20%20%20%3Cscript%20src%3D%22https%3A//code.jquery.com/jquery-1.12.4.min.js%22%3E%3C/script%3E%0A%20%20%20%20%3Cscript%20src%3D%22https%3A//maxcdn.bootstrapcdn.com/bootstrap/3.2.0/js/bootstrap.min.js%22%3E%3C/script%3E%0A%20%20%20%20%3Cscript%20src%3D%22https%3A//cdnjs.cloudflare.com/ajax/libs/Leaflet.awesome-markers/2.0.2/leaflet.awesome-markers.js%22%3E%3C/script%3E%0A%20%20%20%20%3Clink%20rel%3D%22stylesheet%22%20href%3D%22https%3A//cdn.jsdelivr.net/npm/leaflet%401.4.0/dist/leaflet.css%22/%3E%0A%20%20%20%20%3Clink%20rel%3D%22stylesheet%22%20href%3D%22https%3A//maxcdn.bootstrapcdn.com/bootstrap/3.2.0/css/bootstrap.min.css%22/%3E%0A%20%20%20%20%3Clink%20rel%3D%22stylesheet%22%20href%3D%22https%3A//maxcdn.bootstrapcdn.com/bootstrap/3.2.0/css/bootstrap-theme.min.css%22/%3E%0A%20%20%20%20%3Clink%20rel%3D%22stylesheet%22%20href%3D%22https%3A//maxcdn.bootstrapcdn.com/font-awesome/4.6.3/css/font-awesome.min.css%22/%3E%0A%20%20%20%20%3Clink%20rel%3D%22stylesheet%22%20href%3D%22https%3A//cdnjs.cloudflare.com/ajax/libs/Leaflet.awesome-markers/2.0.2/leaflet.awesome-markers.css%22/%3E%0A%20%20%20%20%3Clink%20rel%3D%22stylesheet%22%20href%3D%22https%3A//rawcdn.githack.com/python-visualization/folium/master/folium/templates/leaflet.awesome.rotate.css%22/%3E%0A%20%20%20%20%3Cstyle%3Ehtml%2C%20body%20%7Bwidth%3A%20100%25%3Bheight%3A%20100%25%3Bmargin%3A%200%3Bpadding%3A%200%3B%7D%3C/style%3E%0A%20%20%20%20%3Cstyle%3E%23map%20%7Bposition%3Aabsolute%3Btop%3A0%3Bbottom%3A0%3Bright%3A0%3Bleft%3A0%3B%7D%3C/style%3E%0A%20%20%20%20%0A%20%20%20%20%3Cmeta%20name%3D%22viewport%22%20content%3D%22width%3Ddevice-width%2C%0A%20%20%20%20%20%20%20%20initial-scale%3D1.0%2C%20maximum-scale%3D1.0%2C%20user-scalable%3Dno%22%20/%3E%0A%20%20%20%20%3Cstyle%3E%23map_a7d9625240d54e57a0e021576750f16c%20%7B%0A%20%20%20%20%20%20%20%20position%3A%20relative%3B%0A%20%20%20%20%20%20%20%20width%3A%20100.0%25%3B%0A%20%20%20%20%20%20%20%20height%3A%20100.0%25%3B%0A%20%20%20%20%20%20%20%20left%3A%200.0%25%3B%0A%20%20%20%20%20%20%20%20top%3A%200.0%25%3B%0A%20%20%20%20%20%20%20%20%7D%0A%20%20%20%20%3C/style%3E%0A%3C/head%3E%0A%3Cbody%3E%20%20%20%20%0A%20%20%20%20%0A%20%20%20%20%3Cdiv%20class%3D%22folium-map%22%20id%3D%22map_a7d9625240d54e57a0e021576750f16c%22%20%3E%3C/div%3E%0A%3C/body%3E%0A%3Cscript%3E%20%20%20%20%0A%20%20%20%20%0A%20%20%20%20%0A%20%20%20%20%20%20%20%20var%20bounds%20%3D%20null%3B%0A%20%20%20%20%0A%0A%20%20%20%20var%20map_a7d9625240d54e57a0e021576750f16c%20%3D%20L.map%28%0A%20%20%20%20%20%20%20%20%27map_a7d9625240d54e57a0e021576750f16c%27%2C%20%7B%0A%20%20%20%20%20%20%20%20center%3A%20%5B10.9890895%2C%20-74.814543%5D%2C%0A%20%20%20%20%20%20%20%20zoom%3A%2016%2C%0A%20%20%20%20%20%20%20%20maxBounds%3A%20bounds%2C%0A%20%20%20%20%20%20%20%20layers%3A%20%5B%5D%2C%0A%20%20%20%20%20%20%20%20worldCopyJump%3A%20false%2C%0A%20%20%20%20%20%20%20%20crs%3A%20L.CRS.EPSG3857%2C%0A%20%20%20%20%20%20%20%20zoomControl%3A%20true%2C%0A%20%20%20%20%20%20%20%20%7D%29%3B%0A%0A%0A%20%20%20%20%0A%20%20%20%20var%20tile_layer_abe15ba64f81484da79da345f70c3e70%20%3D%20L.tileLayer%28%0A%20%20%20%20%20%20%20%20%27https%3A//%7Bs%7D.tile.openstreetmap.org/%7Bz%7D/%7Bx%7D/%7By%7D.png%27%2C%0A%20%20%20%20%20%20%20%20%7B%0A%20%20%20%20%20%20%20%20%22attribution%22%3A%20null%2C%0A%20%20%20%20%20%20%20%20%22detectRetina%22%3A%20false%2C%0A%20%20%20%20%20%20%20%20%22maxNativeZoom%22%3A%2018%2C%0A%20%20%20%20%20%20%20%20%22maxZoom%22%3A%2018%2C%0A%20%20%20%20%20%20%20%20%22minZoom%22%3A%200%2C%0A%20%20%20%20%20%20%20%20%22noWrap%22%3A%20false%2C%0A%20%20%20%20%20%20%20%20%22opacity%22%3A%201%2C%0A%20%20%20%20%20%20%20%20%22subdomains%22%3A%20%22abc%22%2C%0A%20%20%20%20%20%20%20%20%22tms%22%3A%20false%0A%7D%29.addTo%28map_a7d9625240d54e57a0e021576750f16c%29%3B%0A%20%20%20%20%0A%20%20%20%20%20%20%20%20%20%20%20%20var%20choropleth_68df0421d71844be9d13c3fa75c0a899%20%3D%20L.featureGroup%28%0A%20%20%20%20%20%20%20%20%20%20%20%20%20%20%20%20%29.addTo%28map_a7d9625240d54e57a0e021576750f16c%29%3B%0A%20%20%20%20%20%20%20%20%0A%20%20%20%20%0A%20%20%20%20%20%20%20%20var%20geo_json_d841b98fd3744e91a7b3007354dec336%20%3D%20L.geoJson%28%0A%20%20%20%20%20%20%20%20%20%20%20%20%7B%22features%22%3A%20%5B%7B%22geometry%22%3A%20%7B%22coordinates%22%3A%20%5B%5B-74.8156779%2C%2011.0363431%5D%2C%20%5B-74.815543%2C%2011.0362474%5D%2C%20%5B-74.8130934%2C%2011.0345108%5D%2C%20%5B-74.8121387%2C%2011.0338473%5D%2C%20%5B-74.8116474%2C%2011.0335057%5D%2C%20%5B-74.8107957%2C%2011.0329138%5D%2C%20%5B-74.8095839%2C%2011.0320547%5D%2C%20%5B-74.8085536%2C%2011.031327%5D%2C%20%5B-74.8079578%2C%2011.0308717%5D%2C%20%5B-74.8075155%2C%2011.0304561%5D%2C%20%5B-74.8070814%2C%2011.029997%5D%2C%20%5B-74.8065057%2C%2011.0292941%5D%2C%20%5B-74.8056614%2C%2011.0283371%5D%2C%20%5B-74.8044708%2C%2011.0269876%5D%2C%20%5B-74.8038697%2C%2011.0263118%5D%5D%2C%20%22type%22%3A%20%22LineString%22%7D%2C%20%22properties%22%3A%20%7B%22highlight%22%3A%20%7B%7D%2C%20%22style%22%3A%20%7B%22color%22%3A%20%22red%22%2C%20%22fillColor%22%3A%20%22blue%22%2C%20%22fillOpacity%22%3A%200.6%2C%20%22opacity%22%3A%201%2C%20%22weight%22%3A%2012%7D%7D%2C%20%22type%22%3A%20%22Feature%22%7D%5D%2C%20%22type%22%3A%20%22FeatureCollection%22%7D%2C%0A%20%20%20%20%20%20%20%20%20%20%20%20%7B%0A%20%20%20%20%20%20%20%20%20%20%20%20%7D%0A%20%20%20%20%20%20%20%20%29.addTo%28choropleth_68df0421d71844be9d13c3fa75c0a899%20%29%3B%0A%20%20%20%20%20%20%20%20geo_json_d841b98fd3744e91a7b3007354dec336.setStyle%28function%28feature%29%20%7Breturn%20feature.properties.style%3B%7D%29%3B%0A%20%20%20%20%20%20%20%20%0A%3C/script%3E onload=\"this.contentDocument.open();this.contentDocument.write(    decodeURIComponent(this.getAttribute('data-html')));this.contentDocument.close();\" allowfullscreen webkitallowfullscreen mozallowfullscreen></iframe></div></div>"
            ],
            "text/plain": [
              "<folium.folium.Map at 0x7f945c7d9ad0>"
            ]
          },
          "metadata": {},
          "execution_count": 105
        }
      ]
    },
    {
      "cell_type": "markdown",
      "metadata": {
        "id": "-J5_KqvD71c_"
      },
      "source": [
        "## Tiles - Folium\n",
        "\n",
        "https://python-visualization.github.io/folium/modules.html"
      ]
    },
    {
      "cell_type": "code",
      "metadata": {
        "colab": {
          "base_uri": "https://localhost:8080/",
          "height": 558
        },
        "id": "nvJji0LS5amu",
        "outputId": "15dc8bc3-b1f3-474c-ce3d-b14f27a7274b"
      },
      "source": [
        "pl = geo[0];\n",
        "m = fl.Map(location=[place.latitude, place.longitude], zoom_start=16, tiles='Stamen Toner')\n",
        "fl.Choropleth(geo_data=pl.raw['geojson'], line_weight=12, line_color='red').add_to(m);\n",
        "m"
      ],
      "execution_count": null,
      "outputs": [
        {
          "output_type": "execute_result",
          "data": {
            "text/html": [
              "<div style=\"width:100%;\"><div style=\"position:relative;width:100%;height:0;padding-bottom:60%;\"><span style=\"color:#565656\">Make this Notebook Trusted to load map: File -> Trust Notebook</span><iframe src=\"about:blank\" style=\"position:absolute;width:100%;height:100%;left:0;top:0;border:none !important;\" data-html=%3C%21DOCTYPE%20html%3E%0A%3Chead%3E%20%20%20%20%0A%20%20%20%20%3Cmeta%20http-equiv%3D%22content-type%22%20content%3D%22text/html%3B%20charset%3DUTF-8%22%20/%3E%0A%20%20%20%20%3Cscript%3EL_PREFER_CANVAS%3Dfalse%3B%20L_NO_TOUCH%3Dfalse%3B%20L_DISABLE_3D%3Dfalse%3B%3C/script%3E%0A%20%20%20%20%3Cscript%20src%3D%22https%3A//cdn.jsdelivr.net/npm/leaflet%401.4.0/dist/leaflet.js%22%3E%3C/script%3E%0A%20%20%20%20%3Cscript%20src%3D%22https%3A//code.jquery.com/jquery-1.12.4.min.js%22%3E%3C/script%3E%0A%20%20%20%20%3Cscript%20src%3D%22https%3A//maxcdn.bootstrapcdn.com/bootstrap/3.2.0/js/bootstrap.min.js%22%3E%3C/script%3E%0A%20%20%20%20%3Cscript%20src%3D%22https%3A//cdnjs.cloudflare.com/ajax/libs/Leaflet.awesome-markers/2.0.2/leaflet.awesome-markers.js%22%3E%3C/script%3E%0A%20%20%20%20%3Clink%20rel%3D%22stylesheet%22%20href%3D%22https%3A//cdn.jsdelivr.net/npm/leaflet%401.4.0/dist/leaflet.css%22/%3E%0A%20%20%20%20%3Clink%20rel%3D%22stylesheet%22%20href%3D%22https%3A//maxcdn.bootstrapcdn.com/bootstrap/3.2.0/css/bootstrap.min.css%22/%3E%0A%20%20%20%20%3Clink%20rel%3D%22stylesheet%22%20href%3D%22https%3A//maxcdn.bootstrapcdn.com/bootstrap/3.2.0/css/bootstrap-theme.min.css%22/%3E%0A%20%20%20%20%3Clink%20rel%3D%22stylesheet%22%20href%3D%22https%3A//maxcdn.bootstrapcdn.com/font-awesome/4.6.3/css/font-awesome.min.css%22/%3E%0A%20%20%20%20%3Clink%20rel%3D%22stylesheet%22%20href%3D%22https%3A//cdnjs.cloudflare.com/ajax/libs/Leaflet.awesome-markers/2.0.2/leaflet.awesome-markers.css%22/%3E%0A%20%20%20%20%3Clink%20rel%3D%22stylesheet%22%20href%3D%22https%3A//rawcdn.githack.com/python-visualization/folium/master/folium/templates/leaflet.awesome.rotate.css%22/%3E%0A%20%20%20%20%3Cstyle%3Ehtml%2C%20body%20%7Bwidth%3A%20100%25%3Bheight%3A%20100%25%3Bmargin%3A%200%3Bpadding%3A%200%3B%7D%3C/style%3E%0A%20%20%20%20%3Cstyle%3E%23map%20%7Bposition%3Aabsolute%3Btop%3A0%3Bbottom%3A0%3Bright%3A0%3Bleft%3A0%3B%7D%3C/style%3E%0A%20%20%20%20%0A%20%20%20%20%3Cmeta%20name%3D%22viewport%22%20content%3D%22width%3Ddevice-width%2C%0A%20%20%20%20%20%20%20%20initial-scale%3D1.0%2C%20maximum-scale%3D1.0%2C%20user-scalable%3Dno%22%20/%3E%0A%20%20%20%20%3Cstyle%3E%23map_98e008a5ff964f94bc0c11e2aef6dce6%20%7B%0A%20%20%20%20%20%20%20%20position%3A%20relative%3B%0A%20%20%20%20%20%20%20%20width%3A%20100.0%25%3B%0A%20%20%20%20%20%20%20%20height%3A%20100.0%25%3B%0A%20%20%20%20%20%20%20%20left%3A%200.0%25%3B%0A%20%20%20%20%20%20%20%20top%3A%200.0%25%3B%0A%20%20%20%20%20%20%20%20%7D%0A%20%20%20%20%3C/style%3E%0A%3C/head%3E%0A%3Cbody%3E%20%20%20%20%0A%20%20%20%20%0A%20%20%20%20%3Cdiv%20class%3D%22folium-map%22%20id%3D%22map_98e008a5ff964f94bc0c11e2aef6dce6%22%20%3E%3C/div%3E%0A%3C/body%3E%0A%3Cscript%3E%20%20%20%20%0A%20%20%20%20%0A%20%20%20%20%0A%20%20%20%20%20%20%20%20var%20bounds%20%3D%20null%3B%0A%20%20%20%20%0A%0A%20%20%20%20var%20map_98e008a5ff964f94bc0c11e2aef6dce6%20%3D%20L.map%28%0A%20%20%20%20%20%20%20%20%27map_98e008a5ff964f94bc0c11e2aef6dce6%27%2C%20%7B%0A%20%20%20%20%20%20%20%20center%3A%20%5B10.9890895%2C%20-74.814543%5D%2C%0A%20%20%20%20%20%20%20%20zoom%3A%2016%2C%0A%20%20%20%20%20%20%20%20maxBounds%3A%20bounds%2C%0A%20%20%20%20%20%20%20%20layers%3A%20%5B%5D%2C%0A%20%20%20%20%20%20%20%20worldCopyJump%3A%20false%2C%0A%20%20%20%20%20%20%20%20crs%3A%20L.CRS.EPSG3857%2C%0A%20%20%20%20%20%20%20%20zoomControl%3A%20true%2C%0A%20%20%20%20%20%20%20%20%7D%29%3B%0A%0A%0A%20%20%20%20%0A%20%20%20%20var%20tile_layer_196ce4b265084aaca2814c9917b4c5b1%20%3D%20L.tileLayer%28%0A%20%20%20%20%20%20%20%20%27https%3A//stamen-tiles-%7Bs%7D.a.ssl.fastly.net/toner/%7Bz%7D/%7Bx%7D/%7By%7D.png%27%2C%0A%20%20%20%20%20%20%20%20%7B%0A%20%20%20%20%20%20%20%20%22attribution%22%3A%20null%2C%0A%20%20%20%20%20%20%20%20%22detectRetina%22%3A%20false%2C%0A%20%20%20%20%20%20%20%20%22maxNativeZoom%22%3A%2018%2C%0A%20%20%20%20%20%20%20%20%22maxZoom%22%3A%2018%2C%0A%20%20%20%20%20%20%20%20%22minZoom%22%3A%200%2C%0A%20%20%20%20%20%20%20%20%22noWrap%22%3A%20false%2C%0A%20%20%20%20%20%20%20%20%22opacity%22%3A%201%2C%0A%20%20%20%20%20%20%20%20%22subdomains%22%3A%20%22abc%22%2C%0A%20%20%20%20%20%20%20%20%22tms%22%3A%20false%0A%7D%29.addTo%28map_98e008a5ff964f94bc0c11e2aef6dce6%29%3B%0A%20%20%20%20%0A%20%20%20%20%20%20%20%20%20%20%20%20var%20choropleth_667085247081440abb090eefabd4c8f9%20%3D%20L.featureGroup%28%0A%20%20%20%20%20%20%20%20%20%20%20%20%20%20%20%20%29.addTo%28map_98e008a5ff964f94bc0c11e2aef6dce6%29%3B%0A%20%20%20%20%20%20%20%20%0A%20%20%20%20%0A%20%20%20%20%20%20%20%20var%20geo_json_e51ff218e9b2467291caa7b686ed94f2%20%3D%20L.geoJson%28%0A%20%20%20%20%20%20%20%20%20%20%20%20%7B%22features%22%3A%20%5B%7B%22geometry%22%3A%20%7B%22coordinates%22%3A%20%5B%5B-74.8156779%2C%2011.0363431%5D%2C%20%5B-74.815543%2C%2011.0362474%5D%2C%20%5B-74.8130934%2C%2011.0345108%5D%2C%20%5B-74.8121387%2C%2011.0338473%5D%2C%20%5B-74.8116474%2C%2011.0335057%5D%2C%20%5B-74.8107957%2C%2011.0329138%5D%2C%20%5B-74.8095839%2C%2011.0320547%5D%2C%20%5B-74.8085536%2C%2011.031327%5D%2C%20%5B-74.8079578%2C%2011.0308717%5D%2C%20%5B-74.8075155%2C%2011.0304561%5D%2C%20%5B-74.8070814%2C%2011.029997%5D%2C%20%5B-74.8065057%2C%2011.0292941%5D%2C%20%5B-74.8056614%2C%2011.0283371%5D%2C%20%5B-74.8044708%2C%2011.0269876%5D%2C%20%5B-74.8038697%2C%2011.0263118%5D%5D%2C%20%22type%22%3A%20%22LineString%22%7D%2C%20%22properties%22%3A%20%7B%22highlight%22%3A%20%7B%7D%2C%20%22style%22%3A%20%7B%22color%22%3A%20%22red%22%2C%20%22fillColor%22%3A%20%22blue%22%2C%20%22fillOpacity%22%3A%200.6%2C%20%22opacity%22%3A%201%2C%20%22weight%22%3A%2012%7D%7D%2C%20%22type%22%3A%20%22Feature%22%7D%5D%2C%20%22type%22%3A%20%22FeatureCollection%22%7D%2C%0A%20%20%20%20%20%20%20%20%20%20%20%20%7B%0A%20%20%20%20%20%20%20%20%20%20%20%20%7D%0A%20%20%20%20%20%20%20%20%29.addTo%28choropleth_667085247081440abb090eefabd4c8f9%20%29%3B%0A%20%20%20%20%20%20%20%20geo_json_e51ff218e9b2467291caa7b686ed94f2.setStyle%28function%28feature%29%20%7Breturn%20feature.properties.style%3B%7D%29%3B%0A%20%20%20%20%20%20%20%20%0A%3C/script%3E onload=\"this.contentDocument.open();this.contentDocument.write(    decodeURIComponent(this.getAttribute('data-html')));this.contentDocument.close();\" allowfullscreen webkitallowfullscreen mozallowfullscreen></iframe></div></div>"
            ],
            "text/plain": [
              "<folium.folium.Map at 0x7f94622d72d0>"
            ]
          },
          "metadata": {},
          "execution_count": 109
        }
      ]
    },
    {
      "cell_type": "code",
      "metadata": {
        "colab": {
          "base_uri": "https://localhost:8080/",
          "height": 558
        },
        "id": "wPbmfNQc5spn",
        "outputId": "99102c8d-42ae-44a3-a148-0045f7b50dce"
      },
      "source": [
        "pl = geo[0];\n",
        "m = fl.Map(location=[place.latitude, place.longitude], zoom_start=16, tiles='Stamen Watercolor')\n",
        "fl.Choropleth(geo_data=pl.raw['geojson'], line_weight=12, line_color='red').add_to(m);\n",
        "m"
      ],
      "execution_count": null,
      "outputs": [
        {
          "output_type": "execute_result",
          "data": {
            "text/html": [
              "<div style=\"width:100%;\"><div style=\"position:relative;width:100%;height:0;padding-bottom:60%;\"><span style=\"color:#565656\">Make this Notebook Trusted to load map: File -> Trust Notebook</span><iframe src=\"about:blank\" style=\"position:absolute;width:100%;height:100%;left:0;top:0;border:none !important;\" data-html=%3C%21DOCTYPE%20html%3E%0A%3Chead%3E%20%20%20%20%0A%20%20%20%20%3Cmeta%20http-equiv%3D%22content-type%22%20content%3D%22text/html%3B%20charset%3DUTF-8%22%20/%3E%0A%20%20%20%20%3Cscript%3EL_PREFER_CANVAS%3Dfalse%3B%20L_NO_TOUCH%3Dfalse%3B%20L_DISABLE_3D%3Dfalse%3B%3C/script%3E%0A%20%20%20%20%3Cscript%20src%3D%22https%3A//cdn.jsdelivr.net/npm/leaflet%401.4.0/dist/leaflet.js%22%3E%3C/script%3E%0A%20%20%20%20%3Cscript%20src%3D%22https%3A//code.jquery.com/jquery-1.12.4.min.js%22%3E%3C/script%3E%0A%20%20%20%20%3Cscript%20src%3D%22https%3A//maxcdn.bootstrapcdn.com/bootstrap/3.2.0/js/bootstrap.min.js%22%3E%3C/script%3E%0A%20%20%20%20%3Cscript%20src%3D%22https%3A//cdnjs.cloudflare.com/ajax/libs/Leaflet.awesome-markers/2.0.2/leaflet.awesome-markers.js%22%3E%3C/script%3E%0A%20%20%20%20%3Clink%20rel%3D%22stylesheet%22%20href%3D%22https%3A//cdn.jsdelivr.net/npm/leaflet%401.4.0/dist/leaflet.css%22/%3E%0A%20%20%20%20%3Clink%20rel%3D%22stylesheet%22%20href%3D%22https%3A//maxcdn.bootstrapcdn.com/bootstrap/3.2.0/css/bootstrap.min.css%22/%3E%0A%20%20%20%20%3Clink%20rel%3D%22stylesheet%22%20href%3D%22https%3A//maxcdn.bootstrapcdn.com/bootstrap/3.2.0/css/bootstrap-theme.min.css%22/%3E%0A%20%20%20%20%3Clink%20rel%3D%22stylesheet%22%20href%3D%22https%3A//maxcdn.bootstrapcdn.com/font-awesome/4.6.3/css/font-awesome.min.css%22/%3E%0A%20%20%20%20%3Clink%20rel%3D%22stylesheet%22%20href%3D%22https%3A//cdnjs.cloudflare.com/ajax/libs/Leaflet.awesome-markers/2.0.2/leaflet.awesome-markers.css%22/%3E%0A%20%20%20%20%3Clink%20rel%3D%22stylesheet%22%20href%3D%22https%3A//rawcdn.githack.com/python-visualization/folium/master/folium/templates/leaflet.awesome.rotate.css%22/%3E%0A%20%20%20%20%3Cstyle%3Ehtml%2C%20body%20%7Bwidth%3A%20100%25%3Bheight%3A%20100%25%3Bmargin%3A%200%3Bpadding%3A%200%3B%7D%3C/style%3E%0A%20%20%20%20%3Cstyle%3E%23map%20%7Bposition%3Aabsolute%3Btop%3A0%3Bbottom%3A0%3Bright%3A0%3Bleft%3A0%3B%7D%3C/style%3E%0A%20%20%20%20%0A%20%20%20%20%3Cmeta%20name%3D%22viewport%22%20content%3D%22width%3Ddevice-width%2C%0A%20%20%20%20%20%20%20%20initial-scale%3D1.0%2C%20maximum-scale%3D1.0%2C%20user-scalable%3Dno%22%20/%3E%0A%20%20%20%20%3Cstyle%3E%23map_033e971faaee43b79edad2d34b5825d1%20%7B%0A%20%20%20%20%20%20%20%20position%3A%20relative%3B%0A%20%20%20%20%20%20%20%20width%3A%20100.0%25%3B%0A%20%20%20%20%20%20%20%20height%3A%20100.0%25%3B%0A%20%20%20%20%20%20%20%20left%3A%200.0%25%3B%0A%20%20%20%20%20%20%20%20top%3A%200.0%25%3B%0A%20%20%20%20%20%20%20%20%7D%0A%20%20%20%20%3C/style%3E%0A%3C/head%3E%0A%3Cbody%3E%20%20%20%20%0A%20%20%20%20%0A%20%20%20%20%3Cdiv%20class%3D%22folium-map%22%20id%3D%22map_033e971faaee43b79edad2d34b5825d1%22%20%3E%3C/div%3E%0A%3C/body%3E%0A%3Cscript%3E%20%20%20%20%0A%20%20%20%20%0A%20%20%20%20%0A%20%20%20%20%20%20%20%20var%20bounds%20%3D%20null%3B%0A%20%20%20%20%0A%0A%20%20%20%20var%20map_033e971faaee43b79edad2d34b5825d1%20%3D%20L.map%28%0A%20%20%20%20%20%20%20%20%27map_033e971faaee43b79edad2d34b5825d1%27%2C%20%7B%0A%20%20%20%20%20%20%20%20center%3A%20%5B10.9890895%2C%20-74.814543%5D%2C%0A%20%20%20%20%20%20%20%20zoom%3A%2016%2C%0A%20%20%20%20%20%20%20%20maxBounds%3A%20bounds%2C%0A%20%20%20%20%20%20%20%20layers%3A%20%5B%5D%2C%0A%20%20%20%20%20%20%20%20worldCopyJump%3A%20false%2C%0A%20%20%20%20%20%20%20%20crs%3A%20L.CRS.EPSG3857%2C%0A%20%20%20%20%20%20%20%20zoomControl%3A%20true%2C%0A%20%20%20%20%20%20%20%20%7D%29%3B%0A%0A%0A%20%20%20%20%0A%20%20%20%20var%20tile_layer_05257a0282e54abb86de539af785a149%20%3D%20L.tileLayer%28%0A%20%20%20%20%20%20%20%20%27https%3A//stamen-tiles-%7Bs%7D.a.ssl.fastly.net/watercolor/%7Bz%7D/%7Bx%7D/%7By%7D.jpg%27%2C%0A%20%20%20%20%20%20%20%20%7B%0A%20%20%20%20%20%20%20%20%22attribution%22%3A%20null%2C%0A%20%20%20%20%20%20%20%20%22detectRetina%22%3A%20false%2C%0A%20%20%20%20%20%20%20%20%22maxNativeZoom%22%3A%2018%2C%0A%20%20%20%20%20%20%20%20%22maxZoom%22%3A%2018%2C%0A%20%20%20%20%20%20%20%20%22minZoom%22%3A%200%2C%0A%20%20%20%20%20%20%20%20%22noWrap%22%3A%20false%2C%0A%20%20%20%20%20%20%20%20%22opacity%22%3A%201%2C%0A%20%20%20%20%20%20%20%20%22subdomains%22%3A%20%22abc%22%2C%0A%20%20%20%20%20%20%20%20%22tms%22%3A%20false%0A%7D%29.addTo%28map_033e971faaee43b79edad2d34b5825d1%29%3B%0A%20%20%20%20%0A%20%20%20%20%20%20%20%20%20%20%20%20var%20choropleth_cb20169bbbdf4c23ac859a9060b416cd%20%3D%20L.featureGroup%28%0A%20%20%20%20%20%20%20%20%20%20%20%20%20%20%20%20%29.addTo%28map_033e971faaee43b79edad2d34b5825d1%29%3B%0A%20%20%20%20%20%20%20%20%0A%20%20%20%20%0A%20%20%20%20%20%20%20%20var%20geo_json_abcec148412b42788999359176a6a1d5%20%3D%20L.geoJson%28%0A%20%20%20%20%20%20%20%20%20%20%20%20%7B%22features%22%3A%20%5B%7B%22geometry%22%3A%20%7B%22coordinates%22%3A%20%5B%5B-74.8156779%2C%2011.0363431%5D%2C%20%5B-74.815543%2C%2011.0362474%5D%2C%20%5B-74.8130934%2C%2011.0345108%5D%2C%20%5B-74.8121387%2C%2011.0338473%5D%2C%20%5B-74.8116474%2C%2011.0335057%5D%2C%20%5B-74.8107957%2C%2011.0329138%5D%2C%20%5B-74.8095839%2C%2011.0320547%5D%2C%20%5B-74.8085536%2C%2011.031327%5D%2C%20%5B-74.8079578%2C%2011.0308717%5D%2C%20%5B-74.8075155%2C%2011.0304561%5D%2C%20%5B-74.8070814%2C%2011.029997%5D%2C%20%5B-74.8065057%2C%2011.0292941%5D%2C%20%5B-74.8056614%2C%2011.0283371%5D%2C%20%5B-74.8044708%2C%2011.0269876%5D%2C%20%5B-74.8038697%2C%2011.0263118%5D%5D%2C%20%22type%22%3A%20%22LineString%22%7D%2C%20%22properties%22%3A%20%7B%22highlight%22%3A%20%7B%7D%2C%20%22style%22%3A%20%7B%22color%22%3A%20%22red%22%2C%20%22fillColor%22%3A%20%22blue%22%2C%20%22fillOpacity%22%3A%200.6%2C%20%22opacity%22%3A%201%2C%20%22weight%22%3A%2012%7D%7D%2C%20%22type%22%3A%20%22Feature%22%7D%5D%2C%20%22type%22%3A%20%22FeatureCollection%22%7D%2C%0A%20%20%20%20%20%20%20%20%20%20%20%20%7B%0A%20%20%20%20%20%20%20%20%20%20%20%20%7D%0A%20%20%20%20%20%20%20%20%29.addTo%28choropleth_cb20169bbbdf4c23ac859a9060b416cd%20%29%3B%0A%20%20%20%20%20%20%20%20geo_json_abcec148412b42788999359176a6a1d5.setStyle%28function%28feature%29%20%7Breturn%20feature.properties.style%3B%7D%29%3B%0A%20%20%20%20%20%20%20%20%0A%3C/script%3E onload=\"this.contentDocument.open();this.contentDocument.write(    decodeURIComponent(this.getAttribute('data-html')));this.contentDocument.close();\" allowfullscreen webkitallowfullscreen mozallowfullscreen></iframe></div></div>"
            ],
            "text/plain": [
              "<folium.folium.Map at 0x7f945c743a90>"
            ]
          },
          "metadata": {},
          "execution_count": 110
        }
      ]
    },
    {
      "cell_type": "code",
      "metadata": {
        "colab": {
          "base_uri": "https://localhost:8080/",
          "height": 558
        },
        "id": "tZ3H7e6_50Fr",
        "outputId": "55909803-8db9-40d8-8487-aaca17b8b8d4"
      },
      "source": [
        "pl = geo[0];\n",
        "m = fl.Map(location=[place.latitude, place.longitude], zoom_start=16, tiles='Stamen Terrain')\n",
        "fl.Choropleth(geo_data=pl.raw['geojson'], line_weight=12, line_color='red').add_to(m);\n",
        "m"
      ],
      "execution_count": null,
      "outputs": [
        {
          "output_type": "execute_result",
          "data": {
            "text/html": [
              "<div style=\"width:100%;\"><div style=\"position:relative;width:100%;height:0;padding-bottom:60%;\"><span style=\"color:#565656\">Make this Notebook Trusted to load map: File -> Trust Notebook</span><iframe src=\"about:blank\" style=\"position:absolute;width:100%;height:100%;left:0;top:0;border:none !important;\" data-html=%3C%21DOCTYPE%20html%3E%0A%3Chead%3E%20%20%20%20%0A%20%20%20%20%3Cmeta%20http-equiv%3D%22content-type%22%20content%3D%22text/html%3B%20charset%3DUTF-8%22%20/%3E%0A%20%20%20%20%3Cscript%3EL_PREFER_CANVAS%3Dfalse%3B%20L_NO_TOUCH%3Dfalse%3B%20L_DISABLE_3D%3Dfalse%3B%3C/script%3E%0A%20%20%20%20%3Cscript%20src%3D%22https%3A//cdn.jsdelivr.net/npm/leaflet%401.4.0/dist/leaflet.js%22%3E%3C/script%3E%0A%20%20%20%20%3Cscript%20src%3D%22https%3A//code.jquery.com/jquery-1.12.4.min.js%22%3E%3C/script%3E%0A%20%20%20%20%3Cscript%20src%3D%22https%3A//maxcdn.bootstrapcdn.com/bootstrap/3.2.0/js/bootstrap.min.js%22%3E%3C/script%3E%0A%20%20%20%20%3Cscript%20src%3D%22https%3A//cdnjs.cloudflare.com/ajax/libs/Leaflet.awesome-markers/2.0.2/leaflet.awesome-markers.js%22%3E%3C/script%3E%0A%20%20%20%20%3Clink%20rel%3D%22stylesheet%22%20href%3D%22https%3A//cdn.jsdelivr.net/npm/leaflet%401.4.0/dist/leaflet.css%22/%3E%0A%20%20%20%20%3Clink%20rel%3D%22stylesheet%22%20href%3D%22https%3A//maxcdn.bootstrapcdn.com/bootstrap/3.2.0/css/bootstrap.min.css%22/%3E%0A%20%20%20%20%3Clink%20rel%3D%22stylesheet%22%20href%3D%22https%3A//maxcdn.bootstrapcdn.com/bootstrap/3.2.0/css/bootstrap-theme.min.css%22/%3E%0A%20%20%20%20%3Clink%20rel%3D%22stylesheet%22%20href%3D%22https%3A//maxcdn.bootstrapcdn.com/font-awesome/4.6.3/css/font-awesome.min.css%22/%3E%0A%20%20%20%20%3Clink%20rel%3D%22stylesheet%22%20href%3D%22https%3A//cdnjs.cloudflare.com/ajax/libs/Leaflet.awesome-markers/2.0.2/leaflet.awesome-markers.css%22/%3E%0A%20%20%20%20%3Clink%20rel%3D%22stylesheet%22%20href%3D%22https%3A//rawcdn.githack.com/python-visualization/folium/master/folium/templates/leaflet.awesome.rotate.css%22/%3E%0A%20%20%20%20%3Cstyle%3Ehtml%2C%20body%20%7Bwidth%3A%20100%25%3Bheight%3A%20100%25%3Bmargin%3A%200%3Bpadding%3A%200%3B%7D%3C/style%3E%0A%20%20%20%20%3Cstyle%3E%23map%20%7Bposition%3Aabsolute%3Btop%3A0%3Bbottom%3A0%3Bright%3A0%3Bleft%3A0%3B%7D%3C/style%3E%0A%20%20%20%20%0A%20%20%20%20%3Cmeta%20name%3D%22viewport%22%20content%3D%22width%3Ddevice-width%2C%0A%20%20%20%20%20%20%20%20initial-scale%3D1.0%2C%20maximum-scale%3D1.0%2C%20user-scalable%3Dno%22%20/%3E%0A%20%20%20%20%3Cstyle%3E%23map_92b5106b69f54af19f92d84a1dd18881%20%7B%0A%20%20%20%20%20%20%20%20position%3A%20relative%3B%0A%20%20%20%20%20%20%20%20width%3A%20100.0%25%3B%0A%20%20%20%20%20%20%20%20height%3A%20100.0%25%3B%0A%20%20%20%20%20%20%20%20left%3A%200.0%25%3B%0A%20%20%20%20%20%20%20%20top%3A%200.0%25%3B%0A%20%20%20%20%20%20%20%20%7D%0A%20%20%20%20%3C/style%3E%0A%3C/head%3E%0A%3Cbody%3E%20%20%20%20%0A%20%20%20%20%0A%20%20%20%20%3Cdiv%20class%3D%22folium-map%22%20id%3D%22map_92b5106b69f54af19f92d84a1dd18881%22%20%3E%3C/div%3E%0A%3C/body%3E%0A%3Cscript%3E%20%20%20%20%0A%20%20%20%20%0A%20%20%20%20%0A%20%20%20%20%20%20%20%20var%20bounds%20%3D%20null%3B%0A%20%20%20%20%0A%0A%20%20%20%20var%20map_92b5106b69f54af19f92d84a1dd18881%20%3D%20L.map%28%0A%20%20%20%20%20%20%20%20%27map_92b5106b69f54af19f92d84a1dd18881%27%2C%20%7B%0A%20%20%20%20%20%20%20%20center%3A%20%5B10.9890895%2C%20-74.814543%5D%2C%0A%20%20%20%20%20%20%20%20zoom%3A%2016%2C%0A%20%20%20%20%20%20%20%20maxBounds%3A%20bounds%2C%0A%20%20%20%20%20%20%20%20layers%3A%20%5B%5D%2C%0A%20%20%20%20%20%20%20%20worldCopyJump%3A%20false%2C%0A%20%20%20%20%20%20%20%20crs%3A%20L.CRS.EPSG3857%2C%0A%20%20%20%20%20%20%20%20zoomControl%3A%20true%2C%0A%20%20%20%20%20%20%20%20%7D%29%3B%0A%0A%0A%20%20%20%20%0A%20%20%20%20var%20tile_layer_0f15dac5671f409a973529d432288e06%20%3D%20L.tileLayer%28%0A%20%20%20%20%20%20%20%20%27https%3A//stamen-tiles-%7Bs%7D.a.ssl.fastly.net/terrain/%7Bz%7D/%7Bx%7D/%7By%7D.jpg%27%2C%0A%20%20%20%20%20%20%20%20%7B%0A%20%20%20%20%20%20%20%20%22attribution%22%3A%20null%2C%0A%20%20%20%20%20%20%20%20%22detectRetina%22%3A%20false%2C%0A%20%20%20%20%20%20%20%20%22maxNativeZoom%22%3A%2018%2C%0A%20%20%20%20%20%20%20%20%22maxZoom%22%3A%2018%2C%0A%20%20%20%20%20%20%20%20%22minZoom%22%3A%200%2C%0A%20%20%20%20%20%20%20%20%22noWrap%22%3A%20false%2C%0A%20%20%20%20%20%20%20%20%22opacity%22%3A%201%2C%0A%20%20%20%20%20%20%20%20%22subdomains%22%3A%20%22abc%22%2C%0A%20%20%20%20%20%20%20%20%22tms%22%3A%20false%0A%7D%29.addTo%28map_92b5106b69f54af19f92d84a1dd18881%29%3B%0A%20%20%20%20%0A%20%20%20%20%20%20%20%20%20%20%20%20var%20choropleth_4485ac35b3a243c7bf346438aedec872%20%3D%20L.featureGroup%28%0A%20%20%20%20%20%20%20%20%20%20%20%20%20%20%20%20%29.addTo%28map_92b5106b69f54af19f92d84a1dd18881%29%3B%0A%20%20%20%20%20%20%20%20%0A%20%20%20%20%0A%20%20%20%20%20%20%20%20var%20geo_json_b6cc80422a4940819a96f3b80782f81b%20%3D%20L.geoJson%28%0A%20%20%20%20%20%20%20%20%20%20%20%20%7B%22features%22%3A%20%5B%7B%22geometry%22%3A%20%7B%22coordinates%22%3A%20%5B%5B-74.8156779%2C%2011.0363431%5D%2C%20%5B-74.815543%2C%2011.0362474%5D%2C%20%5B-74.8130934%2C%2011.0345108%5D%2C%20%5B-74.8121387%2C%2011.0338473%5D%2C%20%5B-74.8116474%2C%2011.0335057%5D%2C%20%5B-74.8107957%2C%2011.0329138%5D%2C%20%5B-74.8095839%2C%2011.0320547%5D%2C%20%5B-74.8085536%2C%2011.031327%5D%2C%20%5B-74.8079578%2C%2011.0308717%5D%2C%20%5B-74.8075155%2C%2011.0304561%5D%2C%20%5B-74.8070814%2C%2011.029997%5D%2C%20%5B-74.8065057%2C%2011.0292941%5D%2C%20%5B-74.8056614%2C%2011.0283371%5D%2C%20%5B-74.8044708%2C%2011.0269876%5D%2C%20%5B-74.8038697%2C%2011.0263118%5D%5D%2C%20%22type%22%3A%20%22LineString%22%7D%2C%20%22properties%22%3A%20%7B%22highlight%22%3A%20%7B%7D%2C%20%22style%22%3A%20%7B%22color%22%3A%20%22red%22%2C%20%22fillColor%22%3A%20%22blue%22%2C%20%22fillOpacity%22%3A%200.6%2C%20%22opacity%22%3A%201%2C%20%22weight%22%3A%2012%7D%7D%2C%20%22type%22%3A%20%22Feature%22%7D%5D%2C%20%22type%22%3A%20%22FeatureCollection%22%7D%2C%0A%20%20%20%20%20%20%20%20%20%20%20%20%7B%0A%20%20%20%20%20%20%20%20%20%20%20%20%7D%0A%20%20%20%20%20%20%20%20%29.addTo%28choropleth_4485ac35b3a243c7bf346438aedec872%20%29%3B%0A%20%20%20%20%20%20%20%20geo_json_b6cc80422a4940819a96f3b80782f81b.setStyle%28function%28feature%29%20%7Breturn%20feature.properties.style%3B%7D%29%3B%0A%20%20%20%20%20%20%20%20%0A%3C/script%3E onload=\"this.contentDocument.open();this.contentDocument.write(    decodeURIComponent(this.getAttribute('data-html')));this.contentDocument.close();\" allowfullscreen webkitallowfullscreen mozallowfullscreen></iframe></div></div>"
            ],
            "text/plain": [
              "<folium.folium.Map at 0x7f945c73ab50>"
            ]
          },
          "metadata": {},
          "execution_count": 111
        }
      ]
    },
    {
      "cell_type": "code",
      "metadata": {
        "colab": {
          "base_uri": "https://localhost:8080/",
          "height": 558
        },
        "id": "NMyFP45P4LzA",
        "outputId": "02ae2702-8df3-4fdc-d1a0-79a46b78c03f"
      },
      "source": [
        "m = fl.Map(location=[place.latitude, place.longitude], zoom_start=16)\n",
        "for lugar in geo:\n",
        "  fl.Choropleth(geo_data=lugar.raw['geojson'], line_weight=12, line_color='red').add_to(m);\n",
        "m"
      ],
      "execution_count": null,
      "outputs": [
        {
          "output_type": "execute_result",
          "data": {
            "text/html": [
              "<div style=\"width:100%;\"><div style=\"position:relative;width:100%;height:0;padding-bottom:60%;\"><span style=\"color:#565656\">Make this Notebook Trusted to load map: File -> Trust Notebook</span><iframe src=\"about:blank\" style=\"position:absolute;width:100%;height:100%;left:0;top:0;border:none !important;\" data-html=%3C%21DOCTYPE%20html%3E%0A%3Chead%3E%20%20%20%20%0A%20%20%20%20%3Cmeta%20http-equiv%3D%22content-type%22%20content%3D%22text/html%3B%20charset%3DUTF-8%22%20/%3E%0A%20%20%20%20%3Cscript%3EL_PREFER_CANVAS%3Dfalse%3B%20L_NO_TOUCH%3Dfalse%3B%20L_DISABLE_3D%3Dfalse%3B%3C/script%3E%0A%20%20%20%20%3Cscript%20src%3D%22https%3A//cdn.jsdelivr.net/npm/leaflet%401.4.0/dist/leaflet.js%22%3E%3C/script%3E%0A%20%20%20%20%3Cscript%20src%3D%22https%3A//code.jquery.com/jquery-1.12.4.min.js%22%3E%3C/script%3E%0A%20%20%20%20%3Cscript%20src%3D%22https%3A//maxcdn.bootstrapcdn.com/bootstrap/3.2.0/js/bootstrap.min.js%22%3E%3C/script%3E%0A%20%20%20%20%3Cscript%20src%3D%22https%3A//cdnjs.cloudflare.com/ajax/libs/Leaflet.awesome-markers/2.0.2/leaflet.awesome-markers.js%22%3E%3C/script%3E%0A%20%20%20%20%3Clink%20rel%3D%22stylesheet%22%20href%3D%22https%3A//cdn.jsdelivr.net/npm/leaflet%401.4.0/dist/leaflet.css%22/%3E%0A%20%20%20%20%3Clink%20rel%3D%22stylesheet%22%20href%3D%22https%3A//maxcdn.bootstrapcdn.com/bootstrap/3.2.0/css/bootstrap.min.css%22/%3E%0A%20%20%20%20%3Clink%20rel%3D%22stylesheet%22%20href%3D%22https%3A//maxcdn.bootstrapcdn.com/bootstrap/3.2.0/css/bootstrap-theme.min.css%22/%3E%0A%20%20%20%20%3Clink%20rel%3D%22stylesheet%22%20href%3D%22https%3A//maxcdn.bootstrapcdn.com/font-awesome/4.6.3/css/font-awesome.min.css%22/%3E%0A%20%20%20%20%3Clink%20rel%3D%22stylesheet%22%20href%3D%22https%3A//cdnjs.cloudflare.com/ajax/libs/Leaflet.awesome-markers/2.0.2/leaflet.awesome-markers.css%22/%3E%0A%20%20%20%20%3Clink%20rel%3D%22stylesheet%22%20href%3D%22https%3A//rawcdn.githack.com/python-visualization/folium/master/folium/templates/leaflet.awesome.rotate.css%22/%3E%0A%20%20%20%20%3Cstyle%3Ehtml%2C%20body%20%7Bwidth%3A%20100%25%3Bheight%3A%20100%25%3Bmargin%3A%200%3Bpadding%3A%200%3B%7D%3C/style%3E%0A%20%20%20%20%3Cstyle%3E%23map%20%7Bposition%3Aabsolute%3Btop%3A0%3Bbottom%3A0%3Bright%3A0%3Bleft%3A0%3B%7D%3C/style%3E%0A%20%20%20%20%0A%20%20%20%20%3Cmeta%20name%3D%22viewport%22%20content%3D%22width%3Ddevice-width%2C%0A%20%20%20%20%20%20%20%20initial-scale%3D1.0%2C%20maximum-scale%3D1.0%2C%20user-scalable%3Dno%22%20/%3E%0A%20%20%20%20%3Cstyle%3E%23map_7309dd0d02d04d29aade8d449ff4767b%20%7B%0A%20%20%20%20%20%20%20%20position%3A%20relative%3B%0A%20%20%20%20%20%20%20%20width%3A%20100.0%25%3B%0A%20%20%20%20%20%20%20%20height%3A%20100.0%25%3B%0A%20%20%20%20%20%20%20%20left%3A%200.0%25%3B%0A%20%20%20%20%20%20%20%20top%3A%200.0%25%3B%0A%20%20%20%20%20%20%20%20%7D%0A%20%20%20%20%3C/style%3E%0A%3C/head%3E%0A%3Cbody%3E%20%20%20%20%0A%20%20%20%20%0A%20%20%20%20%3Cdiv%20class%3D%22folium-map%22%20id%3D%22map_7309dd0d02d04d29aade8d449ff4767b%22%20%3E%3C/div%3E%0A%3C/body%3E%0A%3Cscript%3E%20%20%20%20%0A%20%20%20%20%0A%20%20%20%20%0A%20%20%20%20%20%20%20%20var%20bounds%20%3D%20null%3B%0A%20%20%20%20%0A%0A%20%20%20%20var%20map_7309dd0d02d04d29aade8d449ff4767b%20%3D%20L.map%28%0A%20%20%20%20%20%20%20%20%27map_7309dd0d02d04d29aade8d449ff4767b%27%2C%20%7B%0A%20%20%20%20%20%20%20%20center%3A%20%5B10.9890895%2C%20-74.814543%5D%2C%0A%20%20%20%20%20%20%20%20zoom%3A%2016%2C%0A%20%20%20%20%20%20%20%20maxBounds%3A%20bounds%2C%0A%20%20%20%20%20%20%20%20layers%3A%20%5B%5D%2C%0A%20%20%20%20%20%20%20%20worldCopyJump%3A%20false%2C%0A%20%20%20%20%20%20%20%20crs%3A%20L.CRS.EPSG3857%2C%0A%20%20%20%20%20%20%20%20zoomControl%3A%20true%2C%0A%20%20%20%20%20%20%20%20%7D%29%3B%0A%0A%0A%20%20%20%20%0A%20%20%20%20var%20tile_layer_ea895173f6e34245895c50aeda0f53b7%20%3D%20L.tileLayer%28%0A%20%20%20%20%20%20%20%20%27https%3A//%7Bs%7D.tile.openstreetmap.org/%7Bz%7D/%7Bx%7D/%7By%7D.png%27%2C%0A%20%20%20%20%20%20%20%20%7B%0A%20%20%20%20%20%20%20%20%22attribution%22%3A%20null%2C%0A%20%20%20%20%20%20%20%20%22detectRetina%22%3A%20false%2C%0A%20%20%20%20%20%20%20%20%22maxNativeZoom%22%3A%2018%2C%0A%20%20%20%20%20%20%20%20%22maxZoom%22%3A%2018%2C%0A%20%20%20%20%20%20%20%20%22minZoom%22%3A%200%2C%0A%20%20%20%20%20%20%20%20%22noWrap%22%3A%20false%2C%0A%20%20%20%20%20%20%20%20%22opacity%22%3A%201%2C%0A%20%20%20%20%20%20%20%20%22subdomains%22%3A%20%22abc%22%2C%0A%20%20%20%20%20%20%20%20%22tms%22%3A%20false%0A%7D%29.addTo%28map_7309dd0d02d04d29aade8d449ff4767b%29%3B%0A%20%20%20%20%0A%20%20%20%20%20%20%20%20%20%20%20%20var%20choropleth_b90b5239044349719473487c5ab564bf%20%3D%20L.featureGroup%28%0A%20%20%20%20%20%20%20%20%20%20%20%20%20%20%20%20%29.addTo%28map_7309dd0d02d04d29aade8d449ff4767b%29%3B%0A%20%20%20%20%20%20%20%20%0A%20%20%20%20%0A%20%20%20%20%20%20%20%20var%20geo_json_440321934c3d425ba2c96a9624be3730%20%3D%20L.geoJson%28%0A%20%20%20%20%20%20%20%20%20%20%20%20%7B%22features%22%3A%20%5B%7B%22geometry%22%3A%20%7B%22coordinates%22%3A%20%5B%5B-74.8156779%2C%2011.0363431%5D%2C%20%5B-74.815543%2C%2011.0362474%5D%2C%20%5B-74.8130934%2C%2011.0345108%5D%2C%20%5B-74.8121387%2C%2011.0338473%5D%2C%20%5B-74.8116474%2C%2011.0335057%5D%2C%20%5B-74.8107957%2C%2011.0329138%5D%2C%20%5B-74.8095839%2C%2011.0320547%5D%2C%20%5B-74.8085536%2C%2011.031327%5D%2C%20%5B-74.8079578%2C%2011.0308717%5D%2C%20%5B-74.8075155%2C%2011.0304561%5D%2C%20%5B-74.8070814%2C%2011.029997%5D%2C%20%5B-74.8065057%2C%2011.0292941%5D%2C%20%5B-74.8056614%2C%2011.0283371%5D%2C%20%5B-74.8044708%2C%2011.0269876%5D%2C%20%5B-74.8038697%2C%2011.0263118%5D%5D%2C%20%22type%22%3A%20%22LineString%22%7D%2C%20%22properties%22%3A%20%7B%22highlight%22%3A%20%7B%7D%2C%20%22style%22%3A%20%7B%22color%22%3A%20%22red%22%2C%20%22fillColor%22%3A%20%22blue%22%2C%20%22fillOpacity%22%3A%200.6%2C%20%22opacity%22%3A%201%2C%20%22weight%22%3A%2012%7D%7D%2C%20%22type%22%3A%20%22Feature%22%7D%5D%2C%20%22type%22%3A%20%22FeatureCollection%22%7D%2C%0A%20%20%20%20%20%20%20%20%20%20%20%20%7B%0A%20%20%20%20%20%20%20%20%20%20%20%20%7D%0A%20%20%20%20%20%20%20%20%29.addTo%28choropleth_b90b5239044349719473487c5ab564bf%20%29%3B%0A%20%20%20%20%20%20%20%20geo_json_440321934c3d425ba2c96a9624be3730.setStyle%28function%28feature%29%20%7Breturn%20feature.properties.style%3B%7D%29%3B%0A%20%20%20%20%20%20%20%20%0A%20%20%20%20%0A%20%20%20%20%20%20%20%20%20%20%20%20var%20choropleth_8dc82ed230224e98bfd94b9ee67a8524%20%3D%20L.featureGroup%28%0A%20%20%20%20%20%20%20%20%20%20%20%20%20%20%20%20%29.addTo%28map_7309dd0d02d04d29aade8d449ff4767b%29%3B%0A%20%20%20%20%20%20%20%20%0A%20%20%20%20%0A%20%20%20%20%20%20%20%20var%20geo_json_8d803459c0094f5498251b9afc01e838%20%3D%20L.geoJson%28%0A%20%20%20%20%20%20%20%20%20%20%20%20%7B%22features%22%3A%20%5B%7B%22geometry%22%3A%20%7B%22coordinates%22%3A%20%5B%5B-74.7754252%2C%2010.9812255%5D%2C%20%5B-74.7757873%2C%2010.9811218%5D%2C%20%5B-74.7762661%2C%2010.9810232%5D%2C%20%5B-74.7775135%2C%2010.9811668%5D%5D%2C%20%22type%22%3A%20%22LineString%22%7D%2C%20%22properties%22%3A%20%7B%22highlight%22%3A%20%7B%7D%2C%20%22style%22%3A%20%7B%22color%22%3A%20%22red%22%2C%20%22fillColor%22%3A%20%22blue%22%2C%20%22fillOpacity%22%3A%200.6%2C%20%22opacity%22%3A%201%2C%20%22weight%22%3A%2012%7D%7D%2C%20%22type%22%3A%20%22Feature%22%7D%5D%2C%20%22type%22%3A%20%22FeatureCollection%22%7D%2C%0A%20%20%20%20%20%20%20%20%20%20%20%20%7B%0A%20%20%20%20%20%20%20%20%20%20%20%20%7D%0A%20%20%20%20%20%20%20%20%29.addTo%28choropleth_8dc82ed230224e98bfd94b9ee67a8524%20%29%3B%0A%20%20%20%20%20%20%20%20geo_json_8d803459c0094f5498251b9afc01e838.setStyle%28function%28feature%29%20%7Breturn%20feature.properties.style%3B%7D%29%3B%0A%20%20%20%20%20%20%20%20%0A%20%20%20%20%0A%20%20%20%20%20%20%20%20%20%20%20%20var%20choropleth_9de33dba794a46aa8aa35698605afd7a%20%3D%20L.featureGroup%28%0A%20%20%20%20%20%20%20%20%20%20%20%20%20%20%20%20%29.addTo%28map_7309dd0d02d04d29aade8d449ff4767b%29%3B%0A%20%20%20%20%20%20%20%20%0A%20%20%20%20%0A%20%20%20%20%20%20%20%20var%20geo_json_84f0b415101f4dd89aa4fe2f4ec6db59%20%3D%20L.geoJson%28%0A%20%20%20%20%20%20%20%20%20%20%20%20%7B%22features%22%3A%20%5B%7B%22geometry%22%3A%20%7B%22coordinates%22%3A%20%5B%5B-74.8286709%2C%2011.0416627%5D%2C%20%5B-74.8290539%2C%2011.0420184%5D%2C%20%5B-74.8298106%2C%2011.0426022%5D%2C%20%5B-74.8315815%2C%2011.0439402%5D%5D%2C%20%22type%22%3A%20%22LineString%22%7D%2C%20%22properties%22%3A%20%7B%22highlight%22%3A%20%7B%7D%2C%20%22style%22%3A%20%7B%22color%22%3A%20%22red%22%2C%20%22fillColor%22%3A%20%22blue%22%2C%20%22fillOpacity%22%3A%200.6%2C%20%22opacity%22%3A%201%2C%20%22weight%22%3A%2012%7D%7D%2C%20%22type%22%3A%20%22Feature%22%7D%5D%2C%20%22type%22%3A%20%22FeatureCollection%22%7D%2C%0A%20%20%20%20%20%20%20%20%20%20%20%20%7B%0A%20%20%20%20%20%20%20%20%20%20%20%20%7D%0A%20%20%20%20%20%20%20%20%29.addTo%28choropleth_9de33dba794a46aa8aa35698605afd7a%20%29%3B%0A%20%20%20%20%20%20%20%20geo_json_84f0b415101f4dd89aa4fe2f4ec6db59.setStyle%28function%28feature%29%20%7Breturn%20feature.properties.style%3B%7D%29%3B%0A%20%20%20%20%20%20%20%20%0A%20%20%20%20%0A%20%20%20%20%20%20%20%20%20%20%20%20var%20choropleth_0928f4c6916a4d3f9951945e98e44d15%20%3D%20L.featureGroup%28%0A%20%20%20%20%20%20%20%20%20%20%20%20%20%20%20%20%29.addTo%28map_7309dd0d02d04d29aade8d449ff4767b%29%3B%0A%20%20%20%20%20%20%20%20%0A%20%20%20%20%0A%20%20%20%20%20%20%20%20var%20geo_json_f7d0c567844c4887bc1acc36c792ef47%20%3D%20L.geoJson%28%0A%20%20%20%20%20%20%20%20%20%20%20%20%7B%22features%22%3A%20%5B%7B%22geometry%22%3A%20%7B%22coordinates%22%3A%20%5B%5B-74.8287953%2C%2010.986795%5D%2C%20%5B-74.8289505%2C%2010.9868017%5D%2C%20%5B-74.82912%2C%2010.9867834%5D%2C%20%5B-74.8293204%2C%2010.9867319%5D%2C%20%5B-74.829504%2C%2010.9866558%5D%2C%20%5B-74.8296515%2C%2010.9865605%5D%2C%20%5B-74.8298158%2C%2010.9864022%5D%2C%20%5B-74.8305195%2C%2010.9855271%5D%2C%20%5B-74.8305604%2C%2010.9854706%5D%5D%2C%20%22type%22%3A%20%22LineString%22%7D%2C%20%22properties%22%3A%20%7B%22highlight%22%3A%20%7B%7D%2C%20%22style%22%3A%20%7B%22color%22%3A%20%22red%22%2C%20%22fillColor%22%3A%20%22blue%22%2C%20%22fillOpacity%22%3A%200.6%2C%20%22opacity%22%3A%201%2C%20%22weight%22%3A%2012%7D%7D%2C%20%22type%22%3A%20%22Feature%22%7D%5D%2C%20%22type%22%3A%20%22FeatureCollection%22%7D%2C%0A%20%20%20%20%20%20%20%20%20%20%20%20%7B%0A%20%20%20%20%20%20%20%20%20%20%20%20%7D%0A%20%20%20%20%20%20%20%20%29.addTo%28choropleth_0928f4c6916a4d3f9951945e98e44d15%20%29%3B%0A%20%20%20%20%20%20%20%20geo_json_f7d0c567844c4887bc1acc36c792ef47.setStyle%28function%28feature%29%20%7Breturn%20feature.properties.style%3B%7D%29%3B%0A%20%20%20%20%20%20%20%20%0A%20%20%20%20%0A%20%20%20%20%20%20%20%20%20%20%20%20var%20choropleth_32adcf59d7694b89b87f0f4517a07688%20%3D%20L.featureGroup%28%0A%20%20%20%20%20%20%20%20%20%20%20%20%20%20%20%20%29.addTo%28map_7309dd0d02d04d29aade8d449ff4767b%29%3B%0A%20%20%20%20%20%20%20%20%0A%20%20%20%20%0A%20%20%20%20%20%20%20%20var%20geo_json_f90d24fd78fd451da2bab63ee56b9bbb%20%3D%20L.geoJson%28%0A%20%20%20%20%20%20%20%20%20%20%20%20%7B%22features%22%3A%20%5B%7B%22geometry%22%3A%20%7B%22coordinates%22%3A%20%5B%5B-74.7990374%2C%2010.9256376%5D%2C%20%5B-74.7990498%2C%2010.9274882%5D%2C%20%5B-74.7990458%2C%2010.928297%5D%2C%20%5B-74.7990582%2C%2010.9291103%5D%2C%20%5B-74.799062%2C%2010.9299911%5D%5D%2C%20%22type%22%3A%20%22LineString%22%7D%2C%20%22properties%22%3A%20%7B%22highlight%22%3A%20%7B%7D%2C%20%22style%22%3A%20%7B%22color%22%3A%20%22red%22%2C%20%22fillColor%22%3A%20%22blue%22%2C%20%22fillOpacity%22%3A%200.6%2C%20%22opacity%22%3A%201%2C%20%22weight%22%3A%2012%7D%7D%2C%20%22type%22%3A%20%22Feature%22%7D%5D%2C%20%22type%22%3A%20%22FeatureCollection%22%7D%2C%0A%20%20%20%20%20%20%20%20%20%20%20%20%7B%0A%20%20%20%20%20%20%20%20%20%20%20%20%7D%0A%20%20%20%20%20%20%20%20%29.addTo%28choropleth_32adcf59d7694b89b87f0f4517a07688%20%29%3B%0A%20%20%20%20%20%20%20%20geo_json_f90d24fd78fd451da2bab63ee56b9bbb.setStyle%28function%28feature%29%20%7Breturn%20feature.properties.style%3B%7D%29%3B%0A%20%20%20%20%20%20%20%20%0A%20%20%20%20%0A%20%20%20%20%20%20%20%20%20%20%20%20var%20choropleth_5781fbc7f9ec43af8f6fdbe382ab143e%20%3D%20L.featureGroup%28%0A%20%20%20%20%20%20%20%20%20%20%20%20%20%20%20%20%29.addTo%28map_7309dd0d02d04d29aade8d449ff4767b%29%3B%0A%20%20%20%20%20%20%20%20%0A%20%20%20%20%0A%20%20%20%20%20%20%20%20var%20geo_json_2f41cc133b5547829233a29dc585b14e%20%3D%20L.geoJson%28%0A%20%20%20%20%20%20%20%20%20%20%20%20%7B%22features%22%3A%20%5B%7B%22geometry%22%3A%20%7B%22coordinates%22%3A%20%5B%5B-74.8373954%2C%2010.9708686%5D%2C%20%5B-74.8374268%2C%2010.9707665%5D%2C%20%5B-74.8375541%2C%2010.9703556%5D%2C%20%5B-74.8379561%2C%2010.9691759%5D%2C%20%5B-74.8381356%2C%2010.9685506%5D%2C%20%5B-74.8381811%2C%2010.9683922%5D%2C%20%5B-74.838352%2C%2010.9677966%5D%2C%20%5B-74.8384419%2C%2010.967327%5D%2C%20%5B-74.8384889%2C%2010.9668726%5D%2C%20%5B-74.8384971%2C%2010.9667788%5D%2C%20%5B-74.8385011%2C%2010.9667551%5D%5D%2C%20%22type%22%3A%20%22LineString%22%7D%2C%20%22properties%22%3A%20%7B%22highlight%22%3A%20%7B%7D%2C%20%22style%22%3A%20%7B%22color%22%3A%20%22red%22%2C%20%22fillColor%22%3A%20%22blue%22%2C%20%22fillOpacity%22%3A%200.6%2C%20%22opacity%22%3A%201%2C%20%22weight%22%3A%2012%7D%7D%2C%20%22type%22%3A%20%22Feature%22%7D%5D%2C%20%22type%22%3A%20%22FeatureCollection%22%7D%2C%0A%20%20%20%20%20%20%20%20%20%20%20%20%7B%0A%20%20%20%20%20%20%20%20%20%20%20%20%7D%0A%20%20%20%20%20%20%20%20%29.addTo%28choropleth_5781fbc7f9ec43af8f6fdbe382ab143e%20%29%3B%0A%20%20%20%20%20%20%20%20geo_json_2f41cc133b5547829233a29dc585b14e.setStyle%28function%28feature%29%20%7Breturn%20feature.properties.style%3B%7D%29%3B%0A%20%20%20%20%20%20%20%20%0A%20%20%20%20%0A%20%20%20%20%20%20%20%20%20%20%20%20var%20choropleth_8a62eee70a7645aaa5b31b47e60d79af%20%3D%20L.featureGroup%28%0A%20%20%20%20%20%20%20%20%20%20%20%20%20%20%20%20%29.addTo%28map_7309dd0d02d04d29aade8d449ff4767b%29%3B%0A%20%20%20%20%20%20%20%20%0A%20%20%20%20%0A%20%20%20%20%20%20%20%20var%20geo_json_2f8460417c934f1f85dd238f6357ccb2%20%3D%20L.geoJson%28%0A%20%20%20%20%20%20%20%20%20%20%20%20%7B%22features%22%3A%20%5B%7B%22geometry%22%3A%20%7B%22coordinates%22%3A%20%5B%5B-74.8115694%2C%2010.9942654%5D%2C%20%5B-74.8130253%2C%2010.9950513%5D%5D%2C%20%22type%22%3A%20%22LineString%22%7D%2C%20%22properties%22%3A%20%7B%22highlight%22%3A%20%7B%7D%2C%20%22style%22%3A%20%7B%22color%22%3A%20%22red%22%2C%20%22fillColor%22%3A%20%22blue%22%2C%20%22fillOpacity%22%3A%200.6%2C%20%22opacity%22%3A%201%2C%20%22weight%22%3A%2012%7D%7D%2C%20%22type%22%3A%20%22Feature%22%7D%5D%2C%20%22type%22%3A%20%22FeatureCollection%22%7D%2C%0A%20%20%20%20%20%20%20%20%20%20%20%20%7B%0A%20%20%20%20%20%20%20%20%20%20%20%20%7D%0A%20%20%20%20%20%20%20%20%29.addTo%28choropleth_8a62eee70a7645aaa5b31b47e60d79af%20%29%3B%0A%20%20%20%20%20%20%20%20geo_json_2f8460417c934f1f85dd238f6357ccb2.setStyle%28function%28feature%29%20%7Breturn%20feature.properties.style%3B%7D%29%3B%0A%20%20%20%20%20%20%20%20%0A%20%20%20%20%0A%20%20%20%20%20%20%20%20%20%20%20%20var%20choropleth_5fb458c534074e399c7f9754d9026021%20%3D%20L.featureGroup%28%0A%20%20%20%20%20%20%20%20%20%20%20%20%20%20%20%20%29.addTo%28map_7309dd0d02d04d29aade8d449ff4767b%29%3B%0A%20%20%20%20%20%20%20%20%0A%20%20%20%20%0A%20%20%20%20%20%20%20%20var%20geo_json_21552819e10e462590ea26f00cc2ed83%20%3D%20L.geoJson%28%0A%20%20%20%20%20%20%20%20%20%20%20%20%7B%22features%22%3A%20%5B%7B%22geometry%22%3A%20%7B%22coordinates%22%3A%20%5B%5B-74.7768079%2C%2010.9854377%5D%2C%20%5B-74.7766225%2C%2010.9852054%5D%2C%20%5B-74.7765329%2C%2010.9851318%5D%5D%2C%20%22type%22%3A%20%22LineString%22%7D%2C%20%22properties%22%3A%20%7B%22highlight%22%3A%20%7B%7D%2C%20%22style%22%3A%20%7B%22color%22%3A%20%22red%22%2C%20%22fillColor%22%3A%20%22blue%22%2C%20%22fillOpacity%22%3A%200.6%2C%20%22opacity%22%3A%201%2C%20%22weight%22%3A%2012%7D%7D%2C%20%22type%22%3A%20%22Feature%22%7D%5D%2C%20%22type%22%3A%20%22FeatureCollection%22%7D%2C%0A%20%20%20%20%20%20%20%20%20%20%20%20%7B%0A%20%20%20%20%20%20%20%20%20%20%20%20%7D%0A%20%20%20%20%20%20%20%20%29.addTo%28choropleth_5fb458c534074e399c7f9754d9026021%20%29%3B%0A%20%20%20%20%20%20%20%20geo_json_21552819e10e462590ea26f00cc2ed83.setStyle%28function%28feature%29%20%7Breturn%20feature.properties.style%3B%7D%29%3B%0A%20%20%20%20%20%20%20%20%0A%20%20%20%20%0A%20%20%20%20%20%20%20%20%20%20%20%20var%20choropleth_54de5d9546564fa088887e7597c49c6a%20%3D%20L.featureGroup%28%0A%20%20%20%20%20%20%20%20%20%20%20%20%20%20%20%20%29.addTo%28map_7309dd0d02d04d29aade8d449ff4767b%29%3B%0A%20%20%20%20%20%20%20%20%0A%20%20%20%20%0A%20%20%20%20%20%20%20%20var%20geo_json_3989304f661e498a8e5b6ee3d1657229%20%3D%20L.geoJson%28%0A%20%20%20%20%20%20%20%20%20%20%20%20%7B%22features%22%3A%20%5B%7B%22geometry%22%3A%20%7B%22coordinates%22%3A%20%5B%5B-74.8166749%2C%2010.9495976%5D%2C%20%5B-74.8167%2C%2010.9490942%5D%2C%20%5B-74.8166016%2C%2010.9482054%5D%2C%20%5B-74.8164921%2C%2010.947573%5D%5D%2C%20%22type%22%3A%20%22LineString%22%7D%2C%20%22properties%22%3A%20%7B%22highlight%22%3A%20%7B%7D%2C%20%22style%22%3A%20%7B%22color%22%3A%20%22red%22%2C%20%22fillColor%22%3A%20%22blue%22%2C%20%22fillOpacity%22%3A%200.6%2C%20%22opacity%22%3A%201%2C%20%22weight%22%3A%2012%7D%7D%2C%20%22type%22%3A%20%22Feature%22%7D%5D%2C%20%22type%22%3A%20%22FeatureCollection%22%7D%2C%0A%20%20%20%20%20%20%20%20%20%20%20%20%7B%0A%20%20%20%20%20%20%20%20%20%20%20%20%7D%0A%20%20%20%20%20%20%20%20%29.addTo%28choropleth_54de5d9546564fa088887e7597c49c6a%20%29%3B%0A%20%20%20%20%20%20%20%20geo_json_3989304f661e498a8e5b6ee3d1657229.setStyle%28function%28feature%29%20%7Breturn%20feature.properties.style%3B%7D%29%3B%0A%20%20%20%20%20%20%20%20%0A%20%20%20%20%0A%20%20%20%20%20%20%20%20%20%20%20%20var%20choropleth_ef4d7c20ae344d8ba667003a500ec046%20%3D%20L.featureGroup%28%0A%20%20%20%20%20%20%20%20%20%20%20%20%20%20%20%20%29.addTo%28map_7309dd0d02d04d29aade8d449ff4767b%29%3B%0A%20%20%20%20%20%20%20%20%0A%20%20%20%20%0A%20%20%20%20%20%20%20%20var%20geo_json_21b8fb5c17f848c98ef9d7bcc93c2f9c%20%3D%20L.geoJson%28%0A%20%20%20%20%20%20%20%20%20%20%20%20%7B%22features%22%3A%20%5B%7B%22geometry%22%3A%20%7B%22coordinates%22%3A%20%5B%5B-74.8129564%2C%2010.9964977%5D%2C%20%5B-74.8109358%2C%2010.9953288%5D%2C%20%5B-74.8104023%2C%2010.9950331%5D%2C%20%5B-74.8103124%2C%2010.9949396%5D%2C%20%5B-74.8101214%2C%2010.9945182%5D%2C%20%5B-74.80976%2C%2010.9943227%5D%2C%20%5B-74.8087869%2C%2010.9938236%5D%5D%2C%20%22type%22%3A%20%22LineString%22%7D%2C%20%22properties%22%3A%20%7B%22highlight%22%3A%20%7B%7D%2C%20%22style%22%3A%20%7B%22color%22%3A%20%22red%22%2C%20%22fillColor%22%3A%20%22blue%22%2C%20%22fillOpacity%22%3A%200.6%2C%20%22opacity%22%3A%201%2C%20%22weight%22%3A%2012%7D%7D%2C%20%22type%22%3A%20%22Feature%22%7D%5D%2C%20%22type%22%3A%20%22FeatureCollection%22%7D%2C%0A%20%20%20%20%20%20%20%20%20%20%20%20%7B%0A%20%20%20%20%20%20%20%20%20%20%20%20%7D%0A%20%20%20%20%20%20%20%20%29.addTo%28choropleth_ef4d7c20ae344d8ba667003a500ec046%20%29%3B%0A%20%20%20%20%20%20%20%20geo_json_21b8fb5c17f848c98ef9d7bcc93c2f9c.setStyle%28function%28feature%29%20%7Breturn%20feature.properties.style%3B%7D%29%3B%0A%20%20%20%20%20%20%20%20%0A%20%20%20%20%0A%20%20%20%20%20%20%20%20%20%20%20%20var%20choropleth_cfaa23cb09a04a8598c61b0aeb9f33af%20%3D%20L.featureGroup%28%0A%20%20%20%20%20%20%20%20%20%20%20%20%20%20%20%20%29.addTo%28map_7309dd0d02d04d29aade8d449ff4767b%29%3B%0A%20%20%20%20%20%20%20%20%0A%20%20%20%20%0A%20%20%20%20%20%20%20%20var%20geo_json_b3ff31eeaaf148a9b4a83fb740846cbb%20%3D%20L.geoJson%28%0A%20%20%20%20%20%20%20%20%20%20%20%20%7B%22features%22%3A%20%5B%7B%22geometry%22%3A%20%7B%22coordinates%22%3A%20%5B%5B-74.7740957%2C%2010.9495289%5D%2C%20%5B-74.7742414%2C%2010.9494818%5D%2C%20%5B-74.7743554%2C%2010.9493903%5D%2C%20%5B-74.7744691%2C%2010.9493147%5D%2C%20%5B-74.7745425%2C%2010.949279%5D%2C%20%5B-74.7746055%2C%2010.9492527%5D%2C%20%5B-74.7747543%2C%2010.9491987%5D%2C%20%5B-74.7748724%2C%2010.9491236%5D%2C%20%5B-74.7749506%2C%2010.9490341%5D%2C%20%5B-74.7750192%2C%2010.9489219%5D%2C%20%5B-74.7752067%2C%2010.9485177%5D%2C%20%5B-74.7753927%2C%2010.9480701%5D%2C%20%5B-74.7755576%2C%2010.9476458%5D%5D%2C%20%22type%22%3A%20%22LineString%22%7D%2C%20%22properties%22%3A%20%7B%22highlight%22%3A%20%7B%7D%2C%20%22style%22%3A%20%7B%22color%22%3A%20%22red%22%2C%20%22fillColor%22%3A%20%22blue%22%2C%20%22fillOpacity%22%3A%200.6%2C%20%22opacity%22%3A%201%2C%20%22weight%22%3A%2012%7D%7D%2C%20%22type%22%3A%20%22Feature%22%7D%5D%2C%20%22type%22%3A%20%22FeatureCollection%22%7D%2C%0A%20%20%20%20%20%20%20%20%20%20%20%20%7B%0A%20%20%20%20%20%20%20%20%20%20%20%20%7D%0A%20%20%20%20%20%20%20%20%29.addTo%28choropleth_cfaa23cb09a04a8598c61b0aeb9f33af%20%29%3B%0A%20%20%20%20%20%20%20%20geo_json_b3ff31eeaaf148a9b4a83fb740846cbb.setStyle%28function%28feature%29%20%7Breturn%20feature.properties.style%3B%7D%29%3B%0A%20%20%20%20%20%20%20%20%0A%20%20%20%20%0A%20%20%20%20%20%20%20%20%20%20%20%20var%20choropleth_5996d044f1ba4b3eb70a298473d119e3%20%3D%20L.featureGroup%28%0A%20%20%20%20%20%20%20%20%20%20%20%20%20%20%20%20%29.addTo%28map_7309dd0d02d04d29aade8d449ff4767b%29%3B%0A%20%20%20%20%20%20%20%20%0A%20%20%20%20%0A%20%20%20%20%20%20%20%20var%20geo_json_35758f472b814743b6c3606c3259adb0%20%3D%20L.geoJson%28%0A%20%20%20%20%20%20%20%20%20%20%20%20%7B%22features%22%3A%20%5B%7B%22geometry%22%3A%20%7B%22coordinates%22%3A%20%5B%5B-74.7738946%2C%2010.9488749%5D%2C%20%5B-74.7738323%2C%2010.9487938%5D%2C%20%5B-74.7737852%2C%2010.9487372%5D%2C%20%5B-74.7737087%2C%2010.948642%5D%2C%20%5B-74.7735975%2C%2010.9485116%5D%2C%20%5B-74.7735711%2C%2010.9484811%5D%2C%20%5B-74.7734674%2C%2010.9483615%5D%5D%2C%20%22type%22%3A%20%22LineString%22%7D%2C%20%22properties%22%3A%20%7B%22highlight%22%3A%20%7B%7D%2C%20%22style%22%3A%20%7B%22color%22%3A%20%22red%22%2C%20%22fillColor%22%3A%20%22blue%22%2C%20%22fillOpacity%22%3A%200.6%2C%20%22opacity%22%3A%201%2C%20%22weight%22%3A%2012%7D%7D%2C%20%22type%22%3A%20%22Feature%22%7D%5D%2C%20%22type%22%3A%20%22FeatureCollection%22%7D%2C%0A%20%20%20%20%20%20%20%20%20%20%20%20%7B%0A%20%20%20%20%20%20%20%20%20%20%20%20%7D%0A%20%20%20%20%20%20%20%20%29.addTo%28choropleth_5996d044f1ba4b3eb70a298473d119e3%20%29%3B%0A%20%20%20%20%20%20%20%20geo_json_35758f472b814743b6c3606c3259adb0.setStyle%28function%28feature%29%20%7Breturn%20feature.properties.style%3B%7D%29%3B%0A%20%20%20%20%20%20%20%20%0A%20%20%20%20%0A%20%20%20%20%20%20%20%20%20%20%20%20var%20choropleth_4a617b177d0442bc8ee09c247d19916e%20%3D%20L.featureGroup%28%0A%20%20%20%20%20%20%20%20%20%20%20%20%20%20%20%20%29.addTo%28map_7309dd0d02d04d29aade8d449ff4767b%29%3B%0A%20%20%20%20%20%20%20%20%0A%20%20%20%20%0A%20%20%20%20%20%20%20%20var%20geo_json_2f07bde1a12f4205ab7c16071bcff5a0%20%3D%20L.geoJson%28%0A%20%20%20%20%20%20%20%20%20%20%20%20%7B%22features%22%3A%20%5B%7B%22geometry%22%3A%20%7B%22coordinates%22%3A%20%5B%5B-74.8375024%2C%2011.01911%5D%2C%20%5B-74.8370381%2C%2011.0188213%5D%2C%20%5B-74.8369459%2C%2011.0187659%5D%5D%2C%20%22type%22%3A%20%22LineString%22%7D%2C%20%22properties%22%3A%20%7B%22highlight%22%3A%20%7B%7D%2C%20%22style%22%3A%20%7B%22color%22%3A%20%22red%22%2C%20%22fillColor%22%3A%20%22blue%22%2C%20%22fillOpacity%22%3A%200.6%2C%20%22opacity%22%3A%201%2C%20%22weight%22%3A%2012%7D%7D%2C%20%22type%22%3A%20%22Feature%22%7D%5D%2C%20%22type%22%3A%20%22FeatureCollection%22%7D%2C%0A%20%20%20%20%20%20%20%20%20%20%20%20%7B%0A%20%20%20%20%20%20%20%20%20%20%20%20%7D%0A%20%20%20%20%20%20%20%20%29.addTo%28choropleth_4a617b177d0442bc8ee09c247d19916e%20%29%3B%0A%20%20%20%20%20%20%20%20geo_json_2f07bde1a12f4205ab7c16071bcff5a0.setStyle%28function%28feature%29%20%7Breturn%20feature.properties.style%3B%7D%29%3B%0A%20%20%20%20%20%20%20%20%0A%20%20%20%20%0A%20%20%20%20%20%20%20%20%20%20%20%20var%20choropleth_d304b33cbcea4071a581466c619b8508%20%3D%20L.featureGroup%28%0A%20%20%20%20%20%20%20%20%20%20%20%20%20%20%20%20%29.addTo%28map_7309dd0d02d04d29aade8d449ff4767b%29%3B%0A%20%20%20%20%20%20%20%20%0A%20%20%20%20%0A%20%20%20%20%20%20%20%20var%20geo_json_1d2781c537f34e3ba8a3b8a5801b969b%20%3D%20L.geoJson%28%0A%20%20%20%20%20%20%20%20%20%20%20%20%7B%22features%22%3A%20%5B%7B%22geometry%22%3A%20%7B%22coordinates%22%3A%20%5B%5B-74.8155762%2C%2011.0076908%5D%2C%20%5B-74.8153865%2C%2011.0078327%5D%5D%2C%20%22type%22%3A%20%22LineString%22%7D%2C%20%22properties%22%3A%20%7B%22highlight%22%3A%20%7B%7D%2C%20%22style%22%3A%20%7B%22color%22%3A%20%22red%22%2C%20%22fillColor%22%3A%20%22blue%22%2C%20%22fillOpacity%22%3A%200.6%2C%20%22opacity%22%3A%201%2C%20%22weight%22%3A%2012%7D%7D%2C%20%22type%22%3A%20%22Feature%22%7D%5D%2C%20%22type%22%3A%20%22FeatureCollection%22%7D%2C%0A%20%20%20%20%20%20%20%20%20%20%20%20%7B%0A%20%20%20%20%20%20%20%20%20%20%20%20%7D%0A%20%20%20%20%20%20%20%20%29.addTo%28choropleth_d304b33cbcea4071a581466c619b8508%20%29%3B%0A%20%20%20%20%20%20%20%20geo_json_1d2781c537f34e3ba8a3b8a5801b969b.setStyle%28function%28feature%29%20%7Breturn%20feature.properties.style%3B%7D%29%3B%0A%20%20%20%20%20%20%20%20%0A%20%20%20%20%0A%20%20%20%20%20%20%20%20%20%20%20%20var%20choropleth_e3b5244a47854bb4a175c5009ab48c91%20%3D%20L.featureGroup%28%0A%20%20%20%20%20%20%20%20%20%20%20%20%20%20%20%20%29.addTo%28map_7309dd0d02d04d29aade8d449ff4767b%29%3B%0A%20%20%20%20%20%20%20%20%0A%20%20%20%20%0A%20%20%20%20%20%20%20%20var%20geo_json_a16a4f778ed74eec9a22d02fce1d8384%20%3D%20L.geoJson%28%0A%20%20%20%20%20%20%20%20%20%20%20%20%7B%22features%22%3A%20%5B%7B%22geometry%22%3A%20%7B%22coordinates%22%3A%20%5B%5B-74.8138771%2C%2010.9904693%5D%2C%20%5B-74.8141352%2C%2010.9900268%5D%2C%20%5B-74.814543%2C%2010.9890895%5D%2C%20%5B-74.8146931%2C%2010.9888288%5D%2C%20%5B-74.8148289%2C%2010.988642%5D%5D%2C%20%22type%22%3A%20%22LineString%22%7D%2C%20%22properties%22%3A%20%7B%22highlight%22%3A%20%7B%7D%2C%20%22style%22%3A%20%7B%22color%22%3A%20%22red%22%2C%20%22fillColor%22%3A%20%22blue%22%2C%20%22fillOpacity%22%3A%200.6%2C%20%22opacity%22%3A%201%2C%20%22weight%22%3A%2012%7D%7D%2C%20%22type%22%3A%20%22Feature%22%7D%5D%2C%20%22type%22%3A%20%22FeatureCollection%22%7D%2C%0A%20%20%20%20%20%20%20%20%20%20%20%20%7B%0A%20%20%20%20%20%20%20%20%20%20%20%20%7D%0A%20%20%20%20%20%20%20%20%29.addTo%28choropleth_e3b5244a47854bb4a175c5009ab48c91%20%29%3B%0A%20%20%20%20%20%20%20%20geo_json_a16a4f778ed74eec9a22d02fce1d8384.setStyle%28function%28feature%29%20%7Breturn%20feature.properties.style%3B%7D%29%3B%0A%20%20%20%20%20%20%20%20%0A%3C/script%3E onload=\"this.contentDocument.open();this.contentDocument.write(    decodeURIComponent(this.getAttribute('data-html')));this.contentDocument.close();\" allowfullscreen webkitallowfullscreen mozallowfullscreen></iframe></div></div>"
            ],
            "text/plain": [
              "<folium.folium.Map at 0x7f945c87cb50>"
            ]
          },
          "metadata": {},
          "execution_count": 106
        }
      ]
    },
    {
      "cell_type": "code",
      "metadata": {
        "colab": {
          "base_uri": "https://localhost:8080/",
          "height": 558
        },
        "id": "fWtgoVUh5_fR",
        "outputId": "d6d925e2-c35a-4e09-d120-e2a654f07503"
      },
      "source": [
        "m = fl.Map(location=[place.latitude, place.longitude], zoom_start=16, tiles='Stamen Toner')\n",
        "for lugar in geo:\n",
        "  fl.Choropleth(geo_data=lugar.raw['geojson'], line_weight=12, line_color='red').add_to(m);\n",
        "m"
      ],
      "execution_count": null,
      "outputs": [
        {
          "output_type": "execute_result",
          "data": {
            "text/html": [
              "<div style=\"width:100%;\"><div style=\"position:relative;width:100%;height:0;padding-bottom:60%;\"><span style=\"color:#565656\">Make this Notebook Trusted to load map: File -> Trust Notebook</span><iframe src=\"about:blank\" style=\"position:absolute;width:100%;height:100%;left:0;top:0;border:none !important;\" data-html=%3C%21DOCTYPE%20html%3E%0A%3Chead%3E%20%20%20%20%0A%20%20%20%20%3Cmeta%20http-equiv%3D%22content-type%22%20content%3D%22text/html%3B%20charset%3DUTF-8%22%20/%3E%0A%20%20%20%20%3Cscript%3EL_PREFER_CANVAS%3Dfalse%3B%20L_NO_TOUCH%3Dfalse%3B%20L_DISABLE_3D%3Dfalse%3B%3C/script%3E%0A%20%20%20%20%3Cscript%20src%3D%22https%3A//cdn.jsdelivr.net/npm/leaflet%401.4.0/dist/leaflet.js%22%3E%3C/script%3E%0A%20%20%20%20%3Cscript%20src%3D%22https%3A//code.jquery.com/jquery-1.12.4.min.js%22%3E%3C/script%3E%0A%20%20%20%20%3Cscript%20src%3D%22https%3A//maxcdn.bootstrapcdn.com/bootstrap/3.2.0/js/bootstrap.min.js%22%3E%3C/script%3E%0A%20%20%20%20%3Cscript%20src%3D%22https%3A//cdnjs.cloudflare.com/ajax/libs/Leaflet.awesome-markers/2.0.2/leaflet.awesome-markers.js%22%3E%3C/script%3E%0A%20%20%20%20%3Clink%20rel%3D%22stylesheet%22%20href%3D%22https%3A//cdn.jsdelivr.net/npm/leaflet%401.4.0/dist/leaflet.css%22/%3E%0A%20%20%20%20%3Clink%20rel%3D%22stylesheet%22%20href%3D%22https%3A//maxcdn.bootstrapcdn.com/bootstrap/3.2.0/css/bootstrap.min.css%22/%3E%0A%20%20%20%20%3Clink%20rel%3D%22stylesheet%22%20href%3D%22https%3A//maxcdn.bootstrapcdn.com/bootstrap/3.2.0/css/bootstrap-theme.min.css%22/%3E%0A%20%20%20%20%3Clink%20rel%3D%22stylesheet%22%20href%3D%22https%3A//maxcdn.bootstrapcdn.com/font-awesome/4.6.3/css/font-awesome.min.css%22/%3E%0A%20%20%20%20%3Clink%20rel%3D%22stylesheet%22%20href%3D%22https%3A//cdnjs.cloudflare.com/ajax/libs/Leaflet.awesome-markers/2.0.2/leaflet.awesome-markers.css%22/%3E%0A%20%20%20%20%3Clink%20rel%3D%22stylesheet%22%20href%3D%22https%3A//rawcdn.githack.com/python-visualization/folium/master/folium/templates/leaflet.awesome.rotate.css%22/%3E%0A%20%20%20%20%3Cstyle%3Ehtml%2C%20body%20%7Bwidth%3A%20100%25%3Bheight%3A%20100%25%3Bmargin%3A%200%3Bpadding%3A%200%3B%7D%3C/style%3E%0A%20%20%20%20%3Cstyle%3E%23map%20%7Bposition%3Aabsolute%3Btop%3A0%3Bbottom%3A0%3Bright%3A0%3Bleft%3A0%3B%7D%3C/style%3E%0A%20%20%20%20%0A%20%20%20%20%3Cmeta%20name%3D%22viewport%22%20content%3D%22width%3Ddevice-width%2C%0A%20%20%20%20%20%20%20%20initial-scale%3D1.0%2C%20maximum-scale%3D1.0%2C%20user-scalable%3Dno%22%20/%3E%0A%20%20%20%20%3Cstyle%3E%23map_99738bd8d01a43ff9fb2be4586c31936%20%7B%0A%20%20%20%20%20%20%20%20position%3A%20relative%3B%0A%20%20%20%20%20%20%20%20width%3A%20100.0%25%3B%0A%20%20%20%20%20%20%20%20height%3A%20100.0%25%3B%0A%20%20%20%20%20%20%20%20left%3A%200.0%25%3B%0A%20%20%20%20%20%20%20%20top%3A%200.0%25%3B%0A%20%20%20%20%20%20%20%20%7D%0A%20%20%20%20%3C/style%3E%0A%3C/head%3E%0A%3Cbody%3E%20%20%20%20%0A%20%20%20%20%0A%20%20%20%20%3Cdiv%20class%3D%22folium-map%22%20id%3D%22map_99738bd8d01a43ff9fb2be4586c31936%22%20%3E%3C/div%3E%0A%3C/body%3E%0A%3Cscript%3E%20%20%20%20%0A%20%20%20%20%0A%20%20%20%20%0A%20%20%20%20%20%20%20%20var%20bounds%20%3D%20null%3B%0A%20%20%20%20%0A%0A%20%20%20%20var%20map_99738bd8d01a43ff9fb2be4586c31936%20%3D%20L.map%28%0A%20%20%20%20%20%20%20%20%27map_99738bd8d01a43ff9fb2be4586c31936%27%2C%20%7B%0A%20%20%20%20%20%20%20%20center%3A%20%5B10.9890895%2C%20-74.814543%5D%2C%0A%20%20%20%20%20%20%20%20zoom%3A%2016%2C%0A%20%20%20%20%20%20%20%20maxBounds%3A%20bounds%2C%0A%20%20%20%20%20%20%20%20layers%3A%20%5B%5D%2C%0A%20%20%20%20%20%20%20%20worldCopyJump%3A%20false%2C%0A%20%20%20%20%20%20%20%20crs%3A%20L.CRS.EPSG3857%2C%0A%20%20%20%20%20%20%20%20zoomControl%3A%20true%2C%0A%20%20%20%20%20%20%20%20%7D%29%3B%0A%0A%0A%20%20%20%20%0A%20%20%20%20var%20tile_layer_946e3c65b67343ae867c2665d0fd7d94%20%3D%20L.tileLayer%28%0A%20%20%20%20%20%20%20%20%27https%3A//stamen-tiles-%7Bs%7D.a.ssl.fastly.net/toner/%7Bz%7D/%7Bx%7D/%7By%7D.png%27%2C%0A%20%20%20%20%20%20%20%20%7B%0A%20%20%20%20%20%20%20%20%22attribution%22%3A%20null%2C%0A%20%20%20%20%20%20%20%20%22detectRetina%22%3A%20false%2C%0A%20%20%20%20%20%20%20%20%22maxNativeZoom%22%3A%2018%2C%0A%20%20%20%20%20%20%20%20%22maxZoom%22%3A%2018%2C%0A%20%20%20%20%20%20%20%20%22minZoom%22%3A%200%2C%0A%20%20%20%20%20%20%20%20%22noWrap%22%3A%20false%2C%0A%20%20%20%20%20%20%20%20%22opacity%22%3A%201%2C%0A%20%20%20%20%20%20%20%20%22subdomains%22%3A%20%22abc%22%2C%0A%20%20%20%20%20%20%20%20%22tms%22%3A%20false%0A%7D%29.addTo%28map_99738bd8d01a43ff9fb2be4586c31936%29%3B%0A%20%20%20%20%0A%20%20%20%20%20%20%20%20%20%20%20%20var%20choropleth_86d6dd3551d6468a94678765f3bc8b59%20%3D%20L.featureGroup%28%0A%20%20%20%20%20%20%20%20%20%20%20%20%20%20%20%20%29.addTo%28map_99738bd8d01a43ff9fb2be4586c31936%29%3B%0A%20%20%20%20%20%20%20%20%0A%20%20%20%20%0A%20%20%20%20%20%20%20%20var%20geo_json_e8478178f8214635888f1689847de12d%20%3D%20L.geoJson%28%0A%20%20%20%20%20%20%20%20%20%20%20%20%7B%22features%22%3A%20%5B%7B%22geometry%22%3A%20%7B%22coordinates%22%3A%20%5B%5B-74.8156779%2C%2011.0363431%5D%2C%20%5B-74.815543%2C%2011.0362474%5D%2C%20%5B-74.8130934%2C%2011.0345108%5D%2C%20%5B-74.8121387%2C%2011.0338473%5D%2C%20%5B-74.8116474%2C%2011.0335057%5D%2C%20%5B-74.8107957%2C%2011.0329138%5D%2C%20%5B-74.8095839%2C%2011.0320547%5D%2C%20%5B-74.8085536%2C%2011.031327%5D%2C%20%5B-74.8079578%2C%2011.0308717%5D%2C%20%5B-74.8075155%2C%2011.0304561%5D%2C%20%5B-74.8070814%2C%2011.029997%5D%2C%20%5B-74.8065057%2C%2011.0292941%5D%2C%20%5B-74.8056614%2C%2011.0283371%5D%2C%20%5B-74.8044708%2C%2011.0269876%5D%2C%20%5B-74.8038697%2C%2011.0263118%5D%5D%2C%20%22type%22%3A%20%22LineString%22%7D%2C%20%22properties%22%3A%20%7B%22highlight%22%3A%20%7B%7D%2C%20%22style%22%3A%20%7B%22color%22%3A%20%22red%22%2C%20%22fillColor%22%3A%20%22blue%22%2C%20%22fillOpacity%22%3A%200.6%2C%20%22opacity%22%3A%201%2C%20%22weight%22%3A%2012%7D%7D%2C%20%22type%22%3A%20%22Feature%22%7D%5D%2C%20%22type%22%3A%20%22FeatureCollection%22%7D%2C%0A%20%20%20%20%20%20%20%20%20%20%20%20%7B%0A%20%20%20%20%20%20%20%20%20%20%20%20%7D%0A%20%20%20%20%20%20%20%20%29.addTo%28choropleth_86d6dd3551d6468a94678765f3bc8b59%20%29%3B%0A%20%20%20%20%20%20%20%20geo_json_e8478178f8214635888f1689847de12d.setStyle%28function%28feature%29%20%7Breturn%20feature.properties.style%3B%7D%29%3B%0A%20%20%20%20%20%20%20%20%0A%20%20%20%20%0A%20%20%20%20%20%20%20%20%20%20%20%20var%20choropleth_13809b1a1b9b4c6fa4de115d982d67d7%20%3D%20L.featureGroup%28%0A%20%20%20%20%20%20%20%20%20%20%20%20%20%20%20%20%29.addTo%28map_99738bd8d01a43ff9fb2be4586c31936%29%3B%0A%20%20%20%20%20%20%20%20%0A%20%20%20%20%0A%20%20%20%20%20%20%20%20var%20geo_json_849ec71b98f8466b8f12927b58b790a9%20%3D%20L.geoJson%28%0A%20%20%20%20%20%20%20%20%20%20%20%20%7B%22features%22%3A%20%5B%7B%22geometry%22%3A%20%7B%22coordinates%22%3A%20%5B%5B-74.7754252%2C%2010.9812255%5D%2C%20%5B-74.7757873%2C%2010.9811218%5D%2C%20%5B-74.7762661%2C%2010.9810232%5D%2C%20%5B-74.7775135%2C%2010.9811668%5D%5D%2C%20%22type%22%3A%20%22LineString%22%7D%2C%20%22properties%22%3A%20%7B%22highlight%22%3A%20%7B%7D%2C%20%22style%22%3A%20%7B%22color%22%3A%20%22red%22%2C%20%22fillColor%22%3A%20%22blue%22%2C%20%22fillOpacity%22%3A%200.6%2C%20%22opacity%22%3A%201%2C%20%22weight%22%3A%2012%7D%7D%2C%20%22type%22%3A%20%22Feature%22%7D%5D%2C%20%22type%22%3A%20%22FeatureCollection%22%7D%2C%0A%20%20%20%20%20%20%20%20%20%20%20%20%7B%0A%20%20%20%20%20%20%20%20%20%20%20%20%7D%0A%20%20%20%20%20%20%20%20%29.addTo%28choropleth_13809b1a1b9b4c6fa4de115d982d67d7%20%29%3B%0A%20%20%20%20%20%20%20%20geo_json_849ec71b98f8466b8f12927b58b790a9.setStyle%28function%28feature%29%20%7Breturn%20feature.properties.style%3B%7D%29%3B%0A%20%20%20%20%20%20%20%20%0A%20%20%20%20%0A%20%20%20%20%20%20%20%20%20%20%20%20var%20choropleth_ff4773060ba84d7f8d67e481df7e5fb1%20%3D%20L.featureGroup%28%0A%20%20%20%20%20%20%20%20%20%20%20%20%20%20%20%20%29.addTo%28map_99738bd8d01a43ff9fb2be4586c31936%29%3B%0A%20%20%20%20%20%20%20%20%0A%20%20%20%20%0A%20%20%20%20%20%20%20%20var%20geo_json_91595d210474479682d537d9a6f685bf%20%3D%20L.geoJson%28%0A%20%20%20%20%20%20%20%20%20%20%20%20%7B%22features%22%3A%20%5B%7B%22geometry%22%3A%20%7B%22coordinates%22%3A%20%5B%5B-74.8286709%2C%2011.0416627%5D%2C%20%5B-74.8290539%2C%2011.0420184%5D%2C%20%5B-74.8298106%2C%2011.0426022%5D%2C%20%5B-74.8315815%2C%2011.0439402%5D%5D%2C%20%22type%22%3A%20%22LineString%22%7D%2C%20%22properties%22%3A%20%7B%22highlight%22%3A%20%7B%7D%2C%20%22style%22%3A%20%7B%22color%22%3A%20%22red%22%2C%20%22fillColor%22%3A%20%22blue%22%2C%20%22fillOpacity%22%3A%200.6%2C%20%22opacity%22%3A%201%2C%20%22weight%22%3A%2012%7D%7D%2C%20%22type%22%3A%20%22Feature%22%7D%5D%2C%20%22type%22%3A%20%22FeatureCollection%22%7D%2C%0A%20%20%20%20%20%20%20%20%20%20%20%20%7B%0A%20%20%20%20%20%20%20%20%20%20%20%20%7D%0A%20%20%20%20%20%20%20%20%29.addTo%28choropleth_ff4773060ba84d7f8d67e481df7e5fb1%20%29%3B%0A%20%20%20%20%20%20%20%20geo_json_91595d210474479682d537d9a6f685bf.setStyle%28function%28feature%29%20%7Breturn%20feature.properties.style%3B%7D%29%3B%0A%20%20%20%20%20%20%20%20%0A%20%20%20%20%0A%20%20%20%20%20%20%20%20%20%20%20%20var%20choropleth_e190b96dd3424643a05149c376848671%20%3D%20L.featureGroup%28%0A%20%20%20%20%20%20%20%20%20%20%20%20%20%20%20%20%29.addTo%28map_99738bd8d01a43ff9fb2be4586c31936%29%3B%0A%20%20%20%20%20%20%20%20%0A%20%20%20%20%0A%20%20%20%20%20%20%20%20var%20geo_json_7ac1385131fd4552aea0cbbfd2fa09ef%20%3D%20L.geoJson%28%0A%20%20%20%20%20%20%20%20%20%20%20%20%7B%22features%22%3A%20%5B%7B%22geometry%22%3A%20%7B%22coordinates%22%3A%20%5B%5B-74.8287953%2C%2010.986795%5D%2C%20%5B-74.8289505%2C%2010.9868017%5D%2C%20%5B-74.82912%2C%2010.9867834%5D%2C%20%5B-74.8293204%2C%2010.9867319%5D%2C%20%5B-74.829504%2C%2010.9866558%5D%2C%20%5B-74.8296515%2C%2010.9865605%5D%2C%20%5B-74.8298158%2C%2010.9864022%5D%2C%20%5B-74.8305195%2C%2010.9855271%5D%2C%20%5B-74.8305604%2C%2010.9854706%5D%5D%2C%20%22type%22%3A%20%22LineString%22%7D%2C%20%22properties%22%3A%20%7B%22highlight%22%3A%20%7B%7D%2C%20%22style%22%3A%20%7B%22color%22%3A%20%22red%22%2C%20%22fillColor%22%3A%20%22blue%22%2C%20%22fillOpacity%22%3A%200.6%2C%20%22opacity%22%3A%201%2C%20%22weight%22%3A%2012%7D%7D%2C%20%22type%22%3A%20%22Feature%22%7D%5D%2C%20%22type%22%3A%20%22FeatureCollection%22%7D%2C%0A%20%20%20%20%20%20%20%20%20%20%20%20%7B%0A%20%20%20%20%20%20%20%20%20%20%20%20%7D%0A%20%20%20%20%20%20%20%20%29.addTo%28choropleth_e190b96dd3424643a05149c376848671%20%29%3B%0A%20%20%20%20%20%20%20%20geo_json_7ac1385131fd4552aea0cbbfd2fa09ef.setStyle%28function%28feature%29%20%7Breturn%20feature.properties.style%3B%7D%29%3B%0A%20%20%20%20%20%20%20%20%0A%20%20%20%20%0A%20%20%20%20%20%20%20%20%20%20%20%20var%20choropleth_b0bd0b28ce0944dba2b2c99258b1010c%20%3D%20L.featureGroup%28%0A%20%20%20%20%20%20%20%20%20%20%20%20%20%20%20%20%29.addTo%28map_99738bd8d01a43ff9fb2be4586c31936%29%3B%0A%20%20%20%20%20%20%20%20%0A%20%20%20%20%0A%20%20%20%20%20%20%20%20var%20geo_json_3bff7f8931a74536ba1d06c0b3c7c32e%20%3D%20L.geoJson%28%0A%20%20%20%20%20%20%20%20%20%20%20%20%7B%22features%22%3A%20%5B%7B%22geometry%22%3A%20%7B%22coordinates%22%3A%20%5B%5B-74.7990374%2C%2010.9256376%5D%2C%20%5B-74.7990498%2C%2010.9274882%5D%2C%20%5B-74.7990458%2C%2010.928297%5D%2C%20%5B-74.7990582%2C%2010.9291103%5D%2C%20%5B-74.799062%2C%2010.9299911%5D%5D%2C%20%22type%22%3A%20%22LineString%22%7D%2C%20%22properties%22%3A%20%7B%22highlight%22%3A%20%7B%7D%2C%20%22style%22%3A%20%7B%22color%22%3A%20%22red%22%2C%20%22fillColor%22%3A%20%22blue%22%2C%20%22fillOpacity%22%3A%200.6%2C%20%22opacity%22%3A%201%2C%20%22weight%22%3A%2012%7D%7D%2C%20%22type%22%3A%20%22Feature%22%7D%5D%2C%20%22type%22%3A%20%22FeatureCollection%22%7D%2C%0A%20%20%20%20%20%20%20%20%20%20%20%20%7B%0A%20%20%20%20%20%20%20%20%20%20%20%20%7D%0A%20%20%20%20%20%20%20%20%29.addTo%28choropleth_b0bd0b28ce0944dba2b2c99258b1010c%20%29%3B%0A%20%20%20%20%20%20%20%20geo_json_3bff7f8931a74536ba1d06c0b3c7c32e.setStyle%28function%28feature%29%20%7Breturn%20feature.properties.style%3B%7D%29%3B%0A%20%20%20%20%20%20%20%20%0A%20%20%20%20%0A%20%20%20%20%20%20%20%20%20%20%20%20var%20choropleth_a7879bbcbe4c464fa9ce1915c1cb3dad%20%3D%20L.featureGroup%28%0A%20%20%20%20%20%20%20%20%20%20%20%20%20%20%20%20%29.addTo%28map_99738bd8d01a43ff9fb2be4586c31936%29%3B%0A%20%20%20%20%20%20%20%20%0A%20%20%20%20%0A%20%20%20%20%20%20%20%20var%20geo_json_a58486f5432f4c719cbd2a1febd54031%20%3D%20L.geoJson%28%0A%20%20%20%20%20%20%20%20%20%20%20%20%7B%22features%22%3A%20%5B%7B%22geometry%22%3A%20%7B%22coordinates%22%3A%20%5B%5B-74.8373954%2C%2010.9708686%5D%2C%20%5B-74.8374268%2C%2010.9707665%5D%2C%20%5B-74.8375541%2C%2010.9703556%5D%2C%20%5B-74.8379561%2C%2010.9691759%5D%2C%20%5B-74.8381356%2C%2010.9685506%5D%2C%20%5B-74.8381811%2C%2010.9683922%5D%2C%20%5B-74.838352%2C%2010.9677966%5D%2C%20%5B-74.8384419%2C%2010.967327%5D%2C%20%5B-74.8384889%2C%2010.9668726%5D%2C%20%5B-74.8384971%2C%2010.9667788%5D%2C%20%5B-74.8385011%2C%2010.9667551%5D%5D%2C%20%22type%22%3A%20%22LineString%22%7D%2C%20%22properties%22%3A%20%7B%22highlight%22%3A%20%7B%7D%2C%20%22style%22%3A%20%7B%22color%22%3A%20%22red%22%2C%20%22fillColor%22%3A%20%22blue%22%2C%20%22fillOpacity%22%3A%200.6%2C%20%22opacity%22%3A%201%2C%20%22weight%22%3A%2012%7D%7D%2C%20%22type%22%3A%20%22Feature%22%7D%5D%2C%20%22type%22%3A%20%22FeatureCollection%22%7D%2C%0A%20%20%20%20%20%20%20%20%20%20%20%20%7B%0A%20%20%20%20%20%20%20%20%20%20%20%20%7D%0A%20%20%20%20%20%20%20%20%29.addTo%28choropleth_a7879bbcbe4c464fa9ce1915c1cb3dad%20%29%3B%0A%20%20%20%20%20%20%20%20geo_json_a58486f5432f4c719cbd2a1febd54031.setStyle%28function%28feature%29%20%7Breturn%20feature.properties.style%3B%7D%29%3B%0A%20%20%20%20%20%20%20%20%0A%20%20%20%20%0A%20%20%20%20%20%20%20%20%20%20%20%20var%20choropleth_4dd1210d79ed420f8fa999012e9cf49d%20%3D%20L.featureGroup%28%0A%20%20%20%20%20%20%20%20%20%20%20%20%20%20%20%20%29.addTo%28map_99738bd8d01a43ff9fb2be4586c31936%29%3B%0A%20%20%20%20%20%20%20%20%0A%20%20%20%20%0A%20%20%20%20%20%20%20%20var%20geo_json_a27d9a0ca38d4d088c931afedfd1ee4b%20%3D%20L.geoJson%28%0A%20%20%20%20%20%20%20%20%20%20%20%20%7B%22features%22%3A%20%5B%7B%22geometry%22%3A%20%7B%22coordinates%22%3A%20%5B%5B-74.8115694%2C%2010.9942654%5D%2C%20%5B-74.8130253%2C%2010.9950513%5D%5D%2C%20%22type%22%3A%20%22LineString%22%7D%2C%20%22properties%22%3A%20%7B%22highlight%22%3A%20%7B%7D%2C%20%22style%22%3A%20%7B%22color%22%3A%20%22red%22%2C%20%22fillColor%22%3A%20%22blue%22%2C%20%22fillOpacity%22%3A%200.6%2C%20%22opacity%22%3A%201%2C%20%22weight%22%3A%2012%7D%7D%2C%20%22type%22%3A%20%22Feature%22%7D%5D%2C%20%22type%22%3A%20%22FeatureCollection%22%7D%2C%0A%20%20%20%20%20%20%20%20%20%20%20%20%7B%0A%20%20%20%20%20%20%20%20%20%20%20%20%7D%0A%20%20%20%20%20%20%20%20%29.addTo%28choropleth_4dd1210d79ed420f8fa999012e9cf49d%20%29%3B%0A%20%20%20%20%20%20%20%20geo_json_a27d9a0ca38d4d088c931afedfd1ee4b.setStyle%28function%28feature%29%20%7Breturn%20feature.properties.style%3B%7D%29%3B%0A%20%20%20%20%20%20%20%20%0A%20%20%20%20%0A%20%20%20%20%20%20%20%20%20%20%20%20var%20choropleth_8d1f94fb3678479896c69f83cffcb63c%20%3D%20L.featureGroup%28%0A%20%20%20%20%20%20%20%20%20%20%20%20%20%20%20%20%29.addTo%28map_99738bd8d01a43ff9fb2be4586c31936%29%3B%0A%20%20%20%20%20%20%20%20%0A%20%20%20%20%0A%20%20%20%20%20%20%20%20var%20geo_json_bc9a2869df0f4cb4a1dfa994a60de7bb%20%3D%20L.geoJson%28%0A%20%20%20%20%20%20%20%20%20%20%20%20%7B%22features%22%3A%20%5B%7B%22geometry%22%3A%20%7B%22coordinates%22%3A%20%5B%5B-74.7768079%2C%2010.9854377%5D%2C%20%5B-74.7766225%2C%2010.9852054%5D%2C%20%5B-74.7765329%2C%2010.9851318%5D%5D%2C%20%22type%22%3A%20%22LineString%22%7D%2C%20%22properties%22%3A%20%7B%22highlight%22%3A%20%7B%7D%2C%20%22style%22%3A%20%7B%22color%22%3A%20%22red%22%2C%20%22fillColor%22%3A%20%22blue%22%2C%20%22fillOpacity%22%3A%200.6%2C%20%22opacity%22%3A%201%2C%20%22weight%22%3A%2012%7D%7D%2C%20%22type%22%3A%20%22Feature%22%7D%5D%2C%20%22type%22%3A%20%22FeatureCollection%22%7D%2C%0A%20%20%20%20%20%20%20%20%20%20%20%20%7B%0A%20%20%20%20%20%20%20%20%20%20%20%20%7D%0A%20%20%20%20%20%20%20%20%29.addTo%28choropleth_8d1f94fb3678479896c69f83cffcb63c%20%29%3B%0A%20%20%20%20%20%20%20%20geo_json_bc9a2869df0f4cb4a1dfa994a60de7bb.setStyle%28function%28feature%29%20%7Breturn%20feature.properties.style%3B%7D%29%3B%0A%20%20%20%20%20%20%20%20%0A%20%20%20%20%0A%20%20%20%20%20%20%20%20%20%20%20%20var%20choropleth_3ee5dbf2970249179808ce042de590ab%20%3D%20L.featureGroup%28%0A%20%20%20%20%20%20%20%20%20%20%20%20%20%20%20%20%29.addTo%28map_99738bd8d01a43ff9fb2be4586c31936%29%3B%0A%20%20%20%20%20%20%20%20%0A%20%20%20%20%0A%20%20%20%20%20%20%20%20var%20geo_json_ccd4e316711b4be18a17e620b694c791%20%3D%20L.geoJson%28%0A%20%20%20%20%20%20%20%20%20%20%20%20%7B%22features%22%3A%20%5B%7B%22geometry%22%3A%20%7B%22coordinates%22%3A%20%5B%5B-74.8166749%2C%2010.9495976%5D%2C%20%5B-74.8167%2C%2010.9490942%5D%2C%20%5B-74.8166016%2C%2010.9482054%5D%2C%20%5B-74.8164921%2C%2010.947573%5D%5D%2C%20%22type%22%3A%20%22LineString%22%7D%2C%20%22properties%22%3A%20%7B%22highlight%22%3A%20%7B%7D%2C%20%22style%22%3A%20%7B%22color%22%3A%20%22red%22%2C%20%22fillColor%22%3A%20%22blue%22%2C%20%22fillOpacity%22%3A%200.6%2C%20%22opacity%22%3A%201%2C%20%22weight%22%3A%2012%7D%7D%2C%20%22type%22%3A%20%22Feature%22%7D%5D%2C%20%22type%22%3A%20%22FeatureCollection%22%7D%2C%0A%20%20%20%20%20%20%20%20%20%20%20%20%7B%0A%20%20%20%20%20%20%20%20%20%20%20%20%7D%0A%20%20%20%20%20%20%20%20%29.addTo%28choropleth_3ee5dbf2970249179808ce042de590ab%20%29%3B%0A%20%20%20%20%20%20%20%20geo_json_ccd4e316711b4be18a17e620b694c791.setStyle%28function%28feature%29%20%7Breturn%20feature.properties.style%3B%7D%29%3B%0A%20%20%20%20%20%20%20%20%0A%20%20%20%20%0A%20%20%20%20%20%20%20%20%20%20%20%20var%20choropleth_f980bb79d363411a8f6f07bdabcae929%20%3D%20L.featureGroup%28%0A%20%20%20%20%20%20%20%20%20%20%20%20%20%20%20%20%29.addTo%28map_99738bd8d01a43ff9fb2be4586c31936%29%3B%0A%20%20%20%20%20%20%20%20%0A%20%20%20%20%0A%20%20%20%20%20%20%20%20var%20geo_json_a927f6c886354b438bc8ff4aaa080c25%20%3D%20L.geoJson%28%0A%20%20%20%20%20%20%20%20%20%20%20%20%7B%22features%22%3A%20%5B%7B%22geometry%22%3A%20%7B%22coordinates%22%3A%20%5B%5B-74.8129564%2C%2010.9964977%5D%2C%20%5B-74.8109358%2C%2010.9953288%5D%2C%20%5B-74.8104023%2C%2010.9950331%5D%2C%20%5B-74.8103124%2C%2010.9949396%5D%2C%20%5B-74.8101214%2C%2010.9945182%5D%2C%20%5B-74.80976%2C%2010.9943227%5D%2C%20%5B-74.8087869%2C%2010.9938236%5D%5D%2C%20%22type%22%3A%20%22LineString%22%7D%2C%20%22properties%22%3A%20%7B%22highlight%22%3A%20%7B%7D%2C%20%22style%22%3A%20%7B%22color%22%3A%20%22red%22%2C%20%22fillColor%22%3A%20%22blue%22%2C%20%22fillOpacity%22%3A%200.6%2C%20%22opacity%22%3A%201%2C%20%22weight%22%3A%2012%7D%7D%2C%20%22type%22%3A%20%22Feature%22%7D%5D%2C%20%22type%22%3A%20%22FeatureCollection%22%7D%2C%0A%20%20%20%20%20%20%20%20%20%20%20%20%7B%0A%20%20%20%20%20%20%20%20%20%20%20%20%7D%0A%20%20%20%20%20%20%20%20%29.addTo%28choropleth_f980bb79d363411a8f6f07bdabcae929%20%29%3B%0A%20%20%20%20%20%20%20%20geo_json_a927f6c886354b438bc8ff4aaa080c25.setStyle%28function%28feature%29%20%7Breturn%20feature.properties.style%3B%7D%29%3B%0A%20%20%20%20%20%20%20%20%0A%20%20%20%20%0A%20%20%20%20%20%20%20%20%20%20%20%20var%20choropleth_fd7e1dc3be074451abab322bd6cfa282%20%3D%20L.featureGroup%28%0A%20%20%20%20%20%20%20%20%20%20%20%20%20%20%20%20%29.addTo%28map_99738bd8d01a43ff9fb2be4586c31936%29%3B%0A%20%20%20%20%20%20%20%20%0A%20%20%20%20%0A%20%20%20%20%20%20%20%20var%20geo_json_f103639b6cb2479389ea7119b740e159%20%3D%20L.geoJson%28%0A%20%20%20%20%20%20%20%20%20%20%20%20%7B%22features%22%3A%20%5B%7B%22geometry%22%3A%20%7B%22coordinates%22%3A%20%5B%5B-74.7740957%2C%2010.9495289%5D%2C%20%5B-74.7742414%2C%2010.9494818%5D%2C%20%5B-74.7743554%2C%2010.9493903%5D%2C%20%5B-74.7744691%2C%2010.9493147%5D%2C%20%5B-74.7745425%2C%2010.949279%5D%2C%20%5B-74.7746055%2C%2010.9492527%5D%2C%20%5B-74.7747543%2C%2010.9491987%5D%2C%20%5B-74.7748724%2C%2010.9491236%5D%2C%20%5B-74.7749506%2C%2010.9490341%5D%2C%20%5B-74.7750192%2C%2010.9489219%5D%2C%20%5B-74.7752067%2C%2010.9485177%5D%2C%20%5B-74.7753927%2C%2010.9480701%5D%2C%20%5B-74.7755576%2C%2010.9476458%5D%5D%2C%20%22type%22%3A%20%22LineString%22%7D%2C%20%22properties%22%3A%20%7B%22highlight%22%3A%20%7B%7D%2C%20%22style%22%3A%20%7B%22color%22%3A%20%22red%22%2C%20%22fillColor%22%3A%20%22blue%22%2C%20%22fillOpacity%22%3A%200.6%2C%20%22opacity%22%3A%201%2C%20%22weight%22%3A%2012%7D%7D%2C%20%22type%22%3A%20%22Feature%22%7D%5D%2C%20%22type%22%3A%20%22FeatureCollection%22%7D%2C%0A%20%20%20%20%20%20%20%20%20%20%20%20%7B%0A%20%20%20%20%20%20%20%20%20%20%20%20%7D%0A%20%20%20%20%20%20%20%20%29.addTo%28choropleth_fd7e1dc3be074451abab322bd6cfa282%20%29%3B%0A%20%20%20%20%20%20%20%20geo_json_f103639b6cb2479389ea7119b740e159.setStyle%28function%28feature%29%20%7Breturn%20feature.properties.style%3B%7D%29%3B%0A%20%20%20%20%20%20%20%20%0A%20%20%20%20%0A%20%20%20%20%20%20%20%20%20%20%20%20var%20choropleth_12a1a0aab1294a5f92d954d92f9a2f01%20%3D%20L.featureGroup%28%0A%20%20%20%20%20%20%20%20%20%20%20%20%20%20%20%20%29.addTo%28map_99738bd8d01a43ff9fb2be4586c31936%29%3B%0A%20%20%20%20%20%20%20%20%0A%20%20%20%20%0A%20%20%20%20%20%20%20%20var%20geo_json_137a3ce2526349228d8c4e4b7ba51a81%20%3D%20L.geoJson%28%0A%20%20%20%20%20%20%20%20%20%20%20%20%7B%22features%22%3A%20%5B%7B%22geometry%22%3A%20%7B%22coordinates%22%3A%20%5B%5B-74.7738946%2C%2010.9488749%5D%2C%20%5B-74.7738323%2C%2010.9487938%5D%2C%20%5B-74.7737852%2C%2010.9487372%5D%2C%20%5B-74.7737087%2C%2010.948642%5D%2C%20%5B-74.7735975%2C%2010.9485116%5D%2C%20%5B-74.7735711%2C%2010.9484811%5D%2C%20%5B-74.7734674%2C%2010.9483615%5D%5D%2C%20%22type%22%3A%20%22LineString%22%7D%2C%20%22properties%22%3A%20%7B%22highlight%22%3A%20%7B%7D%2C%20%22style%22%3A%20%7B%22color%22%3A%20%22red%22%2C%20%22fillColor%22%3A%20%22blue%22%2C%20%22fillOpacity%22%3A%200.6%2C%20%22opacity%22%3A%201%2C%20%22weight%22%3A%2012%7D%7D%2C%20%22type%22%3A%20%22Feature%22%7D%5D%2C%20%22type%22%3A%20%22FeatureCollection%22%7D%2C%0A%20%20%20%20%20%20%20%20%20%20%20%20%7B%0A%20%20%20%20%20%20%20%20%20%20%20%20%7D%0A%20%20%20%20%20%20%20%20%29.addTo%28choropleth_12a1a0aab1294a5f92d954d92f9a2f01%20%29%3B%0A%20%20%20%20%20%20%20%20geo_json_137a3ce2526349228d8c4e4b7ba51a81.setStyle%28function%28feature%29%20%7Breturn%20feature.properties.style%3B%7D%29%3B%0A%20%20%20%20%20%20%20%20%0A%20%20%20%20%0A%20%20%20%20%20%20%20%20%20%20%20%20var%20choropleth_d5d2f27254b54ac9b87c3b8641a9aa43%20%3D%20L.featureGroup%28%0A%20%20%20%20%20%20%20%20%20%20%20%20%20%20%20%20%29.addTo%28map_99738bd8d01a43ff9fb2be4586c31936%29%3B%0A%20%20%20%20%20%20%20%20%0A%20%20%20%20%0A%20%20%20%20%20%20%20%20var%20geo_json_fe2cf4d7e52f4967bb7855f74f1e1d51%20%3D%20L.geoJson%28%0A%20%20%20%20%20%20%20%20%20%20%20%20%7B%22features%22%3A%20%5B%7B%22geometry%22%3A%20%7B%22coordinates%22%3A%20%5B%5B-74.8375024%2C%2011.01911%5D%2C%20%5B-74.8370381%2C%2011.0188213%5D%2C%20%5B-74.8369459%2C%2011.0187659%5D%5D%2C%20%22type%22%3A%20%22LineString%22%7D%2C%20%22properties%22%3A%20%7B%22highlight%22%3A%20%7B%7D%2C%20%22style%22%3A%20%7B%22color%22%3A%20%22red%22%2C%20%22fillColor%22%3A%20%22blue%22%2C%20%22fillOpacity%22%3A%200.6%2C%20%22opacity%22%3A%201%2C%20%22weight%22%3A%2012%7D%7D%2C%20%22type%22%3A%20%22Feature%22%7D%5D%2C%20%22type%22%3A%20%22FeatureCollection%22%7D%2C%0A%20%20%20%20%20%20%20%20%20%20%20%20%7B%0A%20%20%20%20%20%20%20%20%20%20%20%20%7D%0A%20%20%20%20%20%20%20%20%29.addTo%28choropleth_d5d2f27254b54ac9b87c3b8641a9aa43%20%29%3B%0A%20%20%20%20%20%20%20%20geo_json_fe2cf4d7e52f4967bb7855f74f1e1d51.setStyle%28function%28feature%29%20%7Breturn%20feature.properties.style%3B%7D%29%3B%0A%20%20%20%20%20%20%20%20%0A%20%20%20%20%0A%20%20%20%20%20%20%20%20%20%20%20%20var%20choropleth_90cf99324e53401f9cec603280f317e6%20%3D%20L.featureGroup%28%0A%20%20%20%20%20%20%20%20%20%20%20%20%20%20%20%20%29.addTo%28map_99738bd8d01a43ff9fb2be4586c31936%29%3B%0A%20%20%20%20%20%20%20%20%0A%20%20%20%20%0A%20%20%20%20%20%20%20%20var%20geo_json_0d8e19bdd41b4966ba35c0b70b32deda%20%3D%20L.geoJson%28%0A%20%20%20%20%20%20%20%20%20%20%20%20%7B%22features%22%3A%20%5B%7B%22geometry%22%3A%20%7B%22coordinates%22%3A%20%5B%5B-74.8155762%2C%2011.0076908%5D%2C%20%5B-74.8153865%2C%2011.0078327%5D%5D%2C%20%22type%22%3A%20%22LineString%22%7D%2C%20%22properties%22%3A%20%7B%22highlight%22%3A%20%7B%7D%2C%20%22style%22%3A%20%7B%22color%22%3A%20%22red%22%2C%20%22fillColor%22%3A%20%22blue%22%2C%20%22fillOpacity%22%3A%200.6%2C%20%22opacity%22%3A%201%2C%20%22weight%22%3A%2012%7D%7D%2C%20%22type%22%3A%20%22Feature%22%7D%5D%2C%20%22type%22%3A%20%22FeatureCollection%22%7D%2C%0A%20%20%20%20%20%20%20%20%20%20%20%20%7B%0A%20%20%20%20%20%20%20%20%20%20%20%20%7D%0A%20%20%20%20%20%20%20%20%29.addTo%28choropleth_90cf99324e53401f9cec603280f317e6%20%29%3B%0A%20%20%20%20%20%20%20%20geo_json_0d8e19bdd41b4966ba35c0b70b32deda.setStyle%28function%28feature%29%20%7Breturn%20feature.properties.style%3B%7D%29%3B%0A%20%20%20%20%20%20%20%20%0A%20%20%20%20%0A%20%20%20%20%20%20%20%20%20%20%20%20var%20choropleth_d4d2360825ad41c49da9419890e5fc2a%20%3D%20L.featureGroup%28%0A%20%20%20%20%20%20%20%20%20%20%20%20%20%20%20%20%29.addTo%28map_99738bd8d01a43ff9fb2be4586c31936%29%3B%0A%20%20%20%20%20%20%20%20%0A%20%20%20%20%0A%20%20%20%20%20%20%20%20var%20geo_json_c85c6c11262845a09bedb3082ad5f3d2%20%3D%20L.geoJson%28%0A%20%20%20%20%20%20%20%20%20%20%20%20%7B%22features%22%3A%20%5B%7B%22geometry%22%3A%20%7B%22coordinates%22%3A%20%5B%5B-74.8138771%2C%2010.9904693%5D%2C%20%5B-74.8141352%2C%2010.9900268%5D%2C%20%5B-74.814543%2C%2010.9890895%5D%2C%20%5B-74.8146931%2C%2010.9888288%5D%2C%20%5B-74.8148289%2C%2010.988642%5D%5D%2C%20%22type%22%3A%20%22LineString%22%7D%2C%20%22properties%22%3A%20%7B%22highlight%22%3A%20%7B%7D%2C%20%22style%22%3A%20%7B%22color%22%3A%20%22red%22%2C%20%22fillColor%22%3A%20%22blue%22%2C%20%22fillOpacity%22%3A%200.6%2C%20%22opacity%22%3A%201%2C%20%22weight%22%3A%2012%7D%7D%2C%20%22type%22%3A%20%22Feature%22%7D%5D%2C%20%22type%22%3A%20%22FeatureCollection%22%7D%2C%0A%20%20%20%20%20%20%20%20%20%20%20%20%7B%0A%20%20%20%20%20%20%20%20%20%20%20%20%7D%0A%20%20%20%20%20%20%20%20%29.addTo%28choropleth_d4d2360825ad41c49da9419890e5fc2a%20%29%3B%0A%20%20%20%20%20%20%20%20geo_json_c85c6c11262845a09bedb3082ad5f3d2.setStyle%28function%28feature%29%20%7Breturn%20feature.properties.style%3B%7D%29%3B%0A%20%20%20%20%20%20%20%20%0A%3C/script%3E onload=\"this.contentDocument.open();this.contentDocument.write(    decodeURIComponent(this.getAttribute('data-html')));this.contentDocument.close();\" allowfullscreen webkitallowfullscreen mozallowfullscreen></iframe></div></div>"
            ],
            "text/plain": [
              "<folium.folium.Map at 0x7f945c743110>"
            ]
          },
          "metadata": {},
          "execution_count": 112
        }
      ]
    },
    {
      "cell_type": "markdown",
      "metadata": {
        "id": "-yceV0u96T1_"
      },
      "source": [
        "# Dash - https://dash.plotly.com/"
      ]
    },
    {
      "cell_type": "markdown",
      "metadata": {
        "id": "UDIOvoVs7IHJ"
      },
      "source": [
        "# Icon"
      ]
    },
    {
      "cell_type": "markdown",
      "metadata": {
        "id": "nwQXkZ_U8_Z5"
      },
      "source": [
        "## https://fontawesome.com/v5.15/icons?d=gallery"
      ]
    },
    {
      "cell_type": "code",
      "metadata": {
        "colab": {
          "base_uri": "https://localhost:8080/",
          "height": 558
        },
        "id": "Nqsi9n267uLP",
        "outputId": "361b6aeb-4920-4b34-c350-b52dd44fa15a"
      },
      "source": [
        "pl = geo[0];\n",
        "m = fl.Map(location=[place.latitude, place.longitude], zoom_start=16)\n",
        "icono = fl.Icon(color='blue', icon='ambulance', prefix='fa'); #Este es el icono\n",
        "fl.Marker(location=[place.latitude, place.longitude],icon=icono).add_to(m)\n",
        "m"
      ],
      "execution_count": null,
      "outputs": [
        {
          "output_type": "execute_result",
          "data": {
            "text/html": [
              "<div style=\"width:100%;\"><div style=\"position:relative;width:100%;height:0;padding-bottom:60%;\"><span style=\"color:#565656\">Make this Notebook Trusted to load map: File -> Trust Notebook</span><iframe src=\"about:blank\" style=\"position:absolute;width:100%;height:100%;left:0;top:0;border:none !important;\" data-html=%3C%21DOCTYPE%20html%3E%0A%3Chead%3E%20%20%20%20%0A%20%20%20%20%3Cmeta%20http-equiv%3D%22content-type%22%20content%3D%22text/html%3B%20charset%3DUTF-8%22%20/%3E%0A%20%20%20%20%3Cscript%3EL_PREFER_CANVAS%3Dfalse%3B%20L_NO_TOUCH%3Dfalse%3B%20L_DISABLE_3D%3Dfalse%3B%3C/script%3E%0A%20%20%20%20%3Cscript%20src%3D%22https%3A//cdn.jsdelivr.net/npm/leaflet%401.4.0/dist/leaflet.js%22%3E%3C/script%3E%0A%20%20%20%20%3Cscript%20src%3D%22https%3A//code.jquery.com/jquery-1.12.4.min.js%22%3E%3C/script%3E%0A%20%20%20%20%3Cscript%20src%3D%22https%3A//maxcdn.bootstrapcdn.com/bootstrap/3.2.0/js/bootstrap.min.js%22%3E%3C/script%3E%0A%20%20%20%20%3Cscript%20src%3D%22https%3A//cdnjs.cloudflare.com/ajax/libs/Leaflet.awesome-markers/2.0.2/leaflet.awesome-markers.js%22%3E%3C/script%3E%0A%20%20%20%20%3Clink%20rel%3D%22stylesheet%22%20href%3D%22https%3A//cdn.jsdelivr.net/npm/leaflet%401.4.0/dist/leaflet.css%22/%3E%0A%20%20%20%20%3Clink%20rel%3D%22stylesheet%22%20href%3D%22https%3A//maxcdn.bootstrapcdn.com/bootstrap/3.2.0/css/bootstrap.min.css%22/%3E%0A%20%20%20%20%3Clink%20rel%3D%22stylesheet%22%20href%3D%22https%3A//maxcdn.bootstrapcdn.com/bootstrap/3.2.0/css/bootstrap-theme.min.css%22/%3E%0A%20%20%20%20%3Clink%20rel%3D%22stylesheet%22%20href%3D%22https%3A//maxcdn.bootstrapcdn.com/font-awesome/4.6.3/css/font-awesome.min.css%22/%3E%0A%20%20%20%20%3Clink%20rel%3D%22stylesheet%22%20href%3D%22https%3A//cdnjs.cloudflare.com/ajax/libs/Leaflet.awesome-markers/2.0.2/leaflet.awesome-markers.css%22/%3E%0A%20%20%20%20%3Clink%20rel%3D%22stylesheet%22%20href%3D%22https%3A//rawcdn.githack.com/python-visualization/folium/master/folium/templates/leaflet.awesome.rotate.css%22/%3E%0A%20%20%20%20%3Cstyle%3Ehtml%2C%20body%20%7Bwidth%3A%20100%25%3Bheight%3A%20100%25%3Bmargin%3A%200%3Bpadding%3A%200%3B%7D%3C/style%3E%0A%20%20%20%20%3Cstyle%3E%23map%20%7Bposition%3Aabsolute%3Btop%3A0%3Bbottom%3A0%3Bright%3A0%3Bleft%3A0%3B%7D%3C/style%3E%0A%20%20%20%20%0A%20%20%20%20%3Cmeta%20name%3D%22viewport%22%20content%3D%22width%3Ddevice-width%2C%0A%20%20%20%20%20%20%20%20initial-scale%3D1.0%2C%20maximum-scale%3D1.0%2C%20user-scalable%3Dno%22%20/%3E%0A%20%20%20%20%3Cstyle%3E%23map_9ca760cacfed4393b058716369966755%20%7B%0A%20%20%20%20%20%20%20%20position%3A%20relative%3B%0A%20%20%20%20%20%20%20%20width%3A%20100.0%25%3B%0A%20%20%20%20%20%20%20%20height%3A%20100.0%25%3B%0A%20%20%20%20%20%20%20%20left%3A%200.0%25%3B%0A%20%20%20%20%20%20%20%20top%3A%200.0%25%3B%0A%20%20%20%20%20%20%20%20%7D%0A%20%20%20%20%3C/style%3E%0A%3C/head%3E%0A%3Cbody%3E%20%20%20%20%0A%20%20%20%20%0A%20%20%20%20%3Cdiv%20class%3D%22folium-map%22%20id%3D%22map_9ca760cacfed4393b058716369966755%22%20%3E%3C/div%3E%0A%3C/body%3E%0A%3Cscript%3E%20%20%20%20%0A%20%20%20%20%0A%20%20%20%20%0A%20%20%20%20%20%20%20%20var%20bounds%20%3D%20null%3B%0A%20%20%20%20%0A%0A%20%20%20%20var%20map_9ca760cacfed4393b058716369966755%20%3D%20L.map%28%0A%20%20%20%20%20%20%20%20%27map_9ca760cacfed4393b058716369966755%27%2C%20%7B%0A%20%20%20%20%20%20%20%20center%3A%20%5B10.9890895%2C%20-74.814543%5D%2C%0A%20%20%20%20%20%20%20%20zoom%3A%2016%2C%0A%20%20%20%20%20%20%20%20maxBounds%3A%20bounds%2C%0A%20%20%20%20%20%20%20%20layers%3A%20%5B%5D%2C%0A%20%20%20%20%20%20%20%20worldCopyJump%3A%20false%2C%0A%20%20%20%20%20%20%20%20crs%3A%20L.CRS.EPSG3857%2C%0A%20%20%20%20%20%20%20%20zoomControl%3A%20true%2C%0A%20%20%20%20%20%20%20%20%7D%29%3B%0A%0A%0A%20%20%20%20%0A%20%20%20%20var%20tile_layer_994fbb9974ca43c2b64a2cc3a57d4f26%20%3D%20L.tileLayer%28%0A%20%20%20%20%20%20%20%20%27https%3A//%7Bs%7D.tile.openstreetmap.org/%7Bz%7D/%7Bx%7D/%7By%7D.png%27%2C%0A%20%20%20%20%20%20%20%20%7B%0A%20%20%20%20%20%20%20%20%22attribution%22%3A%20null%2C%0A%20%20%20%20%20%20%20%20%22detectRetina%22%3A%20false%2C%0A%20%20%20%20%20%20%20%20%22maxNativeZoom%22%3A%2018%2C%0A%20%20%20%20%20%20%20%20%22maxZoom%22%3A%2018%2C%0A%20%20%20%20%20%20%20%20%22minZoom%22%3A%200%2C%0A%20%20%20%20%20%20%20%20%22noWrap%22%3A%20false%2C%0A%20%20%20%20%20%20%20%20%22opacity%22%3A%201%2C%0A%20%20%20%20%20%20%20%20%22subdomains%22%3A%20%22abc%22%2C%0A%20%20%20%20%20%20%20%20%22tms%22%3A%20false%0A%7D%29.addTo%28map_9ca760cacfed4393b058716369966755%29%3B%0A%20%20%20%20%0A%20%20%20%20%20%20%20%20var%20marker_d163ebe0c65e4376b479ee638c73e806%20%3D%20L.marker%28%0A%20%20%20%20%20%20%20%20%20%20%20%20%5B10.9890895%2C%20-74.814543%5D%2C%0A%20%20%20%20%20%20%20%20%20%20%20%20%7B%0A%20%20%20%20%20%20%20%20%20%20%20%20%20%20%20%20icon%3A%20new%20L.Icon.Default%28%29%2C%0A%20%20%20%20%20%20%20%20%20%20%20%20%20%20%20%20%7D%0A%20%20%20%20%20%20%20%20%20%20%20%20%29.addTo%28map_9ca760cacfed4393b058716369966755%29%3B%0A%20%20%20%20%20%20%20%20%0A%20%20%20%20%0A%0A%20%20%20%20%20%20%20%20%20%20%20%20%20%20%20%20var%20icon_16ff3a4625f049748d0435c0816c8159%20%3D%20L.AwesomeMarkers.icon%28%7B%0A%20%20%20%20%20%20%20%20%20%20%20%20%20%20%20%20%20%20%20%20icon%3A%20%27ambulance%27%2C%0A%20%20%20%20%20%20%20%20%20%20%20%20%20%20%20%20%20%20%20%20iconColor%3A%20%27white%27%2C%0A%20%20%20%20%20%20%20%20%20%20%20%20%20%20%20%20%20%20%20%20markerColor%3A%20%27blue%27%2C%0A%20%20%20%20%20%20%20%20%20%20%20%20%20%20%20%20%20%20%20%20prefix%3A%20%27fa%27%2C%0A%20%20%20%20%20%20%20%20%20%20%20%20%20%20%20%20%20%20%20%20extraClasses%3A%20%27fa-rotate-0%27%0A%20%20%20%20%20%20%20%20%20%20%20%20%20%20%20%20%20%20%20%20%7D%29%3B%0A%20%20%20%20%20%20%20%20%20%20%20%20%20%20%20%20marker_d163ebe0c65e4376b479ee638c73e806.setIcon%28icon_16ff3a4625f049748d0435c0816c8159%29%3B%0A%20%20%20%20%20%20%20%20%20%20%20%20%0A%3C/script%3E onload=\"this.contentDocument.open();this.contentDocument.write(    decodeURIComponent(this.getAttribute('data-html')));this.contentDocument.close();\" allowfullscreen webkitallowfullscreen mozallowfullscreen></iframe></div></div>"
            ],
            "text/plain": [
              "<folium.folium.Map at 0x7f945c717f10>"
            ]
          },
          "metadata": {},
          "execution_count": 116
        }
      ]
    },
    {
      "cell_type": "code",
      "metadata": {
        "colab": {
          "base_uri": "https://localhost:8080/",
          "height": 558
        },
        "id": "MYL1fB2k9SA3",
        "outputId": "5725e6e4-5044-418f-fd6d-11cedd966269"
      },
      "source": [
        "pl = geo[0];\n",
        "m = fl.Map(location=[place.latitude, place.longitude], zoom_start=16)\n",
        "icono = fl.Icon(color='blue', icon='car', prefix='fa'); #Este es el icono\n",
        "fl.Marker(location=[place.latitude, place.longitude],icon=icono).add_to(m)\n",
        "m"
      ],
      "execution_count": null,
      "outputs": [
        {
          "output_type": "execute_result",
          "data": {
            "text/html": [
              "<div style=\"width:100%;\"><div style=\"position:relative;width:100%;height:0;padding-bottom:60%;\"><span style=\"color:#565656\">Make this Notebook Trusted to load map: File -> Trust Notebook</span><iframe src=\"about:blank\" style=\"position:absolute;width:100%;height:100%;left:0;top:0;border:none !important;\" data-html=%3C%21DOCTYPE%20html%3E%0A%3Chead%3E%20%20%20%20%0A%20%20%20%20%3Cmeta%20http-equiv%3D%22content-type%22%20content%3D%22text/html%3B%20charset%3DUTF-8%22%20/%3E%0A%20%20%20%20%3Cscript%3EL_PREFER_CANVAS%3Dfalse%3B%20L_NO_TOUCH%3Dfalse%3B%20L_DISABLE_3D%3Dfalse%3B%3C/script%3E%0A%20%20%20%20%3Cscript%20src%3D%22https%3A//cdn.jsdelivr.net/npm/leaflet%401.4.0/dist/leaflet.js%22%3E%3C/script%3E%0A%20%20%20%20%3Cscript%20src%3D%22https%3A//code.jquery.com/jquery-1.12.4.min.js%22%3E%3C/script%3E%0A%20%20%20%20%3Cscript%20src%3D%22https%3A//maxcdn.bootstrapcdn.com/bootstrap/3.2.0/js/bootstrap.min.js%22%3E%3C/script%3E%0A%20%20%20%20%3Cscript%20src%3D%22https%3A//cdnjs.cloudflare.com/ajax/libs/Leaflet.awesome-markers/2.0.2/leaflet.awesome-markers.js%22%3E%3C/script%3E%0A%20%20%20%20%3Clink%20rel%3D%22stylesheet%22%20href%3D%22https%3A//cdn.jsdelivr.net/npm/leaflet%401.4.0/dist/leaflet.css%22/%3E%0A%20%20%20%20%3Clink%20rel%3D%22stylesheet%22%20href%3D%22https%3A//maxcdn.bootstrapcdn.com/bootstrap/3.2.0/css/bootstrap.min.css%22/%3E%0A%20%20%20%20%3Clink%20rel%3D%22stylesheet%22%20href%3D%22https%3A//maxcdn.bootstrapcdn.com/bootstrap/3.2.0/css/bootstrap-theme.min.css%22/%3E%0A%20%20%20%20%3Clink%20rel%3D%22stylesheet%22%20href%3D%22https%3A//maxcdn.bootstrapcdn.com/font-awesome/4.6.3/css/font-awesome.min.css%22/%3E%0A%20%20%20%20%3Clink%20rel%3D%22stylesheet%22%20href%3D%22https%3A//cdnjs.cloudflare.com/ajax/libs/Leaflet.awesome-markers/2.0.2/leaflet.awesome-markers.css%22/%3E%0A%20%20%20%20%3Clink%20rel%3D%22stylesheet%22%20href%3D%22https%3A//rawcdn.githack.com/python-visualization/folium/master/folium/templates/leaflet.awesome.rotate.css%22/%3E%0A%20%20%20%20%3Cstyle%3Ehtml%2C%20body%20%7Bwidth%3A%20100%25%3Bheight%3A%20100%25%3Bmargin%3A%200%3Bpadding%3A%200%3B%7D%3C/style%3E%0A%20%20%20%20%3Cstyle%3E%23map%20%7Bposition%3Aabsolute%3Btop%3A0%3Bbottom%3A0%3Bright%3A0%3Bleft%3A0%3B%7D%3C/style%3E%0A%20%20%20%20%0A%20%20%20%20%3Cmeta%20name%3D%22viewport%22%20content%3D%22width%3Ddevice-width%2C%0A%20%20%20%20%20%20%20%20initial-scale%3D1.0%2C%20maximum-scale%3D1.0%2C%20user-scalable%3Dno%22%20/%3E%0A%20%20%20%20%3Cstyle%3E%23map_a22f6b07b50241d39093679af712746c%20%7B%0A%20%20%20%20%20%20%20%20position%3A%20relative%3B%0A%20%20%20%20%20%20%20%20width%3A%20100.0%25%3B%0A%20%20%20%20%20%20%20%20height%3A%20100.0%25%3B%0A%20%20%20%20%20%20%20%20left%3A%200.0%25%3B%0A%20%20%20%20%20%20%20%20top%3A%200.0%25%3B%0A%20%20%20%20%20%20%20%20%7D%0A%20%20%20%20%3C/style%3E%0A%3C/head%3E%0A%3Cbody%3E%20%20%20%20%0A%20%20%20%20%0A%20%20%20%20%3Cdiv%20class%3D%22folium-map%22%20id%3D%22map_a22f6b07b50241d39093679af712746c%22%20%3E%3C/div%3E%0A%3C/body%3E%0A%3Cscript%3E%20%20%20%20%0A%20%20%20%20%0A%20%20%20%20%0A%20%20%20%20%20%20%20%20var%20bounds%20%3D%20null%3B%0A%20%20%20%20%0A%0A%20%20%20%20var%20map_a22f6b07b50241d39093679af712746c%20%3D%20L.map%28%0A%20%20%20%20%20%20%20%20%27map_a22f6b07b50241d39093679af712746c%27%2C%20%7B%0A%20%20%20%20%20%20%20%20center%3A%20%5B10.9890895%2C%20-74.814543%5D%2C%0A%20%20%20%20%20%20%20%20zoom%3A%2016%2C%0A%20%20%20%20%20%20%20%20maxBounds%3A%20bounds%2C%0A%20%20%20%20%20%20%20%20layers%3A%20%5B%5D%2C%0A%20%20%20%20%20%20%20%20worldCopyJump%3A%20false%2C%0A%20%20%20%20%20%20%20%20crs%3A%20L.CRS.EPSG3857%2C%0A%20%20%20%20%20%20%20%20zoomControl%3A%20true%2C%0A%20%20%20%20%20%20%20%20%7D%29%3B%0A%0A%0A%20%20%20%20%0A%20%20%20%20var%20tile_layer_5419da3cea08445db53decfab6b5b981%20%3D%20L.tileLayer%28%0A%20%20%20%20%20%20%20%20%27https%3A//%7Bs%7D.tile.openstreetmap.org/%7Bz%7D/%7Bx%7D/%7By%7D.png%27%2C%0A%20%20%20%20%20%20%20%20%7B%0A%20%20%20%20%20%20%20%20%22attribution%22%3A%20null%2C%0A%20%20%20%20%20%20%20%20%22detectRetina%22%3A%20false%2C%0A%20%20%20%20%20%20%20%20%22maxNativeZoom%22%3A%2018%2C%0A%20%20%20%20%20%20%20%20%22maxZoom%22%3A%2018%2C%0A%20%20%20%20%20%20%20%20%22minZoom%22%3A%200%2C%0A%20%20%20%20%20%20%20%20%22noWrap%22%3A%20false%2C%0A%20%20%20%20%20%20%20%20%22opacity%22%3A%201%2C%0A%20%20%20%20%20%20%20%20%22subdomains%22%3A%20%22abc%22%2C%0A%20%20%20%20%20%20%20%20%22tms%22%3A%20false%0A%7D%29.addTo%28map_a22f6b07b50241d39093679af712746c%29%3B%0A%20%20%20%20%0A%20%20%20%20%20%20%20%20var%20marker_ae087ca0ba224c1b86cc438df6037d18%20%3D%20L.marker%28%0A%20%20%20%20%20%20%20%20%20%20%20%20%5B10.9890895%2C%20-74.814543%5D%2C%0A%20%20%20%20%20%20%20%20%20%20%20%20%7B%0A%20%20%20%20%20%20%20%20%20%20%20%20%20%20%20%20icon%3A%20new%20L.Icon.Default%28%29%2C%0A%20%20%20%20%20%20%20%20%20%20%20%20%20%20%20%20%7D%0A%20%20%20%20%20%20%20%20%20%20%20%20%29.addTo%28map_a22f6b07b50241d39093679af712746c%29%3B%0A%20%20%20%20%20%20%20%20%0A%20%20%20%20%0A%0A%20%20%20%20%20%20%20%20%20%20%20%20%20%20%20%20var%20icon_38ee438e562e4463acd09e010514bac4%20%3D%20L.AwesomeMarkers.icon%28%7B%0A%20%20%20%20%20%20%20%20%20%20%20%20%20%20%20%20%20%20%20%20icon%3A%20%27car%27%2C%0A%20%20%20%20%20%20%20%20%20%20%20%20%20%20%20%20%20%20%20%20iconColor%3A%20%27white%27%2C%0A%20%20%20%20%20%20%20%20%20%20%20%20%20%20%20%20%20%20%20%20markerColor%3A%20%27blue%27%2C%0A%20%20%20%20%20%20%20%20%20%20%20%20%20%20%20%20%20%20%20%20prefix%3A%20%27fa%27%2C%0A%20%20%20%20%20%20%20%20%20%20%20%20%20%20%20%20%20%20%20%20extraClasses%3A%20%27fa-rotate-0%27%0A%20%20%20%20%20%20%20%20%20%20%20%20%20%20%20%20%20%20%20%20%7D%29%3B%0A%20%20%20%20%20%20%20%20%20%20%20%20%20%20%20%20marker_ae087ca0ba224c1b86cc438df6037d18.setIcon%28icon_38ee438e562e4463acd09e010514bac4%29%3B%0A%20%20%20%20%20%20%20%20%20%20%20%20%0A%3C/script%3E onload=\"this.contentDocument.open();this.contentDocument.write(    decodeURIComponent(this.getAttribute('data-html')));this.contentDocument.close();\" allowfullscreen webkitallowfullscreen mozallowfullscreen></iframe></div></div>"
            ],
            "text/plain": [
              "<folium.folium.Map at 0x7f945c7e8dd0>"
            ]
          },
          "metadata": {},
          "execution_count": 117
        }
      ]
    },
    {
      "cell_type": "code",
      "metadata": {
        "id": "ttKc-8Y89Tzz",
        "outputId": "b1b812b8-d6c9-4d21-83e6-7215069c0926",
        "colab": {
          "base_uri": "https://localhost:8080/",
          "height": 558
        }
      },
      "source": [
        "pl = geo[0];\n",
        "m = fl.Map(location=[place.latitude, place.longitude], zoom_start=16)\n",
        "icono = fl.Icon(color='blue', icon='amazon', prefix='fa'); #Este es el icono\n",
        "fl.Marker(location=[place.latitude, place.longitude],icon=icono).add_to(m)\n",
        "m"
      ],
      "execution_count": null,
      "outputs": [
        {
          "output_type": "execute_result",
          "data": {
            "text/html": [
              "<div style=\"width:100%;\"><div style=\"position:relative;width:100%;height:0;padding-bottom:60%;\"><span style=\"color:#565656\">Make this Notebook Trusted to load map: File -> Trust Notebook</span><iframe src=\"about:blank\" style=\"position:absolute;width:100%;height:100%;left:0;top:0;border:none !important;\" data-html=%3C%21DOCTYPE%20html%3E%0A%3Chead%3E%20%20%20%20%0A%20%20%20%20%3Cmeta%20http-equiv%3D%22content-type%22%20content%3D%22text/html%3B%20charset%3DUTF-8%22%20/%3E%0A%20%20%20%20%3Cscript%3EL_PREFER_CANVAS%3Dfalse%3B%20L_NO_TOUCH%3Dfalse%3B%20L_DISABLE_3D%3Dfalse%3B%3C/script%3E%0A%20%20%20%20%3Cscript%20src%3D%22https%3A//cdn.jsdelivr.net/npm/leaflet%401.4.0/dist/leaflet.js%22%3E%3C/script%3E%0A%20%20%20%20%3Cscript%20src%3D%22https%3A//code.jquery.com/jquery-1.12.4.min.js%22%3E%3C/script%3E%0A%20%20%20%20%3Cscript%20src%3D%22https%3A//maxcdn.bootstrapcdn.com/bootstrap/3.2.0/js/bootstrap.min.js%22%3E%3C/script%3E%0A%20%20%20%20%3Cscript%20src%3D%22https%3A//cdnjs.cloudflare.com/ajax/libs/Leaflet.awesome-markers/2.0.2/leaflet.awesome-markers.js%22%3E%3C/script%3E%0A%20%20%20%20%3Clink%20rel%3D%22stylesheet%22%20href%3D%22https%3A//cdn.jsdelivr.net/npm/leaflet%401.4.0/dist/leaflet.css%22/%3E%0A%20%20%20%20%3Clink%20rel%3D%22stylesheet%22%20href%3D%22https%3A//maxcdn.bootstrapcdn.com/bootstrap/3.2.0/css/bootstrap.min.css%22/%3E%0A%20%20%20%20%3Clink%20rel%3D%22stylesheet%22%20href%3D%22https%3A//maxcdn.bootstrapcdn.com/bootstrap/3.2.0/css/bootstrap-theme.min.css%22/%3E%0A%20%20%20%20%3Clink%20rel%3D%22stylesheet%22%20href%3D%22https%3A//maxcdn.bootstrapcdn.com/font-awesome/4.6.3/css/font-awesome.min.css%22/%3E%0A%20%20%20%20%3Clink%20rel%3D%22stylesheet%22%20href%3D%22https%3A//cdnjs.cloudflare.com/ajax/libs/Leaflet.awesome-markers/2.0.2/leaflet.awesome-markers.css%22/%3E%0A%20%20%20%20%3Clink%20rel%3D%22stylesheet%22%20href%3D%22https%3A//rawcdn.githack.com/python-visualization/folium/master/folium/templates/leaflet.awesome.rotate.css%22/%3E%0A%20%20%20%20%3Cstyle%3Ehtml%2C%20body%20%7Bwidth%3A%20100%25%3Bheight%3A%20100%25%3Bmargin%3A%200%3Bpadding%3A%200%3B%7D%3C/style%3E%0A%20%20%20%20%3Cstyle%3E%23map%20%7Bposition%3Aabsolute%3Btop%3A0%3Bbottom%3A0%3Bright%3A0%3Bleft%3A0%3B%7D%3C/style%3E%0A%20%20%20%20%0A%20%20%20%20%3Cmeta%20name%3D%22viewport%22%20content%3D%22width%3Ddevice-width%2C%0A%20%20%20%20%20%20%20%20initial-scale%3D1.0%2C%20maximum-scale%3D1.0%2C%20user-scalable%3Dno%22%20/%3E%0A%20%20%20%20%3Cstyle%3E%23map_54c2236889194bd7bdf76d83f1df3c73%20%7B%0A%20%20%20%20%20%20%20%20position%3A%20relative%3B%0A%20%20%20%20%20%20%20%20width%3A%20100.0%25%3B%0A%20%20%20%20%20%20%20%20height%3A%20100.0%25%3B%0A%20%20%20%20%20%20%20%20left%3A%200.0%25%3B%0A%20%20%20%20%20%20%20%20top%3A%200.0%25%3B%0A%20%20%20%20%20%20%20%20%7D%0A%20%20%20%20%3C/style%3E%0A%3C/head%3E%0A%3Cbody%3E%20%20%20%20%0A%20%20%20%20%0A%20%20%20%20%3Cdiv%20class%3D%22folium-map%22%20id%3D%22map_54c2236889194bd7bdf76d83f1df3c73%22%20%3E%3C/div%3E%0A%3C/body%3E%0A%3Cscript%3E%20%20%20%20%0A%20%20%20%20%0A%20%20%20%20%0A%20%20%20%20%20%20%20%20var%20bounds%20%3D%20null%3B%0A%20%20%20%20%0A%0A%20%20%20%20var%20map_54c2236889194bd7bdf76d83f1df3c73%20%3D%20L.map%28%0A%20%20%20%20%20%20%20%20%27map_54c2236889194bd7bdf76d83f1df3c73%27%2C%20%7B%0A%20%20%20%20%20%20%20%20center%3A%20%5B10.9890895%2C%20-74.814543%5D%2C%0A%20%20%20%20%20%20%20%20zoom%3A%2016%2C%0A%20%20%20%20%20%20%20%20maxBounds%3A%20bounds%2C%0A%20%20%20%20%20%20%20%20layers%3A%20%5B%5D%2C%0A%20%20%20%20%20%20%20%20worldCopyJump%3A%20false%2C%0A%20%20%20%20%20%20%20%20crs%3A%20L.CRS.EPSG3857%2C%0A%20%20%20%20%20%20%20%20zoomControl%3A%20true%2C%0A%20%20%20%20%20%20%20%20%7D%29%3B%0A%0A%0A%20%20%20%20%0A%20%20%20%20var%20tile_layer_5570c8d74d584b8f9ff294392cc4b5ae%20%3D%20L.tileLayer%28%0A%20%20%20%20%20%20%20%20%27https%3A//%7Bs%7D.tile.openstreetmap.org/%7Bz%7D/%7Bx%7D/%7By%7D.png%27%2C%0A%20%20%20%20%20%20%20%20%7B%0A%20%20%20%20%20%20%20%20%22attribution%22%3A%20null%2C%0A%20%20%20%20%20%20%20%20%22detectRetina%22%3A%20false%2C%0A%20%20%20%20%20%20%20%20%22maxNativeZoom%22%3A%2018%2C%0A%20%20%20%20%20%20%20%20%22maxZoom%22%3A%2018%2C%0A%20%20%20%20%20%20%20%20%22minZoom%22%3A%200%2C%0A%20%20%20%20%20%20%20%20%22noWrap%22%3A%20false%2C%0A%20%20%20%20%20%20%20%20%22opacity%22%3A%201%2C%0A%20%20%20%20%20%20%20%20%22subdomains%22%3A%20%22abc%22%2C%0A%20%20%20%20%20%20%20%20%22tms%22%3A%20false%0A%7D%29.addTo%28map_54c2236889194bd7bdf76d83f1df3c73%29%3B%0A%20%20%20%20%0A%20%20%20%20%20%20%20%20var%20marker_6a296c2e75ca489b975598990322fd0a%20%3D%20L.marker%28%0A%20%20%20%20%20%20%20%20%20%20%20%20%5B10.9890895%2C%20-74.814543%5D%2C%0A%20%20%20%20%20%20%20%20%20%20%20%20%7B%0A%20%20%20%20%20%20%20%20%20%20%20%20%20%20%20%20icon%3A%20new%20L.Icon.Default%28%29%2C%0A%20%20%20%20%20%20%20%20%20%20%20%20%20%20%20%20%7D%0A%20%20%20%20%20%20%20%20%20%20%20%20%29.addTo%28map_54c2236889194bd7bdf76d83f1df3c73%29%3B%0A%20%20%20%20%20%20%20%20%0A%20%20%20%20%0A%0A%20%20%20%20%20%20%20%20%20%20%20%20%20%20%20%20var%20icon_3175147700f845abaa0e48d6329b27b3%20%3D%20L.AwesomeMarkers.icon%28%7B%0A%20%20%20%20%20%20%20%20%20%20%20%20%20%20%20%20%20%20%20%20icon%3A%20%27amazon%27%2C%0A%20%20%20%20%20%20%20%20%20%20%20%20%20%20%20%20%20%20%20%20iconColor%3A%20%27white%27%2C%0A%20%20%20%20%20%20%20%20%20%20%20%20%20%20%20%20%20%20%20%20markerColor%3A%20%27blue%27%2C%0A%20%20%20%20%20%20%20%20%20%20%20%20%20%20%20%20%20%20%20%20prefix%3A%20%27fa%27%2C%0A%20%20%20%20%20%20%20%20%20%20%20%20%20%20%20%20%20%20%20%20extraClasses%3A%20%27fa-rotate-0%27%0A%20%20%20%20%20%20%20%20%20%20%20%20%20%20%20%20%20%20%20%20%7D%29%3B%0A%20%20%20%20%20%20%20%20%20%20%20%20%20%20%20%20marker_6a296c2e75ca489b975598990322fd0a.setIcon%28icon_3175147700f845abaa0e48d6329b27b3%29%3B%0A%20%20%20%20%20%20%20%20%20%20%20%20%0A%3C/script%3E onload=\"this.contentDocument.open();this.contentDocument.write(    decodeURIComponent(this.getAttribute('data-html')));this.contentDocument.close();\" allowfullscreen webkitallowfullscreen mozallowfullscreen></iframe></div></div>"
            ],
            "text/plain": [
              "<folium.folium.Map at 0x7f945c715f90>"
            ]
          },
          "metadata": {},
          "execution_count": 118
        }
      ]
    },
    {
      "cell_type": "markdown",
      "metadata": {
        "id": "cOq3YLQ17xw5"
      },
      "source": [
        ""
      ]
    }
  ]
}